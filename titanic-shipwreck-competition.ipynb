{
 "cells": [
  {
   "cell_type": "markdown",
   "id": "7a85d679",
   "metadata": {
    "papermill": {
     "duration": 0.019253,
     "end_time": "2023-08-14T13:59:41.677680",
     "exception": false,
     "start_time": "2023-08-14T13:59:41.658427",
     "status": "completed"
    },
    "tags": []
   },
   "source": [
    "# Steps to carry out for this projects\n",
    "\n",
    "1. Introduction\n",
    "2. Data Collection\n",
    "3. Process our data\n",
    "4. Split data\n",
    "5. Build a model\n",
    "6. Evaluate the model"
   ]
  },
  {
   "cell_type": "markdown",
   "id": "05f7086f",
   "metadata": {
    "papermill": {
     "duration": 0.018182,
     "end_time": "2023-08-14T13:59:41.714883",
     "exception": false,
     "start_time": "2023-08-14T13:59:41.696701",
     "status": "completed"
    },
    "tags": []
   },
   "source": [
    "# Introduction \n",
    "\n",
    "## Overview\n",
    "\n",
    "1.Description\n",
    "\n",
    "This project is carried out to create a model that can predict the year 1912 Titanic shipwreck disaster survivals and non-suvivals.\n",
    "\n",
    "*Note - It's is a binary classification problem\n",
    "\n",
    "2. Evaluation\n",
    "\n",
    "Goal is to predict whether or not a passenger survive the ship wreck or not\n",
    "- if `1` means passenger `survived`\n",
    "- if `0` means passenger `did't survived`\n",
    "\n",
    "Score using the `accuracy score`\n",
    "\n",
    "Submittion process\n",
    "1. file must be csv\n",
    "2. 418 enteries plus header role\n",
    "3. Contains two columns `PassengerId` and `Survived`\n"
   ]
  },
  {
   "cell_type": "markdown",
   "id": "e8608930",
   "metadata": {
    "papermill": {
     "duration": 0.018588,
     "end_time": "2023-08-14T13:59:41.752398",
     "exception": false,
     "start_time": "2023-08-14T13:59:41.733810",
     "status": "completed"
    },
    "tags": []
   },
   "source": [
    "### About data\n",
    "\n",
    "survival\tSurvival\t0 = No, 1 = Yes\n",
    "pclass\tTicket class\t1 = 1st, 2 = 2nd, 3 = 3rd\n",
    "sex\tSex\t\n",
    "Age\tAge in years\t\n",
    "sibsp\t# of siblings / spouses aboard the Titanic\t\n",
    "parch\t# of parents / children aboard the Titanic\t\n",
    "ticket\tTicket number\t\n",
    "fare\tPassenger fare\t\n",
    "cabin\tCabin number\t\n",
    "embarked\tPort of Embarkation\tC = Cherbourg, Q = Queenstown, S = Southampton\n",
    "\n",
    "**Target** - `survival`\n",
    "\n",
    "### More info\n",
    "\n",
    "**Variable Notes**\n",
    "* pclass: A proxy for socio-economic status (SES)\n",
    "    1st = Upper\n",
    "    2nd = Middle\n",
    "    3rd = Lower\n",
    "* age: Age is fractional if less than 1. If the age is estimated, is it in the form of xx.5\n",
    "* sibsp: The dataset defines family relations in this way...\n",
    "* Sibling = brother, sister, stepbrother, stepsister\n",
    "* Spouse = husband, wife (mistresses and fiancés were ignored)\n",
    "* parch: The dataset defines family relations in this way...\n",
    "* Parent = mother, father\n",
    "* Child = daughter, son, stepdaughter, stepson\n",
    "    Some children travelled only with a nanny, therefore parch=0 for them."
   ]
  },
  {
   "cell_type": "markdown",
   "id": "ba7ab787",
   "metadata": {
    "papermill": {
     "duration": 0.018608,
     "end_time": "2023-08-14T13:59:41.789560",
     "exception": false,
     "start_time": "2023-08-14T13:59:41.770952",
     "status": "completed"
    },
    "tags": []
   },
   "source": [
    "## Data Exploration (EDA Explanatory Data Analysis)\n",
    "\n",
    "Analysis data by coming up with possible questions and become one with the data.\n",
    "\n",
    "1. What questions are we trying to solve?\n",
    "2. What data do we have and how do we treat different types?\n",
    "3. What's missing in the data and how do we fit it?\n",
    "4. Where are the outliers and what should we care about?\n",
    "5. How to add, change,remove features from the data?"
   ]
  },
  {
   "cell_type": "code",
   "execution_count": 1,
   "id": "8f441930",
   "metadata": {
    "execution": {
     "iopub.execute_input": "2023-08-14T13:59:41.830419Z",
     "iopub.status.busy": "2023-08-14T13:59:41.829579Z",
     "iopub.status.idle": "2023-08-14T13:59:41.841887Z",
     "shell.execute_reply": "2023-08-14T13:59:41.840849Z"
    },
    "papermill": {
     "duration": 0.035351,
     "end_time": "2023-08-14T13:59:41.844292",
     "exception": false,
     "start_time": "2023-08-14T13:59:41.808941",
     "status": "completed"
    },
    "tags": []
   },
   "outputs": [],
   "source": [
    "# Import all necessary library\n",
    "%matplotlib inline\n",
    "import numpy as np\n",
    "import pandas as pd\n",
    "import matplotlib.pyplot as plt"
   ]
  },
  {
   "cell_type": "code",
   "execution_count": 2,
   "id": "eeaafe53",
   "metadata": {
    "execution": {
     "iopub.execute_input": "2023-08-14T13:59:41.883878Z",
     "iopub.status.busy": "2023-08-14T13:59:41.883264Z",
     "iopub.status.idle": "2023-08-14T13:59:41.926285Z",
     "shell.execute_reply": "2023-08-14T13:59:41.924949Z"
    },
    "papermill": {
     "duration": 0.064996,
     "end_time": "2023-08-14T13:59:41.928158",
     "exception": false,
     "start_time": "2023-08-14T13:59:41.863162",
     "status": "completed"
    },
    "tags": []
   },
   "outputs": [
    {
     "data": {
      "text/html": [
       "<div>\n",
       "<style scoped>\n",
       "    .dataframe tbody tr th:only-of-type {\n",
       "        vertical-align: middle;\n",
       "    }\n",
       "\n",
       "    .dataframe tbody tr th {\n",
       "        vertical-align: top;\n",
       "    }\n",
       "\n",
       "    .dataframe thead th {\n",
       "        text-align: right;\n",
       "    }\n",
       "</style>\n",
       "<table border=\"1\" class=\"dataframe\">\n",
       "  <thead>\n",
       "    <tr style=\"text-align: right;\">\n",
       "      <th></th>\n",
       "      <th>PassengerId</th>\n",
       "      <th>Survived</th>\n",
       "      <th>Pclass</th>\n",
       "      <th>Name</th>\n",
       "      <th>Sex</th>\n",
       "      <th>Age</th>\n",
       "      <th>SibSp</th>\n",
       "      <th>Parch</th>\n",
       "      <th>Ticket</th>\n",
       "      <th>Fare</th>\n",
       "      <th>Cabin</th>\n",
       "      <th>Embarked</th>\n",
       "    </tr>\n",
       "  </thead>\n",
       "  <tbody>\n",
       "    <tr>\n",
       "      <th>0</th>\n",
       "      <td>1</td>\n",
       "      <td>0</td>\n",
       "      <td>3</td>\n",
       "      <td>Braund, Mr. Owen Harris</td>\n",
       "      <td>male</td>\n",
       "      <td>22.0</td>\n",
       "      <td>1</td>\n",
       "      <td>0</td>\n",
       "      <td>A/5 21171</td>\n",
       "      <td>7.2500</td>\n",
       "      <td>NaN</td>\n",
       "      <td>S</td>\n",
       "    </tr>\n",
       "    <tr>\n",
       "      <th>1</th>\n",
       "      <td>2</td>\n",
       "      <td>1</td>\n",
       "      <td>1</td>\n",
       "      <td>Cumings, Mrs. John Bradley (Florence Briggs Th...</td>\n",
       "      <td>female</td>\n",
       "      <td>38.0</td>\n",
       "      <td>1</td>\n",
       "      <td>0</td>\n",
       "      <td>PC 17599</td>\n",
       "      <td>71.2833</td>\n",
       "      <td>C85</td>\n",
       "      <td>C</td>\n",
       "    </tr>\n",
       "    <tr>\n",
       "      <th>2</th>\n",
       "      <td>3</td>\n",
       "      <td>1</td>\n",
       "      <td>3</td>\n",
       "      <td>Heikkinen, Miss. Laina</td>\n",
       "      <td>female</td>\n",
       "      <td>26.0</td>\n",
       "      <td>0</td>\n",
       "      <td>0</td>\n",
       "      <td>STON/O2. 3101282</td>\n",
       "      <td>7.9250</td>\n",
       "      <td>NaN</td>\n",
       "      <td>S</td>\n",
       "    </tr>\n",
       "    <tr>\n",
       "      <th>3</th>\n",
       "      <td>4</td>\n",
       "      <td>1</td>\n",
       "      <td>1</td>\n",
       "      <td>Futrelle, Mrs. Jacques Heath (Lily May Peel)</td>\n",
       "      <td>female</td>\n",
       "      <td>35.0</td>\n",
       "      <td>1</td>\n",
       "      <td>0</td>\n",
       "      <td>113803</td>\n",
       "      <td>53.1000</td>\n",
       "      <td>C123</td>\n",
       "      <td>S</td>\n",
       "    </tr>\n",
       "    <tr>\n",
       "      <th>4</th>\n",
       "      <td>5</td>\n",
       "      <td>0</td>\n",
       "      <td>3</td>\n",
       "      <td>Allen, Mr. William Henry</td>\n",
       "      <td>male</td>\n",
       "      <td>35.0</td>\n",
       "      <td>0</td>\n",
       "      <td>0</td>\n",
       "      <td>373450</td>\n",
       "      <td>8.0500</td>\n",
       "      <td>NaN</td>\n",
       "      <td>S</td>\n",
       "    </tr>\n",
       "  </tbody>\n",
       "</table>\n",
       "</div>"
      ],
      "text/plain": [
       "   PassengerId  Survived  Pclass  \\\n",
       "0            1         0       3   \n",
       "1            2         1       1   \n",
       "2            3         1       3   \n",
       "3            4         1       1   \n",
       "4            5         0       3   \n",
       "\n",
       "                                                Name     Sex   Age  SibSp  \\\n",
       "0                            Braund, Mr. Owen Harris    male  22.0      1   \n",
       "1  Cumings, Mrs. John Bradley (Florence Briggs Th...  female  38.0      1   \n",
       "2                             Heikkinen, Miss. Laina  female  26.0      0   \n",
       "3       Futrelle, Mrs. Jacques Heath (Lily May Peel)  female  35.0      1   \n",
       "4                           Allen, Mr. William Henry    male  35.0      0   \n",
       "\n",
       "   Parch            Ticket     Fare Cabin Embarked  \n",
       "0      0         A/5 21171   7.2500   NaN        S  \n",
       "1      0          PC 17599  71.2833   C85        C  \n",
       "2      0  STON/O2. 3101282   7.9250   NaN        S  \n",
       "3      0            113803  53.1000  C123        S  \n",
       "4      0            373450   8.0500   NaN        S  "
      ]
     },
     "execution_count": 2,
     "metadata": {},
     "output_type": "execute_result"
    }
   ],
   "source": [
    "# Load Train data\n",
    "train_data = pd.read_csv(\"/kaggle/input/titanic/train.csv\")\n",
    "train_data.head()"
   ]
  },
  {
   "cell_type": "code",
   "execution_count": 3,
   "id": "561e5c34",
   "metadata": {
    "execution": {
     "iopub.execute_input": "2023-08-14T13:59:41.966714Z",
     "iopub.status.busy": "2023-08-14T13:59:41.966341Z",
     "iopub.status.idle": "2023-08-14T13:59:41.986249Z",
     "shell.execute_reply": "2023-08-14T13:59:41.984892Z"
    },
    "papermill": {
     "duration": 0.041886,
     "end_time": "2023-08-14T13:59:41.988516",
     "exception": false,
     "start_time": "2023-08-14T13:59:41.946630",
     "status": "completed"
    },
    "tags": []
   },
   "outputs": [
    {
     "data": {
      "text/html": [
       "<div>\n",
       "<style scoped>\n",
       "    .dataframe tbody tr th:only-of-type {\n",
       "        vertical-align: middle;\n",
       "    }\n",
       "\n",
       "    .dataframe tbody tr th {\n",
       "        vertical-align: top;\n",
       "    }\n",
       "\n",
       "    .dataframe thead th {\n",
       "        text-align: right;\n",
       "    }\n",
       "</style>\n",
       "<table border=\"1\" class=\"dataframe\">\n",
       "  <thead>\n",
       "    <tr style=\"text-align: right;\">\n",
       "      <th></th>\n",
       "      <th>PassengerId</th>\n",
       "      <th>Pclass</th>\n",
       "      <th>Name</th>\n",
       "      <th>Sex</th>\n",
       "      <th>Age</th>\n",
       "      <th>SibSp</th>\n",
       "      <th>Parch</th>\n",
       "      <th>Ticket</th>\n",
       "      <th>Fare</th>\n",
       "      <th>Cabin</th>\n",
       "      <th>Embarked</th>\n",
       "    </tr>\n",
       "  </thead>\n",
       "  <tbody>\n",
       "    <tr>\n",
       "      <th>0</th>\n",
       "      <td>892</td>\n",
       "      <td>3</td>\n",
       "      <td>Kelly, Mr. James</td>\n",
       "      <td>male</td>\n",
       "      <td>34.5</td>\n",
       "      <td>0</td>\n",
       "      <td>0</td>\n",
       "      <td>330911</td>\n",
       "      <td>7.8292</td>\n",
       "      <td>NaN</td>\n",
       "      <td>Q</td>\n",
       "    </tr>\n",
       "    <tr>\n",
       "      <th>1</th>\n",
       "      <td>893</td>\n",
       "      <td>3</td>\n",
       "      <td>Wilkes, Mrs. James (Ellen Needs)</td>\n",
       "      <td>female</td>\n",
       "      <td>47.0</td>\n",
       "      <td>1</td>\n",
       "      <td>0</td>\n",
       "      <td>363272</td>\n",
       "      <td>7.0000</td>\n",
       "      <td>NaN</td>\n",
       "      <td>S</td>\n",
       "    </tr>\n",
       "    <tr>\n",
       "      <th>2</th>\n",
       "      <td>894</td>\n",
       "      <td>2</td>\n",
       "      <td>Myles, Mr. Thomas Francis</td>\n",
       "      <td>male</td>\n",
       "      <td>62.0</td>\n",
       "      <td>0</td>\n",
       "      <td>0</td>\n",
       "      <td>240276</td>\n",
       "      <td>9.6875</td>\n",
       "      <td>NaN</td>\n",
       "      <td>Q</td>\n",
       "    </tr>\n",
       "    <tr>\n",
       "      <th>3</th>\n",
       "      <td>895</td>\n",
       "      <td>3</td>\n",
       "      <td>Wirz, Mr. Albert</td>\n",
       "      <td>male</td>\n",
       "      <td>27.0</td>\n",
       "      <td>0</td>\n",
       "      <td>0</td>\n",
       "      <td>315154</td>\n",
       "      <td>8.6625</td>\n",
       "      <td>NaN</td>\n",
       "      <td>S</td>\n",
       "    </tr>\n",
       "    <tr>\n",
       "      <th>4</th>\n",
       "      <td>896</td>\n",
       "      <td>3</td>\n",
       "      <td>Hirvonen, Mrs. Alexander (Helga E Lindqvist)</td>\n",
       "      <td>female</td>\n",
       "      <td>22.0</td>\n",
       "      <td>1</td>\n",
       "      <td>1</td>\n",
       "      <td>3101298</td>\n",
       "      <td>12.2875</td>\n",
       "      <td>NaN</td>\n",
       "      <td>S</td>\n",
       "    </tr>\n",
       "  </tbody>\n",
       "</table>\n",
       "</div>"
      ],
      "text/plain": [
       "   PassengerId  Pclass                                          Name     Sex  \\\n",
       "0          892       3                              Kelly, Mr. James    male   \n",
       "1          893       3              Wilkes, Mrs. James (Ellen Needs)  female   \n",
       "2          894       2                     Myles, Mr. Thomas Francis    male   \n",
       "3          895       3                              Wirz, Mr. Albert    male   \n",
       "4          896       3  Hirvonen, Mrs. Alexander (Helga E Lindqvist)  female   \n",
       "\n",
       "    Age  SibSp  Parch   Ticket     Fare Cabin Embarked  \n",
       "0  34.5      0      0   330911   7.8292   NaN        Q  \n",
       "1  47.0      1      0   363272   7.0000   NaN        S  \n",
       "2  62.0      0      0   240276   9.6875   NaN        Q  \n",
       "3  27.0      0      0   315154   8.6625   NaN        S  \n",
       "4  22.0      1      1  3101298  12.2875   NaN        S  "
      ]
     },
     "execution_count": 3,
     "metadata": {},
     "output_type": "execute_result"
    }
   ],
   "source": [
    "# Load test data\n",
    "test_data = pd.read_csv(\"/kaggle/input/titanic/test.csv\")\n",
    "test_data.head()"
   ]
  },
  {
   "cell_type": "code",
   "execution_count": 4,
   "id": "39a437d3",
   "metadata": {
    "execution": {
     "iopub.execute_input": "2023-08-14T13:59:42.029386Z",
     "iopub.status.busy": "2023-08-14T13:59:42.028216Z",
     "iopub.status.idle": "2023-08-14T13:59:42.037569Z",
     "shell.execute_reply": "2023-08-14T13:59:42.035785Z"
    },
    "papermill": {
     "duration": 0.032742,
     "end_time": "2023-08-14T13:59:42.039814",
     "exception": false,
     "start_time": "2023-08-14T13:59:42.007072",
     "status": "completed"
    },
    "tags": []
   },
   "outputs": [
    {
     "name": "stdout",
     "output_type": "stream",
     "text": [
      "Total Number of survival: 342\n",
      "Total Number of passenger: 891\n"
     ]
    }
   ],
   "source": [
    "# Check total num passenger, survival, minors\n",
    "survivals = (train_data.Survived == 1).sum()\n",
    "print(f\"Total Number of survival: {survivals}\")\n",
    "num_pass = len(train_data)\n",
    "print(f\"Total Number of passenger: {num_pass}\")"
   ]
  },
  {
   "cell_type": "code",
   "execution_count": 5,
   "id": "57eb50cd",
   "metadata": {
    "execution": {
     "iopub.execute_input": "2023-08-14T13:59:42.078912Z",
     "iopub.status.busy": "2023-08-14T13:59:42.078266Z",
     "iopub.status.idle": "2023-08-14T13:59:42.089438Z",
     "shell.execute_reply": "2023-08-14T13:59:42.088418Z"
    },
    "papermill": {
     "duration": 0.033244,
     "end_time": "2023-08-14T13:59:42.091668",
     "exception": false,
     "start_time": "2023-08-14T13:59:42.058424",
     "status": "completed"
    },
    "tags": []
   },
   "outputs": [
    {
     "data": {
      "text/plain": [
       "0    549\n",
       "1    342\n",
       "Name: Survived, dtype: int64"
      ]
     },
     "execution_count": 5,
     "metadata": {},
     "output_type": "execute_result"
    }
   ],
   "source": [
    "# Find the number of class in the target\n",
    "train_data[\"Survived\"].value_counts()"
   ]
  },
  {
   "cell_type": "code",
   "execution_count": 6,
   "id": "a0b7d764",
   "metadata": {
    "execution": {
     "iopub.execute_input": "2023-08-14T13:59:42.132937Z",
     "iopub.status.busy": "2023-08-14T13:59:42.131791Z",
     "iopub.status.idle": "2023-08-14T13:59:42.332470Z",
     "shell.execute_reply": "2023-08-14T13:59:42.330905Z"
    },
    "papermill": {
     "duration": 0.223986,
     "end_time": "2023-08-14T13:59:42.334941",
     "exception": false,
     "start_time": "2023-08-14T13:59:42.110955",
     "status": "completed"
    },
    "tags": []
   },
   "outputs": [
    {
     "data": {
      "text/plain": [
       "<Axes: >"
      ]
     },
     "execution_count": 6,
     "metadata": {},
     "output_type": "execute_result"
    },
    {
     "data": {
      "image/png": "[encoded data removed]",
      "text/plain": [
       "<Figure size 640x480 with 1 Axes>"
      ]
     },
     "metadata": {},
     "output_type": "display_data"
    }
   ],
   "source": [
    "# Visualizing our data\n",
    "train_data.Survived.value_counts().plot(kind='bar', color=[\"salmon\", \"lightblue\"])"
   ]
  },
  {
   "cell_type": "code",
   "execution_count": 7,
   "id": "348834f6",
   "metadata": {
    "execution": {
     "iopub.execute_input": "2023-08-14T13:59:42.375405Z",
     "iopub.status.busy": "2023-08-14T13:59:42.375043Z",
     "iopub.status.idle": "2023-08-14T13:59:42.398846Z",
     "shell.execute_reply": "2023-08-14T13:59:42.397305Z"
    },
    "papermill": {
     "duration": 0.047433,
     "end_time": "2023-08-14T13:59:42.401743",
     "exception": false,
     "start_time": "2023-08-14T13:59:42.354310",
     "status": "completed"
    },
    "tags": []
   },
   "outputs": [
    {
     "name": "stdout",
     "output_type": "stream",
     "text": [
      "<class 'pandas.core.frame.DataFrame'>\n",
      "RangeIndex: 891 entries, 0 to 890\n",
      "Data columns (total 12 columns):\n",
      " #   Column       Non-Null Count  Dtype  \n",
      "---  ------       --------------  -----  \n",
      " 0   PassengerId  891 non-null    int64  \n",
      " 1   Survived     891 non-null    int64  \n",
      " 2   Pclass       891 non-null    int64  \n",
      " 3   Name         891 non-null    object \n",
      " 4   Sex          891 non-null    object \n",
      " 5   Age          714 non-null    float64\n",
      " 6   SibSp        891 non-null    int64  \n",
      " 7   Parch        891 non-null    int64  \n",
      " 8   Ticket       891 non-null    object \n",
      " 9   Fare         891 non-null    float64\n",
      " 10  Cabin        204 non-null    object \n",
      " 11  Embarked     889 non-null    object \n",
      "dtypes: float64(2), int64(5), object(5)\n",
      "memory usage: 83.7+ KB\n"
     ]
    }
   ],
   "source": [
    "# Check the dtype of data\n",
    "train_data.info()"
   ]
  },
  {
   "cell_type": "code",
   "execution_count": 8,
   "id": "2f2ac1d6",
   "metadata": {
    "execution": {
     "iopub.execute_input": "2023-08-14T13:59:42.441664Z",
     "iopub.status.busy": "2023-08-14T13:59:42.441258Z",
     "iopub.status.idle": "2023-08-14T13:59:42.449553Z",
     "shell.execute_reply": "2023-08-14T13:59:42.448605Z"
    },
    "papermill": {
     "duration": 0.029957,
     "end_time": "2023-08-14T13:59:42.451118",
     "exception": false,
     "start_time": "2023-08-14T13:59:42.421161",
     "status": "completed"
    },
    "tags": []
   },
   "outputs": [
    {
     "data": {
      "text/plain": [
       "PassengerId      0\n",
       "Survived         0\n",
       "Pclass           0\n",
       "Name             0\n",
       "Sex              0\n",
       "Age            177\n",
       "SibSp            0\n",
       "Parch            0\n",
       "Ticket           0\n",
       "Fare             0\n",
       "Cabin          687\n",
       "Embarked         2\n",
       "dtype: int64"
      ]
     },
     "execution_count": 8,
     "metadata": {},
     "output_type": "execute_result"
    }
   ],
   "source": [
    "# check for missing data\n",
    "train_data.isna().sum()"
   ]
  },
  {
   "cell_type": "code",
   "execution_count": 9,
   "id": "2a0d371a",
   "metadata": {
    "execution": {
     "iopub.execute_input": "2023-08-14T13:59:42.491255Z",
     "iopub.status.busy": "2023-08-14T13:59:42.490696Z",
     "iopub.status.idle": "2023-08-14T13:59:42.518227Z",
     "shell.execute_reply": "2023-08-14T13:59:42.517543Z"
    },
    "papermill": {
     "duration": 0.050541,
     "end_time": "2023-08-14T13:59:42.520615",
     "exception": false,
     "start_time": "2023-08-14T13:59:42.470074",
     "status": "completed"
    },
    "tags": []
   },
   "outputs": [
    {
     "data": {
      "text/html": [
       "<div>\n",
       "<style scoped>\n",
       "    .dataframe tbody tr th:only-of-type {\n",
       "        vertical-align: middle;\n",
       "    }\n",
       "\n",
       "    .dataframe tbody tr th {\n",
       "        vertical-align: top;\n",
       "    }\n",
       "\n",
       "    .dataframe thead th {\n",
       "        text-align: right;\n",
       "    }\n",
       "</style>\n",
       "<table border=\"1\" class=\"dataframe\">\n",
       "  <thead>\n",
       "    <tr style=\"text-align: right;\">\n",
       "      <th></th>\n",
       "      <th>PassengerId</th>\n",
       "      <th>Survived</th>\n",
       "      <th>Pclass</th>\n",
       "      <th>Age</th>\n",
       "      <th>SibSp</th>\n",
       "      <th>Parch</th>\n",
       "      <th>Fare</th>\n",
       "    </tr>\n",
       "  </thead>\n",
       "  <tbody>\n",
       "    <tr>\n",
       "      <th>count</th>\n",
       "      <td>891.000000</td>\n",
       "      <td>891.000000</td>\n",
       "      <td>891.000000</td>\n",
       "      <td>714.000000</td>\n",
       "      <td>891.000000</td>\n",
       "      <td>891.000000</td>\n",
       "      <td>891.000000</td>\n",
       "    </tr>\n",
       "    <tr>\n",
       "      <th>mean</th>\n",
       "      <td>446.000000</td>\n",
       "      <td>0.383838</td>\n",
       "      <td>2.308642</td>\n",
       "      <td>29.699118</td>\n",
       "      <td>0.523008</td>\n",
       "      <td>0.381594</td>\n",
       "      <td>32.204208</td>\n",
       "    </tr>\n",
       "    <tr>\n",
       "      <th>std</th>\n",
       "      <td>257.353842</td>\n",
       "      <td>0.486592</td>\n",
       "      <td>0.836071</td>\n",
       "      <td>14.526497</td>\n",
       "      <td>1.102743</td>\n",
       "      <td>0.806057</td>\n",
       "      <td>49.693429</td>\n",
       "    </tr>\n",
       "    <tr>\n",
       "      <th>min</th>\n",
       "      <td>1.000000</td>\n",
       "      <td>0.000000</td>\n",
       "      <td>1.000000</td>\n",
       "      <td>0.420000</td>\n",
       "      <td>0.000000</td>\n",
       "      <td>0.000000</td>\n",
       "      <td>0.000000</td>\n",
       "    </tr>\n",
       "    <tr>\n",
       "      <th>25%</th>\n",
       "      <td>223.500000</td>\n",
       "      <td>0.000000</td>\n",
       "      <td>2.000000</td>\n",
       "      <td>20.125000</td>\n",
       "      <td>0.000000</td>\n",
       "      <td>0.000000</td>\n",
       "      <td>7.910400</td>\n",
       "    </tr>\n",
       "    <tr>\n",
       "      <th>50%</th>\n",
       "      <td>446.000000</td>\n",
       "      <td>0.000000</td>\n",
       "      <td>3.000000</td>\n",
       "      <td>28.000000</td>\n",
       "      <td>0.000000</td>\n",
       "      <td>0.000000</td>\n",
       "      <td>14.454200</td>\n",
       "    </tr>\n",
       "    <tr>\n",
       "      <th>75%</th>\n",
       "      <td>668.500000</td>\n",
       "      <td>1.000000</td>\n",
       "      <td>3.000000</td>\n",
       "      <td>38.000000</td>\n",
       "      <td>1.000000</td>\n",
       "      <td>0.000000</td>\n",
       "      <td>31.000000</td>\n",
       "    </tr>\n",
       "    <tr>\n",
       "      <th>max</th>\n",
       "      <td>891.000000</td>\n",
       "      <td>1.000000</td>\n",
       "      <td>3.000000</td>\n",
       "      <td>80.000000</td>\n",
       "      <td>8.000000</td>\n",
       "      <td>6.000000</td>\n",
       "      <td>512.329200</td>\n",
       "    </tr>\n",
       "  </tbody>\n",
       "</table>\n",
       "</div>"
      ],
      "text/plain": [
       "       PassengerId    Survived      Pclass         Age       SibSp  \\\n",
       "count   891.000000  891.000000  891.000000  714.000000  891.000000   \n",
       "mean    446.000000    0.383838    2.308642   29.699118    0.523008   \n",
       "std     257.353842    0.486592    0.836071   14.526497    1.102743   \n",
       "min       1.000000    0.000000    1.000000    0.420000    0.000000   \n",
       "25%     223.500000    0.000000    2.000000   20.125000    0.000000   \n",
       "50%     446.000000    0.000000    3.000000   28.000000    0.000000   \n",
       "75%     668.500000    1.000000    3.000000   38.000000    1.000000   \n",
       "max     891.000000    1.000000    3.000000   80.000000    8.000000   \n",
       "\n",
       "            Parch        Fare  \n",
       "count  891.000000  891.000000  \n",
       "mean     0.381594   32.204208  \n",
       "std      0.806057   49.693429  \n",
       "min      0.000000    0.000000  \n",
       "25%      0.000000    7.910400  \n",
       "50%      0.000000   14.454200  \n",
       "75%      0.000000   31.000000  \n",
       "max      6.000000  512.329200  "
      ]
     },
     "execution_count": 9,
     "metadata": {},
     "output_type": "execute_result"
    }
   ],
   "source": [
    "# Describe the data\n",
    "train_data.describe()"
   ]
  },
  {
   "cell_type": "code",
   "execution_count": 10,
   "id": "a9a8c19d",
   "metadata": {
    "execution": {
     "iopub.execute_input": "2023-08-14T13:59:42.561959Z",
     "iopub.status.busy": "2023-08-14T13:59:42.561302Z",
     "iopub.status.idle": "2023-08-14T13:59:42.568979Z",
     "shell.execute_reply": "2023-08-14T13:59:42.567828Z"
    },
    "papermill": {
     "duration": 0.030968,
     "end_time": "2023-08-14T13:59:42.571036",
     "exception": false,
     "start_time": "2023-08-14T13:59:42.540068",
     "status": "completed"
    },
    "tags": []
   },
   "outputs": [
    {
     "data": {
      "text/plain": [
       "male      577\n",
       "female    314\n",
       "Name: Sex, dtype: int64"
      ]
     },
     "execution_count": 10,
     "metadata": {},
     "output_type": "execute_result"
    }
   ],
   "source": [
    "train_data.Sex.value_counts()"
   ]
  },
  {
   "cell_type": "code",
   "execution_count": 11,
   "id": "b4667acc",
   "metadata": {
    "execution": {
     "iopub.execute_input": "2023-08-14T13:59:42.612896Z",
     "iopub.status.busy": "2023-08-14T13:59:42.612538Z",
     "iopub.status.idle": "2023-08-14T13:59:42.640572Z",
     "shell.execute_reply": "2023-08-14T13:59:42.639665Z"
    },
    "papermill": {
     "duration": 0.051152,
     "end_time": "2023-08-14T13:59:42.642324",
     "exception": false,
     "start_time": "2023-08-14T13:59:42.591172",
     "status": "completed"
    },
    "tags": []
   },
   "outputs": [
    {
     "data": {
      "text/html": [
       "<div>\n",
       "<style scoped>\n",
       "    .dataframe tbody tr th:only-of-type {\n",
       "        vertical-align: middle;\n",
       "    }\n",
       "\n",
       "    .dataframe tbody tr th {\n",
       "        vertical-align: top;\n",
       "    }\n",
       "\n",
       "    .dataframe thead th {\n",
       "        text-align: right;\n",
       "    }\n",
       "</style>\n",
       "<table border=\"1\" class=\"dataframe\">\n",
       "  <thead>\n",
       "    <tr style=\"text-align: right;\">\n",
       "      <th>Sex</th>\n",
       "      <th>female</th>\n",
       "      <th>male</th>\n",
       "    </tr>\n",
       "    <tr>\n",
       "      <th>Survived</th>\n",
       "      <th></th>\n",
       "      <th></th>\n",
       "    </tr>\n",
       "  </thead>\n",
       "  <tbody>\n",
       "    <tr>\n",
       "      <th>0</th>\n",
       "      <td>81</td>\n",
       "      <td>468</td>\n",
       "    </tr>\n",
       "    <tr>\n",
       "      <th>1</th>\n",
       "      <td>233</td>\n",
       "      <td>109</td>\n",
       "    </tr>\n",
       "  </tbody>\n",
       "</table>\n",
       "</div>"
      ],
      "text/plain": [
       "Sex       female  male\n",
       "Survived              \n",
       "0             81   468\n",
       "1            233   109"
      ]
     },
     "execution_count": 11,
     "metadata": {},
     "output_type": "execute_result"
    }
   ],
   "source": [
    "# Compare target column with sex column\n",
    "pd.crosstab(train_data.Survived, train_data.Sex)"
   ]
  },
  {
   "cell_type": "code",
   "execution_count": 12,
   "id": "1e66b498",
   "metadata": {
    "execution": {
     "iopub.execute_input": "2023-08-14T13:59:42.686198Z",
     "iopub.status.busy": "2023-08-14T13:59:42.685173Z",
     "iopub.status.idle": "2023-08-14T13:59:42.918654Z",
     "shell.execute_reply": "2023-08-14T13:59:42.917905Z"
    },
    "papermill": {
     "duration": 0.257789,
     "end_time": "2023-08-14T13:59:42.920380",
     "exception": false,
     "start_time": "2023-08-14T13:59:42.662591",
     "status": "completed"
    },
    "tags": []
   },
   "outputs": [
    {
     "data": {
      "image/png": "[encoded data removed]",
      "text/plain": [
       "<Figure size 1000x600 with 1 Axes>"
      ]
     },
     "metadata": {},
     "output_type": "display_data"
    }
   ],
   "source": [
    "# Create a plot of crosstab\n",
    "pd.crosstab(train_data.Survived, train_data.Sex).plot(kind=\"bar\",\n",
    "                                                      figsize=(10, 6),\n",
    "                                                      color=[\"salmon\", 'lightblue'])\n",
    "plt.title(\"Survival Rate againt Sex\")\n",
    "plt.xlabel(\"0 = Didn't Survived, 1 = Survived\")\n",
    "plt.ylabel(\"Amount\")\n",
    "plt.legend([\"Female\", \"Male\"])\n",
    "plt.xticks(rotation=0);"
   ]
  },
  {
   "cell_type": "code",
   "execution_count": 13,
   "id": "5f10713b",
   "metadata": {
    "execution": {
     "iopub.execute_input": "2023-08-14T13:59:42.963255Z",
     "iopub.status.busy": "2023-08-14T13:59:42.962599Z",
     "iopub.status.idle": "2023-08-14T13:59:43.233735Z",
     "shell.execute_reply": "2023-08-14T13:59:43.232990Z"
    },
    "papermill": {
     "duration": 0.295151,
     "end_time": "2023-08-14T13:59:43.235489",
     "exception": false,
     "start_time": "2023-08-14T13:59:42.940338",
     "status": "completed"
    },
    "tags": []
   },
   "outputs": [
    {
     "data": {
      "image/png": "[encoded data removed]",
      "text/plain": [
       "<Figure size 1000x600 with 1 Axes>"
      ]
     },
     "metadata": {},
     "output_type": "display_data"
    }
   ],
   "source": [
    "# Create a plot of crosstab\n",
    "pd.crosstab(train_data.Survived, train_data.Embarked).plot(kind=\"bar\",\n",
    "                                                           figsize=(10, 6),\n",
    "                                                           color=[\"salmon\", 'lightblue', 'lightgreen'])\n",
    "plt.title(\"Survival Rate againt Sex\")\n",
    "plt.xlabel(\"0 = Didn't Survived, 1 = Survived\")\n",
    "plt.ylabel(\"Amount\")\n",
    "plt.legend([\"Cherbourg\", \"Queenstown\", \"Southampton\"])\n",
    "plt.xticks(rotation=0);"
   ]
  },
  {
   "cell_type": "code",
   "execution_count": 14,
   "id": "3fdce910",
   "metadata": {
    "execution": {
     "iopub.execute_input": "2023-08-14T13:59:43.279638Z",
     "iopub.status.busy": "2023-08-14T13:59:43.279041Z",
     "iopub.status.idle": "2023-08-14T13:59:43.295067Z",
     "shell.execute_reply": "2023-08-14T13:59:43.293941Z"
    },
    "papermill": {
     "duration": 0.039952,
     "end_time": "2023-08-14T13:59:43.297072",
     "exception": false,
     "start_time": "2023-08-14T13:59:43.257120",
     "status": "completed"
    },
    "tags": []
   },
   "outputs": [
    {
     "name": "stderr",
     "output_type": "stream",
     "text": [
      "/tmp/ipykernel_20/2875410037.py:2: FutureWarning: The default value of numeric_only in DataFrame.corr is deprecated. In a future version, it will default to False. Select only valid columns or specify the value of numeric_only to silence this warning.\n",
      "  train_data.corr()\n"
     ]
    },
    {
     "data": {
      "text/html": [
       "<div>\n",
       "<style scoped>\n",
       "    .dataframe tbody tr th:only-of-type {\n",
       "        vertical-align: middle;\n",
       "    }\n",
       "\n",
       "    .dataframe tbody tr th {\n",
       "        vertical-align: top;\n",
       "    }\n",
       "\n",
       "    .dataframe thead th {\n",
       "        text-align: right;\n",
       "    }\n",
       "</style>\n",
       "<table border=\"1\" class=\"dataframe\">\n",
       "  <thead>\n",
       "    <tr style=\"text-align: right;\">\n",
       "      <th></th>\n",
       "      <th>PassengerId</th>\n",
       "      <th>Survived</th>\n",
       "      <th>Pclass</th>\n",
       "      <th>Age</th>\n",
       "      <th>SibSp</th>\n",
       "      <th>Parch</th>\n",
       "      <th>Fare</th>\n",
       "    </tr>\n",
       "  </thead>\n",
       "  <tbody>\n",
       "    <tr>\n",
       "      <th>PassengerId</th>\n",
       "      <td>1.000000</td>\n",
       "      <td>-0.005007</td>\n",
       "      <td>-0.035144</td>\n",
       "      <td>0.036847</td>\n",
       "      <td>-0.057527</td>\n",
       "      <td>-0.001652</td>\n",
       "      <td>0.012658</td>\n",
       "    </tr>\n",
       "    <tr>\n",
       "      <th>Survived</th>\n",
       "      <td>-0.005007</td>\n",
       "      <td>1.000000</td>\n",
       "      <td>-0.338481</td>\n",
       "      <td>-0.077221</td>\n",
       "      <td>-0.035322</td>\n",
       "      <td>0.081629</td>\n",
       "      <td>0.257307</td>\n",
       "    </tr>\n",
       "    <tr>\n",
       "      <th>Pclass</th>\n",
       "      <td>-0.035144</td>\n",
       "      <td>-0.338481</td>\n",
       "      <td>1.000000</td>\n",
       "      <td>-0.369226</td>\n",
       "      <td>0.083081</td>\n",
       "      <td>0.018443</td>\n",
       "      <td>-0.549500</td>\n",
       "    </tr>\n",
       "    <tr>\n",
       "      <th>Age</th>\n",
       "      <td>0.036847</td>\n",
       "      <td>-0.077221</td>\n",
       "      <td>-0.369226</td>\n",
       "      <td>1.000000</td>\n",
       "      <td>-0.308247</td>\n",
       "      <td>-0.189119</td>\n",
       "      <td>0.096067</td>\n",
       "    </tr>\n",
       "    <tr>\n",
       "      <th>SibSp</th>\n",
       "      <td>-0.057527</td>\n",
       "      <td>-0.035322</td>\n",
       "      <td>0.083081</td>\n",
       "      <td>-0.308247</td>\n",
       "      <td>1.000000</td>\n",
       "      <td>0.414838</td>\n",
       "      <td>0.159651</td>\n",
       "    </tr>\n",
       "    <tr>\n",
       "      <th>Parch</th>\n",
       "      <td>-0.001652</td>\n",
       "      <td>0.081629</td>\n",
       "      <td>0.018443</td>\n",
       "      <td>-0.189119</td>\n",
       "      <td>0.414838</td>\n",
       "      <td>1.000000</td>\n",
       "      <td>0.216225</td>\n",
       "    </tr>\n",
       "    <tr>\n",
       "      <th>Fare</th>\n",
       "      <td>0.012658</td>\n",
       "      <td>0.257307</td>\n",
       "      <td>-0.549500</td>\n",
       "      <td>0.096067</td>\n",
       "      <td>0.159651</td>\n",
       "      <td>0.216225</td>\n",
       "      <td>1.000000</td>\n",
       "    </tr>\n",
       "  </tbody>\n",
       "</table>\n",
       "</div>"
      ],
      "text/plain": [
       "             PassengerId  Survived    Pclass       Age     SibSp     Parch  \\\n",
       "PassengerId     1.000000 -0.005007 -0.035144  0.036847 -0.057527 -0.001652   \n",
       "Survived       -0.005007  1.000000 -0.338481 -0.077221 -0.035322  0.081629   \n",
       "Pclass         -0.035144 -0.338481  1.000000 -0.369226  0.083081  0.018443   \n",
       "Age             0.036847 -0.077221 -0.369226  1.000000 -0.308247 -0.189119   \n",
       "SibSp          -0.057527 -0.035322  0.083081 -0.308247  1.000000  0.414838   \n",
       "Parch          -0.001652  0.081629  0.018443 -0.189119  0.414838  1.000000   \n",
       "Fare            0.012658  0.257307 -0.549500  0.096067  0.159651  0.216225   \n",
       "\n",
       "                 Fare  \n",
       "PassengerId  0.012658  \n",
       "Survived     0.257307  \n",
       "Pclass      -0.549500  \n",
       "Age          0.096067  \n",
       "SibSp        0.159651  \n",
       "Parch        0.216225  \n",
       "Fare         1.000000  "
      ]
     },
     "execution_count": 14,
     "metadata": {},
     "output_type": "execute_result"
    }
   ],
   "source": [
    "# Check correlation\n",
    "train_data.corr()"
   ]
  },
  {
   "cell_type": "code",
   "execution_count": 15,
   "id": "22968242",
   "metadata": {
    "execution": {
     "iopub.execute_input": "2023-08-14T13:59:43.341257Z",
     "iopub.status.busy": "2023-08-14T13:59:43.340870Z",
     "iopub.status.idle": "2023-08-14T13:59:44.627107Z",
     "shell.execute_reply": "2023-08-14T13:59:44.625876Z"
    },
    "papermill": {
     "duration": 1.311265,
     "end_time": "2023-08-14T13:59:44.629426",
     "exception": false,
     "start_time": "2023-08-14T13:59:43.318161",
     "status": "completed"
    },
    "tags": []
   },
   "outputs": [
    {
     "name": "stderr",
     "output_type": "stream",
     "text": [
      "/opt/conda/lib/python3.10/site-packages/scipy/__init__.py:146: UserWarning: A NumPy version >=1.16.5 and <1.23.0 is required for this version of SciPy (detected version 1.23.5\n",
      "  warnings.warn(f\"A NumPy version >={np_minversion} and <{np_maxversion}\"\n"
     ]
    }
   ],
   "source": [
    "# Fixed the issued with seaborn import error\n",
    "\n",
    "import numpy as np\n",
    "def dummy_npwarn_decorator_factory():\n",
    "  def npwarn_decorator(x):\n",
    "    return x\n",
    "  return npwarn_decorator\n",
    "np._no_nep50_warning = getattr(np, '_no_nep50_warning', dummy_npwarn_decorator_factory)\n",
    "\n",
    "import seaborn as sns"
   ]
  },
  {
   "cell_type": "code",
   "execution_count": 16,
   "id": "48d0903f",
   "metadata": {
    "execution": {
     "iopub.execute_input": "2023-08-14T13:59:44.673531Z",
     "iopub.status.busy": "2023-08-14T13:59:44.673128Z",
     "iopub.status.idle": "2023-08-14T13:59:45.118196Z",
     "shell.execute_reply": "2023-08-14T13:59:45.117423Z"
    },
    "papermill": {
     "duration": 0.469424,
     "end_time": "2023-08-14T13:59:45.119990",
     "exception": false,
     "start_time": "2023-08-14T13:59:44.650566",
     "status": "completed"
    },
    "tags": []
   },
   "outputs": [
    {
     "data": {
      "image/png": "[encoded data removed]",
      "text/plain": [
       "<Figure size 1500x1000 with 2 Axes>"
      ]
     },
     "metadata": {},
     "output_type": "display_data"
    }
   ],
   "source": [
    "# Import seaborn and view DataFrame using correlation_matrix\n",
    "import seaborn as sns\n",
    "corr_matrix = train_data.corr(numeric_only=True)\n",
    "fig, ax = plt.subplots(figsize=(15, 10))\n",
    "ax = sns.heatmap(corr_matrix,\n",
    "                 annot=True,\n",
    "                 linewidths=0.5,\n",
    "                 fmt=\".2f\",\n",
    "                 cmap=\"YlGnBu\");"
   ]
  },
  {
   "cell_type": "code",
   "execution_count": 17,
   "id": "44ccbd1b",
   "metadata": {
    "execution": {
     "iopub.execute_input": "2023-08-14T13:59:45.166105Z",
     "iopub.status.busy": "2023-08-14T13:59:45.165561Z",
     "iopub.status.idle": "2023-08-14T13:59:45.172034Z",
     "shell.execute_reply": "2023-08-14T13:59:45.170845Z"
    },
    "papermill": {
     "duration": 0.032227,
     "end_time": "2023-08-14T13:59:45.174211",
     "exception": false,
     "start_time": "2023-08-14T13:59:45.141984",
     "status": "completed"
    },
    "tags": []
   },
   "outputs": [
    {
     "name": "stdout",
     "output_type": "stream",
     "text": [
      "% of women who survived: 0.7420382165605095\n"
     ]
    }
   ],
   "source": [
    "# Explore a pattern\n",
    "women = train_data.loc[train_data.Sex == 'female'][\"Survived\"]\n",
    "rate_women = sum(women)/len(women)\n",
    "\n",
    "print(\"% of women who survived:\", rate_women)"
   ]
  },
  {
   "cell_type": "code",
   "execution_count": 18,
   "id": "c0071ce6",
   "metadata": {
    "execution": {
     "iopub.execute_input": "2023-08-14T13:59:45.221108Z",
     "iopub.status.busy": "2023-08-14T13:59:45.220698Z",
     "iopub.status.idle": "2023-08-14T13:59:45.227803Z",
     "shell.execute_reply": "2023-08-14T13:59:45.226915Z"
    },
    "papermill": {
     "duration": 0.034463,
     "end_time": "2023-08-14T13:59:45.230985",
     "exception": false,
     "start_time": "2023-08-14T13:59:45.196522",
     "status": "completed"
    },
    "tags": []
   },
   "outputs": [
    {
     "name": "stdout",
     "output_type": "stream",
     "text": [
      "% of men who survived: 0.18890814558058924\n"
     ]
    }
   ],
   "source": [
    "men = train_data.loc[train_data.Sex == 'male'][\"Survived\"]\n",
    "rate_men = sum(men)/len(men)\n",
    "\n",
    "print(\"% of men who survived:\", rate_men)"
   ]
  },
  {
   "cell_type": "code",
   "execution_count": 19,
   "id": "83561f19",
   "metadata": {
    "execution": {
     "iopub.execute_input": "2023-08-14T13:59:45.277754Z",
     "iopub.status.busy": "2023-08-14T13:59:45.276874Z",
     "iopub.status.idle": "2023-08-14T13:59:45.426607Z",
     "shell.execute_reply": "2023-08-14T13:59:45.425169Z"
    },
    "papermill": {
     "duration": 0.174938,
     "end_time": "2023-08-14T13:59:45.428801",
     "exception": false,
     "start_time": "2023-08-14T13:59:45.253863",
     "status": "completed"
    },
    "tags": []
   },
   "outputs": [
    {
     "data": {
      "text/plain": [
       "<Axes: >"
      ]
     },
     "execution_count": 19,
     "metadata": {},
     "output_type": "execute_result"
    },
    {
     "data": {
      "image/png": "[encoded data removed]",
      "text/plain": [
       "<Figure size 640x480 with 1 Axes>"
      ]
     },
     "metadata": {},
     "output_type": "display_data"
    }
   ],
   "source": [
    "# Visualizing our data\n",
    "train_data.Survived.value_counts().plot(kind='bar', color=[\"salmon\", \"lightblue\"])"
   ]
  },
  {
   "cell_type": "code",
   "execution_count": null,
   "id": "efdc1d40",
   "metadata": {
    "papermill": {
     "duration": 0.021408,
     "end_time": "2023-08-14T13:59:45.472174",
     "exception": false,
     "start_time": "2023-08-14T13:59:45.450766",
     "status": "completed"
    },
    "tags": []
   },
   "outputs": [],
   "source": []
  },
  {
   "cell_type": "markdown",
   "id": "f17bacff",
   "metadata": {
    "papermill": {
     "duration": 0.021571,
     "end_time": "2023-08-14T13:59:45.515518",
     "exception": false,
     "start_time": "2023-08-14T13:59:45.493947",
     "status": "completed"
    },
    "tags": []
   },
   "source": [
    "using random forest classifier to analysis data: for more information on how random forest classifier works. visit this : https://www.upgrad.com/blog/random-forest-classifier/"
   ]
  },
  {
   "cell_type": "code",
   "execution_count": 20,
   "id": "65327753",
   "metadata": {
    "execution": {
     "iopub.execute_input": "2023-08-14T13:59:45.561621Z",
     "iopub.status.busy": "2023-08-14T13:59:45.560979Z",
     "iopub.status.idle": "2023-08-14T13:59:45.574599Z",
     "shell.execute_reply": "2023-08-14T13:59:45.573713Z"
    },
    "papermill": {
     "duration": 0.038654,
     "end_time": "2023-08-14T13:59:45.576280",
     "exception": false,
     "start_time": "2023-08-14T13:59:45.537626",
     "status": "completed"
    },
    "tags": []
   },
   "outputs": [
    {
     "data": {
      "text/html": [
       "<div>\n",
       "<style scoped>\n",
       "    .dataframe tbody tr th:only-of-type {\n",
       "        vertical-align: middle;\n",
       "    }\n",
       "\n",
       "    .dataframe tbody tr th {\n",
       "        vertical-align: top;\n",
       "    }\n",
       "\n",
       "    .dataframe thead th {\n",
       "        text-align: right;\n",
       "    }\n",
       "</style>\n",
       "<table border=\"1\" class=\"dataframe\">\n",
       "  <thead>\n",
       "    <tr style=\"text-align: right;\">\n",
       "      <th></th>\n",
       "      <th>PassengerId</th>\n",
       "      <th>Survived</th>\n",
       "      <th>Pclass</th>\n",
       "      <th>Name</th>\n",
       "      <th>Sex</th>\n",
       "      <th>Age</th>\n",
       "      <th>SibSp</th>\n",
       "      <th>Parch</th>\n",
       "      <th>Ticket</th>\n",
       "      <th>Fare</th>\n",
       "      <th>Cabin</th>\n",
       "      <th>Embarked</th>\n",
       "    </tr>\n",
       "  </thead>\n",
       "  <tbody>\n",
       "    <tr>\n",
       "      <th>0</th>\n",
       "      <td>1</td>\n",
       "      <td>0</td>\n",
       "      <td>3</td>\n",
       "      <td>Braund, Mr. Owen Harris</td>\n",
       "      <td>male</td>\n",
       "      <td>22.0</td>\n",
       "      <td>1</td>\n",
       "      <td>0</td>\n",
       "      <td>A/5 21171</td>\n",
       "      <td>7.2500</td>\n",
       "      <td>NaN</td>\n",
       "      <td>S</td>\n",
       "    </tr>\n",
       "    <tr>\n",
       "      <th>1</th>\n",
       "      <td>2</td>\n",
       "      <td>1</td>\n",
       "      <td>1</td>\n",
       "      <td>Cumings, Mrs. John Bradley (Florence Briggs Th...</td>\n",
       "      <td>female</td>\n",
       "      <td>38.0</td>\n",
       "      <td>1</td>\n",
       "      <td>0</td>\n",
       "      <td>PC 17599</td>\n",
       "      <td>71.2833</td>\n",
       "      <td>C85</td>\n",
       "      <td>C</td>\n",
       "    </tr>\n",
       "    <tr>\n",
       "      <th>2</th>\n",
       "      <td>3</td>\n",
       "      <td>1</td>\n",
       "      <td>3</td>\n",
       "      <td>Heikkinen, Miss. Laina</td>\n",
       "      <td>female</td>\n",
       "      <td>26.0</td>\n",
       "      <td>0</td>\n",
       "      <td>0</td>\n",
       "      <td>STON/O2. 3101282</td>\n",
       "      <td>7.9250</td>\n",
       "      <td>NaN</td>\n",
       "      <td>S</td>\n",
       "    </tr>\n",
       "    <tr>\n",
       "      <th>3</th>\n",
       "      <td>4</td>\n",
       "      <td>1</td>\n",
       "      <td>1</td>\n",
       "      <td>Futrelle, Mrs. Jacques Heath (Lily May Peel)</td>\n",
       "      <td>female</td>\n",
       "      <td>35.0</td>\n",
       "      <td>1</td>\n",
       "      <td>0</td>\n",
       "      <td>113803</td>\n",
       "      <td>53.1000</td>\n",
       "      <td>C123</td>\n",
       "      <td>S</td>\n",
       "    </tr>\n",
       "    <tr>\n",
       "      <th>4</th>\n",
       "      <td>5</td>\n",
       "      <td>0</td>\n",
       "      <td>3</td>\n",
       "      <td>Allen, Mr. William Henry</td>\n",
       "      <td>male</td>\n",
       "      <td>35.0</td>\n",
       "      <td>0</td>\n",
       "      <td>0</td>\n",
       "      <td>373450</td>\n",
       "      <td>8.0500</td>\n",
       "      <td>NaN</td>\n",
       "      <td>S</td>\n",
       "    </tr>\n",
       "  </tbody>\n",
       "</table>\n",
       "</div>"
      ],
      "text/plain": [
       "   PassengerId  Survived  Pclass  \\\n",
       "0            1         0       3   \n",
       "1            2         1       1   \n",
       "2            3         1       3   \n",
       "3            4         1       1   \n",
       "4            5         0       3   \n",
       "\n",
       "                                                Name     Sex   Age  SibSp  \\\n",
       "0                            Braund, Mr. Owen Harris    male  22.0      1   \n",
       "1  Cumings, Mrs. John Bradley (Florence Briggs Th...  female  38.0      1   \n",
       "2                             Heikkinen, Miss. Laina  female  26.0      0   \n",
       "3       Futrelle, Mrs. Jacques Heath (Lily May Peel)  female  35.0      1   \n",
       "4                           Allen, Mr. William Henry    male  35.0      0   \n",
       "\n",
       "   Parch            Ticket     Fare Cabin Embarked  \n",
       "0      0         A/5 21171   7.2500   NaN        S  \n",
       "1      0          PC 17599  71.2833   C85        C  \n",
       "2      0  STON/O2. 3101282   7.9250   NaN        S  \n",
       "3      0            113803  53.1000  C123        S  \n",
       "4      0            373450   8.0500   NaN        S  "
      ]
     },
     "execution_count": 20,
     "metadata": {},
     "output_type": "execute_result"
    }
   ],
   "source": [
    "train_data.head()"
   ]
  },
  {
   "cell_type": "code",
   "execution_count": 21,
   "id": "2cc11bb7",
   "metadata": {
    "execution": {
     "iopub.execute_input": "2023-08-14T13:59:45.622380Z",
     "iopub.status.busy": "2023-08-14T13:59:45.621514Z",
     "iopub.status.idle": "2023-08-14T13:59:45.631939Z",
     "shell.execute_reply": "2023-08-14T13:59:45.630708Z"
    },
    "papermill": {
     "duration": 0.036353,
     "end_time": "2023-08-14T13:59:45.634542",
     "exception": false,
     "start_time": "2023-08-14T13:59:45.598189",
     "status": "completed"
    },
    "tags": []
   },
   "outputs": [
    {
     "data": {
      "text/plain": [
       "((891, 5), (891,))"
      ]
     },
     "execution_count": 21,
     "metadata": {},
     "output_type": "execute_result"
    }
   ],
   "source": [
    "# Lets Split data X and y\n",
    "\n",
    "# Selecting some features that is importance\n",
    "features = [\"Pclass\", \"Sex\", \"SibSp\", \"Parch\"]\n",
    "\n",
    "X = pd.get_dummies(train_data[features])\n",
    "y = train_data[\"Survived\"]\n",
    "\n",
    "X.shape, y.shape"
   ]
  },
  {
   "cell_type": "code",
   "execution_count": 22,
   "id": "f8edaf14",
   "metadata": {
    "execution": {
     "iopub.execute_input": "2023-08-14T13:59:45.680747Z",
     "iopub.status.busy": "2023-08-14T13:59:45.680405Z",
     "iopub.status.idle": "2023-08-14T13:59:45.688099Z",
     "shell.execute_reply": "2023-08-14T13:59:45.687140Z"
    },
    "papermill": {
     "duration": 0.033293,
     "end_time": "2023-08-14T13:59:45.690325",
     "exception": false,
     "start_time": "2023-08-14T13:59:45.657032",
     "status": "completed"
    },
    "tags": []
   },
   "outputs": [
    {
     "data": {
      "text/plain": [
       "Pclass        0\n",
       "SibSp         0\n",
       "Parch         0\n",
       "Sex_female    0\n",
       "Sex_male      0\n",
       "dtype: int64"
      ]
     },
     "execution_count": 22,
     "metadata": {},
     "output_type": "execute_result"
    }
   ],
   "source": [
    "# Checking for missing data\n",
    "X.isna().sum()"
   ]
  },
  {
   "cell_type": "code",
   "execution_count": 23,
   "id": "57685f6e",
   "metadata": {
    "execution": {
     "iopub.execute_input": "2023-08-14T13:59:45.737959Z",
     "iopub.status.busy": "2023-08-14T13:59:45.737597Z",
     "iopub.status.idle": "2023-08-14T13:59:45.998894Z",
     "shell.execute_reply": "2023-08-14T13:59:45.997845Z"
    },
    "papermill": {
     "duration": 0.287807,
     "end_time": "2023-08-14T13:59:46.001045",
     "exception": false,
     "start_time": "2023-08-14T13:59:45.713238",
     "status": "completed"
    },
    "tags": []
   },
   "outputs": [
    {
     "data": {
      "text/plain": [
       "((712, 5), (179, 5))"
      ]
     },
     "execution_count": 23,
     "metadata": {},
     "output_type": "execute_result"
    }
   ],
   "source": [
    "# Split data into train_set and valid_set\n",
    "from sklearn.model_selection import train_test_split\n",
    "\n",
    "X_train, X_valid, y_train, y_valid = train_test_split(X, y, test_size=0.2)\n",
    "X_train.shape, X_valid.shape"
   ]
  },
  {
   "cell_type": "markdown",
   "id": "16d99d98",
   "metadata": {
    "papermill": {
     "duration": 0.023018,
     "end_time": "2023-08-14T13:59:46.049308",
     "exception": false,
     "start_time": "2023-08-14T13:59:46.026290",
     "status": "completed"
    },
    "tags": []
   },
   "source": [
    "### Create a multiple estimators to train"
   ]
  },
  {
   "cell_type": "code",
   "execution_count": 24,
   "id": "c0bfeaae",
   "metadata": {
    "execution": {
     "iopub.execute_input": "2023-08-14T13:59:46.097123Z",
     "iopub.status.busy": "2023-08-14T13:59:46.096763Z",
     "iopub.status.idle": "2023-08-14T13:59:46.459486Z",
     "shell.execute_reply": "2023-08-14T13:59:46.458299Z"
    },
    "papermill": {
     "duration": 0.389356,
     "end_time": "2023-08-14T13:59:46.461757",
     "exception": false,
     "start_time": "2023-08-14T13:59:46.072401",
     "status": "completed"
    },
    "tags": []
   },
   "outputs": [],
   "source": [
    "# Model from Scikit-Learn\n",
    "from sklearn.linear_model import LogisticRegression\n",
    "from sklearn.neighbors import KNeighborsClassifier\n",
    "from sklearn.ensemble import RandomForestClassifier\n",
    "\n",
    "# Model Evaluations\n",
    "from sklearn.model_selection import train_test_split, cross_val_score\n",
    "from sklearn.model_selection import RandomizedSearchCV, GridSearchCV\n",
    "from sklearn.metrics import confusion_matrix, classification_report\n",
    "from sklearn.metrics import precision_score, recall_score, f1_score\n",
    "from sklearn.metrics import roc_curve, RocCurveDisplay"
   ]
  },
  {
   "cell_type": "code",
   "execution_count": 25,
   "id": "6b092d7b",
   "metadata": {
    "execution": {
     "iopub.execute_input": "2023-08-14T13:59:46.511421Z",
     "iopub.status.busy": "2023-08-14T13:59:46.510530Z",
     "iopub.status.idle": "2023-08-14T13:59:46.518600Z",
     "shell.execute_reply": "2023-08-14T13:59:46.517058Z"
    },
    "papermill": {
     "duration": 0.036037,
     "end_time": "2023-08-14T13:59:46.521123",
     "exception": false,
     "start_time": "2023-08-14T13:59:46.485086",
     "status": "completed"
    },
    "tags": []
   },
   "outputs": [],
   "source": [
    "# Put into a dictionary\n",
    "models = {\"Logistic Regression\": LogisticRegression(),\n",
    "          \"KNN\": KNeighborsClassifier(),\n",
    "          \"Random Forest\": RandomForestClassifier()}\n",
    "\n",
    "# Create a function to fit and score model\n",
    "def fit_and_score(models, X_train, X_valid, y_train, y_valid):\n",
    "    \"\"\"\n",
    "    Fit and evaluate a machine learning models.\n",
    "    model : a dict of different Scikit-Learn machine learning models\n",
    "    X_train : training data (no labels)\n",
    "    X_valid : valid data(no labels)\n",
    "    y_train : training labels\n",
    "    y_valid : valib labels\n",
    "    \"\"\"\n",
    "    # Set random seed\n",
    "    np.random.seed(42)\n",
    "    # Make a dictionary to keep a model scores\n",
    "    model_score = {}\n",
    "    # Loop through the model\n",
    "    for name, model in models.items():\n",
    "        # Fit our model\n",
    "        model.fit(X_train, y_train)\n",
    "        # Evaluate the model and append its score to the model scores\n",
    "        model_score[name] = model.score(X_valid, y_valid)\n",
    "    return model_score"
   ]
  },
  {
   "cell_type": "code",
   "execution_count": 26,
   "id": "f5aa1d75",
   "metadata": {
    "execution": {
     "iopub.execute_input": "2023-08-14T13:59:46.568764Z",
     "iopub.status.busy": "2023-08-14T13:59:46.568435Z",
     "iopub.status.idle": "2023-08-14T13:59:46.760455Z",
     "shell.execute_reply": "2023-08-14T13:59:46.759189Z"
    },
    "papermill": {
     "duration": 0.218196,
     "end_time": "2023-08-14T13:59:46.762446",
     "exception": false,
     "start_time": "2023-08-14T13:59:46.544250",
     "status": "completed"
    },
    "tags": []
   },
   "outputs": [
    {
     "data": {
      "text/plain": [
       "{'Logistic Regression': 0.7821229050279329,\n",
       " 'KNN': 0.776536312849162,\n",
       " 'Random Forest': 0.7821229050279329}"
      ]
     },
     "execution_count": 26,
     "metadata": {},
     "output_type": "execute_result"
    }
   ],
   "source": [
    "# fit and scoring our model \n",
    "model_scores = fit_and_score(models=models,\n",
    "                             X_train=X_train,\n",
    "                             X_valid=X_valid,\n",
    "                             y_train=y_train,\n",
    "                             y_valid=y_valid)\n",
    "model_scores"
   ]
  },
  {
   "cell_type": "markdown",
   "id": "4dff3e6c",
   "metadata": {
    "papermill": {
     "duration": 0.02197,
     "end_time": "2023-08-14T13:59:46.807384",
     "exception": false,
     "start_time": "2023-08-14T13:59:46.785414",
     "status": "completed"
    },
    "tags": []
   },
   "source": [
    "Since our models predictions seem below our expectation, let's try \n",
    "1. Adding Age to the column and see the effect\n",
    "2. "
   ]
  },
  {
   "cell_type": "code",
   "execution_count": 27,
   "id": "6c8fb166",
   "metadata": {
    "execution": {
     "iopub.execute_input": "2023-08-14T13:59:46.854730Z",
     "iopub.status.busy": "2023-08-14T13:59:46.853620Z",
     "iopub.status.idle": "2023-08-14T13:59:47.035846Z",
     "shell.execute_reply": "2023-08-14T13:59:47.034944Z"
    },
    "papermill": {
     "duration": 0.207448,
     "end_time": "2023-08-14T13:59:47.037642",
     "exception": false,
     "start_time": "2023-08-14T13:59:46.830194",
     "status": "completed"
    },
    "tags": []
   },
   "outputs": [
    {
     "data": {
      "text/plain": [
       "<Axes: >"
      ]
     },
     "execution_count": 27,
     "metadata": {},
     "output_type": "execute_result"
    },
    {
     "data": {
      "image/png": "[encoded data removed]",
      "text/plain": [
       "<Figure size 640x480 with 1 Axes>"
      ]
     },
     "metadata": {},
     "output_type": "display_data"
    }
   ],
   "source": [
    "# Compare the difference model\n",
    "model_comparison = pd.DataFrame(model_scores, index=[\"accuracy\"])\n",
    "model_comparison.T.plot.bar()"
   ]
  },
  {
   "cell_type": "markdown",
   "id": "a2136cb7",
   "metadata": {
    "papermill": {
     "duration": 0.022373,
     "end_time": "2023-08-14T13:59:47.083039",
     "exception": false,
     "start_time": "2023-08-14T13:59:47.060666",
     "status": "completed"
    },
    "tags": []
   },
   "source": [
    "### Adding Age to column and check if the model improved\n"
   ]
  },
  {
   "cell_type": "code",
   "execution_count": 28,
   "id": "60f73e11",
   "metadata": {
    "execution": {
     "iopub.execute_input": "2023-08-14T13:59:47.131513Z",
     "iopub.status.busy": "2023-08-14T13:59:47.130902Z",
     "iopub.status.idle": "2023-08-14T13:59:47.137220Z",
     "shell.execute_reply": "2023-08-14T13:59:47.136387Z"
    },
    "papermill": {
     "duration": 0.032141,
     "end_time": "2023-08-14T13:59:47.139102",
     "exception": false,
     "start_time": "2023-08-14T13:59:47.106961",
     "status": "completed"
    },
    "tags": []
   },
   "outputs": [
    {
     "data": {
      "text/plain": [
       "177"
      ]
     },
     "execution_count": 28,
     "metadata": {},
     "output_type": "execute_result"
    }
   ],
   "source": [
    "# check the age column and missing values\n",
    "train_data[\"Age\"].isna().sum()"
   ]
  },
  {
   "cell_type": "code",
   "execution_count": 29,
   "id": "d1202395",
   "metadata": {
    "execution": {
     "iopub.execute_input": "2023-08-14T13:59:47.188224Z",
     "iopub.status.busy": "2023-08-14T13:59:47.187833Z",
     "iopub.status.idle": "2023-08-14T13:59:47.532619Z",
     "shell.execute_reply": "2023-08-14T13:59:47.531678Z"
    },
    "papermill": {
     "duration": 0.371437,
     "end_time": "2023-08-14T13:59:47.534418",
     "exception": false,
     "start_time": "2023-08-14T13:59:47.162981",
     "status": "completed"
    },
    "tags": []
   },
   "outputs": [
    {
     "data": {
      "image/png": "[encoded data removed]",
      "text/plain": [
       "<Figure size 640x480 with 1 Axes>"
      ]
     },
     "metadata": {},
     "output_type": "display_data"
    }
   ],
   "source": [
    "# Visualized \n",
    "train_data[\"Age\"].hist();\n",
    "# Seem that the median will be best option to fill our data.. due to outliers"
   ]
  },
  {
   "cell_type": "code",
   "execution_count": 30,
   "id": "76cdf9fa",
   "metadata": {
    "execution": {
     "iopub.execute_input": "2023-08-14T13:59:47.582585Z",
     "iopub.status.busy": "2023-08-14T13:59:47.582238Z",
     "iopub.status.idle": "2023-08-14T13:59:47.588011Z",
     "shell.execute_reply": "2023-08-14T13:59:47.586841Z"
    },
    "papermill": {
     "duration": 0.033067,
     "end_time": "2023-08-14T13:59:47.590857",
     "exception": false,
     "start_time": "2023-08-14T13:59:47.557790",
     "status": "completed"
    },
    "tags": []
   },
   "outputs": [],
   "source": [
    "train_data[\"Age\"].fillna(train_data[\"Age\"].median(), inplace=True)"
   ]
  },
  {
   "cell_type": "code",
   "execution_count": 31,
   "id": "5b9a5be8",
   "metadata": {
    "execution": {
     "iopub.execute_input": "2023-08-14T13:59:47.639490Z",
     "iopub.status.busy": "2023-08-14T13:59:47.639105Z",
     "iopub.status.idle": "2023-08-14T13:59:47.646627Z",
     "shell.execute_reply": "2023-08-14T13:59:47.645092Z"
    },
    "papermill": {
     "duration": 0.034654,
     "end_time": "2023-08-14T13:59:47.649129",
     "exception": false,
     "start_time": "2023-08-14T13:59:47.614475",
     "status": "completed"
    },
    "tags": []
   },
   "outputs": [
    {
     "data": {
      "text/plain": [
       "(0, dtype('float64'))"
      ]
     },
     "execution_count": 31,
     "metadata": {},
     "output_type": "execute_result"
    }
   ],
   "source": [
    "train_data[\"Age\"].isna().sum(), train_data[\"Age\"].dtype"
   ]
  },
  {
   "cell_type": "code",
   "execution_count": 32,
   "id": "67b88b83",
   "metadata": {
    "execution": {
     "iopub.execute_input": "2023-08-14T13:59:47.698332Z",
     "iopub.status.busy": "2023-08-14T13:59:47.698025Z",
     "iopub.status.idle": "2023-08-14T13:59:47.707706Z",
     "shell.execute_reply": "2023-08-14T13:59:47.706949Z"
    },
    "papermill": {
     "duration": 0.035526,
     "end_time": "2023-08-14T13:59:47.709405",
     "exception": false,
     "start_time": "2023-08-14T13:59:47.673879",
     "status": "completed"
    },
    "tags": []
   },
   "outputs": [
    {
     "data": {
      "text/html": [
       "<div>\n",
       "<style scoped>\n",
       "    .dataframe tbody tr th:only-of-type {\n",
       "        vertical-align: middle;\n",
       "    }\n",
       "\n",
       "    .dataframe tbody tr th {\n",
       "        vertical-align: top;\n",
       "    }\n",
       "\n",
       "    .dataframe thead th {\n",
       "        text-align: right;\n",
       "    }\n",
       "</style>\n",
       "<table border=\"1\" class=\"dataframe\">\n",
       "  <thead>\n",
       "    <tr style=\"text-align: right;\">\n",
       "      <th></th>\n",
       "      <th>Pclass</th>\n",
       "      <th>SibSp</th>\n",
       "      <th>Parch</th>\n",
       "      <th>Sex_female</th>\n",
       "      <th>Sex_male</th>\n",
       "      <th>Age</th>\n",
       "    </tr>\n",
       "  </thead>\n",
       "  <tbody>\n",
       "    <tr>\n",
       "      <th>0</th>\n",
       "      <td>3</td>\n",
       "      <td>1</td>\n",
       "      <td>0</td>\n",
       "      <td>0</td>\n",
       "      <td>1</td>\n",
       "      <td>22.0</td>\n",
       "    </tr>\n",
       "    <tr>\n",
       "      <th>1</th>\n",
       "      <td>1</td>\n",
       "      <td>1</td>\n",
       "      <td>0</td>\n",
       "      <td>1</td>\n",
       "      <td>0</td>\n",
       "      <td>38.0</td>\n",
       "    </tr>\n",
       "    <tr>\n",
       "      <th>2</th>\n",
       "      <td>3</td>\n",
       "      <td>0</td>\n",
       "      <td>0</td>\n",
       "      <td>1</td>\n",
       "      <td>0</td>\n",
       "      <td>26.0</td>\n",
       "    </tr>\n",
       "    <tr>\n",
       "      <th>3</th>\n",
       "      <td>1</td>\n",
       "      <td>1</td>\n",
       "      <td>0</td>\n",
       "      <td>1</td>\n",
       "      <td>0</td>\n",
       "      <td>35.0</td>\n",
       "    </tr>\n",
       "    <tr>\n",
       "      <th>4</th>\n",
       "      <td>3</td>\n",
       "      <td>0</td>\n",
       "      <td>0</td>\n",
       "      <td>0</td>\n",
       "      <td>1</td>\n",
       "      <td>35.0</td>\n",
       "    </tr>\n",
       "  </tbody>\n",
       "</table>\n",
       "</div>"
      ],
      "text/plain": [
       "   Pclass  SibSp  Parch  Sex_female  Sex_male   Age\n",
       "0       3      1      0           0         1  22.0\n",
       "1       1      1      0           1         0  38.0\n",
       "2       3      0      0           1         0  26.0\n",
       "3       1      1      0           1         0  35.0\n",
       "4       3      0      0           0         1  35.0"
      ]
     },
     "execution_count": 32,
     "metadata": {},
     "output_type": "execute_result"
    }
   ],
   "source": [
    "# Adding X to our data\n",
    "X[\"Age\"] = train_data[\"Age\"]\n",
    "X.head()"
   ]
  },
  {
   "cell_type": "code",
   "execution_count": 33,
   "id": "4d1360d1",
   "metadata": {
    "execution": {
     "iopub.execute_input": "2023-08-14T13:59:47.757989Z",
     "iopub.status.busy": "2023-08-14T13:59:47.756799Z",
     "iopub.status.idle": "2023-08-14T13:59:47.765927Z",
     "shell.execute_reply": "2023-08-14T13:59:47.764656Z"
    },
    "papermill": {
     "duration": 0.036035,
     "end_time": "2023-08-14T13:59:47.768491",
     "exception": false,
     "start_time": "2023-08-14T13:59:47.732456",
     "status": "completed"
    },
    "tags": []
   },
   "outputs": [
    {
     "data": {
      "text/plain": [
       "((712, 6), (179, 6))"
      ]
     },
     "execution_count": 33,
     "metadata": {},
     "output_type": "execute_result"
    }
   ],
   "source": [
    "# Split our data again\n",
    "X_train, X_valid, y_train, y_valid = train_test_split(X, y, test_size=0.2)\n",
    "X_train.shape, X_valid.shape"
   ]
  },
  {
   "cell_type": "code",
   "execution_count": 34,
   "id": "70e5637f",
   "metadata": {
    "execution": {
     "iopub.execute_input": "2023-08-14T13:59:47.819318Z",
     "iopub.status.busy": "2023-08-14T13:59:47.818857Z",
     "iopub.status.idle": "2023-08-14T13:59:48.026582Z",
     "shell.execute_reply": "2023-08-14T13:59:48.025400Z"
    },
    "papermill": {
     "duration": 0.235382,
     "end_time": "2023-08-14T13:59:48.028812",
     "exception": false,
     "start_time": "2023-08-14T13:59:47.793430",
     "status": "completed"
    },
    "tags": []
   },
   "outputs": [
    {
     "data": {
      "text/plain": [
       "{'Logistic Regression': 0.8379888268156425,\n",
       " 'KNN': 0.8212290502793296,\n",
       " 'Random Forest': 0.7877094972067039}"
      ]
     },
     "execution_count": 34,
     "metadata": {},
     "output_type": "execute_result"
    }
   ],
   "source": [
    "model_scores = fit_and_score(models=models,\n",
    "                             X_train=X_train,\n",
    "                             X_valid=X_valid,\n",
    "                             y_train=y_train,\n",
    "                             y_valid=y_valid)\n",
    "model_scores"
   ]
  },
  {
   "cell_type": "markdown",
   "id": "35ef0fff",
   "metadata": {
    "papermill": {
     "duration": 0.02441,
     "end_time": "2023-08-14T13:59:48.078140",
     "exception": false,
     "start_time": "2023-08-14T13:59:48.053730",
     "status": "completed"
    },
    "tags": []
   },
   "source": [
    "😂 we got some Improvement.. That's nice\n",
    "\n",
    "{'Logistic Regression': 0.8379888268156425,\n",
    " 'KNN': 0.8212290502793296,\n",
    " 'Random Forest': 0.7877094972067039}"
   ]
  },
  {
   "cell_type": "markdown",
   "id": "ea657271",
   "metadata": {
    "papermill": {
     "duration": 0.025109,
     "end_time": "2023-08-14T13:59:48.127635",
     "exception": false,
     "start_time": "2023-08-14T13:59:48.102526",
     "status": "completed"
    },
    "tags": []
   },
   "source": [
    "🤔, What else could we do to improve this data? mmmm...\n",
    "Some people score 1 perfect?\n",
    "I think i could figure this out too mmm...\n",
    "\n",
    "Looking at our data and try some Basic Feature Engineering principle: example here https://triangleinequality.wordpress.com/2013/09/08/basic-feature-engineering-with-the-titanic-data/\n",
    "\n",
    "Beautiful"
   ]
  },
  {
   "cell_type": "markdown",
   "id": "e2d426eb",
   "metadata": {
    "papermill": {
     "duration": 0.023636,
     "end_time": "2023-08-14T13:59:48.175724",
     "exception": false,
     "start_time": "2023-08-14T13:59:48.152088",
     "status": "completed"
    },
    "tags": []
   },
   "source": [
    "## Feature Engineering "
   ]
  },
  {
   "cell_type": "code",
   "execution_count": 35,
   "id": "3fdff434",
   "metadata": {
    "execution": {
     "iopub.execute_input": "2023-08-14T13:59:48.225336Z",
     "iopub.status.busy": "2023-08-14T13:59:48.225025Z",
     "iopub.status.idle": "2023-08-14T13:59:48.239806Z",
     "shell.execute_reply": "2023-08-14T13:59:48.238662Z"
    },
    "papermill": {
     "duration": 0.042096,
     "end_time": "2023-08-14T13:59:48.241699",
     "exception": false,
     "start_time": "2023-08-14T13:59:48.199603",
     "status": "completed"
    },
    "tags": []
   },
   "outputs": [
    {
     "data": {
      "text/html": [
       "<div>\n",
       "<style scoped>\n",
       "    .dataframe tbody tr th:only-of-type {\n",
       "        vertical-align: middle;\n",
       "    }\n",
       "\n",
       "    .dataframe tbody tr th {\n",
       "        vertical-align: top;\n",
       "    }\n",
       "\n",
       "    .dataframe thead th {\n",
       "        text-align: right;\n",
       "    }\n",
       "</style>\n",
       "<table border=\"1\" class=\"dataframe\">\n",
       "  <thead>\n",
       "    <tr style=\"text-align: right;\">\n",
       "      <th></th>\n",
       "      <th>PassengerId</th>\n",
       "      <th>Survived</th>\n",
       "      <th>Pclass</th>\n",
       "      <th>Name</th>\n",
       "      <th>Sex</th>\n",
       "      <th>Age</th>\n",
       "      <th>SibSp</th>\n",
       "      <th>Parch</th>\n",
       "      <th>Ticket</th>\n",
       "      <th>Fare</th>\n",
       "      <th>Cabin</th>\n",
       "      <th>Embarked</th>\n",
       "    </tr>\n",
       "  </thead>\n",
       "  <tbody>\n",
       "    <tr>\n",
       "      <th>0</th>\n",
       "      <td>1</td>\n",
       "      <td>0</td>\n",
       "      <td>3</td>\n",
       "      <td>Braund, Mr. Owen Harris</td>\n",
       "      <td>male</td>\n",
       "      <td>22.0</td>\n",
       "      <td>1</td>\n",
       "      <td>0</td>\n",
       "      <td>A/5 21171</td>\n",
       "      <td>7.2500</td>\n",
       "      <td>NaN</td>\n",
       "      <td>S</td>\n",
       "    </tr>\n",
       "    <tr>\n",
       "      <th>1</th>\n",
       "      <td>2</td>\n",
       "      <td>1</td>\n",
       "      <td>1</td>\n",
       "      <td>Cumings, Mrs. John Bradley (Florence Briggs Th...</td>\n",
       "      <td>female</td>\n",
       "      <td>38.0</td>\n",
       "      <td>1</td>\n",
       "      <td>0</td>\n",
       "      <td>PC 17599</td>\n",
       "      <td>71.2833</td>\n",
       "      <td>C85</td>\n",
       "      <td>C</td>\n",
       "    </tr>\n",
       "    <tr>\n",
       "      <th>2</th>\n",
       "      <td>3</td>\n",
       "      <td>1</td>\n",
       "      <td>3</td>\n",
       "      <td>Heikkinen, Miss. Laina</td>\n",
       "      <td>female</td>\n",
       "      <td>26.0</td>\n",
       "      <td>0</td>\n",
       "      <td>0</td>\n",
       "      <td>STON/O2. 3101282</td>\n",
       "      <td>7.9250</td>\n",
       "      <td>NaN</td>\n",
       "      <td>S</td>\n",
       "    </tr>\n",
       "    <tr>\n",
       "      <th>3</th>\n",
       "      <td>4</td>\n",
       "      <td>1</td>\n",
       "      <td>1</td>\n",
       "      <td>Futrelle, Mrs. Jacques Heath (Lily May Peel)</td>\n",
       "      <td>female</td>\n",
       "      <td>35.0</td>\n",
       "      <td>1</td>\n",
       "      <td>0</td>\n",
       "      <td>113803</td>\n",
       "      <td>53.1000</td>\n",
       "      <td>C123</td>\n",
       "      <td>S</td>\n",
       "    </tr>\n",
       "    <tr>\n",
       "      <th>4</th>\n",
       "      <td>5</td>\n",
       "      <td>0</td>\n",
       "      <td>3</td>\n",
       "      <td>Allen, Mr. William Henry</td>\n",
       "      <td>male</td>\n",
       "      <td>35.0</td>\n",
       "      <td>0</td>\n",
       "      <td>0</td>\n",
       "      <td>373450</td>\n",
       "      <td>8.0500</td>\n",
       "      <td>NaN</td>\n",
       "      <td>S</td>\n",
       "    </tr>\n",
       "  </tbody>\n",
       "</table>\n",
       "</div>"
      ],
      "text/plain": [
       "   PassengerId  Survived  Pclass  \\\n",
       "0            1         0       3   \n",
       "1            2         1       1   \n",
       "2            3         1       3   \n",
       "3            4         1       1   \n",
       "4            5         0       3   \n",
       "\n",
       "                                                Name     Sex   Age  SibSp  \\\n",
       "0                            Braund, Mr. Owen Harris    male  22.0      1   \n",
       "1  Cumings, Mrs. John Bradley (Florence Briggs Th...  female  38.0      1   \n",
       "2                             Heikkinen, Miss. Laina  female  26.0      0   \n",
       "3       Futrelle, Mrs. Jacques Heath (Lily May Peel)  female  35.0      1   \n",
       "4                           Allen, Mr. William Henry    male  35.0      0   \n",
       "\n",
       "   Parch            Ticket     Fare Cabin Embarked  \n",
       "0      0         A/5 21171   7.2500   NaN        S  \n",
       "1      0          PC 17599  71.2833   C85        C  \n",
       "2      0  STON/O2. 3101282   7.9250   NaN        S  \n",
       "3      0            113803  53.1000  C123        S  \n",
       "4      0            373450   8.0500   NaN        S  "
      ]
     },
     "execution_count": 35,
     "metadata": {},
     "output_type": "execute_result"
    }
   ],
   "source": [
    "train_data.head()"
   ]
  },
  {
   "cell_type": "code",
   "execution_count": 36,
   "id": "1eda44ca",
   "metadata": {
    "execution": {
     "iopub.execute_input": "2023-08-14T13:59:48.293145Z",
     "iopub.status.busy": "2023-08-14T13:59:48.292787Z",
     "iopub.status.idle": "2023-08-14T13:59:48.297031Z",
     "shell.execute_reply": "2023-08-14T13:59:48.296067Z"
    },
    "papermill": {
     "duration": 0.031575,
     "end_time": "2023-08-14T13:59:48.299170",
     "exception": false,
     "start_time": "2023-08-14T13:59:48.267595",
     "status": "completed"
    },
    "tags": []
   },
   "outputs": [],
   "source": [
    "# Importing strings\n",
    "# !pip install strings"
   ]
  },
  {
   "cell_type": "code",
   "execution_count": 37,
   "id": "083dca20",
   "metadata": {
    "execution": {
     "iopub.execute_input": "2023-08-14T13:59:48.350852Z",
     "iopub.status.busy": "2023-08-14T13:59:48.350424Z",
     "iopub.status.idle": "2023-08-14T13:59:48.354232Z",
     "shell.execute_reply": "2023-08-14T13:59:48.353552Z"
    },
    "papermill": {
     "duration": 0.032512,
     "end_time": "2023-08-14T13:59:48.356446",
     "exception": false,
     "start_time": "2023-08-14T13:59:48.323934",
     "status": "completed"
    },
    "tags": []
   },
   "outputs": [],
   "source": [
    "import string"
   ]
  },
  {
   "cell_type": "code",
   "execution_count": 38,
   "id": "d0ee6a78",
   "metadata": {
    "execution": {
     "iopub.execute_input": "2023-08-14T13:59:48.408441Z",
     "iopub.status.busy": "2023-08-14T13:59:48.407971Z",
     "iopub.status.idle": "2023-08-14T13:59:48.414398Z",
     "shell.execute_reply": "2023-08-14T13:59:48.412904Z"
    },
    "papermill": {
     "duration": 0.035821,
     "end_time": "2023-08-14T13:59:48.416968",
     "exception": false,
     "start_time": "2023-08-14T13:59:48.381147",
     "status": "completed"
    },
    "tags": []
   },
   "outputs": [],
   "source": [
    "def substrings_in_string(big_string, substrings):\n",
    "    for substring in substrings:\n",
    "        if substring in big_string:\n",
    "            return substring\n",
    "    print(big_string)\n",
    "    return np.nan"
   ]
  },
  {
   "cell_type": "code",
   "execution_count": 39,
   "id": "93bbce60",
   "metadata": {
    "execution": {
     "iopub.execute_input": "2023-08-14T13:59:48.467558Z",
     "iopub.status.busy": "2023-08-14T13:59:48.467193Z",
     "iopub.status.idle": "2023-08-14T13:59:48.472690Z",
     "shell.execute_reply": "2023-08-14T13:59:48.471672Z"
    },
    "papermill": {
     "duration": 0.033308,
     "end_time": "2023-08-14T13:59:48.474769",
     "exception": false,
     "start_time": "2023-08-14T13:59:48.441461",
     "status": "completed"
    },
    "tags": []
   },
   "outputs": [],
   "source": [
    "title_list=['Mrs', 'Mr', 'Master', 'Miss', 'Major', 'Rev', 'Dr', 'Ms', 'Mile', 'Col', 'Capt', 'Capt', 'Mme', \n",
    "            'Countess', 'Don', 'Jonkheer']"
   ]
  },
  {
   "cell_type": "code",
   "execution_count": 40,
   "id": "3d10ead7",
   "metadata": {
    "execution": {
     "iopub.execute_input": "2023-08-14T13:59:48.524387Z",
     "iopub.status.busy": "2023-08-14T13:59:48.523993Z",
     "iopub.status.idle": "2023-08-14T13:59:48.533624Z",
     "shell.execute_reply": "2023-08-14T13:59:48.532670Z"
    },
    "papermill": {
     "duration": 0.037519,
     "end_time": "2023-08-14T13:59:48.536236",
     "exception": false,
     "start_time": "2023-08-14T13:59:48.498717",
     "status": "completed"
    },
    "tags": []
   },
   "outputs": [
    {
     "data": {
      "text/plain": [
       "0                              Braund, Mr. Owen Harris\n",
       "1    Cumings, Mrs. John Bradley (Florence Briggs Th...\n",
       "2                               Heikkinen, Miss. Laina\n",
       "3         Futrelle, Mrs. Jacques Heath (Lily May Peel)\n",
       "4                             Allen, Mr. William Henry\n",
       "Name: Name, dtype: object"
      ]
     },
     "execution_count": 40,
     "metadata": {},
     "output_type": "execute_result"
    }
   ],
   "source": [
    "train_data[\"Name\"].head()"
   ]
  },
  {
   "cell_type": "code",
   "execution_count": 41,
   "id": "6087660a",
   "metadata": {
    "execution": {
     "iopub.execute_input": "2023-08-14T13:59:48.587069Z",
     "iopub.status.busy": "2023-08-14T13:59:48.586665Z",
     "iopub.status.idle": "2023-08-14T13:59:48.592966Z",
     "shell.execute_reply": "2023-08-14T13:59:48.592044Z"
    },
    "papermill": {
     "duration": 0.033902,
     "end_time": "2023-08-14T13:59:48.594882",
     "exception": false,
     "start_time": "2023-08-14T13:59:48.560980",
     "status": "completed"
    },
    "tags": []
   },
   "outputs": [
    {
     "name": "stdout",
     "output_type": "stream",
     "text": [
      "Sagesser, Mlle. Emma\n"
     ]
    }
   ],
   "source": [
    "# Create column for Title and pass substring to it\n",
    "train_data['Title']=train_data['Name'].map(lambda x: substrings_in_string(x, title_list))"
   ]
  },
  {
   "cell_type": "code",
   "execution_count": 42,
   "id": "aae1fe18",
   "metadata": {
    "execution": {
     "iopub.execute_input": "2023-08-14T13:59:48.646484Z",
     "iopub.status.busy": "2023-08-14T13:59:48.646085Z",
     "iopub.status.idle": "2023-08-14T13:59:48.652242Z",
     "shell.execute_reply": "2023-08-14T13:59:48.651144Z"
    },
    "papermill": {
     "duration": 0.034262,
     "end_time": "2023-08-14T13:59:48.654033",
     "exception": false,
     "start_time": "2023-08-14T13:59:48.619771",
     "status": "completed"
    },
    "tags": []
   },
   "outputs": [],
   "source": [
    "# replace all titles with mr, mrs, miss, master\n",
    "def replace_titles(x):\n",
    "    title=x['Title']\n",
    "    if title in ['Don', 'Major', 'Capt', 'Jonkheer', 'Rev', 'Col']:\n",
    "        return 'Mr'\n",
    "    elif title in ['Countess', 'Mme']:\n",
    "        return 'Mrs'\n",
    "    elif title in ['Mile', 'Ms']:\n",
    "        return 'Miss'\n",
    "    elif title =='Dr':\n",
    "        if x['Sex']==\"Male\":\n",
    "            return 'Mr'\n",
    "        else:\n",
    "            return 'Mrs'\n",
    "    else:\n",
    "        return title"
   ]
  },
  {
   "cell_type": "code",
   "execution_count": 43,
   "id": "52534491",
   "metadata": {
    "execution": {
     "iopub.execute_input": "2023-08-14T13:59:48.708103Z",
     "iopub.status.busy": "2023-08-14T13:59:48.707757Z",
     "iopub.status.idle": "2023-08-14T13:59:48.730753Z",
     "shell.execute_reply": "2023-08-14T13:59:48.729433Z"
    },
    "papermill": {
     "duration": 0.05317,
     "end_time": "2023-08-14T13:59:48.733125",
     "exception": false,
     "start_time": "2023-08-14T13:59:48.679955",
     "status": "completed"
    },
    "tags": []
   },
   "outputs": [
    {
     "data": {
      "text/html": [
       "<div>\n",
       "<style scoped>\n",
       "    .dataframe tbody tr th:only-of-type {\n",
       "        vertical-align: middle;\n",
       "    }\n",
       "\n",
       "    .dataframe tbody tr th {\n",
       "        vertical-align: top;\n",
       "    }\n",
       "\n",
       "    .dataframe thead th {\n",
       "        text-align: right;\n",
       "    }\n",
       "</style>\n",
       "<table border=\"1\" class=\"dataframe\">\n",
       "  <thead>\n",
       "    <tr style=\"text-align: right;\">\n",
       "      <th></th>\n",
       "      <th>PassengerId</th>\n",
       "      <th>Survived</th>\n",
       "      <th>Pclass</th>\n",
       "      <th>Name</th>\n",
       "      <th>Sex</th>\n",
       "      <th>Age</th>\n",
       "      <th>SibSp</th>\n",
       "      <th>Parch</th>\n",
       "      <th>Ticket</th>\n",
       "      <th>Fare</th>\n",
       "      <th>Cabin</th>\n",
       "      <th>Embarked</th>\n",
       "      <th>Title</th>\n",
       "    </tr>\n",
       "  </thead>\n",
       "  <tbody>\n",
       "    <tr>\n",
       "      <th>0</th>\n",
       "      <td>1</td>\n",
       "      <td>0</td>\n",
       "      <td>3</td>\n",
       "      <td>Braund, Mr. Owen Harris</td>\n",
       "      <td>male</td>\n",
       "      <td>22.0</td>\n",
       "      <td>1</td>\n",
       "      <td>0</td>\n",
       "      <td>A/5 21171</td>\n",
       "      <td>7.2500</td>\n",
       "      <td>NaN</td>\n",
       "      <td>S</td>\n",
       "      <td>Mr</td>\n",
       "    </tr>\n",
       "    <tr>\n",
       "      <th>1</th>\n",
       "      <td>2</td>\n",
       "      <td>1</td>\n",
       "      <td>1</td>\n",
       "      <td>Cumings, Mrs. John Bradley (Florence Briggs Th...</td>\n",
       "      <td>female</td>\n",
       "      <td>38.0</td>\n",
       "      <td>1</td>\n",
       "      <td>0</td>\n",
       "      <td>PC 17599</td>\n",
       "      <td>71.2833</td>\n",
       "      <td>C85</td>\n",
       "      <td>C</td>\n",
       "      <td>Mrs</td>\n",
       "    </tr>\n",
       "    <tr>\n",
       "      <th>2</th>\n",
       "      <td>3</td>\n",
       "      <td>1</td>\n",
       "      <td>3</td>\n",
       "      <td>Heikkinen, Miss. Laina</td>\n",
       "      <td>female</td>\n",
       "      <td>26.0</td>\n",
       "      <td>0</td>\n",
       "      <td>0</td>\n",
       "      <td>STON/O2. 3101282</td>\n",
       "      <td>7.9250</td>\n",
       "      <td>NaN</td>\n",
       "      <td>S</td>\n",
       "      <td>Miss</td>\n",
       "    </tr>\n",
       "    <tr>\n",
       "      <th>3</th>\n",
       "      <td>4</td>\n",
       "      <td>1</td>\n",
       "      <td>1</td>\n",
       "      <td>Futrelle, Mrs. Jacques Heath (Lily May Peel)</td>\n",
       "      <td>female</td>\n",
       "      <td>35.0</td>\n",
       "      <td>1</td>\n",
       "      <td>0</td>\n",
       "      <td>113803</td>\n",
       "      <td>53.1000</td>\n",
       "      <td>C123</td>\n",
       "      <td>S</td>\n",
       "      <td>Mrs</td>\n",
       "    </tr>\n",
       "    <tr>\n",
       "      <th>4</th>\n",
       "      <td>5</td>\n",
       "      <td>0</td>\n",
       "      <td>3</td>\n",
       "      <td>Allen, Mr. William Henry</td>\n",
       "      <td>male</td>\n",
       "      <td>35.0</td>\n",
       "      <td>0</td>\n",
       "      <td>0</td>\n",
       "      <td>373450</td>\n",
       "      <td>8.0500</td>\n",
       "      <td>NaN</td>\n",
       "      <td>S</td>\n",
       "      <td>Mr</td>\n",
       "    </tr>\n",
       "  </tbody>\n",
       "</table>\n",
       "</div>"
      ],
      "text/plain": [
       "   PassengerId  Survived  Pclass  \\\n",
       "0            1         0       3   \n",
       "1            2         1       1   \n",
       "2            3         1       3   \n",
       "3            4         1       1   \n",
       "4            5         0       3   \n",
       "\n",
       "                                                Name     Sex   Age  SibSp  \\\n",
       "0                            Braund, Mr. Owen Harris    male  22.0      1   \n",
       "1  Cumings, Mrs. John Bradley (Florence Briggs Th...  female  38.0      1   \n",
       "2                             Heikkinen, Miss. Laina  female  26.0      0   \n",
       "3       Futrelle, Mrs. Jacques Heath (Lily May Peel)  female  35.0      1   \n",
       "4                           Allen, Mr. William Henry    male  35.0      0   \n",
       "\n",
       "   Parch            Ticket     Fare Cabin Embarked Title  \n",
       "0      0         A/5 21171   7.2500   NaN        S    Mr  \n",
       "1      0          PC 17599  71.2833   C85        C   Mrs  \n",
       "2      0  STON/O2. 3101282   7.9250   NaN        S  Miss  \n",
       "3      0            113803  53.1000  C123        S   Mrs  \n",
       "4      0            373450   8.0500   NaN        S    Mr  "
      ]
     },
     "execution_count": 43,
     "metadata": {},
     "output_type": "execute_result"
    }
   ],
   "source": [
    "train_data['Title']=train_data.apply(replace_titles, axis=1)\n",
    "train_data.head()"
   ]
  },
  {
   "cell_type": "code",
   "execution_count": 44,
   "id": "1830481a",
   "metadata": {
    "execution": {
     "iopub.execute_input": "2023-08-14T13:59:48.784848Z",
     "iopub.status.busy": "2023-08-14T13:59:48.784471Z",
     "iopub.status.idle": "2023-08-14T13:59:48.788735Z",
     "shell.execute_reply": "2023-08-14T13:59:48.787495Z"
    },
    "papermill": {
     "duration": 0.032336,
     "end_time": "2023-08-14T13:59:48.790578",
     "exception": false,
     "start_time": "2023-08-14T13:59:48.758242",
     "status": "completed"
    },
    "tags": []
   },
   "outputs": [],
   "source": [
    "# # Turning cabin number into Deck\n",
    "# cabin_list = ['A', 'B', 'C', 'D', 'E', 'F', 'T', 'G', 'Unknown']\n",
    "# train_data['Deck'] = train_data[\"Cabin\"].map(lambda x: substrings_in_string(x, cabin_list))"
   ]
  },
  {
   "cell_type": "code",
   "execution_count": 45,
   "id": "787bbb43",
   "metadata": {
    "execution": {
     "iopub.execute_input": "2023-08-14T13:59:48.842146Z",
     "iopub.status.busy": "2023-08-14T13:59:48.841780Z",
     "iopub.status.idle": "2023-08-14T13:59:48.850858Z",
     "shell.execute_reply": "2023-08-14T13:59:48.849328Z"
    },
    "papermill": {
     "duration": 0.037492,
     "end_time": "2023-08-14T13:59:48.853056",
     "exception": false,
     "start_time": "2023-08-14T13:59:48.815564",
     "status": "completed"
    },
    "tags": []
   },
   "outputs": [
    {
     "data": {
      "text/plain": [
       "0    1\n",
       "1    1\n",
       "2    0\n",
       "3    1\n",
       "4    0\n",
       "Name: Family_Size, dtype: int64"
      ]
     },
     "execution_count": 45,
     "metadata": {},
     "output_type": "execute_result"
    }
   ],
   "source": [
    "#Creating new family_size column\n",
    "train_data['Family_Size']=train_data['SibSp']+train_data['Parch']\n",
    "train_data['Family_Size'].head()"
   ]
  },
  {
   "cell_type": "code",
   "execution_count": 46,
   "id": "4b658b42",
   "metadata": {
    "execution": {
     "iopub.execute_input": "2023-08-14T13:59:48.904738Z",
     "iopub.status.busy": "2023-08-14T13:59:48.904328Z",
     "iopub.status.idle": "2023-08-14T13:59:48.914657Z",
     "shell.execute_reply": "2023-08-14T13:59:48.913699Z"
    },
    "papermill": {
     "duration": 0.03838,
     "end_time": "2023-08-14T13:59:48.916580",
     "exception": false,
     "start_time": "2023-08-14T13:59:48.878200",
     "status": "completed"
    },
    "tags": []
   },
   "outputs": [
    {
     "data": {
      "text/plain": [
       "0     66.0\n",
       "1     38.0\n",
       "2     78.0\n",
       "3     35.0\n",
       "4    105.0\n",
       "Name: Age*Class, dtype: float64"
      ]
     },
     "execution_count": 46,
     "metadata": {},
     "output_type": "execute_result"
    }
   ],
   "source": [
    "# Age*Class\n",
    "train_data['Age*Class']=train_data['Age']*train_data['Pclass']\n",
    "train_data['Age*Class'].head()"
   ]
  },
  {
   "cell_type": "code",
   "execution_count": 47,
   "id": "62a0e05c",
   "metadata": {
    "execution": {
     "iopub.execute_input": "2023-08-14T13:59:48.968144Z",
     "iopub.status.busy": "2023-08-14T13:59:48.967753Z",
     "iopub.status.idle": "2023-08-14T13:59:48.976771Z",
     "shell.execute_reply": "2023-08-14T13:59:48.975606Z"
    },
    "papermill": {
     "duration": 0.037326,
     "end_time": "2023-08-14T13:59:48.979034",
     "exception": false,
     "start_time": "2023-08-14T13:59:48.941708",
     "status": "completed"
    },
    "tags": []
   },
   "outputs": [
    {
     "data": {
      "text/plain": [
       "0     3.62500\n",
       "1    35.64165\n",
       "2     7.92500\n",
       "3    26.55000\n",
       "4     8.05000\n",
       "Name: Fare_Per_Person, dtype: float64"
      ]
     },
     "execution_count": 47,
     "metadata": {},
     "output_type": "execute_result"
    }
   ],
   "source": [
    "# Fare per person\n",
    "train_data['Fare_Per_Person']=train_data['Fare']/(train_data['Family_Size']+1)\n",
    "train_data['Fare_Per_Person'].head()"
   ]
  },
  {
   "cell_type": "code",
   "execution_count": 48,
   "id": "86522d4c",
   "metadata": {
    "execution": {
     "iopub.execute_input": "2023-08-14T13:59:49.032088Z",
     "iopub.status.busy": "2023-08-14T13:59:49.031674Z",
     "iopub.status.idle": "2023-08-14T13:59:49.051759Z",
     "shell.execute_reply": "2023-08-14T13:59:49.050561Z"
    },
    "papermill": {
     "duration": 0.048673,
     "end_time": "2023-08-14T13:59:49.053828",
     "exception": false,
     "start_time": "2023-08-14T13:59:49.005155",
     "status": "completed"
    },
    "tags": []
   },
   "outputs": [
    {
     "data": {
      "text/html": [
       "<div>\n",
       "<style scoped>\n",
       "    .dataframe tbody tr th:only-of-type {\n",
       "        vertical-align: middle;\n",
       "    }\n",
       "\n",
       "    .dataframe tbody tr th {\n",
       "        vertical-align: top;\n",
       "    }\n",
       "\n",
       "    .dataframe thead th {\n",
       "        text-align: right;\n",
       "    }\n",
       "</style>\n",
       "<table border=\"1\" class=\"dataframe\">\n",
       "  <thead>\n",
       "    <tr style=\"text-align: right;\">\n",
       "      <th></th>\n",
       "      <th>PassengerId</th>\n",
       "      <th>Survived</th>\n",
       "      <th>Pclass</th>\n",
       "      <th>Name</th>\n",
       "      <th>Sex</th>\n",
       "      <th>Age</th>\n",
       "      <th>SibSp</th>\n",
       "      <th>Parch</th>\n",
       "      <th>Ticket</th>\n",
       "      <th>Fare</th>\n",
       "      <th>Cabin</th>\n",
       "      <th>Embarked</th>\n",
       "      <th>Title</th>\n",
       "      <th>Family_Size</th>\n",
       "      <th>Age*Class</th>\n",
       "      <th>Fare_Per_Person</th>\n",
       "    </tr>\n",
       "  </thead>\n",
       "  <tbody>\n",
       "    <tr>\n",
       "      <th>0</th>\n",
       "      <td>1</td>\n",
       "      <td>0</td>\n",
       "      <td>3</td>\n",
       "      <td>Braund, Mr. Owen Harris</td>\n",
       "      <td>male</td>\n",
       "      <td>22.0</td>\n",
       "      <td>1</td>\n",
       "      <td>0</td>\n",
       "      <td>A/5 21171</td>\n",
       "      <td>7.2500</td>\n",
       "      <td>NaN</td>\n",
       "      <td>S</td>\n",
       "      <td>Mr</td>\n",
       "      <td>1</td>\n",
       "      <td>66.0</td>\n",
       "      <td>3.62500</td>\n",
       "    </tr>\n",
       "    <tr>\n",
       "      <th>1</th>\n",
       "      <td>2</td>\n",
       "      <td>1</td>\n",
       "      <td>1</td>\n",
       "      <td>Cumings, Mrs. John Bradley (Florence Briggs Th...</td>\n",
       "      <td>female</td>\n",
       "      <td>38.0</td>\n",
       "      <td>1</td>\n",
       "      <td>0</td>\n",
       "      <td>PC 17599</td>\n",
       "      <td>71.2833</td>\n",
       "      <td>C85</td>\n",
       "      <td>C</td>\n",
       "      <td>Mrs</td>\n",
       "      <td>1</td>\n",
       "      <td>38.0</td>\n",
       "      <td>35.64165</td>\n",
       "    </tr>\n",
       "    <tr>\n",
       "      <th>2</th>\n",
       "      <td>3</td>\n",
       "      <td>1</td>\n",
       "      <td>3</td>\n",
       "      <td>Heikkinen, Miss. Laina</td>\n",
       "      <td>female</td>\n",
       "      <td>26.0</td>\n",
       "      <td>0</td>\n",
       "      <td>0</td>\n",
       "      <td>STON/O2. 3101282</td>\n",
       "      <td>7.9250</td>\n",
       "      <td>NaN</td>\n",
       "      <td>S</td>\n",
       "      <td>Miss</td>\n",
       "      <td>0</td>\n",
       "      <td>78.0</td>\n",
       "      <td>7.92500</td>\n",
       "    </tr>\n",
       "    <tr>\n",
       "      <th>3</th>\n",
       "      <td>4</td>\n",
       "      <td>1</td>\n",
       "      <td>1</td>\n",
       "      <td>Futrelle, Mrs. Jacques Heath (Lily May Peel)</td>\n",
       "      <td>female</td>\n",
       "      <td>35.0</td>\n",
       "      <td>1</td>\n",
       "      <td>0</td>\n",
       "      <td>113803</td>\n",
       "      <td>53.1000</td>\n",
       "      <td>C123</td>\n",
       "      <td>S</td>\n",
       "      <td>Mrs</td>\n",
       "      <td>1</td>\n",
       "      <td>35.0</td>\n",
       "      <td>26.55000</td>\n",
       "    </tr>\n",
       "    <tr>\n",
       "      <th>4</th>\n",
       "      <td>5</td>\n",
       "      <td>0</td>\n",
       "      <td>3</td>\n",
       "      <td>Allen, Mr. William Henry</td>\n",
       "      <td>male</td>\n",
       "      <td>35.0</td>\n",
       "      <td>0</td>\n",
       "      <td>0</td>\n",
       "      <td>373450</td>\n",
       "      <td>8.0500</td>\n",
       "      <td>NaN</td>\n",
       "      <td>S</td>\n",
       "      <td>Mr</td>\n",
       "      <td>0</td>\n",
       "      <td>105.0</td>\n",
       "      <td>8.05000</td>\n",
       "    </tr>\n",
       "  </tbody>\n",
       "</table>\n",
       "</div>"
      ],
      "text/plain": [
       "   PassengerId  Survived  Pclass  \\\n",
       "0            1         0       3   \n",
       "1            2         1       1   \n",
       "2            3         1       3   \n",
       "3            4         1       1   \n",
       "4            5         0       3   \n",
       "\n",
       "                                                Name     Sex   Age  SibSp  \\\n",
       "0                            Braund, Mr. Owen Harris    male  22.0      1   \n",
       "1  Cumings, Mrs. John Bradley (Florence Briggs Th...  female  38.0      1   \n",
       "2                             Heikkinen, Miss. Laina  female  26.0      0   \n",
       "3       Futrelle, Mrs. Jacques Heath (Lily May Peel)  female  35.0      1   \n",
       "4                           Allen, Mr. William Henry    male  35.0      0   \n",
       "\n",
       "   Parch            Ticket     Fare Cabin Embarked Title  Family_Size  \\\n",
       "0      0         A/5 21171   7.2500   NaN        S    Mr            1   \n",
       "1      0          PC 17599  71.2833   C85        C   Mrs            1   \n",
       "2      0  STON/O2. 3101282   7.9250   NaN        S  Miss            0   \n",
       "3      0            113803  53.1000  C123        S   Mrs            1   \n",
       "4      0            373450   8.0500   NaN        S    Mr            0   \n",
       "\n",
       "   Age*Class  Fare_Per_Person  \n",
       "0       66.0          3.62500  \n",
       "1       38.0         35.64165  \n",
       "2       78.0          7.92500  \n",
       "3       35.0         26.55000  \n",
       "4      105.0          8.05000  "
      ]
     },
     "execution_count": 48,
     "metadata": {},
     "output_type": "execute_result"
    }
   ],
   "source": [
    "train_data.head()"
   ]
  },
  {
   "cell_type": "code",
   "execution_count": 49,
   "id": "1f60117a",
   "metadata": {
    "execution": {
     "iopub.execute_input": "2023-08-14T13:59:49.106821Z",
     "iopub.status.busy": "2023-08-14T13:59:49.105823Z",
     "iopub.status.idle": "2023-08-14T13:59:49.119600Z",
     "shell.execute_reply": "2023-08-14T13:59:49.118780Z"
    },
    "papermill": {
     "duration": 0.041835,
     "end_time": "2023-08-14T13:59:49.121525",
     "exception": false,
     "start_time": "2023-08-14T13:59:49.079690",
     "status": "completed"
    },
    "tags": []
   },
   "outputs": [
    {
     "name": "stdout",
     "output_type": "stream",
     "text": [
      "<class 'pandas.core.frame.DataFrame'>\n",
      "RangeIndex: 891 entries, 0 to 890\n",
      "Data columns (total 16 columns):\n",
      " #   Column           Non-Null Count  Dtype  \n",
      "---  ------           --------------  -----  \n",
      " 0   PassengerId      891 non-null    int64  \n",
      " 1   Survived         891 non-null    int64  \n",
      " 2   Pclass           891 non-null    int64  \n",
      " 3   Name             891 non-null    object \n",
      " 4   Sex              891 non-null    object \n",
      " 5   Age              891 non-null    float64\n",
      " 6   SibSp            891 non-null    int64  \n",
      " 7   Parch            891 non-null    int64  \n",
      " 8   Ticket           891 non-null    object \n",
      " 9   Fare             891 non-null    float64\n",
      " 10  Cabin            204 non-null    object \n",
      " 11  Embarked         889 non-null    object \n",
      " 12  Title            890 non-null    object \n",
      " 13  Family_Size      891 non-null    int64  \n",
      " 14  Age*Class        891 non-null    float64\n",
      " 15  Fare_Per_Person  891 non-null    float64\n",
      "dtypes: float64(4), int64(6), object(6)\n",
      "memory usage: 111.5+ KB\n"
     ]
    }
   ],
   "source": [
    "train_data.info()"
   ]
  },
  {
   "cell_type": "markdown",
   "id": "ebd1d4b3",
   "metadata": {
    "papermill": {
     "duration": 0.024886,
     "end_time": "2023-08-14T13:59:49.172137",
     "exception": false,
     "start_time": "2023-08-14T13:59:49.147251",
     "status": "completed"
    },
    "tags": []
   },
   "source": [
    "### Testing New Features"
   ]
  },
  {
   "cell_type": "code",
   "execution_count": 50,
   "id": "6fb8bfd0",
   "metadata": {
    "execution": {
     "iopub.execute_input": "2023-08-14T13:59:49.238823Z",
     "iopub.status.busy": "2023-08-14T13:59:49.238125Z",
     "iopub.status.idle": "2023-08-14T13:59:49.265378Z",
     "shell.execute_reply": "2023-08-14T13:59:49.263911Z"
    },
    "papermill": {
     "duration": 0.064159,
     "end_time": "2023-08-14T13:59:49.267674",
     "exception": false,
     "start_time": "2023-08-14T13:59:49.203515",
     "status": "completed"
    },
    "tags": []
   },
   "outputs": [
    {
     "data": {
      "text/html": [
       "<div>\n",
       "<style scoped>\n",
       "    .dataframe tbody tr th:only-of-type {\n",
       "        vertical-align: middle;\n",
       "    }\n",
       "\n",
       "    .dataframe tbody tr th {\n",
       "        vertical-align: top;\n",
       "    }\n",
       "\n",
       "    .dataframe thead th {\n",
       "        text-align: right;\n",
       "    }\n",
       "</style>\n",
       "<table border=\"1\" class=\"dataframe\">\n",
       "  <thead>\n",
       "    <tr style=\"text-align: right;\">\n",
       "      <th></th>\n",
       "      <th>Pclass</th>\n",
       "      <th>SibSp</th>\n",
       "      <th>Parch</th>\n",
       "      <th>Sex_female</th>\n",
       "      <th>Sex_male</th>\n",
       "      <th>Title_Master</th>\n",
       "      <th>Title_Miss</th>\n",
       "      <th>Title_Mr</th>\n",
       "      <th>Title_Mrs</th>\n",
       "      <th>Embarked_C</th>\n",
       "      <th>Embarked_Q</th>\n",
       "      <th>Embarked_S</th>\n",
       "      <th>Age</th>\n",
       "      <th>Family_Size</th>\n",
       "      <th>Age*Class</th>\n",
       "      <th>Fare_Per_Person</th>\n",
       "    </tr>\n",
       "  </thead>\n",
       "  <tbody>\n",
       "    <tr>\n",
       "      <th>0</th>\n",
       "      <td>3</td>\n",
       "      <td>1</td>\n",
       "      <td>0</td>\n",
       "      <td>0</td>\n",
       "      <td>1</td>\n",
       "      <td>0</td>\n",
       "      <td>0</td>\n",
       "      <td>1</td>\n",
       "      <td>0</td>\n",
       "      <td>0</td>\n",
       "      <td>0</td>\n",
       "      <td>1</td>\n",
       "      <td>22.0</td>\n",
       "      <td>1</td>\n",
       "      <td>66.0</td>\n",
       "      <td>3.62500</td>\n",
       "    </tr>\n",
       "    <tr>\n",
       "      <th>1</th>\n",
       "      <td>1</td>\n",
       "      <td>1</td>\n",
       "      <td>0</td>\n",
       "      <td>1</td>\n",
       "      <td>0</td>\n",
       "      <td>0</td>\n",
       "      <td>0</td>\n",
       "      <td>0</td>\n",
       "      <td>1</td>\n",
       "      <td>1</td>\n",
       "      <td>0</td>\n",
       "      <td>0</td>\n",
       "      <td>38.0</td>\n",
       "      <td>1</td>\n",
       "      <td>38.0</td>\n",
       "      <td>35.64165</td>\n",
       "    </tr>\n",
       "    <tr>\n",
       "      <th>2</th>\n",
       "      <td>3</td>\n",
       "      <td>0</td>\n",
       "      <td>0</td>\n",
       "      <td>1</td>\n",
       "      <td>0</td>\n",
       "      <td>0</td>\n",
       "      <td>1</td>\n",
       "      <td>0</td>\n",
       "      <td>0</td>\n",
       "      <td>0</td>\n",
       "      <td>0</td>\n",
       "      <td>1</td>\n",
       "      <td>26.0</td>\n",
       "      <td>0</td>\n",
       "      <td>78.0</td>\n",
       "      <td>7.92500</td>\n",
       "    </tr>\n",
       "    <tr>\n",
       "      <th>3</th>\n",
       "      <td>1</td>\n",
       "      <td>1</td>\n",
       "      <td>0</td>\n",
       "      <td>1</td>\n",
       "      <td>0</td>\n",
       "      <td>0</td>\n",
       "      <td>0</td>\n",
       "      <td>0</td>\n",
       "      <td>1</td>\n",
       "      <td>0</td>\n",
       "      <td>0</td>\n",
       "      <td>1</td>\n",
       "      <td>35.0</td>\n",
       "      <td>1</td>\n",
       "      <td>35.0</td>\n",
       "      <td>26.55000</td>\n",
       "    </tr>\n",
       "    <tr>\n",
       "      <th>4</th>\n",
       "      <td>3</td>\n",
       "      <td>0</td>\n",
       "      <td>0</td>\n",
       "      <td>0</td>\n",
       "      <td>1</td>\n",
       "      <td>0</td>\n",
       "      <td>0</td>\n",
       "      <td>1</td>\n",
       "      <td>0</td>\n",
       "      <td>0</td>\n",
       "      <td>0</td>\n",
       "      <td>1</td>\n",
       "      <td>35.0</td>\n",
       "      <td>0</td>\n",
       "      <td>105.0</td>\n",
       "      <td>8.05000</td>\n",
       "    </tr>\n",
       "  </tbody>\n",
       "</table>\n",
       "</div>"
      ],
      "text/plain": [
       "   Pclass  SibSp  Parch  Sex_female  Sex_male  Title_Master  Title_Miss  \\\n",
       "0       3      1      0           0         1             0           0   \n",
       "1       1      1      0           1         0             0           0   \n",
       "2       3      0      0           1         0             0           1   \n",
       "3       1      1      0           1         0             0           0   \n",
       "4       3      0      0           0         1             0           0   \n",
       "\n",
       "   Title_Mr  Title_Mrs  Embarked_C  Embarked_Q  Embarked_S   Age  Family_Size  \\\n",
       "0         1          0           0           0           1  22.0            1   \n",
       "1         0          1           1           0           0  38.0            1   \n",
       "2         0          0           0           0           1  26.0            0   \n",
       "3         0          1           0           0           1  35.0            1   \n",
       "4         1          0           0           0           1  35.0            0   \n",
       "\n",
       "   Age*Class  Fare_Per_Person  \n",
       "0       66.0          3.62500  \n",
       "1       38.0         35.64165  \n",
       "2       78.0          7.92500  \n",
       "3       35.0         26.55000  \n",
       "4      105.0          8.05000  "
      ]
     },
     "execution_count": 50,
     "metadata": {},
     "output_type": "execute_result"
    }
   ],
   "source": [
    "features = [\"Pclass\", \"Sex\", \"SibSp\", \"Parch\", \"Title\", \"Embarked\"]\n",
    "X = pd.get_dummies(train_data[features])\n",
    "X.head()\n",
    "\n",
    "# Add other numeric data\n",
    "X[\"Age\"] = train_data[\"Age\"]\n",
    "X[\"Family_Size\"] = train_data[\"Family_Size\"]\n",
    "X[\"Age*Class\"] = train_data[\"Age*Class\"]\n",
    "X[\"Fare_Per_Person\"] = train_data[\"Fare_Per_Person\"]\n",
    "X.head()                               "
   ]
  },
  {
   "cell_type": "code",
   "execution_count": 51,
   "id": "37687cf4",
   "metadata": {
    "execution": {
     "iopub.execute_input": "2023-08-14T13:59:49.320069Z",
     "iopub.status.busy": "2023-08-14T13:59:49.319757Z",
     "iopub.status.idle": "2023-08-14T13:59:49.329442Z",
     "shell.execute_reply": "2023-08-14T13:59:49.328418Z"
    },
    "papermill": {
     "duration": 0.037968,
     "end_time": "2023-08-14T13:59:49.331286",
     "exception": false,
     "start_time": "2023-08-14T13:59:49.293318",
     "status": "completed"
    },
    "tags": []
   },
   "outputs": [
    {
     "data": {
      "text/plain": [
       "Pclass             0\n",
       "SibSp              0\n",
       "Parch              0\n",
       "Sex_female         0\n",
       "Sex_male           0\n",
       "Title_Master       0\n",
       "Title_Miss         0\n",
       "Title_Mr           0\n",
       "Title_Mrs          0\n",
       "Embarked_C         0\n",
       "Embarked_Q         0\n",
       "Embarked_S         0\n",
       "Age                0\n",
       "Family_Size        0\n",
       "Age*Class          0\n",
       "Fare_Per_Person    0\n",
       "dtype: int64"
      ]
     },
     "execution_count": 51,
     "metadata": {},
     "output_type": "execute_result"
    }
   ],
   "source": [
    "X.isna().sum()"
   ]
  },
  {
   "cell_type": "markdown",
   "id": "108e703c",
   "metadata": {
    "papermill": {
     "duration": 0.025868,
     "end_time": "2023-08-14T13:59:49.382560",
     "exception": false,
     "start_time": "2023-08-14T13:59:49.356692",
     "status": "completed"
    },
    "tags": []
   },
   "source": [
    "Now our data is ready, what is Next?\n",
    "Split our new data into X_train, X_valid, y_train, y_valid"
   ]
  },
  {
   "cell_type": "code",
   "execution_count": 52,
   "id": "00a49491",
   "metadata": {
    "execution": {
     "iopub.execute_input": "2023-08-14T13:59:49.440536Z",
     "iopub.status.busy": "2023-08-14T13:59:49.439263Z",
     "iopub.status.idle": "2023-08-14T13:59:49.448106Z",
     "shell.execute_reply": "2023-08-14T13:59:49.447423Z"
    },
    "papermill": {
     "duration": 0.041631,
     "end_time": "2023-08-14T13:59:49.449796",
     "exception": false,
     "start_time": "2023-08-14T13:59:49.408165",
     "status": "completed"
    },
    "tags": []
   },
   "outputs": [
    {
     "data": {
      "text/plain": [
       "((712, 16), (179, 16))"
      ]
     },
     "execution_count": 52,
     "metadata": {},
     "output_type": "execute_result"
    }
   ],
   "source": [
    "# Split data into X_train, X_valid\n",
    "X_train, X_valid, y_train, y_valid = train_test_split(X, y, test_size=0.2,)\n",
    "X_train.shape, X_valid.shape"
   ]
  },
  {
   "cell_type": "code",
   "execution_count": 53,
   "id": "705b5eaf",
   "metadata": {
    "execution": {
     "iopub.execute_input": "2023-08-14T13:59:49.501603Z",
     "iopub.status.busy": "2023-08-14T13:59:49.500890Z",
     "iopub.status.idle": "2023-08-14T13:59:49.889075Z",
     "shell.execute_reply": "2023-08-14T13:59:49.887683Z"
    },
    "papermill": {
     "duration": 0.416678,
     "end_time": "2023-08-14T13:59:49.891803",
     "exception": false,
     "start_time": "2023-08-14T13:59:49.475125",
     "status": "completed"
    },
    "tags": []
   },
   "outputs": [
    {
     "name": "stderr",
     "output_type": "stream",
     "text": [
      "/opt/conda/lib/python3.10/site-packages/sklearn/linear_model/_logistic.py:458: ConvergenceWarning: lbfgs failed to converge (status=1):\n",
      "STOP: TOTAL NO. of ITERATIONS REACHED LIMIT.\n",
      "\n",
      "Increase the number of iterations (max_iter) or scale the data as shown in:\n",
      "    https://scikit-learn.org/stable/modules/preprocessing.html\n",
      "Please also refer to the documentation for alternative solver options:\n",
      "    https://scikit-learn.org/stable/modules/linear_model.html#logistic-regression\n",
      "  n_iter_i = _check_optimize_result(\n"
     ]
    },
    {
     "data": {
      "text/plain": [
       "{'Logistic Regression': 0.8715083798882681,\n",
       " 'KNN': 0.7206703910614525,\n",
       " 'Random Forest': 0.7877094972067039}"
      ]
     },
     "execution_count": 53,
     "metadata": {},
     "output_type": "execute_result"
    }
   ],
   "source": [
    "# Let train our model on our new data...\n",
    "model_scores = fit_and_score(models=models,\n",
    "                             X_train=X_train,\n",
    "                             X_valid=X_valid,\n",
    "                             y_train=y_train,\n",
    "                             y_valid=y_valid)\n",
    "model_scores"
   ]
  },
  {
   "cell_type": "markdown",
   "id": "b7c26540",
   "metadata": {
    "papermill": {
     "duration": 0.025618,
     "end_time": "2023-08-14T13:59:49.943878",
     "exception": false,
     "start_time": "2023-08-14T13:59:49.918260",
     "status": "completed"
    },
    "tags": []
   },
   "source": [
    "mmm... interesting..  model seem to improve with `logistic Regression` by more than `9%` more: let compare the different performers in the model. Since our model really improve with logistic regression i can now best for best parameters by fine turning my model. to see it, what's happen"
   ]
  },
  {
   "cell_type": "code",
   "execution_count": 54,
   "id": "34d0d2c6",
   "metadata": {
    "execution": {
     "iopub.execute_input": "2023-08-14T13:59:49.995980Z",
     "iopub.status.busy": "2023-08-14T13:59:49.995665Z",
     "iopub.status.idle": "2023-08-14T13:59:50.181783Z",
     "shell.execute_reply": "2023-08-14T13:59:50.180853Z"
    },
    "papermill": {
     "duration": 0.214868,
     "end_time": "2023-08-14T13:59:50.184145",
     "exception": false,
     "start_time": "2023-08-14T13:59:49.969277",
     "status": "completed"
    },
    "tags": []
   },
   "outputs": [
    {
     "data": {
      "image/png": "[encoded data removed]",
      "text/plain": [
       "<Figure size 640x480 with 1 Axes>"
      ]
     },
     "metadata": {},
     "output_type": "display_data"
    }
   ],
   "source": [
    "# Compare the difference model\n",
    "model_comparison = pd.DataFrame(model_scores, index=[\"accuracy\"])\n",
    "model_comparison.T.plot.bar();"
   ]
  },
  {
   "cell_type": "markdown",
   "id": "03e67f0b",
   "metadata": {
    "papermill": {
     "duration": 0.027075,
     "end_time": "2023-08-14T13:59:50.238552",
     "exception": false,
     "start_time": "2023-08-14T13:59:50.211477",
     "status": "completed"
    },
    "tags": []
   },
   "source": [
    "### Hyperparameter tunning with RandomdimedSearchCV and GridSearchCV"
   ]
  },
  {
   "cell_type": "code",
   "execution_count": 55,
   "id": "2a8d3f1b",
   "metadata": {
    "execution": {
     "iopub.execute_input": "2023-08-14T13:59:50.294586Z",
     "iopub.status.busy": "2023-08-14T13:59:50.294216Z",
     "iopub.status.idle": "2023-08-14T13:59:50.300389Z",
     "shell.execute_reply": "2023-08-14T13:59:50.299431Z"
    },
    "papermill": {
     "duration": 0.036295,
     "end_time": "2023-08-14T13:59:50.302504",
     "exception": false,
     "start_time": "2023-08-14T13:59:50.266209",
     "status": "completed"
    },
    "tags": []
   },
   "outputs": [],
   "source": [
    "# Create a hyperparameter grid for LogisticRegression\n",
    "log_reg_grid = {\"C\": np.logspace(-4, 4, 20),\n",
    "                \"solver\": [\"liblinear\"]}\n",
    "\n",
    "# Create a hyperparameter grid for RandomForestClassifier\n",
    "rf_grid = {\"n_estimators\": np.arange(10, 1000, 50),\n",
    "           \"max_depth\": [None, 3, 5, 10],\n",
    "           \"min_samples_split\": np.arange(2, 20, 2),\n",
    "           \"min_samples_leaf\": np.arange(1, 20, 2)}"
   ]
  },
  {
   "cell_type": "markdown",
   "id": "e5114b9e",
   "metadata": {
    "papermill": {
     "duration": 0.027028,
     "end_time": "2023-08-14T13:59:50.357215",
     "exception": false,
     "start_time": "2023-08-14T13:59:50.330187",
     "status": "completed"
    },
    "tags": []
   },
   "source": [
    "Now we've got hyperparameter grids setup for each of our models, let's tune them using `RandomizedSearchCV`"
   ]
  },
  {
   "cell_type": "code",
   "execution_count": 56,
   "id": "15acd504",
   "metadata": {
    "execution": {
     "iopub.execute_input": "2023-08-14T13:59:50.414745Z",
     "iopub.status.busy": "2023-08-14T13:59:50.414394Z",
     "iopub.status.idle": "2023-08-14T13:59:51.174768Z",
     "shell.execute_reply": "2023-08-14T13:59:51.173465Z"
    },
    "papermill": {
     "duration": 0.793192,
     "end_time": "2023-08-14T13:59:51.176959",
     "exception": false,
     "start_time": "2023-08-14T13:59:50.383767",
     "status": "completed"
    },
    "tags": []
   },
   "outputs": [
    {
     "name": "stdout",
     "output_type": "stream",
     "text": [
      "Fitting 5 folds for each of 20 candidates, totalling 100 fits\n"
     ]
    },
    {
     "data": {
      "text/html": [
       "<style>#sk-container-id-1 {color: black;background-color: white;}#sk-container-id-1 pre{padding: 0;}#sk-container-id-1 div.sk-toggleable {background-color: white;}#sk-container-id-1 label.sk-toggleable__label {cursor: pointer;display: block;width: 100%;margin-bottom: 0;padding: 0.3em;box-sizing: border-box;text-align: center;}#sk-container-id-1 label.sk-toggleable__label-arrow:before {content: \"▸\";float: left;margin-right: 0.25em;color: #696969;}#sk-container-id-1 label.sk-toggleable__label-arrow:hover:before {color: black;}#sk-container-id-1 div.sk-estimator:hover label.sk-toggleable__label-arrow:before {color: black;}#sk-container-id-1 div.sk-toggleable__content {max-height: 0;max-width: 0;overflow: hidden;text-align: left;background-color: #f0f8ff;}#sk-container-id-1 div.sk-toggleable__content pre {margin: 0.2em;color: black;border-radius: 0.25em;background-color: #f0f8ff;}#sk-container-id-1 input.sk-toggleable__control:checked~div.sk-toggleable__content {max-height: 200px;max-width: 100%;overflow: auto;}#sk-container-id-1 input.sk-toggleable__control:checked~label.sk-toggleable__label-arrow:before {content: \"▾\";}#sk-container-id-1 div.sk-estimator input.sk-toggleable__control:checked~label.sk-toggleable__label {background-color: #d4ebff;}#sk-container-id-1 div.sk-label input.sk-toggleable__control:checked~label.sk-toggleable__label {background-color: #d4ebff;}#sk-container-id-1 input.sk-hidden--visually {border: 0;clip: rect(1px 1px 1px 1px);clip: rect(1px, 1px, 1px, 1px);height: 1px;margin: -1px;overflow: hidden;padding: 0;position: absolute;width: 1px;}#sk-container-id-1 div.sk-estimator {font-family: monospace;background-color: #f0f8ff;border: 1px dotted black;border-radius: 0.25em;box-sizing: border-box;margin-bottom: 0.5em;}#sk-container-id-1 div.sk-estimator:hover {background-color: #d4ebff;}#sk-container-id-1 div.sk-parallel-item::after {content: \"\";width: 100%;border-bottom: 1px solid gray;flex-grow: 1;}#sk-container-id-1 div.sk-label:hover label.sk-toggleable__label {background-color: #d4ebff;}#sk-container-id-1 div.sk-serial::before {content: \"\";position: absolute;border-left: 1px solid gray;box-sizing: border-box;top: 0;bottom: 0;left: 50%;z-index: 0;}#sk-container-id-1 div.sk-serial {display: flex;flex-direction: column;align-items: center;background-color: white;padding-right: 0.2em;padding-left: 0.2em;position: relative;}#sk-container-id-1 div.sk-item {position: relative;z-index: 1;}#sk-container-id-1 div.sk-parallel {display: flex;align-items: stretch;justify-content: center;background-color: white;position: relative;}#sk-container-id-1 div.sk-item::before, #sk-container-id-1 div.sk-parallel-item::before {content: \"\";position: absolute;border-left: 1px solid gray;box-sizing: border-box;top: 0;bottom: 0;left: 50%;z-index: -1;}#sk-container-id-1 div.sk-parallel-item {display: flex;flex-direction: column;z-index: 1;position: relative;background-color: white;}#sk-container-id-1 div.sk-parallel-item:first-child::after {align-self: flex-end;width: 50%;}#sk-container-id-1 div.sk-parallel-item:last-child::after {align-self: flex-start;width: 50%;}#sk-container-id-1 div.sk-parallel-item:only-child::after {width: 0;}#sk-container-id-1 div.sk-dashed-wrapped {border: 1px dashed gray;margin: 0 0.4em 0.5em 0.4em;box-sizing: border-box;padding-bottom: 0.4em;background-color: white;}#sk-container-id-1 div.sk-label label {font-family: monospace;font-weight: bold;display: inline-block;line-height: 1.2em;}#sk-container-id-1 div.sk-label-container {text-align: center;}#sk-container-id-1 div.sk-container {/* jupyter's `normalize.less` sets `[hidden] { display: none; }` but bootstrap.min.css set `[hidden] { display: none !important; }` so we also need the `!important` here to be able to override the default hidden behavior on the sphinx rendered scikit-learn.org. See: https://github.com/scikit-learn/scikit-learn/issues/21755 */display: inline-block !important;position: relative;}#sk-container-id-1 div.sk-text-repr-fallback {display: none;}</style><div id=\"sk-container-id-1\" class=\"sk-top-container\"><div class=\"sk-text-repr-fallback\"><pre>RandomizedSearchCV(cv=5, estimator=LogisticRegression(), n_iter=20,\n",
       "                   param_distributions={&#x27;C&#x27;: array([1.00000000e-04, 2.63665090e-04, 6.95192796e-04, 1.83298071e-03,\n",
       "       4.83293024e-03, 1.27427499e-02, 3.35981829e-02, 8.85866790e-02,\n",
       "       2.33572147e-01, 6.15848211e-01, 1.62377674e+00, 4.28133240e+00,\n",
       "       1.12883789e+01, 2.97635144e+01, 7.84759970e+01, 2.06913808e+02,\n",
       "       5.45559478e+02, 1.43844989e+03, 3.79269019e+03, 1.00000000e+04]),\n",
       "                                        &#x27;solver&#x27;: [&#x27;liblinear&#x27;]},\n",
       "                   verbose=True)</pre><b>In a Jupyter environment, please rerun this cell to show the HTML representation or trust the notebook. <br />On GitHub, the HTML representation is unable to render, please try loading this page with nbviewer.org.</b></div><div class=\"sk-container\" hidden><div class=\"sk-item sk-dashed-wrapped\"><div class=\"sk-label-container\"><div class=\"sk-label sk-toggleable\"><input class=\"sk-toggleable__control sk-hidden--visually\" id=\"sk-estimator-id-1\" type=\"checkbox\" ><label for=\"sk-estimator-id-1\" class=\"sk-toggleable__label sk-toggleable__label-arrow\">RandomizedSearchCV</label><div class=\"sk-toggleable__content\"><pre>RandomizedSearchCV(cv=5, estimator=LogisticRegression(), n_iter=20,\n",
       "                   param_distributions={&#x27;C&#x27;: array([1.00000000e-04, 2.63665090e-04, 6.95192796e-04, 1.83298071e-03,\n",
       "       4.83293024e-03, 1.27427499e-02, 3.35981829e-02, 8.85866790e-02,\n",
       "       2.33572147e-01, 6.15848211e-01, 1.62377674e+00, 4.28133240e+00,\n",
       "       1.12883789e+01, 2.97635144e+01, 7.84759970e+01, 2.06913808e+02,\n",
       "       5.45559478e+02, 1.43844989e+03, 3.79269019e+03, 1.00000000e+04]),\n",
       "                                        &#x27;solver&#x27;: [&#x27;liblinear&#x27;]},\n",
       "                   verbose=True)</pre></div></div></div><div class=\"sk-parallel\"><div class=\"sk-parallel-item\"><div class=\"sk-item\"><div class=\"sk-label-container\"><div class=\"sk-label sk-toggleable\"><input class=\"sk-toggleable__control sk-hidden--visually\" id=\"sk-estimator-id-2\" type=\"checkbox\" ><label for=\"sk-estimator-id-2\" class=\"sk-toggleable__label sk-toggleable__label-arrow\">estimator: LogisticRegression</label><div class=\"sk-toggleable__content\"><pre>LogisticRegression()</pre></div></div></div><div class=\"sk-serial\"><div class=\"sk-item\"><div class=\"sk-estimator sk-toggleable\"><input class=\"sk-toggleable__control sk-hidden--visually\" id=\"sk-estimator-id-3\" type=\"checkbox\" ><label for=\"sk-estimator-id-3\" class=\"sk-toggleable__label sk-toggleable__label-arrow\">LogisticRegression</label><div class=\"sk-toggleable__content\"><pre>LogisticRegression()</pre></div></div></div></div></div></div></div></div></div></div>"
      ],
      "text/plain": [
       "RandomizedSearchCV(cv=5, estimator=LogisticRegression(), n_iter=20,\n",
       "                   param_distributions={'C': array([1.00000000e-04, 2.63665090e-04, 6.95192796e-04, 1.83298071e-03,\n",
       "       4.83293024e-03, 1.27427499e-02, 3.35981829e-02, 8.85866790e-02,\n",
       "       2.33572147e-01, 6.15848211e-01, 1.62377674e+00, 4.28133240e+00,\n",
       "       1.12883789e+01, 2.97635144e+01, 7.84759970e+01, 2.06913808e+02,\n",
       "       5.45559478e+02, 1.43844989e+03, 3.79269019e+03, 1.00000000e+04]),\n",
       "                                        'solver': ['liblinear']},\n",
       "                   verbose=True)"
      ]
     },
     "execution_count": 56,
     "metadata": {},
     "output_type": "execute_result"
    }
   ],
   "source": [
    "# Tune Logistic Regression\n",
    "\n",
    "# Setup random hyperparameter search for LogisticRegression\n",
    "rs_log_reg = RandomizedSearchCV(LogisticRegression(),\n",
    "                                param_distributions=log_reg_grid,\n",
    "                                cv=5,\n",
    "                                n_iter=20,\n",
    "                                verbose=True)\n",
    "\n",
    "# Fit random hyperparameter search model\n",
    "rs_log_reg.fit(X_train, y_train)"
   ]
  },
  {
   "cell_type": "code",
   "execution_count": 57,
   "id": "f51d7370",
   "metadata": {
    "execution": {
     "iopub.execute_input": "2023-08-14T13:59:51.234041Z",
     "iopub.status.busy": "2023-08-14T13:59:51.233701Z",
     "iopub.status.idle": "2023-08-14T13:59:51.240379Z",
     "shell.execute_reply": "2023-08-14T13:59:51.239066Z"
    },
    "papermill": {
     "duration": 0.037912,
     "end_time": "2023-08-14T13:59:51.242875",
     "exception": false,
     "start_time": "2023-08-14T13:59:51.204963",
     "status": "completed"
    },
    "tags": []
   },
   "outputs": [
    {
     "data": {
      "text/plain": [
       "{'solver': 'liblinear', 'C': 4.281332398719396}"
      ]
     },
     "execution_count": 57,
     "metadata": {},
     "output_type": "execute_result"
    }
   ],
   "source": [
    "rs_log_reg.best_params_"
   ]
  },
  {
   "cell_type": "code",
   "execution_count": 58,
   "id": "ccf70087",
   "metadata": {
    "execution": {
     "iopub.execute_input": "2023-08-14T13:59:51.298711Z",
     "iopub.status.busy": "2023-08-14T13:59:51.298302Z",
     "iopub.status.idle": "2023-08-14T13:59:51.307214Z",
     "shell.execute_reply": "2023-08-14T13:59:51.306219Z"
    },
    "papermill": {
     "duration": 0.038854,
     "end_time": "2023-08-14T13:59:51.308812",
     "exception": false,
     "start_time": "2023-08-14T13:59:51.269958",
     "status": "completed"
    },
    "tags": []
   },
   "outputs": [
    {
     "data": {
      "text/plain": [
       "0.8603351955307262"
      ]
     },
     "execution_count": 58,
     "metadata": {},
     "output_type": "execute_result"
    }
   ],
   "source": [
    "rs_log_reg.score(X_valid, y_valid)"
   ]
  },
  {
   "cell_type": "markdown",
   "id": "9bcc0eb1",
   "metadata": {
    "papermill": {
     "duration": 0.025881,
     "end_time": "2023-08-14T13:59:51.361331",
     "exception": false,
     "start_time": "2023-08-14T13:59:51.335450",
     "status": "completed"
    },
    "tags": []
   },
   "source": [
    "let's do the same for RandomForestClassifier()..."
   ]
  },
  {
   "cell_type": "code",
   "execution_count": 59,
   "id": "4fec0d82",
   "metadata": {
    "execution": {
     "iopub.execute_input": "2023-08-14T13:59:51.416484Z",
     "iopub.status.busy": "2023-08-14T13:59:51.416114Z",
     "iopub.status.idle": "2023-08-14T14:01:26.041573Z",
     "shell.execute_reply": "2023-08-14T14:01:26.040194Z"
    },
    "papermill": {
     "duration": 94.682062,
     "end_time": "2023-08-14T14:01:26.069837",
     "exception": false,
     "start_time": "2023-08-14T13:59:51.387775",
     "status": "completed"
    },
    "tags": []
   },
   "outputs": [
    {
     "name": "stdout",
     "output_type": "stream",
     "text": [
      "Fitting 5 folds for each of 20 candidates, totalling 100 fits\n"
     ]
    },
    {
     "data": {
      "text/html": [
       "<style>#sk-container-id-2 {color: black;background-color: white;}#sk-container-id-2 pre{padding: 0;}#sk-container-id-2 div.sk-toggleable {background-color: white;}#sk-container-id-2 label.sk-toggleable__label {cursor: pointer;display: block;width: 100%;margin-bottom: 0;padding: 0.3em;box-sizing: border-box;text-align: center;}#sk-container-id-2 label.sk-toggleable__label-arrow:before {content: \"▸\";float: left;margin-right: 0.25em;color: #696969;}#sk-container-id-2 label.sk-toggleable__label-arrow:hover:before {color: black;}#sk-container-id-2 div.sk-estimator:hover label.sk-toggleable__label-arrow:before {color: black;}#sk-container-id-2 div.sk-toggleable__content {max-height: 0;max-width: 0;overflow: hidden;text-align: left;background-color: #f0f8ff;}#sk-container-id-2 div.sk-toggleable__content pre {margin: 0.2em;color: black;border-radius: 0.25em;background-color: #f0f8ff;}#sk-container-id-2 input.sk-toggleable__control:checked~div.sk-toggleable__content {max-height: 200px;max-width: 100%;overflow: auto;}#sk-container-id-2 input.sk-toggleable__control:checked~label.sk-toggleable__label-arrow:before {content: \"▾\";}#sk-container-id-2 div.sk-estimator input.sk-toggleable__control:checked~label.sk-toggleable__label {background-color: #d4ebff;}#sk-container-id-2 div.sk-label input.sk-toggleable__control:checked~label.sk-toggleable__label {background-color: #d4ebff;}#sk-container-id-2 input.sk-hidden--visually {border: 0;clip: rect(1px 1px 1px 1px);clip: rect(1px, 1px, 1px, 1px);height: 1px;margin: -1px;overflow: hidden;padding: 0;position: absolute;width: 1px;}#sk-container-id-2 div.sk-estimator {font-family: monospace;background-color: #f0f8ff;border: 1px dotted black;border-radius: 0.25em;box-sizing: border-box;margin-bottom: 0.5em;}#sk-container-id-2 div.sk-estimator:hover {background-color: #d4ebff;}#sk-container-id-2 div.sk-parallel-item::after {content: \"\";width: 100%;border-bottom: 1px solid gray;flex-grow: 1;}#sk-container-id-2 div.sk-label:hover label.sk-toggleable__label {background-color: #d4ebff;}#sk-container-id-2 div.sk-serial::before {content: \"\";position: absolute;border-left: 1px solid gray;box-sizing: border-box;top: 0;bottom: 0;left: 50%;z-index: 0;}#sk-container-id-2 div.sk-serial {display: flex;flex-direction: column;align-items: center;background-color: white;padding-right: 0.2em;padding-left: 0.2em;position: relative;}#sk-container-id-2 div.sk-item {position: relative;z-index: 1;}#sk-container-id-2 div.sk-parallel {display: flex;align-items: stretch;justify-content: center;background-color: white;position: relative;}#sk-container-id-2 div.sk-item::before, #sk-container-id-2 div.sk-parallel-item::before {content: \"\";position: absolute;border-left: 1px solid gray;box-sizing: border-box;top: 0;bottom: 0;left: 50%;z-index: -1;}#sk-container-id-2 div.sk-parallel-item {display: flex;flex-direction: column;z-index: 1;position: relative;background-color: white;}#sk-container-id-2 div.sk-parallel-item:first-child::after {align-self: flex-end;width: 50%;}#sk-container-id-2 div.sk-parallel-item:last-child::after {align-self: flex-start;width: 50%;}#sk-container-id-2 div.sk-parallel-item:only-child::after {width: 0;}#sk-container-id-2 div.sk-dashed-wrapped {border: 1px dashed gray;margin: 0 0.4em 0.5em 0.4em;box-sizing: border-box;padding-bottom: 0.4em;background-color: white;}#sk-container-id-2 div.sk-label label {font-family: monospace;font-weight: bold;display: inline-block;line-height: 1.2em;}#sk-container-id-2 div.sk-label-container {text-align: center;}#sk-container-id-2 div.sk-container {/* jupyter's `normalize.less` sets `[hidden] { display: none; }` but bootstrap.min.css set `[hidden] { display: none !important; }` so we also need the `!important` here to be able to override the default hidden behavior on the sphinx rendered scikit-learn.org. See: https://github.com/scikit-learn/scikit-learn/issues/21755 */display: inline-block !important;position: relative;}#sk-container-id-2 div.sk-text-repr-fallback {display: none;}</style><div id=\"sk-container-id-2\" class=\"sk-top-container\"><div class=\"sk-text-repr-fallback\"><pre>RandomizedSearchCV(cv=5, estimator=RandomForestClassifier(), n_iter=20,\n",
       "                   param_distributions={&#x27;max_depth&#x27;: [None, 3, 5, 10],\n",
       "                                        &#x27;min_samples_leaf&#x27;: array([ 1,  3,  5,  7,  9, 11, 13, 15, 17, 19]),\n",
       "                                        &#x27;min_samples_split&#x27;: array([ 2,  4,  6,  8, 10, 12, 14, 16, 18]),\n",
       "                                        &#x27;n_estimators&#x27;: array([ 10,  60, 110, 160, 210, 260, 310, 360, 410, 460, 510, 560, 610,\n",
       "       660, 710, 760, 810, 860, 910, 960])},\n",
       "                   verbose=True)</pre><b>In a Jupyter environment, please rerun this cell to show the HTML representation or trust the notebook. <br />On GitHub, the HTML representation is unable to render, please try loading this page with nbviewer.org.</b></div><div class=\"sk-container\" hidden><div class=\"sk-item sk-dashed-wrapped\"><div class=\"sk-label-container\"><div class=\"sk-label sk-toggleable\"><input class=\"sk-toggleable__control sk-hidden--visually\" id=\"sk-estimator-id-4\" type=\"checkbox\" ><label for=\"sk-estimator-id-4\" class=\"sk-toggleable__label sk-toggleable__label-arrow\">RandomizedSearchCV</label><div class=\"sk-toggleable__content\"><pre>RandomizedSearchCV(cv=5, estimator=RandomForestClassifier(), n_iter=20,\n",
       "                   param_distributions={&#x27;max_depth&#x27;: [None, 3, 5, 10],\n",
       "                                        &#x27;min_samples_leaf&#x27;: array([ 1,  3,  5,  7,  9, 11, 13, 15, 17, 19]),\n",
       "                                        &#x27;min_samples_split&#x27;: array([ 2,  4,  6,  8, 10, 12, 14, 16, 18]),\n",
       "                                        &#x27;n_estimators&#x27;: array([ 10,  60, 110, 160, 210, 260, 310, 360, 410, 460, 510, 560, 610,\n",
       "       660, 710, 760, 810, 860, 910, 960])},\n",
       "                   verbose=True)</pre></div></div></div><div class=\"sk-parallel\"><div class=\"sk-parallel-item\"><div class=\"sk-item\"><div class=\"sk-label-container\"><div class=\"sk-label sk-toggleable\"><input class=\"sk-toggleable__control sk-hidden--visually\" id=\"sk-estimator-id-5\" type=\"checkbox\" ><label for=\"sk-estimator-id-5\" class=\"sk-toggleable__label sk-toggleable__label-arrow\">estimator: RandomForestClassifier</label><div class=\"sk-toggleable__content\"><pre>RandomForestClassifier()</pre></div></div></div><div class=\"sk-serial\"><div class=\"sk-item\"><div class=\"sk-estimator sk-toggleable\"><input class=\"sk-toggleable__control sk-hidden--visually\" id=\"sk-estimator-id-6\" type=\"checkbox\" ><label for=\"sk-estimator-id-6\" class=\"sk-toggleable__label sk-toggleable__label-arrow\">RandomForestClassifier</label><div class=\"sk-toggleable__content\"><pre>RandomForestClassifier()</pre></div></div></div></div></div></div></div></div></div></div>"
      ],
      "text/plain": [
       "RandomizedSearchCV(cv=5, estimator=RandomForestClassifier(), n_iter=20,\n",
       "                   param_distributions={'max_depth': [None, 3, 5, 10],\n",
       "                                        'min_samples_leaf': array([ 1,  3,  5,  7,  9, 11, 13, 15, 17, 19]),\n",
       "                                        'min_samples_split': array([ 2,  4,  6,  8, 10, 12, 14, 16, 18]),\n",
       "                                        'n_estimators': array([ 10,  60, 110, 160, 210, 260, 310, 360, 410, 460, 510, 560, 610,\n",
       "       660, 710, 760, 810, 860, 910, 960])},\n",
       "                   verbose=True)"
      ]
     },
     "execution_count": 59,
     "metadata": {},
     "output_type": "execute_result"
    }
   ],
   "source": [
    "rs_rf = RandomizedSearchCV(RandomForestClassifier(),\n",
    "                           param_distributions=rf_grid,\n",
    "                           cv=5,\n",
    "                           n_iter=20,\n",
    "                           verbose=True)\n",
    "\n",
    "\n",
    "# Fit randn hyperparameter search model for RandomForestClassifier()\n",
    "rs_rf.fit(X_train, y_train)"
   ]
  },
  {
   "cell_type": "code",
   "execution_count": 60,
   "id": "ab7f5ade",
   "metadata": {
    "execution": {
     "iopub.execute_input": "2023-08-14T14:01:26.123450Z",
     "iopub.status.busy": "2023-08-14T14:01:26.123106Z",
     "iopub.status.idle": "2023-08-14T14:01:26.130258Z",
     "shell.execute_reply": "2023-08-14T14:01:26.129328Z"
    },
    "papermill": {
     "duration": 0.037015,
     "end_time": "2023-08-14T14:01:26.132712",
     "exception": false,
     "start_time": "2023-08-14T14:01:26.095697",
     "status": "completed"
    },
    "tags": []
   },
   "outputs": [
    {
     "data": {
      "text/plain": [
       "{'n_estimators': 160,\n",
       " 'min_samples_split': 16,\n",
       " 'min_samples_leaf': 9,\n",
       " 'max_depth': None}"
      ]
     },
     "execution_count": 60,
     "metadata": {},
     "output_type": "execute_result"
    }
   ],
   "source": [
    "rs_rf.best_params_"
   ]
  },
  {
   "cell_type": "code",
   "execution_count": 61,
   "id": "ff4f8f31",
   "metadata": {
    "execution": {
     "iopub.execute_input": "2023-08-14T14:01:26.191326Z",
     "iopub.status.busy": "2023-08-14T14:01:26.191006Z",
     "iopub.status.idle": "2023-08-14T14:01:26.220319Z",
     "shell.execute_reply": "2023-08-14T14:01:26.219006Z"
    },
    "papermill": {
     "duration": 0.0597,
     "end_time": "2023-08-14T14:01:26.223082",
     "exception": false,
     "start_time": "2023-08-14T14:01:26.163382",
     "status": "completed"
    },
    "tags": []
   },
   "outputs": [
    {
     "data": {
      "text/plain": [
       "0.8603351955307262"
      ]
     },
     "execution_count": 61,
     "metadata": {},
     "output_type": "execute_result"
    }
   ],
   "source": [
    "rs_rf.score(X_valid, y_valid)"
   ]
  },
  {
   "cell_type": "markdown",
   "id": "64824b69",
   "metadata": {
    "papermill": {
     "duration": 0.027977,
     "end_time": "2023-08-14T14:01:26.279113",
     "exception": false,
     "start_time": "2023-08-14T14:01:26.251136",
     "status": "completed"
    },
    "tags": []
   },
   "source": [
    "### Hyperparameter Tuning with GridSearchCV\n",
    "Since our LogisticRegression model provides the best score so far, let's try imprpved it GridSearchCV... "
   ]
  },
  {
   "cell_type": "code",
   "execution_count": 62,
   "id": "4d15f2c8",
   "metadata": {
    "execution": {
     "iopub.execute_input": "2023-08-14T14:01:26.338993Z",
     "iopub.status.busy": "2023-08-14T14:01:26.338636Z",
     "iopub.status.idle": "2023-08-14T14:01:27.459726Z",
     "shell.execute_reply": "2023-08-14T14:01:27.458601Z"
    },
    "papermill": {
     "duration": 1.15336,
     "end_time": "2023-08-14T14:01:27.461690",
     "exception": false,
     "start_time": "2023-08-14T14:01:26.308330",
     "status": "completed"
    },
    "tags": []
   },
   "outputs": [
    {
     "name": "stdout",
     "output_type": "stream",
     "text": [
      "Fitting 5 folds for each of 30 candidates, totalling 150 fits\n"
     ]
    },
    {
     "data": {
      "text/html": [
       "<style>#sk-container-id-3 {color: black;background-color: white;}#sk-container-id-3 pre{padding: 0;}#sk-container-id-3 div.sk-toggleable {background-color: white;}#sk-container-id-3 label.sk-toggleable__label {cursor: pointer;display: block;width: 100%;margin-bottom: 0;padding: 0.3em;box-sizing: border-box;text-align: center;}#sk-container-id-3 label.sk-toggleable__label-arrow:before {content: \"▸\";float: left;margin-right: 0.25em;color: #696969;}#sk-container-id-3 label.sk-toggleable__label-arrow:hover:before {color: black;}#sk-container-id-3 div.sk-estimator:hover label.sk-toggleable__label-arrow:before {color: black;}#sk-container-id-3 div.sk-toggleable__content {max-height: 0;max-width: 0;overflow: hidden;text-align: left;background-color: #f0f8ff;}#sk-container-id-3 div.sk-toggleable__content pre {margin: 0.2em;color: black;border-radius: 0.25em;background-color: #f0f8ff;}#sk-container-id-3 input.sk-toggleable__control:checked~div.sk-toggleable__content {max-height: 200px;max-width: 100%;overflow: auto;}#sk-container-id-3 input.sk-toggleable__control:checked~label.sk-toggleable__label-arrow:before {content: \"▾\";}#sk-container-id-3 div.sk-estimator input.sk-toggleable__control:checked~label.sk-toggleable__label {background-color: #d4ebff;}#sk-container-id-3 div.sk-label input.sk-toggleable__control:checked~label.sk-toggleable__label {background-color: #d4ebff;}#sk-container-id-3 input.sk-hidden--visually {border: 0;clip: rect(1px 1px 1px 1px);clip: rect(1px, 1px, 1px, 1px);height: 1px;margin: -1px;overflow: hidden;padding: 0;position: absolute;width: 1px;}#sk-container-id-3 div.sk-estimator {font-family: monospace;background-color: #f0f8ff;border: 1px dotted black;border-radius: 0.25em;box-sizing: border-box;margin-bottom: 0.5em;}#sk-container-id-3 div.sk-estimator:hover {background-color: #d4ebff;}#sk-container-id-3 div.sk-parallel-item::after {content: \"\";width: 100%;border-bottom: 1px solid gray;flex-grow: 1;}#sk-container-id-3 div.sk-label:hover label.sk-toggleable__label {background-color: #d4ebff;}#sk-container-id-3 div.sk-serial::before {content: \"\";position: absolute;border-left: 1px solid gray;box-sizing: border-box;top: 0;bottom: 0;left: 50%;z-index: 0;}#sk-container-id-3 div.sk-serial {display: flex;flex-direction: column;align-items: center;background-color: white;padding-right: 0.2em;padding-left: 0.2em;position: relative;}#sk-container-id-3 div.sk-item {position: relative;z-index: 1;}#sk-container-id-3 div.sk-parallel {display: flex;align-items: stretch;justify-content: center;background-color: white;position: relative;}#sk-container-id-3 div.sk-item::before, #sk-container-id-3 div.sk-parallel-item::before {content: \"\";position: absolute;border-left: 1px solid gray;box-sizing: border-box;top: 0;bottom: 0;left: 50%;z-index: -1;}#sk-container-id-3 div.sk-parallel-item {display: flex;flex-direction: column;z-index: 1;position: relative;background-color: white;}#sk-container-id-3 div.sk-parallel-item:first-child::after {align-self: flex-end;width: 50%;}#sk-container-id-3 div.sk-parallel-item:last-child::after {align-self: flex-start;width: 50%;}#sk-container-id-3 div.sk-parallel-item:only-child::after {width: 0;}#sk-container-id-3 div.sk-dashed-wrapped {border: 1px dashed gray;margin: 0 0.4em 0.5em 0.4em;box-sizing: border-box;padding-bottom: 0.4em;background-color: white;}#sk-container-id-3 div.sk-label label {font-family: monospace;font-weight: bold;display: inline-block;line-height: 1.2em;}#sk-container-id-3 div.sk-label-container {text-align: center;}#sk-container-id-3 div.sk-container {/* jupyter's `normalize.less` sets `[hidden] { display: none; }` but bootstrap.min.css set `[hidden] { display: none !important; }` so we also need the `!important` here to be able to override the default hidden behavior on the sphinx rendered scikit-learn.org. See: https://github.com/scikit-learn/scikit-learn/issues/21755 */display: inline-block !important;position: relative;}#sk-container-id-3 div.sk-text-repr-fallback {display: none;}</style><div id=\"sk-container-id-3\" class=\"sk-top-container\"><div class=\"sk-text-repr-fallback\"><pre>GridSearchCV(cv=5, estimator=LogisticRegression(),\n",
       "             param_grid={&#x27;C&#x27;: array([1.00000000e-04, 1.88739182e-04, 3.56224789e-04, 6.72335754e-04,\n",
       "       1.26896100e-03, 2.39502662e-03, 4.52035366e-03, 8.53167852e-03,\n",
       "       1.61026203e-02, 3.03919538e-02, 5.73615251e-02, 1.08263673e-01,\n",
       "       2.04335972e-01, 3.85662042e-01, 7.27895384e-01, 1.37382380e+00,\n",
       "       2.59294380e+00, 4.89390092e+00, 9.23670857e+00, 1.74332882e+01,\n",
       "       3.29034456e+01, 6.21016942e+01, 1.17210230e+02, 2.21221629e+02,\n",
       "       4.17531894e+02, 7.88046282e+02, 1.48735211e+03, 2.80721620e+03,\n",
       "       5.29831691e+03, 1.00000000e+04]),\n",
       "                         &#x27;solver&#x27;: [&#x27;liblinear&#x27;]},\n",
       "             verbose=True)</pre><b>In a Jupyter environment, please rerun this cell to show the HTML representation or trust the notebook. <br />On GitHub, the HTML representation is unable to render, please try loading this page with nbviewer.org.</b></div><div class=\"sk-container\" hidden><div class=\"sk-item sk-dashed-wrapped\"><div class=\"sk-label-container\"><div class=\"sk-label sk-toggleable\"><input class=\"sk-toggleable__control sk-hidden--visually\" id=\"sk-estimator-id-7\" type=\"checkbox\" ><label for=\"sk-estimator-id-7\" class=\"sk-toggleable__label sk-toggleable__label-arrow\">GridSearchCV</label><div class=\"sk-toggleable__content\"><pre>GridSearchCV(cv=5, estimator=LogisticRegression(),\n",
       "             param_grid={&#x27;C&#x27;: array([1.00000000e-04, 1.88739182e-04, 3.56224789e-04, 6.72335754e-04,\n",
       "       1.26896100e-03, 2.39502662e-03, 4.52035366e-03, 8.53167852e-03,\n",
       "       1.61026203e-02, 3.03919538e-02, 5.73615251e-02, 1.08263673e-01,\n",
       "       2.04335972e-01, 3.85662042e-01, 7.27895384e-01, 1.37382380e+00,\n",
       "       2.59294380e+00, 4.89390092e+00, 9.23670857e+00, 1.74332882e+01,\n",
       "       3.29034456e+01, 6.21016942e+01, 1.17210230e+02, 2.21221629e+02,\n",
       "       4.17531894e+02, 7.88046282e+02, 1.48735211e+03, 2.80721620e+03,\n",
       "       5.29831691e+03, 1.00000000e+04]),\n",
       "                         &#x27;solver&#x27;: [&#x27;liblinear&#x27;]},\n",
       "             verbose=True)</pre></div></div></div><div class=\"sk-parallel\"><div class=\"sk-parallel-item\"><div class=\"sk-item\"><div class=\"sk-label-container\"><div class=\"sk-label sk-toggleable\"><input class=\"sk-toggleable__control sk-hidden--visually\" id=\"sk-estimator-id-8\" type=\"checkbox\" ><label for=\"sk-estimator-id-8\" class=\"sk-toggleable__label sk-toggleable__label-arrow\">estimator: LogisticRegression</label><div class=\"sk-toggleable__content\"><pre>LogisticRegression()</pre></div></div></div><div class=\"sk-serial\"><div class=\"sk-item\"><div class=\"sk-estimator sk-toggleable\"><input class=\"sk-toggleable__control sk-hidden--visually\" id=\"sk-estimator-id-9\" type=\"checkbox\" ><label for=\"sk-estimator-id-9\" class=\"sk-toggleable__label sk-toggleable__label-arrow\">LogisticRegression</label><div class=\"sk-toggleable__content\"><pre>LogisticRegression()</pre></div></div></div></div></div></div></div></div></div></div>"
      ],
      "text/plain": [
       "GridSearchCV(cv=5, estimator=LogisticRegression(),\n",
       "             param_grid={'C': array([1.00000000e-04, 1.88739182e-04, 3.56224789e-04, 6.72335754e-04,\n",
       "       1.26896100e-03, 2.39502662e-03, 4.52035366e-03, 8.53167852e-03,\n",
       "       1.61026203e-02, 3.03919538e-02, 5.73615251e-02, 1.08263673e-01,\n",
       "       2.04335972e-01, 3.85662042e-01, 7.27895384e-01, 1.37382380e+00,\n",
       "       2.59294380e+00, 4.89390092e+00, 9.23670857e+00, 1.74332882e+01,\n",
       "       3.29034456e+01, 6.21016942e+01, 1.17210230e+02, 2.21221629e+02,\n",
       "       4.17531894e+02, 7.88046282e+02, 1.48735211e+03, 2.80721620e+03,\n",
       "       5.29831691e+03, 1.00000000e+04]),\n",
       "                         'solver': ['liblinear']},\n",
       "             verbose=True)"
      ]
     },
     "execution_count": 62,
     "metadata": {},
     "output_type": "execute_result"
    }
   ],
   "source": [
    "# Different hyperparameters for our LogisticRegression model\n",
    "log_reg_grid = {\"C\": np.logspace(-4, 4, 30),\n",
    "                \"solver\": [\"liblinear\"]}\n",
    "\n",
    "# Setup grid hyperparameter search for LogisticRegression\n",
    "gs_log_reg = GridSearchCV(LogisticRegression(),\n",
    "                          param_grid=log_reg_grid,\n",
    "                          cv=5,\n",
    "                          verbose=True)\n",
    "\n",
    "# Fit grid hyperparameter search model\n",
    "gs_log_reg.fit(X_train, y_train)"
   ]
  },
  {
   "cell_type": "code",
   "execution_count": 63,
   "id": "6c61a7ee",
   "metadata": {
    "execution": {
     "iopub.execute_input": "2023-08-14T14:01:27.518976Z",
     "iopub.status.busy": "2023-08-14T14:01:27.518207Z",
     "iopub.status.idle": "2023-08-14T14:01:27.524549Z",
     "shell.execute_reply": "2023-08-14T14:01:27.523173Z"
    },
    "papermill": {
     "duration": 0.036982,
     "end_time": "2023-08-14T14:01:27.526692",
     "exception": false,
     "start_time": "2023-08-14T14:01:27.489710",
     "status": "completed"
    },
    "tags": []
   },
   "outputs": [
    {
     "data": {
      "text/plain": [
       "{'C': 4.893900918477489, 'solver': 'liblinear'}"
      ]
     },
     "execution_count": 63,
     "metadata": {},
     "output_type": "execute_result"
    }
   ],
   "source": [
    "# Checking the best hyperparameter\n",
    "gs_log_reg.best_params_"
   ]
  },
  {
   "cell_type": "code",
   "execution_count": 64,
   "id": "342549d6",
   "metadata": {
    "execution": {
     "iopub.execute_input": "2023-08-14T14:01:27.582459Z",
     "iopub.status.busy": "2023-08-14T14:01:27.582064Z",
     "iopub.status.idle": "2023-08-14T14:01:27.591412Z",
     "shell.execute_reply": "2023-08-14T14:01:27.590387Z"
    },
    "papermill": {
     "duration": 0.039846,
     "end_time": "2023-08-14T14:01:27.593654",
     "exception": false,
     "start_time": "2023-08-14T14:01:27.553808",
     "status": "completed"
    },
    "tags": []
   },
   "outputs": [
    {
     "data": {
      "text/plain": [
       "0.8603351955307262"
      ]
     },
     "execution_count": 64,
     "metadata": {},
     "output_type": "execute_result"
    }
   ],
   "source": [
    "gs_log_reg.score(X_valid, y_valid)"
   ]
  },
  {
   "cell_type": "code",
   "execution_count": 65,
   "id": "c0c972e0",
   "metadata": {
    "execution": {
     "iopub.execute_input": "2023-08-14T14:01:27.650128Z",
     "iopub.status.busy": "2023-08-14T14:01:27.649146Z",
     "iopub.status.idle": "2023-08-14T14:01:27.684081Z",
     "shell.execute_reply": "2023-08-14T14:01:27.683137Z"
    },
    "papermill": {
     "duration": 0.065044,
     "end_time": "2023-08-14T14:01:27.686097",
     "exception": false,
     "start_time": "2023-08-14T14:01:27.621053",
     "status": "completed"
    },
    "tags": []
   },
   "outputs": [
    {
     "name": "stderr",
     "output_type": "stream",
     "text": [
      "/opt/conda/lib/python3.10/site-packages/sklearn/linear_model/_logistic.py:458: ConvergenceWarning: lbfgs failed to converge (status=1):\n",
      "STOP: TOTAL NO. of ITERATIONS REACHED LIMIT.\n",
      "\n",
      "Increase the number of iterations (max_iter) or scale the data as shown in:\n",
      "    https://scikit-learn.org/stable/modules/preprocessing.html\n",
      "Please also refer to the documentation for alternative solver options:\n",
      "    https://scikit-learn.org/stable/modules/linear_model.html#logistic-regression\n",
      "  n_iter_i = _check_optimize_result(\n"
     ]
    },
    {
     "data": {
      "text/html": [
       "<style>#sk-container-id-4 {color: black;background-color: white;}#sk-container-id-4 pre{padding: 0;}#sk-container-id-4 div.sk-toggleable {background-color: white;}#sk-container-id-4 label.sk-toggleable__label {cursor: pointer;display: block;width: 100%;margin-bottom: 0;padding: 0.3em;box-sizing: border-box;text-align: center;}#sk-container-id-4 label.sk-toggleable__label-arrow:before {content: \"▸\";float: left;margin-right: 0.25em;color: #696969;}#sk-container-id-4 label.sk-toggleable__label-arrow:hover:before {color: black;}#sk-container-id-4 div.sk-estimator:hover label.sk-toggleable__label-arrow:before {color: black;}#sk-container-id-4 div.sk-toggleable__content {max-height: 0;max-width: 0;overflow: hidden;text-align: left;background-color: #f0f8ff;}#sk-container-id-4 div.sk-toggleable__content pre {margin: 0.2em;color: black;border-radius: 0.25em;background-color: #f0f8ff;}#sk-container-id-4 input.sk-toggleable__control:checked~div.sk-toggleable__content {max-height: 200px;max-width: 100%;overflow: auto;}#sk-container-id-4 input.sk-toggleable__control:checked~label.sk-toggleable__label-arrow:before {content: \"▾\";}#sk-container-id-4 div.sk-estimator input.sk-toggleable__control:checked~label.sk-toggleable__label {background-color: #d4ebff;}#sk-container-id-4 div.sk-label input.sk-toggleable__control:checked~label.sk-toggleable__label {background-color: #d4ebff;}#sk-container-id-4 input.sk-hidden--visually {border: 0;clip: rect(1px 1px 1px 1px);clip: rect(1px, 1px, 1px, 1px);height: 1px;margin: -1px;overflow: hidden;padding: 0;position: absolute;width: 1px;}#sk-container-id-4 div.sk-estimator {font-family: monospace;background-color: #f0f8ff;border: 1px dotted black;border-radius: 0.25em;box-sizing: border-box;margin-bottom: 0.5em;}#sk-container-id-4 div.sk-estimator:hover {background-color: #d4ebff;}#sk-container-id-4 div.sk-parallel-item::after {content: \"\";width: 100%;border-bottom: 1px solid gray;flex-grow: 1;}#sk-container-id-4 div.sk-label:hover label.sk-toggleable__label {background-color: #d4ebff;}#sk-container-id-4 div.sk-serial::before {content: \"\";position: absolute;border-left: 1px solid gray;box-sizing: border-box;top: 0;bottom: 0;left: 50%;z-index: 0;}#sk-container-id-4 div.sk-serial {display: flex;flex-direction: column;align-items: center;background-color: white;padding-right: 0.2em;padding-left: 0.2em;position: relative;}#sk-container-id-4 div.sk-item {position: relative;z-index: 1;}#sk-container-id-4 div.sk-parallel {display: flex;align-items: stretch;justify-content: center;background-color: white;position: relative;}#sk-container-id-4 div.sk-item::before, #sk-container-id-4 div.sk-parallel-item::before {content: \"\";position: absolute;border-left: 1px solid gray;box-sizing: border-box;top: 0;bottom: 0;left: 50%;z-index: -1;}#sk-container-id-4 div.sk-parallel-item {display: flex;flex-direction: column;z-index: 1;position: relative;background-color: white;}#sk-container-id-4 div.sk-parallel-item:first-child::after {align-self: flex-end;width: 50%;}#sk-container-id-4 div.sk-parallel-item:last-child::after {align-self: flex-start;width: 50%;}#sk-container-id-4 div.sk-parallel-item:only-child::after {width: 0;}#sk-container-id-4 div.sk-dashed-wrapped {border: 1px dashed gray;margin: 0 0.4em 0.5em 0.4em;box-sizing: border-box;padding-bottom: 0.4em;background-color: white;}#sk-container-id-4 div.sk-label label {font-family: monospace;font-weight: bold;display: inline-block;line-height: 1.2em;}#sk-container-id-4 div.sk-label-container {text-align: center;}#sk-container-id-4 div.sk-container {/* jupyter's `normalize.less` sets `[hidden] { display: none; }` but bootstrap.min.css set `[hidden] { display: none !important; }` so we also need the `!important` here to be able to override the default hidden behavior on the sphinx rendered scikit-learn.org. See: https://github.com/scikit-learn/scikit-learn/issues/21755 */display: inline-block !important;position: relative;}#sk-container-id-4 div.sk-text-repr-fallback {display: none;}</style><div id=\"sk-container-id-4\" class=\"sk-top-container\"><div class=\"sk-text-repr-fallback\"><pre>LogisticRegression()</pre><b>In a Jupyter environment, please rerun this cell to show the HTML representation or trust the notebook. <br />On GitHub, the HTML representation is unable to render, please try loading this page with nbviewer.org.</b></div><div class=\"sk-container\" hidden><div class=\"sk-item\"><div class=\"sk-estimator sk-toggleable\"><input class=\"sk-toggleable__control sk-hidden--visually\" id=\"sk-estimator-id-10\" type=\"checkbox\" checked><label for=\"sk-estimator-id-10\" class=\"sk-toggleable__label sk-toggleable__label-arrow\">LogisticRegression</label><div class=\"sk-toggleable__content\"><pre>LogisticRegression()</pre></div></div></div></div></div>"
      ],
      "text/plain": [
       "LogisticRegression()"
      ]
     },
     "execution_count": 65,
     "metadata": {},
     "output_type": "execute_result"
    }
   ],
   "source": [
    "# Let create a Logistic Regression model \n",
    "model_lg = LogisticRegression()\n",
    "\n",
    "# Fit the model\n",
    "model_lg.fit(X_train, y_train)"
   ]
  },
  {
   "cell_type": "code",
   "execution_count": 66,
   "id": "c6121b30",
   "metadata": {
    "execution": {
     "iopub.execute_input": "2023-08-14T14:01:27.761251Z",
     "iopub.status.busy": "2023-08-14T14:01:27.760498Z",
     "iopub.status.idle": "2023-08-14T14:01:27.769185Z",
     "shell.execute_reply": "2023-08-14T14:01:27.768485Z"
    },
    "papermill": {
     "duration": 0.047645,
     "end_time": "2023-08-14T14:01:27.770961",
     "exception": false,
     "start_time": "2023-08-14T14:01:27.723316",
     "status": "completed"
    },
    "tags": []
   },
   "outputs": [
    {
     "data": {
      "text/plain": [
       "0.8715083798882681"
      ]
     },
     "execution_count": 66,
     "metadata": {},
     "output_type": "execute_result"
    }
   ],
   "source": [
    "# Check the score of our model\n",
    "model_lg.score(X_valid, y_valid)"
   ]
  },
  {
   "cell_type": "code",
   "execution_count": 67,
   "id": "142b5a0a",
   "metadata": {
    "execution": {
     "iopub.execute_input": "2023-08-14T14:01:27.832706Z",
     "iopub.status.busy": "2023-08-14T14:01:27.832308Z",
     "iopub.status.idle": "2023-08-14T14:01:27.840990Z",
     "shell.execute_reply": "2023-08-14T14:01:27.840132Z"
    },
    "papermill": {
     "duration": 0.03927,
     "end_time": "2023-08-14T14:01:27.842728",
     "exception": false,
     "start_time": "2023-08-14T14:01:27.803458",
     "status": "completed"
    },
    "tags": []
   },
   "outputs": [
    {
     "data": {
      "text/plain": [
       "array([0, 0, 1, 0, 1, 1, 1, 0, 1, 1, 1, 0, 1, 1, 0, 0, 0, 1, 1, 1, 1, 0,\n",
       "       0, 0, 1, 0, 0, 0, 1, 0, 0, 0, 1, 0, 1, 0, 1, 1, 0, 1, 0, 0, 0, 1,\n",
       "       0, 0, 0, 0, 1, 1, 0, 1, 1, 1, 1, 0, 0, 0, 0, 1, 0, 0, 0, 0, 1, 1,\n",
       "       0, 0, 0, 1, 1, 0, 0, 1, 0, 0, 0, 0, 1, 0, 0, 0, 0, 0, 0, 0, 0, 0,\n",
       "       1, 0, 1, 0, 0, 0, 0, 1, 0, 0, 1, 0, 0, 0, 0, 0, 0, 0, 1, 1, 0, 1,\n",
       "       0, 0, 0, 0, 1, 0, 1, 0, 0, 0, 0, 0, 0, 0, 0, 1, 0, 0, 1, 1, 0, 0,\n",
       "       1, 0, 0, 0, 1, 1, 1, 0, 0, 0, 1, 1, 1, 0, 1, 0, 0, 1, 0, 0, 1, 0,\n",
       "       0, 0, 1, 0, 0, 1, 0, 0, 0, 1, 0, 0, 1, 0, 0, 1, 0, 0, 1, 0, 1, 1,\n",
       "       0, 0, 1])"
      ]
     },
     "execution_count": 67,
     "metadata": {},
     "output_type": "execute_result"
    }
   ],
   "source": [
    "# Evaluate the model\n",
    "y_preds =model_lg.predict(X_valid)\n",
    "y_preds"
   ]
  },
  {
   "cell_type": "code",
   "execution_count": 68,
   "id": "6e44e994",
   "metadata": {
    "execution": {
     "iopub.execute_input": "2023-08-14T14:01:27.900900Z",
     "iopub.status.busy": "2023-08-14T14:01:27.900506Z",
     "iopub.status.idle": "2023-08-14T14:01:27.908645Z",
     "shell.execute_reply": "2023-08-14T14:01:27.907626Z"
    },
    "papermill": {
     "duration": 0.039747,
     "end_time": "2023-08-14T14:01:27.910577",
     "exception": false,
     "start_time": "2023-08-14T14:01:27.870830",
     "status": "completed"
    },
    "tags": []
   },
   "outputs": [
    {
     "data": {
      "text/plain": [
       "789    0\n",
       "497    0\n",
       "139    0\n",
       "570    1\n",
       "66     1\n",
       "      ..\n",
       "767    0\n",
       "165    1\n",
       "552    0\n",
       "439    0\n",
       "65     1\n",
       "Name: Survived, Length: 179, dtype: int64"
      ]
     },
     "execution_count": 68,
     "metadata": {},
     "output_type": "execute_result"
    }
   ],
   "source": [
    "y_valid"
   ]
  },
  {
   "cell_type": "code",
   "execution_count": 69,
   "id": "2276184d",
   "metadata": {
    "execution": {
     "iopub.execute_input": "2023-08-14T14:01:27.969917Z",
     "iopub.status.busy": "2023-08-14T14:01:27.969589Z",
     "iopub.status.idle": "2023-08-14T14:01:28.185880Z",
     "shell.execute_reply": "2023-08-14T14:01:28.184628Z"
    },
    "papermill": {
     "duration": 0.24931,
     "end_time": "2023-08-14T14:01:28.188431",
     "exception": false,
     "start_time": "2023-08-14T14:01:27.939121",
     "status": "completed"
    },
    "tags": []
   },
   "outputs": [
    {
     "data": {
      "image/png": "[encoded data removed]",
      "text/plain": [
       "<Figure size 640x480 with 1 Axes>"
      ]
     },
     "metadata": {},
     "output_type": "display_data"
    }
   ],
   "source": [
    "RocCurveDisplay.from_predictions(y_valid, y_preds);"
   ]
  },
  {
   "cell_type": "code",
   "execution_count": 70,
   "id": "27ea4015",
   "metadata": {
    "execution": {
     "iopub.execute_input": "2023-08-14T14:01:28.249085Z",
     "iopub.status.busy": "2023-08-14T14:01:28.248753Z",
     "iopub.status.idle": "2023-08-14T14:01:28.256398Z",
     "shell.execute_reply": "2023-08-14T14:01:28.255510Z"
    },
    "papermill": {
     "duration": 0.04048,
     "end_time": "2023-08-14T14:01:28.258219",
     "exception": false,
     "start_time": "2023-08-14T14:01:28.217739",
     "status": "completed"
    },
    "tags": []
   },
   "outputs": [
    {
     "name": "stdout",
     "output_type": "stream",
     "text": [
      "[[101  10]\n",
      " [ 13  55]]\n"
     ]
    }
   ],
   "source": [
    "# Confusion matrix\n",
    "print(confusion_matrix(y_valid, y_preds))"
   ]
  },
  {
   "cell_type": "code",
   "execution_count": 71,
   "id": "db0259ad",
   "metadata": {
    "execution": {
     "iopub.execute_input": "2023-08-14T14:01:28.320184Z",
     "iopub.status.busy": "2023-08-14T14:01:28.319865Z",
     "iopub.status.idle": "2023-08-14T14:01:28.476121Z",
     "shell.execute_reply": "2023-08-14T14:01:28.475463Z"
    },
    "papermill": {
     "duration": 0.190535,
     "end_time": "2023-08-14T14:01:28.477806",
     "exception": false,
     "start_time": "2023-08-14T14:01:28.287271",
     "status": "completed"
    },
    "tags": []
   },
   "outputs": [
    {
     "data": {
      "image/png": "[encoded data removed]",
      "text/plain": [
       "<Figure size 300x300 with 1 Axes>"
      ]
     },
     "metadata": {},
     "output_type": "display_data"
    }
   ],
   "source": [
    "# Font size was changed to font_scale and sns.set was changed to sns.set_theme\n",
    "sns.set_theme(font_scale=1.5)\n",
    "\n",
    "def plot_conf_mat(y_valid, y_preds):\n",
    "    \"\"\"\n",
    "    PLots a nice looking confusion matrix using Seaborns's heatmap()\n",
    "    \"\"\"\n",
    "    fig, ax = plt.subplots(figsize=(3, 3))\n",
    "    ax = sns.heatmap(confusion_matrix(y_valid, y_preds),\n",
    "                     annot=True,\n",
    "                     cbar=False)\n",
    "    plt.xlabel(\"True label\")\n",
    "    plt.ylabel(\"Predicted label\")\n",
    "\n",
    "plot_conf_mat(y_valid, y_preds)"
   ]
  },
  {
   "cell_type": "markdown",
   "id": "451e96b6",
   "metadata": {
    "papermill": {
     "duration": 0.030835,
     "end_time": "2023-08-14T14:01:28.538421",
     "exception": false,
     "start_time": "2023-08-14T14:01:28.507586",
     "status": "completed"
    },
    "tags": []
   },
   "source": [
    "## Performing on Test_data"
   ]
  },
  {
   "cell_type": "code",
   "execution_count": 72,
   "id": "a2479353",
   "metadata": {
    "execution": {
     "iopub.execute_input": "2023-08-14T14:01:28.600277Z",
     "iopub.status.busy": "2023-08-14T14:01:28.598952Z",
     "iopub.status.idle": "2023-08-14T14:01:28.611569Z",
     "shell.execute_reply": "2023-08-14T14:01:28.610938Z"
    },
    "papermill": {
     "duration": 0.044953,
     "end_time": "2023-08-14T14:01:28.613327",
     "exception": false,
     "start_time": "2023-08-14T14:01:28.568374",
     "status": "completed"
    },
    "tags": []
   },
   "outputs": [
    {
     "data": {
      "text/html": [
       "<div>\n",
       "<style scoped>\n",
       "    .dataframe tbody tr th:only-of-type {\n",
       "        vertical-align: middle;\n",
       "    }\n",
       "\n",
       "    .dataframe tbody tr th {\n",
       "        vertical-align: top;\n",
       "    }\n",
       "\n",
       "    .dataframe thead th {\n",
       "        text-align: right;\n",
       "    }\n",
       "</style>\n",
       "<table border=\"1\" class=\"dataframe\">\n",
       "  <thead>\n",
       "    <tr style=\"text-align: right;\">\n",
       "      <th></th>\n",
       "      <th>PassengerId</th>\n",
       "      <th>Pclass</th>\n",
       "      <th>Name</th>\n",
       "      <th>Sex</th>\n",
       "      <th>Age</th>\n",
       "      <th>SibSp</th>\n",
       "      <th>Parch</th>\n",
       "      <th>Ticket</th>\n",
       "      <th>Fare</th>\n",
       "      <th>Cabin</th>\n",
       "      <th>Embarked</th>\n",
       "    </tr>\n",
       "  </thead>\n",
       "  <tbody>\n",
       "    <tr>\n",
       "      <th>0</th>\n",
       "      <td>892</td>\n",
       "      <td>3</td>\n",
       "      <td>Kelly, Mr. James</td>\n",
       "      <td>male</td>\n",
       "      <td>34.5</td>\n",
       "      <td>0</td>\n",
       "      <td>0</td>\n",
       "      <td>330911</td>\n",
       "      <td>7.8292</td>\n",
       "      <td>NaN</td>\n",
       "      <td>Q</td>\n",
       "    </tr>\n",
       "    <tr>\n",
       "      <th>1</th>\n",
       "      <td>893</td>\n",
       "      <td>3</td>\n",
       "      <td>Wilkes, Mrs. James (Ellen Needs)</td>\n",
       "      <td>female</td>\n",
       "      <td>47.0</td>\n",
       "      <td>1</td>\n",
       "      <td>0</td>\n",
       "      <td>363272</td>\n",
       "      <td>7.0000</td>\n",
       "      <td>NaN</td>\n",
       "      <td>S</td>\n",
       "    </tr>\n",
       "    <tr>\n",
       "      <th>2</th>\n",
       "      <td>894</td>\n",
       "      <td>2</td>\n",
       "      <td>Myles, Mr. Thomas Francis</td>\n",
       "      <td>male</td>\n",
       "      <td>62.0</td>\n",
       "      <td>0</td>\n",
       "      <td>0</td>\n",
       "      <td>240276</td>\n",
       "      <td>9.6875</td>\n",
       "      <td>NaN</td>\n",
       "      <td>Q</td>\n",
       "    </tr>\n",
       "    <tr>\n",
       "      <th>3</th>\n",
       "      <td>895</td>\n",
       "      <td>3</td>\n",
       "      <td>Wirz, Mr. Albert</td>\n",
       "      <td>male</td>\n",
       "      <td>27.0</td>\n",
       "      <td>0</td>\n",
       "      <td>0</td>\n",
       "      <td>315154</td>\n",
       "      <td>8.6625</td>\n",
       "      <td>NaN</td>\n",
       "      <td>S</td>\n",
       "    </tr>\n",
       "    <tr>\n",
       "      <th>4</th>\n",
       "      <td>896</td>\n",
       "      <td>3</td>\n",
       "      <td>Hirvonen, Mrs. Alexander (Helga E Lindqvist)</td>\n",
       "      <td>female</td>\n",
       "      <td>22.0</td>\n",
       "      <td>1</td>\n",
       "      <td>1</td>\n",
       "      <td>3101298</td>\n",
       "      <td>12.2875</td>\n",
       "      <td>NaN</td>\n",
       "      <td>S</td>\n",
       "    </tr>\n",
       "  </tbody>\n",
       "</table>\n",
       "</div>"
      ],
      "text/plain": [
       "   PassengerId  Pclass                                          Name     Sex  \\\n",
       "0          892       3                              Kelly, Mr. James    male   \n",
       "1          893       3              Wilkes, Mrs. James (Ellen Needs)  female   \n",
       "2          894       2                     Myles, Mr. Thomas Francis    male   \n",
       "3          895       3                              Wirz, Mr. Albert    male   \n",
       "4          896       3  Hirvonen, Mrs. Alexander (Helga E Lindqvist)  female   \n",
       "\n",
       "    Age  SibSp  Parch   Ticket     Fare Cabin Embarked  \n",
       "0  34.5      0      0   330911   7.8292   NaN        Q  \n",
       "1  47.0      1      0   363272   7.0000   NaN        S  \n",
       "2  62.0      0      0   240276   9.6875   NaN        Q  \n",
       "3  27.0      0      0   315154   8.6625   NaN        S  \n",
       "4  22.0      1      1  3101298  12.2875   NaN        S  "
      ]
     },
     "execution_count": 72,
     "metadata": {},
     "output_type": "execute_result"
    }
   ],
   "source": [
    "# Let perform on our test data\n",
    "test_data.head()"
   ]
  },
  {
   "cell_type": "code",
   "execution_count": 73,
   "id": "f7839523",
   "metadata": {
    "execution": {
     "iopub.execute_input": "2023-08-14T14:01:28.675903Z",
     "iopub.status.busy": "2023-08-14T14:01:28.674930Z",
     "iopub.status.idle": "2023-08-14T14:01:28.681063Z",
     "shell.execute_reply": "2023-08-14T14:01:28.679944Z"
    },
    "papermill": {
     "duration": 0.039585,
     "end_time": "2023-08-14T14:01:28.683456",
     "exception": false,
     "start_time": "2023-08-14T14:01:28.643871",
     "status": "completed"
    },
    "tags": []
   },
   "outputs": [],
   "source": [
    "# Fill missing age data with median\n",
    "test_data[\"Age\"].fillna(test_data[\"Age\"].median(), inplace=True)"
   ]
  },
  {
   "cell_type": "code",
   "execution_count": 74,
   "id": "d6b50db1",
   "metadata": {
    "execution": {
     "iopub.execute_input": "2023-08-14T14:01:28.745441Z",
     "iopub.status.busy": "2023-08-14T14:01:28.744970Z",
     "iopub.status.idle": "2023-08-14T14:01:28.751305Z",
     "shell.execute_reply": "2023-08-14T14:01:28.750319Z"
    },
    "papermill": {
     "duration": 0.039548,
     "end_time": "2023-08-14T14:01:28.753209",
     "exception": false,
     "start_time": "2023-08-14T14:01:28.713661",
     "status": "completed"
    },
    "tags": []
   },
   "outputs": [],
   "source": [
    "# Split Names into Titles\n",
    "test_data['Title']=test_data['Name'].map(lambda x: substrings_in_string(x, title_list))"
   ]
  },
  {
   "cell_type": "code",
   "execution_count": 75,
   "id": "61e7e193",
   "metadata": {
    "execution": {
     "iopub.execute_input": "2023-08-14T14:01:28.816434Z",
     "iopub.status.busy": "2023-08-14T14:01:28.815774Z",
     "iopub.status.idle": "2023-08-14T14:01:28.833373Z",
     "shell.execute_reply": "2023-08-14T14:01:28.832418Z"
    },
    "papermill": {
     "duration": 0.051505,
     "end_time": "2023-08-14T14:01:28.835135",
     "exception": false,
     "start_time": "2023-08-14T14:01:28.783630",
     "status": "completed"
    },
    "tags": []
   },
   "outputs": [
    {
     "data": {
      "text/html": [
       "<div>\n",
       "<style scoped>\n",
       "    .dataframe tbody tr th:only-of-type {\n",
       "        vertical-align: middle;\n",
       "    }\n",
       "\n",
       "    .dataframe tbody tr th {\n",
       "        vertical-align: top;\n",
       "    }\n",
       "\n",
       "    .dataframe thead th {\n",
       "        text-align: right;\n",
       "    }\n",
       "</style>\n",
       "<table border=\"1\" class=\"dataframe\">\n",
       "  <thead>\n",
       "    <tr style=\"text-align: right;\">\n",
       "      <th></th>\n",
       "      <th>PassengerId</th>\n",
       "      <th>Pclass</th>\n",
       "      <th>Name</th>\n",
       "      <th>Sex</th>\n",
       "      <th>Age</th>\n",
       "      <th>SibSp</th>\n",
       "      <th>Parch</th>\n",
       "      <th>Ticket</th>\n",
       "      <th>Fare</th>\n",
       "      <th>Cabin</th>\n",
       "      <th>Embarked</th>\n",
       "      <th>Title</th>\n",
       "    </tr>\n",
       "  </thead>\n",
       "  <tbody>\n",
       "    <tr>\n",
       "      <th>0</th>\n",
       "      <td>892</td>\n",
       "      <td>3</td>\n",
       "      <td>Kelly, Mr. James</td>\n",
       "      <td>male</td>\n",
       "      <td>34.5</td>\n",
       "      <td>0</td>\n",
       "      <td>0</td>\n",
       "      <td>330911</td>\n",
       "      <td>7.8292</td>\n",
       "      <td>NaN</td>\n",
       "      <td>Q</td>\n",
       "      <td>Mr</td>\n",
       "    </tr>\n",
       "    <tr>\n",
       "      <th>1</th>\n",
       "      <td>893</td>\n",
       "      <td>3</td>\n",
       "      <td>Wilkes, Mrs. James (Ellen Needs)</td>\n",
       "      <td>female</td>\n",
       "      <td>47.0</td>\n",
       "      <td>1</td>\n",
       "      <td>0</td>\n",
       "      <td>363272</td>\n",
       "      <td>7.0000</td>\n",
       "      <td>NaN</td>\n",
       "      <td>S</td>\n",
       "      <td>Mrs</td>\n",
       "    </tr>\n",
       "    <tr>\n",
       "      <th>2</th>\n",
       "      <td>894</td>\n",
       "      <td>2</td>\n",
       "      <td>Myles, Mr. Thomas Francis</td>\n",
       "      <td>male</td>\n",
       "      <td>62.0</td>\n",
       "      <td>0</td>\n",
       "      <td>0</td>\n",
       "      <td>240276</td>\n",
       "      <td>9.6875</td>\n",
       "      <td>NaN</td>\n",
       "      <td>Q</td>\n",
       "      <td>Mr</td>\n",
       "    </tr>\n",
       "    <tr>\n",
       "      <th>3</th>\n",
       "      <td>895</td>\n",
       "      <td>3</td>\n",
       "      <td>Wirz, Mr. Albert</td>\n",
       "      <td>male</td>\n",
       "      <td>27.0</td>\n",
       "      <td>0</td>\n",
       "      <td>0</td>\n",
       "      <td>315154</td>\n",
       "      <td>8.6625</td>\n",
       "      <td>NaN</td>\n",
       "      <td>S</td>\n",
       "      <td>Mr</td>\n",
       "    </tr>\n",
       "    <tr>\n",
       "      <th>4</th>\n",
       "      <td>896</td>\n",
       "      <td>3</td>\n",
       "      <td>Hirvonen, Mrs. Alexander (Helga E Lindqvist)</td>\n",
       "      <td>female</td>\n",
       "      <td>22.0</td>\n",
       "      <td>1</td>\n",
       "      <td>1</td>\n",
       "      <td>3101298</td>\n",
       "      <td>12.2875</td>\n",
       "      <td>NaN</td>\n",
       "      <td>S</td>\n",
       "      <td>Mrs</td>\n",
       "    </tr>\n",
       "  </tbody>\n",
       "</table>\n",
       "</div>"
      ],
      "text/plain": [
       "   PassengerId  Pclass                                          Name     Sex  \\\n",
       "0          892       3                              Kelly, Mr. James    male   \n",
       "1          893       3              Wilkes, Mrs. James (Ellen Needs)  female   \n",
       "2          894       2                     Myles, Mr. Thomas Francis    male   \n",
       "3          895       3                              Wirz, Mr. Albert    male   \n",
       "4          896       3  Hirvonen, Mrs. Alexander (Helga E Lindqvist)  female   \n",
       "\n",
       "    Age  SibSp  Parch   Ticket     Fare Cabin Embarked Title  \n",
       "0  34.5      0      0   330911   7.8292   NaN        Q    Mr  \n",
       "1  47.0      1      0   363272   7.0000   NaN        S   Mrs  \n",
       "2  62.0      0      0   240276   9.6875   NaN        Q    Mr  \n",
       "3  27.0      0      0   315154   8.6625   NaN        S    Mr  \n",
       "4  22.0      1      1  3101298  12.2875   NaN        S   Mrs  "
      ]
     },
     "execution_count": 75,
     "metadata": {},
     "output_type": "execute_result"
    }
   ],
   "source": [
    "test_data['Title']=test_data.apply(replace_titles, axis=1)\n",
    "test_data.head()"
   ]
  },
  {
   "cell_type": "code",
   "execution_count": 76,
   "id": "34d6fcd1",
   "metadata": {
    "execution": {
     "iopub.execute_input": "2023-08-14T14:01:28.897857Z",
     "iopub.status.busy": "2023-08-14T14:01:28.897176Z",
     "iopub.status.idle": "2023-08-14T14:01:28.904768Z",
     "shell.execute_reply": "2023-08-14T14:01:28.903733Z"
    },
    "papermill": {
     "duration": 0.041179,
     "end_time": "2023-08-14T14:01:28.906574",
     "exception": false,
     "start_time": "2023-08-14T14:01:28.865395",
     "status": "completed"
    },
    "tags": []
   },
   "outputs": [
    {
     "data": {
      "text/plain": [
       "0    0\n",
       "1    1\n",
       "2    0\n",
       "3    0\n",
       "4    2\n",
       "Name: Family_Size, dtype: int64"
      ]
     },
     "execution_count": 76,
     "metadata": {},
     "output_type": "execute_result"
    }
   ],
   "source": [
    "#Creating new family_size column\n",
    "test_data['Family_Size']=test_data['SibSp']+test_data['Parch']\n",
    "test_data['Family_Size'].head()"
   ]
  },
  {
   "cell_type": "code",
   "execution_count": 77,
   "id": "61f2da2e",
   "metadata": {
    "execution": {
     "iopub.execute_input": "2023-08-14T14:01:28.970259Z",
     "iopub.status.busy": "2023-08-14T14:01:28.969571Z",
     "iopub.status.idle": "2023-08-14T14:01:28.978710Z",
     "shell.execute_reply": "2023-08-14T14:01:28.977779Z"
    },
    "papermill": {
     "duration": 0.042799,
     "end_time": "2023-08-14T14:01:28.980526",
     "exception": false,
     "start_time": "2023-08-14T14:01:28.937727",
     "status": "completed"
    },
    "tags": []
   },
   "outputs": [
    {
     "data": {
      "text/plain": [
       "0    103.5\n",
       "1    141.0\n",
       "2    124.0\n",
       "3     81.0\n",
       "4     66.0\n",
       "Name: Age*Class, dtype: float64"
      ]
     },
     "execution_count": 77,
     "metadata": {},
     "output_type": "execute_result"
    }
   ],
   "source": [
    "# Age*Class\n",
    "test_data['Age*Class']=test_data['Age']*test_data['Pclass']\n",
    "test_data['Age*Class'].head()"
   ]
  },
  {
   "cell_type": "code",
   "execution_count": 78,
   "id": "a86a0138",
   "metadata": {
    "execution": {
     "iopub.execute_input": "2023-08-14T14:01:29.044367Z",
     "iopub.status.busy": "2023-08-14T14:01:29.044029Z",
     "iopub.status.idle": "2023-08-14T14:01:29.054054Z",
     "shell.execute_reply": "2023-08-14T14:01:29.052676Z"
    },
    "papermill": {
     "duration": 0.045664,
     "end_time": "2023-08-14T14:01:29.056292",
     "exception": false,
     "start_time": "2023-08-14T14:01:29.010628",
     "status": "completed"
    },
    "tags": []
   },
   "outputs": [
    {
     "data": {
      "text/plain": [
       "0    7.829200\n",
       "1    3.500000\n",
       "2    9.687500\n",
       "3    8.662500\n",
       "4    4.095833\n",
       "Name: Fare_Per_Person, dtype: float64"
      ]
     },
     "execution_count": 78,
     "metadata": {},
     "output_type": "execute_result"
    }
   ],
   "source": [
    "# Fare per person\n",
    "test_data['Fare_Per_Person']=test_data['Fare']/(test_data['Family_Size']+1)\n",
    "test_data['Fare_Per_Person'].head()"
   ]
  },
  {
   "cell_type": "code",
   "execution_count": 79,
   "id": "19ae49dc",
   "metadata": {
    "execution": {
     "iopub.execute_input": "2023-08-14T14:01:29.120808Z",
     "iopub.status.busy": "2023-08-14T14:01:29.120447Z",
     "iopub.status.idle": "2023-08-14T14:01:29.125925Z",
     "shell.execute_reply": "2023-08-14T14:01:29.125229Z"
    },
    "papermill": {
     "duration": 0.040459,
     "end_time": "2023-08-14T14:01:29.127779",
     "exception": false,
     "start_time": "2023-08-14T14:01:29.087320",
     "status": "completed"
    },
    "tags": []
   },
   "outputs": [],
   "source": [
    "test_data[\"Fare_Per_Person\"].fillna(test_data[\"Fare_Per_Person\"].median(), inplace=True)"
   ]
  },
  {
   "cell_type": "code",
   "execution_count": 80,
   "id": "5e6f8a71",
   "metadata": {
    "execution": {
     "iopub.execute_input": "2023-08-14T14:01:29.195830Z",
     "iopub.status.busy": "2023-08-14T14:01:29.195261Z",
     "iopub.status.idle": "2023-08-14T14:01:29.221260Z",
     "shell.execute_reply": "2023-08-14T14:01:29.220372Z"
    },
    "papermill": {
     "duration": 0.064454,
     "end_time": "2023-08-14T14:01:29.223494",
     "exception": false,
     "start_time": "2023-08-14T14:01:29.159040",
     "status": "completed"
    },
    "tags": []
   },
   "outputs": [
    {
     "data": {
      "text/html": [
       "<div>\n",
       "<style scoped>\n",
       "    .dataframe tbody tr th:only-of-type {\n",
       "        vertical-align: middle;\n",
       "    }\n",
       "\n",
       "    .dataframe tbody tr th {\n",
       "        vertical-align: top;\n",
       "    }\n",
       "\n",
       "    .dataframe thead th {\n",
       "        text-align: right;\n",
       "    }\n",
       "</style>\n",
       "<table border=\"1\" class=\"dataframe\">\n",
       "  <thead>\n",
       "    <tr style=\"text-align: right;\">\n",
       "      <th></th>\n",
       "      <th>Pclass</th>\n",
       "      <th>SibSp</th>\n",
       "      <th>Parch</th>\n",
       "      <th>Sex_female</th>\n",
       "      <th>Sex_male</th>\n",
       "      <th>Title_Master</th>\n",
       "      <th>Title_Miss</th>\n",
       "      <th>Title_Mr</th>\n",
       "      <th>Title_Mrs</th>\n",
       "      <th>Embarked_C</th>\n",
       "      <th>Embarked_Q</th>\n",
       "      <th>Embarked_S</th>\n",
       "      <th>Age</th>\n",
       "      <th>Family_Size</th>\n",
       "      <th>Age*Class</th>\n",
       "      <th>Fare_Per_Person</th>\n",
       "    </tr>\n",
       "  </thead>\n",
       "  <tbody>\n",
       "    <tr>\n",
       "      <th>0</th>\n",
       "      <td>3</td>\n",
       "      <td>0</td>\n",
       "      <td>0</td>\n",
       "      <td>0</td>\n",
       "      <td>1</td>\n",
       "      <td>0</td>\n",
       "      <td>0</td>\n",
       "      <td>1</td>\n",
       "      <td>0</td>\n",
       "      <td>0</td>\n",
       "      <td>1</td>\n",
       "      <td>0</td>\n",
       "      <td>34.5</td>\n",
       "      <td>0</td>\n",
       "      <td>103.5</td>\n",
       "      <td>7.829200</td>\n",
       "    </tr>\n",
       "    <tr>\n",
       "      <th>1</th>\n",
       "      <td>3</td>\n",
       "      <td>1</td>\n",
       "      <td>0</td>\n",
       "      <td>1</td>\n",
       "      <td>0</td>\n",
       "      <td>0</td>\n",
       "      <td>0</td>\n",
       "      <td>0</td>\n",
       "      <td>1</td>\n",
       "      <td>0</td>\n",
       "      <td>0</td>\n",
       "      <td>1</td>\n",
       "      <td>47.0</td>\n",
       "      <td>1</td>\n",
       "      <td>141.0</td>\n",
       "      <td>3.500000</td>\n",
       "    </tr>\n",
       "    <tr>\n",
       "      <th>2</th>\n",
       "      <td>2</td>\n",
       "      <td>0</td>\n",
       "      <td>0</td>\n",
       "      <td>0</td>\n",
       "      <td>1</td>\n",
       "      <td>0</td>\n",
       "      <td>0</td>\n",
       "      <td>1</td>\n",
       "      <td>0</td>\n",
       "      <td>0</td>\n",
       "      <td>1</td>\n",
       "      <td>0</td>\n",
       "      <td>62.0</td>\n",
       "      <td>0</td>\n",
       "      <td>124.0</td>\n",
       "      <td>9.687500</td>\n",
       "    </tr>\n",
       "    <tr>\n",
       "      <th>3</th>\n",
       "      <td>3</td>\n",
       "      <td>0</td>\n",
       "      <td>0</td>\n",
       "      <td>0</td>\n",
       "      <td>1</td>\n",
       "      <td>0</td>\n",
       "      <td>0</td>\n",
       "      <td>1</td>\n",
       "      <td>0</td>\n",
       "      <td>0</td>\n",
       "      <td>0</td>\n",
       "      <td>1</td>\n",
       "      <td>27.0</td>\n",
       "      <td>0</td>\n",
       "      <td>81.0</td>\n",
       "      <td>8.662500</td>\n",
       "    </tr>\n",
       "    <tr>\n",
       "      <th>4</th>\n",
       "      <td>3</td>\n",
       "      <td>1</td>\n",
       "      <td>1</td>\n",
       "      <td>1</td>\n",
       "      <td>0</td>\n",
       "      <td>0</td>\n",
       "      <td>0</td>\n",
       "      <td>0</td>\n",
       "      <td>1</td>\n",
       "      <td>0</td>\n",
       "      <td>0</td>\n",
       "      <td>1</td>\n",
       "      <td>22.0</td>\n",
       "      <td>2</td>\n",
       "      <td>66.0</td>\n",
       "      <td>4.095833</td>\n",
       "    </tr>\n",
       "  </tbody>\n",
       "</table>\n",
       "</div>"
      ],
      "text/plain": [
       "   Pclass  SibSp  Parch  Sex_female  Sex_male  Title_Master  Title_Miss  \\\n",
       "0       3      0      0           0         1             0           0   \n",
       "1       3      1      0           1         0             0           0   \n",
       "2       2      0      0           0         1             0           0   \n",
       "3       3      0      0           0         1             0           0   \n",
       "4       3      1      1           1         0             0           0   \n",
       "\n",
       "   Title_Mr  Title_Mrs  Embarked_C  Embarked_Q  Embarked_S   Age  Family_Size  \\\n",
       "0         1          0           0           1           0  34.5            0   \n",
       "1         0          1           0           0           1  47.0            1   \n",
       "2         1          0           0           1           0  62.0            0   \n",
       "3         1          0           0           0           1  27.0            0   \n",
       "4         0          1           0           0           1  22.0            2   \n",
       "\n",
       "   Age*Class  Fare_Per_Person  \n",
       "0      103.5         7.829200  \n",
       "1      141.0         3.500000  \n",
       "2      124.0         9.687500  \n",
       "3       81.0         8.662500  \n",
       "4       66.0         4.095833  "
      ]
     },
     "execution_count": 80,
     "metadata": {},
     "output_type": "execute_result"
    }
   ],
   "source": [
    "features = [\"Pclass\", \"Sex\", \"SibSp\", \"Parch\", \"Title\", \"Embarked\"]\n",
    "X_test = pd.get_dummies(test_data[features])\n",
    "\n",
    "# Add other numeric data\n",
    "X_test[\"Age\"] = test_data[\"Age\"]\n",
    "X_test[\"Family_Size\"] = test_data[\"Family_Size\"]\n",
    "X_test[\"Age*Class\"] = test_data[\"Age*Class\"]\n",
    "X_test[\"Fare_Per_Person\"] = test_data[\"Fare_Per_Person\"]\n",
    "X_test.head()                               "
   ]
  },
  {
   "cell_type": "code",
   "execution_count": 81,
   "id": "ac89b19d",
   "metadata": {
    "execution": {
     "iopub.execute_input": "2023-08-14T14:01:29.292237Z",
     "iopub.status.busy": "2023-08-14T14:01:29.291242Z",
     "iopub.status.idle": "2023-08-14T14:01:29.300237Z",
     "shell.execute_reply": "2023-08-14T14:01:29.298848Z"
    },
    "papermill": {
     "duration": 0.042771,
     "end_time": "2023-08-14T14:01:29.302243",
     "exception": false,
     "start_time": "2023-08-14T14:01:29.259472",
     "status": "completed"
    },
    "tags": []
   },
   "outputs": [
    {
     "data": {
      "text/plain": [
       "Pclass             0\n",
       "SibSp              0\n",
       "Parch              0\n",
       "Sex_female         0\n",
       "Sex_male           0\n",
       "Title_Master       0\n",
       "Title_Miss         0\n",
       "Title_Mr           0\n",
       "Title_Mrs          0\n",
       "Embarked_C         0\n",
       "Embarked_Q         0\n",
       "Embarked_S         0\n",
       "Age                0\n",
       "Family_Size        0\n",
       "Age*Class          0\n",
       "Fare_Per_Person    0\n",
       "dtype: int64"
      ]
     },
     "execution_count": 81,
     "metadata": {},
     "output_type": "execute_result"
    }
   ],
   "source": [
    "X_test.isna().sum()"
   ]
  },
  {
   "cell_type": "code",
   "execution_count": 82,
   "id": "43631dfe",
   "metadata": {
    "execution": {
     "iopub.execute_input": "2023-08-14T14:01:29.364187Z",
     "iopub.status.busy": "2023-08-14T14:01:29.363797Z",
     "iopub.status.idle": "2023-08-14T14:01:29.370917Z",
     "shell.execute_reply": "2023-08-14T14:01:29.369665Z"
    },
    "papermill": {
     "duration": 0.04075,
     "end_time": "2023-08-14T14:01:29.372957",
     "exception": false,
     "start_time": "2023-08-14T14:01:29.332207",
     "status": "completed"
    },
    "tags": []
   },
   "outputs": [
    {
     "data": {
      "text/plain": [
       "(418, 16)"
      ]
     },
     "execution_count": 82,
     "metadata": {},
     "output_type": "execute_result"
    }
   ],
   "source": [
    "X_test.shape"
   ]
  },
  {
   "cell_type": "code",
   "execution_count": 83,
   "id": "195a2ab8",
   "metadata": {
    "execution": {
     "iopub.execute_input": "2023-08-14T14:01:29.438884Z",
     "iopub.status.busy": "2023-08-14T14:01:29.437389Z",
     "iopub.status.idle": "2023-08-14T14:01:29.447089Z",
     "shell.execute_reply": "2023-08-14T14:01:29.446013Z"
    },
    "papermill": {
     "duration": 0.04375,
     "end_time": "2023-08-14T14:01:29.449055",
     "exception": false,
     "start_time": "2023-08-14T14:01:29.405305",
     "status": "completed"
    },
    "tags": []
   },
   "outputs": [
    {
     "data": {
      "text/plain": [
       "array([0, 0, 0, 0, 1, 0, 1, 0, 1, 0, 0, 0, 1, 0, 1, 1, 0, 0, 0, 1, 0, 1,\n",
       "       1, 0, 1, 0, 1, 0, 0, 0, 0, 0, 0, 1, 0, 0, 1, 1, 0, 0, 0, 0, 0, 1,\n",
       "       1, 0, 0, 0, 1, 1, 0, 0, 1, 1, 0, 0, 0, 0, 0, 1, 0, 0, 0, 1, 1, 1,\n",
       "       1, 0, 0, 1, 1, 0, 1, 0, 1, 1, 0, 1, 0, 1, 1, 0, 0, 0, 0, 0, 1, 1,\n",
       "       1, 1, 1, 0, 1, 0, 0, 0, 1, 0, 1, 0, 1, 0, 0, 0, 1, 0, 0, 0, 0, 0,\n",
       "       0, 1, 1, 1, 1, 0, 0, 1, 1, 1, 1, 0, 1, 0, 0, 1, 0, 0, 0, 0, 0, 0,\n",
       "       1, 0, 0, 0, 0, 0, 1, 0, 0, 1, 0, 0, 0, 0, 0, 0, 0, 0, 1, 0, 0, 1,\n",
       "       0, 0, 1, 1, 0, 1, 1, 1, 1, 0, 0, 1, 0, 0, 1, 1, 0, 0, 0, 0, 0, 1,\n",
       "       1, 0, 1, 1, 0, 0, 1, 0, 1, 0, 1, 0, 0, 0, 0, 0, 1, 0, 1, 0, 1, 1,\n",
       "       0, 1, 1, 1, 0, 1, 0, 0, 1, 0, 1, 0, 0, 0, 0, 1, 0, 0, 1, 0, 1, 0,\n",
       "       1, 0, 1, 0, 1, 1, 0, 1, 0, 0, 0, 1, 0, 0, 0, 0, 0, 0, 1, 1, 1, 1,\n",
       "       0, 0, 0, 0, 1, 0, 1, 1, 1, 0, 0, 0, 0, 0, 0, 0, 1, 0, 0, 0, 1, 1,\n",
       "       0, 0, 0, 0, 1, 0, 0, 0, 1, 1, 0, 1, 0, 0, 0, 0, 1, 1, 1, 1, 1, 0,\n",
       "       0, 0, 0, 0, 0, 1, 0, 1, 0, 0, 1, 0, 0, 0, 0, 0, 0, 0, 1, 1, 0, 1,\n",
       "       0, 0, 0, 0, 0, 1, 1, 1, 0, 0, 0, 0, 0, 0, 0, 0, 1, 0, 1, 0, 0, 0,\n",
       "       1, 0, 0, 1, 0, 0, 0, 0, 0, 1, 0, 0, 0, 1, 0, 1, 0, 1, 0, 1, 1, 0,\n",
       "       0, 0, 1, 0, 1, 0, 0, 1, 0, 1, 1, 0, 1, 0, 0, 1, 1, 0, 0, 1, 0, 0,\n",
       "       1, 1, 0, 0, 0, 0, 0, 0, 1, 1, 0, 1, 0, 0, 0, 0, 0, 1, 1, 0, 0, 1,\n",
       "       0, 1, 0, 0, 1, 0, 1, 0, 0, 0, 0, 0, 1, 1, 1, 1, 1, 0, 1, 0, 0, 1])"
      ]
     },
     "execution_count": 83,
     "metadata": {},
     "output_type": "execute_result"
    }
   ],
   "source": [
    "# Make Predictions\n",
    "predictions = model_lg.predict(X_test)\n",
    "predictions"
   ]
  },
  {
   "cell_type": "markdown",
   "id": "76e627ad",
   "metadata": {
    "papermill": {
     "duration": 0.029701,
     "end_time": "2023-08-14T14:01:29.509374",
     "exception": false,
     "start_time": "2023-08-14T14:01:29.479673",
     "status": "completed"
    },
    "tags": []
   },
   "source": [
    "## Exporting our data\n"
   ]
  },
  {
   "cell_type": "code",
   "execution_count": 84,
   "id": "1d1c4b05",
   "metadata": {
    "execution": {
     "iopub.execute_input": "2023-08-14T14:01:29.571881Z",
     "iopub.status.busy": "2023-08-14T14:01:29.571501Z",
     "iopub.status.idle": "2023-08-14T14:01:29.581434Z",
     "shell.execute_reply": "2023-08-14T14:01:29.580036Z"
    },
    "papermill": {
     "duration": 0.043687,
     "end_time": "2023-08-14T14:01:29.583386",
     "exception": false,
     "start_time": "2023-08-14T14:01:29.539699",
     "status": "completed"
    },
    "tags": []
   },
   "outputs": [
    {
     "name": "stdout",
     "output_type": "stream",
     "text": [
      "Your submission was successfully saved\n"
     ]
    }
   ],
   "source": [
    "output = pd.DataFrame({'PassengerId': test_data.PassengerId, 'Survived': predictions})\n",
    "output.to_csv('submission.csv', index=False)\n",
    "print(\"Your submission was successfully saved\")"
   ]
  }
 ],
 "metadata": {
  "kernelspec": {
   "display_name": "Python 3",
   "language": "python",
   "name": "python3"
  },
  "language_info": {
   "codemirror_mode": {
    "name": "ipython",
    "version": 3
   },
   "file_extension": ".py",
   "mimetype": "text/x-python",
   "name": "python",
   "nbconvert_exporter": "python",
   "pygments_lexer": "ipython3",
   "version": "3.10.12"
  },
  "papermill": {
   "default_parameters": {},
   "duration": 118.784806,
   "end_time": "2023-08-14T14:01:30.638915",
   "environment_variables": {},
   "exception": null,
   "input_path": "__notebook__.ipynb",
   "output_path": "__notebook__.ipynb",
   "parameters": {},
   "start_time": "2023-08-14T13:59:31.854109",
   "version": "2.4.0"
  }
 },
 "nbformat": 4,
 "nbformat_minor": 5
}
