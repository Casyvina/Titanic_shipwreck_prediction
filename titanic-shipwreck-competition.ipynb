{
 "cells": [
  {
   "cell_type": "markdown",
   "id": "b82200ce",
   "metadata": {
    "papermill": {
     "duration": 0.030611,
     "end_time": "2023-08-18T08:51:19.237933",
     "exception": false,
     "start_time": "2023-08-18T08:51:19.207322",
     "status": "completed"
    },
    "tags": []
   },
   "source": [
    "# Steps to carry out for this projects\n",
    "\n",
    "1. Introduction\n",
    "2. Data Collection\n",
    "3. Process our data\n",
    "4. Split data\n",
    "5. Build a model\n",
    "6. Evaluate the model"
   ]
  },
  {
   "cell_type": "markdown",
   "id": "13c4e74e",
   "metadata": {
    "papermill": {
     "duration": 0.029043,
     "end_time": "2023-08-18T08:51:19.296076",
     "exception": false,
     "start_time": "2023-08-18T08:51:19.267033",
     "status": "completed"
    },
    "tags": []
   },
   "source": [
    "# Introduction \n",
    "\n",
    "## Overview\n",
    "\n",
    "1.Description\n",
    "\n",
    "This project is carried out to create a model that can predict the year 1912 Titanic shipwreck disaster survivals and non-suvivals.\n",
    "\n",
    "*Note - It's is a binary classification problem\n",
    "\n",
    "2. Evaluation\n",
    "\n",
    "Goal is to predict whether or not a passenger survive the ship wreck or not\n",
    "- if `1` means passenger `survived`\n",
    "- if `0` means passenger `did't survived`\n",
    "\n",
    "Score using the `accuracy score`\n",
    "\n",
    "Submittion process\n",
    "1. file must be csv\n",
    "2. 418 enteries plus header role\n",
    "3. Contains two columns `PassengerId` and `Survived`\n"
   ]
  },
  {
   "cell_type": "markdown",
   "id": "3de2f6a4",
   "metadata": {
    "papermill": {
     "duration": 0.029019,
     "end_time": "2023-08-18T08:51:19.354194",
     "exception": false,
     "start_time": "2023-08-18T08:51:19.325175",
     "status": "completed"
    },
    "tags": []
   },
   "source": [
    "### About data\n",
    "\n",
    "survival\tSurvival\t0 = No, 1 = Yes\n",
    "pclass\tTicket class\t1 = 1st, 2 = 2nd, 3 = 3rd\n",
    "sex\tSex\t\n",
    "Age\tAge in years\t\n",
    "sibsp\t# of siblings / spouses aboard the Titanic\t\n",
    "parch\t# of parents / children aboard the Titanic\t\n",
    "ticket\tTicket number\t\n",
    "fare\tPassenger fare\t\n",
    "cabin\tCabin number\t\n",
    "embarked\tPort of Embarkation\tC = Cherbourg, Q = Queenstown, S = Southampton\n",
    "\n",
    "**Target** - `survival`\n",
    "\n",
    "### More info\n",
    "\n",
    "**Variable Notes**\n",
    "* pclass: A proxy for socio-economic status (SES)\n",
    "    1st = Upper\n",
    "    2nd = Middle\n",
    "    3rd = Lower\n",
    "* age: Age is fractional if less than 1. If the age is estimated, is it in the form of xx.5\n",
    "* sibsp: The dataset defines family relations in this way...\n",
    "* Sibling = brother, sister, stepbrother, stepsister\n",
    "* Spouse = husband, wife (mistresses and fiancés were ignored)\n",
    "* parch: The dataset defines family relations in this way...\n",
    "* Parent = mother, father\n",
    "* Child = daughter, son, stepdaughter, stepson\n",
    "    Some children travelled only with a nanny, therefore parch=0 for them."
   ]
  },
  {
   "cell_type": "markdown",
   "id": "a7d8a140",
   "metadata": {
    "papermill": {
     "duration": 0.030242,
     "end_time": "2023-08-18T08:51:19.413687",
     "exception": false,
     "start_time": "2023-08-18T08:51:19.383445",
     "status": "completed"
    },
    "tags": []
   },
   "source": [
    "## Data Exploration (EDA Explanatory Data Analysis)\n",
    "\n",
    "Analysis data by coming up with possible questions and become one with the data.\n",
    "\n",
    "1. What questions are we trying to solve?\n",
    "2. What data do we have and how do we treat different types?\n",
    "3. What's missing in the data and how do we fit it?\n",
    "4. Where are the outliers and what should we care about?\n",
    "5. How to add, change,remove features from the data?"
   ]
  },
  {
   "cell_type": "code",
   "execution_count": 1,
   "id": "0bd82e94",
   "metadata": {
    "execution": {
     "iopub.execute_input": "2023-08-18T08:51:19.476625Z",
     "iopub.status.busy": "2023-08-18T08:51:19.476127Z",
     "iopub.status.idle": "2023-08-18T08:51:19.490380Z",
     "shell.execute_reply": "2023-08-18T08:51:19.489214Z"
    },
    "papermill": {
     "duration": 0.04752,
     "end_time": "2023-08-18T08:51:19.492707",
     "exception": false,
     "start_time": "2023-08-18T08:51:19.445187",
     "status": "completed"
    },
    "tags": []
   },
   "outputs": [],
   "source": [
    "# Import all necessary library\n",
    "%matplotlib inline\n",
    "import numpy as np\n",
    "import pandas as pd\n",
    "import matplotlib.pyplot as plt"
   ]
  },
  {
   "cell_type": "code",
   "execution_count": 2,
   "id": "a518fe01",
   "metadata": {
    "execution": {
     "iopub.execute_input": "2023-08-18T08:51:19.552282Z",
     "iopub.status.busy": "2023-08-18T08:51:19.552014Z",
     "iopub.status.idle": "2023-08-18T08:51:19.590735Z",
     "shell.execute_reply": "2023-08-18T08:51:19.589634Z"
    },
    "papermill": {
     "duration": 0.072003,
     "end_time": "2023-08-18T08:51:19.593913",
     "exception": false,
     "start_time": "2023-08-18T08:51:19.521910",
     "status": "completed"
    },
    "tags": []
   },
   "outputs": [
    {
     "data": {
      "text/html": [
       "<div>\n",
       "<style scoped>\n",
       "    .dataframe tbody tr th:only-of-type {\n",
       "        vertical-align: middle;\n",
       "    }\n",
       "\n",
       "    .dataframe tbody tr th {\n",
       "        vertical-align: top;\n",
       "    }\n",
       "\n",
       "    .dataframe thead th {\n",
       "        text-align: right;\n",
       "    }\n",
       "</style>\n",
       "<table border=\"1\" class=\"dataframe\">\n",
       "  <thead>\n",
       "    <tr style=\"text-align: right;\">\n",
       "      <th></th>\n",
       "      <th>PassengerId</th>\n",
       "      <th>Survived</th>\n",
       "      <th>Pclass</th>\n",
       "      <th>Name</th>\n",
       "      <th>Sex</th>\n",
       "      <th>Age</th>\n",
       "      <th>SibSp</th>\n",
       "      <th>Parch</th>\n",
       "      <th>Ticket</th>\n",
       "      <th>Fare</th>\n",
       "      <th>Cabin</th>\n",
       "      <th>Embarked</th>\n",
       "    </tr>\n",
       "  </thead>\n",
       "  <tbody>\n",
       "    <tr>\n",
       "      <th>0</th>\n",
       "      <td>1</td>\n",
       "      <td>0</td>\n",
       "      <td>3</td>\n",
       "      <td>Braund, Mr. Owen Harris</td>\n",
       "      <td>male</td>\n",
       "      <td>22.0</td>\n",
       "      <td>1</td>\n",
       "      <td>0</td>\n",
       "      <td>A/5 21171</td>\n",
       "      <td>7.2500</td>\n",
       "      <td>NaN</td>\n",
       "      <td>S</td>\n",
       "    </tr>\n",
       "    <tr>\n",
       "      <th>1</th>\n",
       "      <td>2</td>\n",
       "      <td>1</td>\n",
       "      <td>1</td>\n",
       "      <td>Cumings, Mrs. John Bradley (Florence Briggs Th...</td>\n",
       "      <td>female</td>\n",
       "      <td>38.0</td>\n",
       "      <td>1</td>\n",
       "      <td>0</td>\n",
       "      <td>PC 17599</td>\n",
       "      <td>71.2833</td>\n",
       "      <td>C85</td>\n",
       "      <td>C</td>\n",
       "    </tr>\n",
       "    <tr>\n",
       "      <th>2</th>\n",
       "      <td>3</td>\n",
       "      <td>1</td>\n",
       "      <td>3</td>\n",
       "      <td>Heikkinen, Miss. Laina</td>\n",
       "      <td>female</td>\n",
       "      <td>26.0</td>\n",
       "      <td>0</td>\n",
       "      <td>0</td>\n",
       "      <td>STON/O2. 3101282</td>\n",
       "      <td>7.9250</td>\n",
       "      <td>NaN</td>\n",
       "      <td>S</td>\n",
       "    </tr>\n",
       "    <tr>\n",
       "      <th>3</th>\n",
       "      <td>4</td>\n",
       "      <td>1</td>\n",
       "      <td>1</td>\n",
       "      <td>Futrelle, Mrs. Jacques Heath (Lily May Peel)</td>\n",
       "      <td>female</td>\n",
       "      <td>35.0</td>\n",
       "      <td>1</td>\n",
       "      <td>0</td>\n",
       "      <td>113803</td>\n",
       "      <td>53.1000</td>\n",
       "      <td>C123</td>\n",
       "      <td>S</td>\n",
       "    </tr>\n",
       "    <tr>\n",
       "      <th>4</th>\n",
       "      <td>5</td>\n",
       "      <td>0</td>\n",
       "      <td>3</td>\n",
       "      <td>Allen, Mr. William Henry</td>\n",
       "      <td>male</td>\n",
       "      <td>35.0</td>\n",
       "      <td>0</td>\n",
       "      <td>0</td>\n",
       "      <td>373450</td>\n",
       "      <td>8.0500</td>\n",
       "      <td>NaN</td>\n",
       "      <td>S</td>\n",
       "    </tr>\n",
       "  </tbody>\n",
       "</table>\n",
       "</div>"
      ],
      "text/plain": [
       "   PassengerId  Survived  Pclass  \\\n",
       "0            1         0       3   \n",
       "1            2         1       1   \n",
       "2            3         1       3   \n",
       "3            4         1       1   \n",
       "4            5         0       3   \n",
       "\n",
       "                                                Name     Sex   Age  SibSp  \\\n",
       "0                            Braund, Mr. Owen Harris    male  22.0      1   \n",
       "1  Cumings, Mrs. John Bradley (Florence Briggs Th...  female  38.0      1   \n",
       "2                             Heikkinen, Miss. Laina  female  26.0      0   \n",
       "3       Futrelle, Mrs. Jacques Heath (Lily May Peel)  female  35.0      1   \n",
       "4                           Allen, Mr. William Henry    male  35.0      0   \n",
       "\n",
       "   Parch            Ticket     Fare Cabin Embarked  \n",
       "0      0         A/5 21171   7.2500   NaN        S  \n",
       "1      0          PC 17599  71.2833   C85        C  \n",
       "2      0  STON/O2. 3101282   7.9250   NaN        S  \n",
       "3      0            113803  53.1000  C123        S  \n",
       "4      0            373450   8.0500   NaN        S  "
      ]
     },
     "execution_count": 2,
     "metadata": {},
     "output_type": "execute_result"
    }
   ],
   "source": [
    "# Load Train data\n",
    "train_data = pd.read_csv(\"/kaggle/input/titanic/train.csv\")\n",
    "train_data.head()"
   ]
  },
  {
   "cell_type": "code",
   "execution_count": 3,
   "id": "8ea00ef4",
   "metadata": {
    "execution": {
     "iopub.execute_input": "2023-08-18T08:51:19.654161Z",
     "iopub.status.busy": "2023-08-18T08:51:19.653844Z",
     "iopub.status.idle": "2023-08-18T08:51:19.676260Z",
     "shell.execute_reply": "2023-08-18T08:51:19.675241Z"
    },
    "papermill": {
     "duration": 0.054788,
     "end_time": "2023-08-18T08:51:19.678634",
     "exception": false,
     "start_time": "2023-08-18T08:51:19.623846",
     "status": "completed"
    },
    "tags": []
   },
   "outputs": [
    {
     "data": {
      "text/html": [
       "<div>\n",
       "<style scoped>\n",
       "    .dataframe tbody tr th:only-of-type {\n",
       "        vertical-align: middle;\n",
       "    }\n",
       "\n",
       "    .dataframe tbody tr th {\n",
       "        vertical-align: top;\n",
       "    }\n",
       "\n",
       "    .dataframe thead th {\n",
       "        text-align: right;\n",
       "    }\n",
       "</style>\n",
       "<table border=\"1\" class=\"dataframe\">\n",
       "  <thead>\n",
       "    <tr style=\"text-align: right;\">\n",
       "      <th></th>\n",
       "      <th>PassengerId</th>\n",
       "      <th>Pclass</th>\n",
       "      <th>Name</th>\n",
       "      <th>Sex</th>\n",
       "      <th>Age</th>\n",
       "      <th>SibSp</th>\n",
       "      <th>Parch</th>\n",
       "      <th>Ticket</th>\n",
       "      <th>Fare</th>\n",
       "      <th>Cabin</th>\n",
       "      <th>Embarked</th>\n",
       "    </tr>\n",
       "  </thead>\n",
       "  <tbody>\n",
       "    <tr>\n",
       "      <th>0</th>\n",
       "      <td>892</td>\n",
       "      <td>3</td>\n",
       "      <td>Kelly, Mr. James</td>\n",
       "      <td>male</td>\n",
       "      <td>34.5</td>\n",
       "      <td>0</td>\n",
       "      <td>0</td>\n",
       "      <td>330911</td>\n",
       "      <td>7.8292</td>\n",
       "      <td>NaN</td>\n",
       "      <td>Q</td>\n",
       "    </tr>\n",
       "    <tr>\n",
       "      <th>1</th>\n",
       "      <td>893</td>\n",
       "      <td>3</td>\n",
       "      <td>Wilkes, Mrs. James (Ellen Needs)</td>\n",
       "      <td>female</td>\n",
       "      <td>47.0</td>\n",
       "      <td>1</td>\n",
       "      <td>0</td>\n",
       "      <td>363272</td>\n",
       "      <td>7.0000</td>\n",
       "      <td>NaN</td>\n",
       "      <td>S</td>\n",
       "    </tr>\n",
       "    <tr>\n",
       "      <th>2</th>\n",
       "      <td>894</td>\n",
       "      <td>2</td>\n",
       "      <td>Myles, Mr. Thomas Francis</td>\n",
       "      <td>male</td>\n",
       "      <td>62.0</td>\n",
       "      <td>0</td>\n",
       "      <td>0</td>\n",
       "      <td>240276</td>\n",
       "      <td>9.6875</td>\n",
       "      <td>NaN</td>\n",
       "      <td>Q</td>\n",
       "    </tr>\n",
       "    <tr>\n",
       "      <th>3</th>\n",
       "      <td>895</td>\n",
       "      <td>3</td>\n",
       "      <td>Wirz, Mr. Albert</td>\n",
       "      <td>male</td>\n",
       "      <td>27.0</td>\n",
       "      <td>0</td>\n",
       "      <td>0</td>\n",
       "      <td>315154</td>\n",
       "      <td>8.6625</td>\n",
       "      <td>NaN</td>\n",
       "      <td>S</td>\n",
       "    </tr>\n",
       "    <tr>\n",
       "      <th>4</th>\n",
       "      <td>896</td>\n",
       "      <td>3</td>\n",
       "      <td>Hirvonen, Mrs. Alexander (Helga E Lindqvist)</td>\n",
       "      <td>female</td>\n",
       "      <td>22.0</td>\n",
       "      <td>1</td>\n",
       "      <td>1</td>\n",
       "      <td>3101298</td>\n",
       "      <td>12.2875</td>\n",
       "      <td>NaN</td>\n",
       "      <td>S</td>\n",
       "    </tr>\n",
       "  </tbody>\n",
       "</table>\n",
       "</div>"
      ],
      "text/plain": [
       "   PassengerId  Pclass                                          Name     Sex  \\\n",
       "0          892       3                              Kelly, Mr. James    male   \n",
       "1          893       3              Wilkes, Mrs. James (Ellen Needs)  female   \n",
       "2          894       2                     Myles, Mr. Thomas Francis    male   \n",
       "3          895       3                              Wirz, Mr. Albert    male   \n",
       "4          896       3  Hirvonen, Mrs. Alexander (Helga E Lindqvist)  female   \n",
       "\n",
       "    Age  SibSp  Parch   Ticket     Fare Cabin Embarked  \n",
       "0  34.5      0      0   330911   7.8292   NaN        Q  \n",
       "1  47.0      1      0   363272   7.0000   NaN        S  \n",
       "2  62.0      0      0   240276   9.6875   NaN        Q  \n",
       "3  27.0      0      0   315154   8.6625   NaN        S  \n",
       "4  22.0      1      1  3101298  12.2875   NaN        S  "
      ]
     },
     "execution_count": 3,
     "metadata": {},
     "output_type": "execute_result"
    }
   ],
   "source": [
    "# Load test data\n",
    "test_data = pd.read_csv(\"/kaggle/input/titanic/test.csv\")\n",
    "test_data.head()"
   ]
  },
  {
   "cell_type": "code",
   "execution_count": 4,
   "id": "555a0b45",
   "metadata": {
    "execution": {
     "iopub.execute_input": "2023-08-18T08:51:19.738525Z",
     "iopub.status.busy": "2023-08-18T08:51:19.737698Z",
     "iopub.status.idle": "2023-08-18T08:51:19.746473Z",
     "shell.execute_reply": "2023-08-18T08:51:19.745388Z"
    },
    "papermill": {
     "duration": 0.041236,
     "end_time": "2023-08-18T08:51:19.748726",
     "exception": false,
     "start_time": "2023-08-18T08:51:19.707490",
     "status": "completed"
    },
    "tags": []
   },
   "outputs": [
    {
     "name": "stdout",
     "output_type": "stream",
     "text": [
      "Total Number of survival: 342\n",
      "Total Number of passenger: 891\n"
     ]
    }
   ],
   "source": [
    "# Check total num passenger, survival, minors\n",
    "survivals = (train_data.Survived == 1).sum()\n",
    "print(f\"Total Number of survival: {survivals}\")\n",
    "num_pass = len(train_data)\n",
    "print(f\"Total Number of passenger: {num_pass}\")"
   ]
  },
  {
   "cell_type": "code",
   "execution_count": 5,
   "id": "94c5d7c4",
   "metadata": {
    "execution": {
     "iopub.execute_input": "2023-08-18T08:51:19.808020Z",
     "iopub.status.busy": "2023-08-18T08:51:19.807727Z",
     "iopub.status.idle": "2023-08-18T08:51:19.817263Z",
     "shell.execute_reply": "2023-08-18T08:51:19.816394Z"
    },
    "papermill": {
     "duration": 0.041754,
     "end_time": "2023-08-18T08:51:19.819253",
     "exception": false,
     "start_time": "2023-08-18T08:51:19.777499",
     "status": "completed"
    },
    "tags": []
   },
   "outputs": [
    {
     "data": {
      "text/plain": [
       "0    549\n",
       "1    342\n",
       "Name: Survived, dtype: int64"
      ]
     },
     "execution_count": 5,
     "metadata": {},
     "output_type": "execute_result"
    }
   ],
   "source": [
    "# Find the number of class in the target\n",
    "train_data[\"Survived\"].value_counts()"
   ]
  },
  {
   "cell_type": "code",
   "execution_count": 6,
   "id": "a09d4a27",
   "metadata": {
    "execution": {
     "iopub.execute_input": "2023-08-18T08:51:19.880591Z",
     "iopub.status.busy": "2023-08-18T08:51:19.879822Z",
     "iopub.status.idle": "2023-08-18T08:51:20.142685Z",
     "shell.execute_reply": "2023-08-18T08:51:20.141705Z"
    },
    "papermill": {
     "duration": 0.296088,
     "end_time": "2023-08-18T08:51:20.145095",
     "exception": false,
     "start_time": "2023-08-18T08:51:19.849007",
     "status": "completed"
    },
    "tags": []
   },
   "outputs": [
    {
     "data": {
      "text/plain": [
       "<Axes: >"
      ]
     },
     "execution_count": 6,
     "metadata": {},
     "output_type": "execute_result"
    },
    {
     "data": {
      "image/png": "[encoded data removed]",
      "text/plain": [
       "<Figure size 640x480 with 1 Axes>"
      ]
     },
     "metadata": {},
     "output_type": "display_data"
    }
   ],
   "source": [
    "# Visualizing our data\n",
    "train_data.Survived.value_counts().plot(kind='bar', color=[\"salmon\", \"lightblue\"])"
   ]
  },
  {
   "cell_type": "code",
   "execution_count": 7,
   "id": "5eb47fef",
   "metadata": {
    "execution": {
     "iopub.execute_input": "2023-08-18T08:51:20.208446Z",
     "iopub.status.busy": "2023-08-18T08:51:20.208104Z",
     "iopub.status.idle": "2023-08-18T08:51:20.226507Z",
     "shell.execute_reply": "2023-08-18T08:51:20.225548Z"
    },
    "papermill": {
     "duration": 0.051922,
     "end_time": "2023-08-18T08:51:20.228623",
     "exception": false,
     "start_time": "2023-08-18T08:51:20.176701",
     "status": "completed"
    },
    "tags": []
   },
   "outputs": [
    {
     "name": "stdout",
     "output_type": "stream",
     "text": [
      "<class 'pandas.core.frame.DataFrame'>\n",
      "RangeIndex: 891 entries, 0 to 890\n",
      "Data columns (total 12 columns):\n",
      " #   Column       Non-Null Count  Dtype  \n",
      "---  ------       --------------  -----  \n",
      " 0   PassengerId  891 non-null    int64  \n",
      " 1   Survived     891 non-null    int64  \n",
      " 2   Pclass       891 non-null    int64  \n",
      " 3   Name         891 non-null    object \n",
      " 4   Sex          891 non-null    object \n",
      " 5   Age          714 non-null    float64\n",
      " 6   SibSp        891 non-null    int64  \n",
      " 7   Parch        891 non-null    int64  \n",
      " 8   Ticket       891 non-null    object \n",
      " 9   Fare         891 non-null    float64\n",
      " 10  Cabin        204 non-null    object \n",
      " 11  Embarked     889 non-null    object \n",
      "dtypes: float64(2), int64(5), object(5)\n",
      "memory usage: 83.7+ KB\n"
     ]
    }
   ],
   "source": [
    "# Check the dtype of data\n",
    "train_data.info()"
   ]
  },
  {
   "cell_type": "code",
   "execution_count": 8,
   "id": "6a54f8b9",
   "metadata": {
    "execution": {
     "iopub.execute_input": "2023-08-18T08:51:20.290669Z",
     "iopub.status.busy": "2023-08-18T08:51:20.289770Z",
     "iopub.status.idle": "2023-08-18T08:51:20.299303Z",
     "shell.execute_reply": "2023-08-18T08:51:20.298258Z"
    },
    "papermill": {
     "duration": 0.042697,
     "end_time": "2023-08-18T08:51:20.301569",
     "exception": false,
     "start_time": "2023-08-18T08:51:20.258872",
     "status": "completed"
    },
    "tags": []
   },
   "outputs": [
    {
     "data": {
      "text/plain": [
       "PassengerId      0\n",
       "Survived         0\n",
       "Pclass           0\n",
       "Name             0\n",
       "Sex              0\n",
       "Age            177\n",
       "SibSp            0\n",
       "Parch            0\n",
       "Ticket           0\n",
       "Fare             0\n",
       "Cabin          687\n",
       "Embarked         2\n",
       "dtype: int64"
      ]
     },
     "execution_count": 8,
     "metadata": {},
     "output_type": "execute_result"
    }
   ],
   "source": [
    "# check for missing data\n",
    "train_data.isna().sum()"
   ]
  },
  {
   "cell_type": "code",
   "execution_count": 9,
   "id": "afbf29b7",
   "metadata": {
    "execution": {
     "iopub.execute_input": "2023-08-18T08:51:20.364307Z",
     "iopub.status.busy": "2023-08-18T08:51:20.364038Z",
     "iopub.status.idle": "2023-08-18T08:51:20.397324Z",
     "shell.execute_reply": "2023-08-18T08:51:20.396361Z"
    },
    "papermill": {
     "duration": 0.067041,
     "end_time": "2023-08-18T08:51:20.399530",
     "exception": false,
     "start_time": "2023-08-18T08:51:20.332489",
     "status": "completed"
    },
    "tags": []
   },
   "outputs": [
    {
     "data": {
      "text/html": [
       "<div>\n",
       "<style scoped>\n",
       "    .dataframe tbody tr th:only-of-type {\n",
       "        vertical-align: middle;\n",
       "    }\n",
       "\n",
       "    .dataframe tbody tr th {\n",
       "        vertical-align: top;\n",
       "    }\n",
       "\n",
       "    .dataframe thead th {\n",
       "        text-align: right;\n",
       "    }\n",
       "</style>\n",
       "<table border=\"1\" class=\"dataframe\">\n",
       "  <thead>\n",
       "    <tr style=\"text-align: right;\">\n",
       "      <th></th>\n",
       "      <th>PassengerId</th>\n",
       "      <th>Survived</th>\n",
       "      <th>Pclass</th>\n",
       "      <th>Age</th>\n",
       "      <th>SibSp</th>\n",
       "      <th>Parch</th>\n",
       "      <th>Fare</th>\n",
       "    </tr>\n",
       "  </thead>\n",
       "  <tbody>\n",
       "    <tr>\n",
       "      <th>count</th>\n",
       "      <td>891.000000</td>\n",
       "      <td>891.000000</td>\n",
       "      <td>891.000000</td>\n",
       "      <td>714.000000</td>\n",
       "      <td>891.000000</td>\n",
       "      <td>891.000000</td>\n",
       "      <td>891.000000</td>\n",
       "    </tr>\n",
       "    <tr>\n",
       "      <th>mean</th>\n",
       "      <td>446.000000</td>\n",
       "      <td>0.383838</td>\n",
       "      <td>2.308642</td>\n",
       "      <td>29.699118</td>\n",
       "      <td>0.523008</td>\n",
       "      <td>0.381594</td>\n",
       "      <td>32.204208</td>\n",
       "    </tr>\n",
       "    <tr>\n",
       "      <th>std</th>\n",
       "      <td>257.353842</td>\n",
       "      <td>0.486592</td>\n",
       "      <td>0.836071</td>\n",
       "      <td>14.526497</td>\n",
       "      <td>1.102743</td>\n",
       "      <td>0.806057</td>\n",
       "      <td>49.693429</td>\n",
       "    </tr>\n",
       "    <tr>\n",
       "      <th>min</th>\n",
       "      <td>1.000000</td>\n",
       "      <td>0.000000</td>\n",
       "      <td>1.000000</td>\n",
       "      <td>0.420000</td>\n",
       "      <td>0.000000</td>\n",
       "      <td>0.000000</td>\n",
       "      <td>0.000000</td>\n",
       "    </tr>\n",
       "    <tr>\n",
       "      <th>25%</th>\n",
       "      <td>223.500000</td>\n",
       "      <td>0.000000</td>\n",
       "      <td>2.000000</td>\n",
       "      <td>20.125000</td>\n",
       "      <td>0.000000</td>\n",
       "      <td>0.000000</td>\n",
       "      <td>7.910400</td>\n",
       "    </tr>\n",
       "    <tr>\n",
       "      <th>50%</th>\n",
       "      <td>446.000000</td>\n",
       "      <td>0.000000</td>\n",
       "      <td>3.000000</td>\n",
       "      <td>28.000000</td>\n",
       "      <td>0.000000</td>\n",
       "      <td>0.000000</td>\n",
       "      <td>14.454200</td>\n",
       "    </tr>\n",
       "    <tr>\n",
       "      <th>75%</th>\n",
       "      <td>668.500000</td>\n",
       "      <td>1.000000</td>\n",
       "      <td>3.000000</td>\n",
       "      <td>38.000000</td>\n",
       "      <td>1.000000</td>\n",
       "      <td>0.000000</td>\n",
       "      <td>31.000000</td>\n",
       "    </tr>\n",
       "    <tr>\n",
       "      <th>max</th>\n",
       "      <td>891.000000</td>\n",
       "      <td>1.000000</td>\n",
       "      <td>3.000000</td>\n",
       "      <td>80.000000</td>\n",
       "      <td>8.000000</td>\n",
       "      <td>6.000000</td>\n",
       "      <td>512.329200</td>\n",
       "    </tr>\n",
       "  </tbody>\n",
       "</table>\n",
       "</div>"
      ],
      "text/plain": [
       "       PassengerId    Survived      Pclass         Age       SibSp  \\\n",
       "count   891.000000  891.000000  891.000000  714.000000  891.000000   \n",
       "mean    446.000000    0.383838    2.308642   29.699118    0.523008   \n",
       "std     257.353842    0.486592    0.836071   14.526497    1.102743   \n",
       "min       1.000000    0.000000    1.000000    0.420000    0.000000   \n",
       "25%     223.500000    0.000000    2.000000   20.125000    0.000000   \n",
       "50%     446.000000    0.000000    3.000000   28.000000    0.000000   \n",
       "75%     668.500000    1.000000    3.000000   38.000000    1.000000   \n",
       "max     891.000000    1.000000    3.000000   80.000000    8.000000   \n",
       "\n",
       "            Parch        Fare  \n",
       "count  891.000000  891.000000  \n",
       "mean     0.381594   32.204208  \n",
       "std      0.806057   49.693429  \n",
       "min      0.000000    0.000000  \n",
       "25%      0.000000    7.910400  \n",
       "50%      0.000000   14.454200  \n",
       "75%      0.000000   31.000000  \n",
       "max      6.000000  512.329200  "
      ]
     },
     "execution_count": 9,
     "metadata": {},
     "output_type": "execute_result"
    }
   ],
   "source": [
    "# Describe the data\n",
    "train_data.describe()"
   ]
  },
  {
   "cell_type": "code",
   "execution_count": 10,
   "id": "25ed2b38",
   "metadata": {
    "execution": {
     "iopub.execute_input": "2023-08-18T08:51:20.463019Z",
     "iopub.status.busy": "2023-08-18T08:51:20.462221Z",
     "iopub.status.idle": "2023-08-18T08:51:20.470377Z",
     "shell.execute_reply": "2023-08-18T08:51:20.469211Z"
    },
    "papermill": {
     "duration": 0.04173,
     "end_time": "2023-08-18T08:51:20.472555",
     "exception": false,
     "start_time": "2023-08-18T08:51:20.430825",
     "status": "completed"
    },
    "tags": []
   },
   "outputs": [
    {
     "data": {
      "text/plain": [
       "male      577\n",
       "female    314\n",
       "Name: Sex, dtype: int64"
      ]
     },
     "execution_count": 10,
     "metadata": {},
     "output_type": "execute_result"
    }
   ],
   "source": [
    "train_data.Sex.value_counts()"
   ]
  },
  {
   "cell_type": "code",
   "execution_count": 11,
   "id": "380112dc",
   "metadata": {
    "execution": {
     "iopub.execute_input": "2023-08-18T08:51:20.538076Z",
     "iopub.status.busy": "2023-08-18T08:51:20.537242Z",
     "iopub.status.idle": "2023-08-18T08:51:20.561513Z",
     "shell.execute_reply": "2023-08-18T08:51:20.560372Z"
    },
    "papermill": {
     "duration": 0.059548,
     "end_time": "2023-08-18T08:51:20.563964",
     "exception": false,
     "start_time": "2023-08-18T08:51:20.504416",
     "status": "completed"
    },
    "tags": []
   },
   "outputs": [
    {
     "data": {
      "text/html": [
       "<div>\n",
       "<style scoped>\n",
       "    .dataframe tbody tr th:only-of-type {\n",
       "        vertical-align: middle;\n",
       "    }\n",
       "\n",
       "    .dataframe tbody tr th {\n",
       "        vertical-align: top;\n",
       "    }\n",
       "\n",
       "    .dataframe thead th {\n",
       "        text-align: right;\n",
       "    }\n",
       "</style>\n",
       "<table border=\"1\" class=\"dataframe\">\n",
       "  <thead>\n",
       "    <tr style=\"text-align: right;\">\n",
       "      <th>Sex</th>\n",
       "      <th>female</th>\n",
       "      <th>male</th>\n",
       "    </tr>\n",
       "    <tr>\n",
       "      <th>Survived</th>\n",
       "      <th></th>\n",
       "      <th></th>\n",
       "    </tr>\n",
       "  </thead>\n",
       "  <tbody>\n",
       "    <tr>\n",
       "      <th>0</th>\n",
       "      <td>81</td>\n",
       "      <td>468</td>\n",
       "    </tr>\n",
       "    <tr>\n",
       "      <th>1</th>\n",
       "      <td>233</td>\n",
       "      <td>109</td>\n",
       "    </tr>\n",
       "  </tbody>\n",
       "</table>\n",
       "</div>"
      ],
      "text/plain": [
       "Sex       female  male\n",
       "Survived              \n",
       "0             81   468\n",
       "1            233   109"
      ]
     },
     "execution_count": 11,
     "metadata": {},
     "output_type": "execute_result"
    }
   ],
   "source": [
    "# Compare target column with sex column\n",
    "pd.crosstab(train_data.Survived, train_data.Sex)"
   ]
  },
  {
   "cell_type": "code",
   "execution_count": 12,
   "id": "56213b80",
   "metadata": {
    "execution": {
     "iopub.execute_input": "2023-08-18T08:51:20.632338Z",
     "iopub.status.busy": "2023-08-18T08:51:20.632046Z",
     "iopub.status.idle": "2023-08-18T08:51:20.967202Z",
     "shell.execute_reply": "2023-08-18T08:51:20.966248Z"
    },
    "papermill": {
     "duration": 0.370875,
     "end_time": "2023-08-18T08:51:20.969690",
     "exception": false,
     "start_time": "2023-08-18T08:51:20.598815",
     "status": "completed"
    },
    "tags": []
   },
   "outputs": [
    {
     "data": {
      "image/png": "[encoded data removed]",
      "text/plain": [
       "<Figure size 1000x600 with 1 Axes>"
      ]
     },
     "metadata": {},
     "output_type": "display_data"
    }
   ],
   "source": [
    "# Create a plot of crosstab\n",
    "pd.crosstab(train_data.Survived, train_data.Sex).plot(kind=\"bar\",\n",
    "                                                      figsize=(10, 6),\n",
    "                                                      color=[\"salmon\", 'lightblue'])\n",
    "plt.title(\"Survival Rate againt Sex\")\n",
    "plt.xlabel(\"0 = Didn't Survived, 1 = Survived\")\n",
    "plt.ylabel(\"Amount\")\n",
    "plt.legend([\"Female\", \"Male\"])\n",
    "plt.xticks(rotation=0);"
   ]
  },
  {
   "cell_type": "code",
   "execution_count": 13,
   "id": "5e9fc5dd",
   "metadata": {
    "execution": {
     "iopub.execute_input": "2023-08-18T08:51:21.038682Z",
     "iopub.status.busy": "2023-08-18T08:51:21.038280Z",
     "iopub.status.idle": "2023-08-18T08:51:21.538979Z",
     "shell.execute_reply": "2023-08-18T08:51:21.538037Z"
    },
    "papermill": {
     "duration": 0.537044,
     "end_time": "2023-08-18T08:51:21.541931",
     "exception": false,
     "start_time": "2023-08-18T08:51:21.004887",
     "status": "completed"
    },
    "tags": []
   },
   "outputs": [
    {
     "data": {
      "image/png": "[encoded data removed]",
      "text/plain": [
       "<Figure size 1000x600 with 1 Axes>"
      ]
     },
     "metadata": {},
     "output_type": "display_data"
    }
   ],
   "source": [
    "# Create a plot of crosstab\n",
    "pd.crosstab(train_data.Survived, train_data.Embarked).plot(kind=\"bar\",\n",
    "                                                           figsize=(10, 6),\n",
    "                                                           color=[\"salmon\", 'lightblue', 'lightgreen'])\n",
    "plt.title(\"Survival Rate againt Sex\")\n",
    "plt.xlabel(\"0 = Didn't Survived, 1 = Survived\")\n",
    "plt.ylabel(\"Amount\")\n",
    "plt.legend([\"Cherbourg\", \"Queenstown\", \"Southampton\"])\n",
    "plt.xticks(rotation=0);"
   ]
  },
  {
   "cell_type": "code",
   "execution_count": 14,
   "id": "298b30ae",
   "metadata": {
    "execution": {
     "iopub.execute_input": "2023-08-18T08:51:21.642654Z",
     "iopub.status.busy": "2023-08-18T08:51:21.642046Z",
     "iopub.status.idle": "2023-08-18T08:51:21.671134Z",
     "shell.execute_reply": "2023-08-18T08:51:21.670076Z"
    },
    "papermill": {
     "duration": 0.082052,
     "end_time": "2023-08-18T08:51:21.674275",
     "exception": false,
     "start_time": "2023-08-18T08:51:21.592223",
     "status": "completed"
    },
    "tags": []
   },
   "outputs": [
    {
     "name": "stderr",
     "output_type": "stream",
     "text": [
      "/tmp/ipykernel_24/2875410037.py:2: FutureWarning: The default value of numeric_only in DataFrame.corr is deprecated. In a future version, it will default to False. Select only valid columns or specify the value of numeric_only to silence this warning.\n",
      "  train_data.corr()\n"
     ]
    },
    {
     "data": {
      "text/html": [
       "<div>\n",
       "<style scoped>\n",
       "    .dataframe tbody tr th:only-of-type {\n",
       "        vertical-align: middle;\n",
       "    }\n",
       "\n",
       "    .dataframe tbody tr th {\n",
       "        vertical-align: top;\n",
       "    }\n",
       "\n",
       "    .dataframe thead th {\n",
       "        text-align: right;\n",
       "    }\n",
       "</style>\n",
       "<table border=\"1\" class=\"dataframe\">\n",
       "  <thead>\n",
       "    <tr style=\"text-align: right;\">\n",
       "      <th></th>\n",
       "      <th>PassengerId</th>\n",
       "      <th>Survived</th>\n",
       "      <th>Pclass</th>\n",
       "      <th>Age</th>\n",
       "      <th>SibSp</th>\n",
       "      <th>Parch</th>\n",
       "      <th>Fare</th>\n",
       "    </tr>\n",
       "  </thead>\n",
       "  <tbody>\n",
       "    <tr>\n",
       "      <th>PassengerId</th>\n",
       "      <td>1.000000</td>\n",
       "      <td>-0.005007</td>\n",
       "      <td>-0.035144</td>\n",
       "      <td>0.036847</td>\n",
       "      <td>-0.057527</td>\n",
       "      <td>-0.001652</td>\n",
       "      <td>0.012658</td>\n",
       "    </tr>\n",
       "    <tr>\n",
       "      <th>Survived</th>\n",
       "      <td>-0.005007</td>\n",
       "      <td>1.000000</td>\n",
       "      <td>-0.338481</td>\n",
       "      <td>-0.077221</td>\n",
       "      <td>-0.035322</td>\n",
       "      <td>0.081629</td>\n",
       "      <td>0.257307</td>\n",
       "    </tr>\n",
       "    <tr>\n",
       "      <th>Pclass</th>\n",
       "      <td>-0.035144</td>\n",
       "      <td>-0.338481</td>\n",
       "      <td>1.000000</td>\n",
       "      <td>-0.369226</td>\n",
       "      <td>0.083081</td>\n",
       "      <td>0.018443</td>\n",
       "      <td>-0.549500</td>\n",
       "    </tr>\n",
       "    <tr>\n",
       "      <th>Age</th>\n",
       "      <td>0.036847</td>\n",
       "      <td>-0.077221</td>\n",
       "      <td>-0.369226</td>\n",
       "      <td>1.000000</td>\n",
       "      <td>-0.308247</td>\n",
       "      <td>-0.189119</td>\n",
       "      <td>0.096067</td>\n",
       "    </tr>\n",
       "    <tr>\n",
       "      <th>SibSp</th>\n",
       "      <td>-0.057527</td>\n",
       "      <td>-0.035322</td>\n",
       "      <td>0.083081</td>\n",
       "      <td>-0.308247</td>\n",
       "      <td>1.000000</td>\n",
       "      <td>0.414838</td>\n",
       "      <td>0.159651</td>\n",
       "    </tr>\n",
       "    <tr>\n",
       "      <th>Parch</th>\n",
       "      <td>-0.001652</td>\n",
       "      <td>0.081629</td>\n",
       "      <td>0.018443</td>\n",
       "      <td>-0.189119</td>\n",
       "      <td>0.414838</td>\n",
       "      <td>1.000000</td>\n",
       "      <td>0.216225</td>\n",
       "    </tr>\n",
       "    <tr>\n",
       "      <th>Fare</th>\n",
       "      <td>0.012658</td>\n",
       "      <td>0.257307</td>\n",
       "      <td>-0.549500</td>\n",
       "      <td>0.096067</td>\n",
       "      <td>0.159651</td>\n",
       "      <td>0.216225</td>\n",
       "      <td>1.000000</td>\n",
       "    </tr>\n",
       "  </tbody>\n",
       "</table>\n",
       "</div>"
      ],
      "text/plain": [
       "             PassengerId  Survived    Pclass       Age     SibSp     Parch  \\\n",
       "PassengerId     1.000000 -0.005007 -0.035144  0.036847 -0.057527 -0.001652   \n",
       "Survived       -0.005007  1.000000 -0.338481 -0.077221 -0.035322  0.081629   \n",
       "Pclass         -0.035144 -0.338481  1.000000 -0.369226  0.083081  0.018443   \n",
       "Age             0.036847 -0.077221 -0.369226  1.000000 -0.308247 -0.189119   \n",
       "SibSp          -0.057527 -0.035322  0.083081 -0.308247  1.000000  0.414838   \n",
       "Parch          -0.001652  0.081629  0.018443 -0.189119  0.414838  1.000000   \n",
       "Fare            0.012658  0.257307 -0.549500  0.096067  0.159651  0.216225   \n",
       "\n",
       "                 Fare  \n",
       "PassengerId  0.012658  \n",
       "Survived     0.257307  \n",
       "Pclass      -0.549500  \n",
       "Age          0.096067  \n",
       "SibSp        0.159651  \n",
       "Parch        0.216225  \n",
       "Fare         1.000000  "
      ]
     },
     "execution_count": 14,
     "metadata": {},
     "output_type": "execute_result"
    }
   ],
   "source": [
    "# Check correlation\n",
    "train_data.corr()"
   ]
  },
  {
   "cell_type": "code",
   "execution_count": 15,
   "id": "6f7d0c3f",
   "metadata": {
    "execution": {
     "iopub.execute_input": "2023-08-18T08:51:21.779122Z",
     "iopub.status.busy": "2023-08-18T08:51:21.778617Z",
     "iopub.status.idle": "2023-08-18T08:51:23.115798Z",
     "shell.execute_reply": "2023-08-18T08:51:23.114809Z"
    },
    "papermill": {
     "duration": 1.38997,
     "end_time": "2023-08-18T08:51:23.118373",
     "exception": false,
     "start_time": "2023-08-18T08:51:21.728403",
     "status": "completed"
    },
    "tags": []
   },
   "outputs": [
    {
     "name": "stderr",
     "output_type": "stream",
     "text": [
      "/opt/conda/lib/python3.10/site-packages/scipy/__init__.py:146: UserWarning: A NumPy version >=1.16.5 and <1.23.0 is required for this version of SciPy (detected version 1.23.5\n",
      "  warnings.warn(f\"A NumPy version >={np_minversion} and <{np_maxversion}\"\n"
     ]
    }
   ],
   "source": [
    "# Fixed the issued with seaborn import error\n",
    "\n",
    "import numpy as np\n",
    "def dummy_npwarn_decorator_factory():\n",
    "  def npwarn_decorator(x):\n",
    "    return x\n",
    "  return npwarn_decorator\n",
    "np._no_nep50_warning = getattr(np, '_no_nep50_warning', dummy_npwarn_decorator_factory)\n",
    "\n",
    "import seaborn as sns"
   ]
  },
  {
   "cell_type": "code",
   "execution_count": 16,
   "id": "2895bdd5",
   "metadata": {
    "execution": {
     "iopub.execute_input": "2023-08-18T08:51:23.187274Z",
     "iopub.status.busy": "2023-08-18T08:51:23.186428Z",
     "iopub.status.idle": "2023-08-18T08:51:23.774526Z",
     "shell.execute_reply": "2023-08-18T08:51:23.773403Z"
    },
    "papermill": {
     "duration": 0.624092,
     "end_time": "2023-08-18T08:51:23.776958",
     "exception": false,
     "start_time": "2023-08-18T08:51:23.152866",
     "status": "completed"
    },
    "tags": []
   },
   "outputs": [
    {
     "data": {
      "image/png": "[encoded data removed]",
      "text/plain": [
       "<Figure size 1500x1000 with 2 Axes>"
      ]
     },
     "metadata": {},
     "output_type": "display_data"
    }
   ],
   "source": [
    "# Import seaborn and view DataFrame using correlation_matrix\n",
    "import seaborn as sns\n",
    "corr_matrix = train_data.corr(numeric_only=True)\n",
    "fig, ax = plt.subplots(figsize=(15, 10))\n",
    "ax = sns.heatmap(corr_matrix,\n",
    "                 annot=True,\n",
    "                 linewidths=0.5,\n",
    "                 fmt=\".2f\",\n",
    "                 cmap=\"YlGnBu\");"
   ]
  },
  {
   "cell_type": "code",
   "execution_count": 17,
   "id": "2e7780f6",
   "metadata": {
    "execution": {
     "iopub.execute_input": "2023-08-18T08:51:23.849583Z",
     "iopub.status.busy": "2023-08-18T08:51:23.849218Z",
     "iopub.status.idle": "2023-08-18T08:51:23.856848Z",
     "shell.execute_reply": "2023-08-18T08:51:23.855768Z"
    },
    "papermill": {
     "duration": 0.047218,
     "end_time": "2023-08-18T08:51:23.860762",
     "exception": false,
     "start_time": "2023-08-18T08:51:23.813544",
     "status": "completed"
    },
    "tags": []
   },
   "outputs": [
    {
     "name": "stdout",
     "output_type": "stream",
     "text": [
      "% of women who survived: 0.7420382165605095\n"
     ]
    }
   ],
   "source": [
    "# Explore a pattern\n",
    "women = train_data.loc[train_data.Sex == 'female'][\"Survived\"]\n",
    "rate_women = sum(women)/len(women)\n",
    "\n",
    "print(\"% of women who survived:\", rate_women)"
   ]
  },
  {
   "cell_type": "code",
   "execution_count": 18,
   "id": "7756c5c5",
   "metadata": {
    "execution": {
     "iopub.execute_input": "2023-08-18T08:51:23.931709Z",
     "iopub.status.busy": "2023-08-18T08:51:23.931406Z",
     "iopub.status.idle": "2023-08-18T08:51:23.938973Z",
     "shell.execute_reply": "2023-08-18T08:51:23.938064Z"
    },
    "papermill": {
     "duration": 0.045649,
     "end_time": "2023-08-18T08:51:23.941076",
     "exception": false,
     "start_time": "2023-08-18T08:51:23.895427",
     "status": "completed"
    },
    "tags": []
   },
   "outputs": [
    {
     "name": "stdout",
     "output_type": "stream",
     "text": [
      "% of men who survived: 0.18890814558058924\n"
     ]
    }
   ],
   "source": [
    "men = train_data.loc[train_data.Sex == 'male'][\"Survived\"]\n",
    "rate_men = sum(men)/len(men)\n",
    "\n",
    "print(\"% of men who survived:\", rate_men)"
   ]
  },
  {
   "cell_type": "code",
   "execution_count": 19,
   "id": "3978f51e",
   "metadata": {
    "execution": {
     "iopub.execute_input": "2023-08-18T08:51:24.010227Z",
     "iopub.status.busy": "2023-08-18T08:51:24.009623Z",
     "iopub.status.idle": "2023-08-18T08:51:24.233331Z",
     "shell.execute_reply": "2023-08-18T08:51:24.232364Z"
    },
    "papermill": {
     "duration": 0.261368,
     "end_time": "2023-08-18T08:51:24.235451",
     "exception": false,
     "start_time": "2023-08-18T08:51:23.974083",
     "status": "completed"
    },
    "tags": []
   },
   "outputs": [
    {
     "data": {
      "text/plain": [
       "<Axes: >"
      ]
     },
     "execution_count": 19,
     "metadata": {},
     "output_type": "execute_result"
    },
    {
     "data": {
      "image/png": "[encoded data removed]",
      "text/plain": [
       "<Figure size 640x480 with 1 Axes>"
      ]
     },
     "metadata": {},
     "output_type": "display_data"
    }
   ],
   "source": [
    "# Visualizing our data\n",
    "train_data.Survived.value_counts().plot(kind='bar', color=[\"salmon\", \"lightblue\"])"
   ]
  },
  {
   "cell_type": "code",
   "execution_count": null,
   "id": "3d07ed95",
   "metadata": {
    "papermill": {
     "duration": 0.037342,
     "end_time": "2023-08-18T08:51:24.307473",
     "exception": false,
     "start_time": "2023-08-18T08:51:24.270131",
     "status": "completed"
    },
    "tags": []
   },
   "outputs": [],
   "source": []
  },
  {
   "cell_type": "markdown",
   "id": "2ba1349c",
   "metadata": {
    "papermill": {
     "duration": 0.032536,
     "end_time": "2023-08-18T08:51:24.374418",
     "exception": false,
     "start_time": "2023-08-18T08:51:24.341882",
     "status": "completed"
    },
    "tags": []
   },
   "source": [
    "using random forest classifier to analysis data: for more information on how random forest classifier works. visit this : https://www.upgrad.com/blog/random-forest-classifier/"
   ]
  },
  {
   "cell_type": "code",
   "execution_count": 20,
   "id": "4833cdcc",
   "metadata": {
    "execution": {
     "iopub.execute_input": "2023-08-18T08:51:24.444657Z",
     "iopub.status.busy": "2023-08-18T08:51:24.444235Z",
     "iopub.status.idle": "2023-08-18T08:51:24.461911Z",
     "shell.execute_reply": "2023-08-18T08:51:24.460745Z"
    },
    "papermill": {
     "duration": 0.057192,
     "end_time": "2023-08-18T08:51:24.465098",
     "exception": false,
     "start_time": "2023-08-18T08:51:24.407906",
     "status": "completed"
    },
    "tags": []
   },
   "outputs": [
    {
     "data": {
      "text/html": [
       "<div>\n",
       "<style scoped>\n",
       "    .dataframe tbody tr th:only-of-type {\n",
       "        vertical-align: middle;\n",
       "    }\n",
       "\n",
       "    .dataframe tbody tr th {\n",
       "        vertical-align: top;\n",
       "    }\n",
       "\n",
       "    .dataframe thead th {\n",
       "        text-align: right;\n",
       "    }\n",
       "</style>\n",
       "<table border=\"1\" class=\"dataframe\">\n",
       "  <thead>\n",
       "    <tr style=\"text-align: right;\">\n",
       "      <th></th>\n",
       "      <th>PassengerId</th>\n",
       "      <th>Survived</th>\n",
       "      <th>Pclass</th>\n",
       "      <th>Name</th>\n",
       "      <th>Sex</th>\n",
       "      <th>Age</th>\n",
       "      <th>SibSp</th>\n",
       "      <th>Parch</th>\n",
       "      <th>Ticket</th>\n",
       "      <th>Fare</th>\n",
       "      <th>Cabin</th>\n",
       "      <th>Embarked</th>\n",
       "    </tr>\n",
       "  </thead>\n",
       "  <tbody>\n",
       "    <tr>\n",
       "      <th>0</th>\n",
       "      <td>1</td>\n",
       "      <td>0</td>\n",
       "      <td>3</td>\n",
       "      <td>Braund, Mr. Owen Harris</td>\n",
       "      <td>male</td>\n",
       "      <td>22.0</td>\n",
       "      <td>1</td>\n",
       "      <td>0</td>\n",
       "      <td>A/5 21171</td>\n",
       "      <td>7.2500</td>\n",
       "      <td>NaN</td>\n",
       "      <td>S</td>\n",
       "    </tr>\n",
       "    <tr>\n",
       "      <th>1</th>\n",
       "      <td>2</td>\n",
       "      <td>1</td>\n",
       "      <td>1</td>\n",
       "      <td>Cumings, Mrs. John Bradley (Florence Briggs Th...</td>\n",
       "      <td>female</td>\n",
       "      <td>38.0</td>\n",
       "      <td>1</td>\n",
       "      <td>0</td>\n",
       "      <td>PC 17599</td>\n",
       "      <td>71.2833</td>\n",
       "      <td>C85</td>\n",
       "      <td>C</td>\n",
       "    </tr>\n",
       "    <tr>\n",
       "      <th>2</th>\n",
       "      <td>3</td>\n",
       "      <td>1</td>\n",
       "      <td>3</td>\n",
       "      <td>Heikkinen, Miss. Laina</td>\n",
       "      <td>female</td>\n",
       "      <td>26.0</td>\n",
       "      <td>0</td>\n",
       "      <td>0</td>\n",
       "      <td>STON/O2. 3101282</td>\n",
       "      <td>7.9250</td>\n",
       "      <td>NaN</td>\n",
       "      <td>S</td>\n",
       "    </tr>\n",
       "    <tr>\n",
       "      <th>3</th>\n",
       "      <td>4</td>\n",
       "      <td>1</td>\n",
       "      <td>1</td>\n",
       "      <td>Futrelle, Mrs. Jacques Heath (Lily May Peel)</td>\n",
       "      <td>female</td>\n",
       "      <td>35.0</td>\n",
       "      <td>1</td>\n",
       "      <td>0</td>\n",
       "      <td>113803</td>\n",
       "      <td>53.1000</td>\n",
       "      <td>C123</td>\n",
       "      <td>S</td>\n",
       "    </tr>\n",
       "    <tr>\n",
       "      <th>4</th>\n",
       "      <td>5</td>\n",
       "      <td>0</td>\n",
       "      <td>3</td>\n",
       "      <td>Allen, Mr. William Henry</td>\n",
       "      <td>male</td>\n",
       "      <td>35.0</td>\n",
       "      <td>0</td>\n",
       "      <td>0</td>\n",
       "      <td>373450</td>\n",
       "      <td>8.0500</td>\n",
       "      <td>NaN</td>\n",
       "      <td>S</td>\n",
       "    </tr>\n",
       "  </tbody>\n",
       "</table>\n",
       "</div>"
      ],
      "text/plain": [
       "   PassengerId  Survived  Pclass  \\\n",
       "0            1         0       3   \n",
       "1            2         1       1   \n",
       "2            3         1       3   \n",
       "3            4         1       1   \n",
       "4            5         0       3   \n",
       "\n",
       "                                                Name     Sex   Age  SibSp  \\\n",
       "0                            Braund, Mr. Owen Harris    male  22.0      1   \n",
       "1  Cumings, Mrs. John Bradley (Florence Briggs Th...  female  38.0      1   \n",
       "2                             Heikkinen, Miss. Laina  female  26.0      0   \n",
       "3       Futrelle, Mrs. Jacques Heath (Lily May Peel)  female  35.0      1   \n",
       "4                           Allen, Mr. William Henry    male  35.0      0   \n",
       "\n",
       "   Parch            Ticket     Fare Cabin Embarked  \n",
       "0      0         A/5 21171   7.2500   NaN        S  \n",
       "1      0          PC 17599  71.2833   C85        C  \n",
       "2      0  STON/O2. 3101282   7.9250   NaN        S  \n",
       "3      0            113803  53.1000  C123        S  \n",
       "4      0            373450   8.0500   NaN        S  "
      ]
     },
     "execution_count": 20,
     "metadata": {},
     "output_type": "execute_result"
    }
   ],
   "source": [
    "train_data.head()"
   ]
  },
  {
   "cell_type": "code",
   "execution_count": 21,
   "id": "6d11cb14",
   "metadata": {
    "execution": {
     "iopub.execute_input": "2023-08-18T08:51:24.539837Z",
     "iopub.status.busy": "2023-08-18T08:51:24.539545Z",
     "iopub.status.idle": "2023-08-18T08:51:24.552858Z",
     "shell.execute_reply": "2023-08-18T08:51:24.551306Z"
    },
    "papermill": {
     "duration": 0.052037,
     "end_time": "2023-08-18T08:51:24.555139",
     "exception": false,
     "start_time": "2023-08-18T08:51:24.503102",
     "status": "completed"
    },
    "tags": []
   },
   "outputs": [
    {
     "data": {
      "text/plain": [
       "((891, 5), (891,))"
      ]
     },
     "execution_count": 21,
     "metadata": {},
     "output_type": "execute_result"
    }
   ],
   "source": [
    "# Lets Split data X and y\n",
    "\n",
    "# Selecting some features that is importance\n",
    "features = [\"Pclass\", \"Sex\", \"SibSp\", \"Parch\"]\n",
    "\n",
    "X = pd.get_dummies(train_data[features])\n",
    "y = train_data[\"Survived\"]\n",
    "\n",
    "X.shape, y.shape"
   ]
  },
  {
   "cell_type": "code",
   "execution_count": 22,
   "id": "a28f8940",
   "metadata": {
    "execution": {
     "iopub.execute_input": "2023-08-18T08:51:24.627138Z",
     "iopub.status.busy": "2023-08-18T08:51:24.626296Z",
     "iopub.status.idle": "2023-08-18T08:51:24.634747Z",
     "shell.execute_reply": "2023-08-18T08:51:24.633752Z"
    },
    "papermill": {
     "duration": 0.045924,
     "end_time": "2023-08-18T08:51:24.637106",
     "exception": false,
     "start_time": "2023-08-18T08:51:24.591182",
     "status": "completed"
    },
    "tags": []
   },
   "outputs": [
    {
     "data": {
      "text/plain": [
       "Pclass        0\n",
       "SibSp         0\n",
       "Parch         0\n",
       "Sex_female    0\n",
       "Sex_male      0\n",
       "dtype: int64"
      ]
     },
     "execution_count": 22,
     "metadata": {},
     "output_type": "execute_result"
    }
   ],
   "source": [
    "# Checking for missing data\n",
    "X.isna().sum()"
   ]
  },
  {
   "cell_type": "code",
   "execution_count": 23,
   "id": "ac728d75",
   "metadata": {
    "execution": {
     "iopub.execute_input": "2023-08-18T08:51:24.708459Z",
     "iopub.status.busy": "2023-08-18T08:51:24.708097Z",
     "iopub.status.idle": "2023-08-18T08:51:24.913517Z",
     "shell.execute_reply": "2023-08-18T08:51:24.912370Z"
    },
    "papermill": {
     "duration": 0.243771,
     "end_time": "2023-08-18T08:51:24.915864",
     "exception": false,
     "start_time": "2023-08-18T08:51:24.672093",
     "status": "completed"
    },
    "tags": []
   },
   "outputs": [
    {
     "data": {
      "text/plain": [
       "((712, 5), (179, 5))"
      ]
     },
     "execution_count": 23,
     "metadata": {},
     "output_type": "execute_result"
    }
   ],
   "source": [
    "# Split data into train_set and valid_set\n",
    "from sklearn.model_selection import train_test_split\n",
    "\n",
    "X_train, X_valid, y_train, y_valid = train_test_split(X, y, test_size=0.2)\n",
    "X_train.shape, X_valid.shape"
   ]
  },
  {
   "cell_type": "markdown",
   "id": "257a6331",
   "metadata": {
    "papermill": {
     "duration": 0.033739,
     "end_time": "2023-08-18T08:51:24.988538",
     "exception": false,
     "start_time": "2023-08-18T08:51:24.954799",
     "status": "completed"
    },
    "tags": []
   },
   "source": [
    "### Create a multiple estimators to train"
   ]
  },
  {
   "cell_type": "code",
   "execution_count": 24,
   "id": "ba996f41",
   "metadata": {
    "execution": {
     "iopub.execute_input": "2023-08-18T08:51:25.062076Z",
     "iopub.status.busy": "2023-08-18T08:51:25.061184Z",
     "iopub.status.idle": "2023-08-18T08:51:25.365416Z",
     "shell.execute_reply": "2023-08-18T08:51:25.364269Z"
    },
    "papermill": {
     "duration": 0.342842,
     "end_time": "2023-08-18T08:51:25.368084",
     "exception": false,
     "start_time": "2023-08-18T08:51:25.025242",
     "status": "completed"
    },
    "tags": []
   },
   "outputs": [],
   "source": [
    "# Model from Scikit-Learn\n",
    "from sklearn.linear_model import LogisticRegression\n",
    "from sklearn.neighbors import KNeighborsClassifier\n",
    "from sklearn.ensemble import RandomForestClassifier\n",
    "\n",
    "# Model Evaluations\n",
    "from sklearn.model_selection import train_test_split, cross_val_score\n",
    "from sklearn.model_selection import RandomizedSearchCV, GridSearchCV\n",
    "from sklearn.metrics import confusion_matrix, classification_report\n",
    "from sklearn.metrics import precision_score, recall_score, f1_score\n",
    "from sklearn.metrics import roc_curve, RocCurveDisplay"
   ]
  },
  {
   "cell_type": "code",
   "execution_count": 25,
   "id": "9599a850",
   "metadata": {
    "execution": {
     "iopub.execute_input": "2023-08-18T08:51:25.438232Z",
     "iopub.status.busy": "2023-08-18T08:51:25.437873Z",
     "iopub.status.idle": "2023-08-18T08:51:25.444921Z",
     "shell.execute_reply": "2023-08-18T08:51:25.443950Z"
    },
    "papermill": {
     "duration": 0.044594,
     "end_time": "2023-08-18T08:51:25.446972",
     "exception": false,
     "start_time": "2023-08-18T08:51:25.402378",
     "status": "completed"
    },
    "tags": []
   },
   "outputs": [],
   "source": [
    "# Put into a dictionary\n",
    "models = {\"Logistic Regression\": LogisticRegression(),\n",
    "          \"KNN\": KNeighborsClassifier(),\n",
    "          \"Random Forest\": RandomForestClassifier()}\n",
    "\n",
    "# Create a function to fit and score model\n",
    "def fit_and_score(models, X_train, X_valid, y_train, y_valid):\n",
    "    \"\"\"\n",
    "    Fit and evaluate a machine learning models.\n",
    "    model : a dict of different Scikit-Learn machine learning models\n",
    "    X_train : training data (no labels)\n",
    "    X_valid : valid data(no labels)\n",
    "    y_train : training labels\n",
    "    y_valid : valib labels\n",
    "    \"\"\"\n",
    "    # Set random seed\n",
    "    np.random.seed(42)\n",
    "    # Make a dictionary to keep a model scores\n",
    "    model_score = {}\n",
    "    # Loop through the model\n",
    "    for name, model in models.items():\n",
    "        # Fit our model\n",
    "        model.fit(X_train, y_train)\n",
    "        # Evaluate the model and append its score to the model scores\n",
    "        model_score[name] = model.score(X_valid, y_valid)\n",
    "    return model_score"
   ]
  },
  {
   "cell_type": "code",
   "execution_count": 26,
   "id": "4f9b6848",
   "metadata": {
    "execution": {
     "iopub.execute_input": "2023-08-18T08:51:25.518627Z",
     "iopub.status.busy": "2023-08-18T08:51:25.517859Z",
     "iopub.status.idle": "2023-08-18T08:51:25.810860Z",
     "shell.execute_reply": "2023-08-18T08:51:25.809337Z"
    },
    "papermill": {
     "duration": 0.333842,
     "end_time": "2023-08-18T08:51:25.815609",
     "exception": false,
     "start_time": "2023-08-18T08:51:25.481767",
     "status": "completed"
    },
    "tags": []
   },
   "outputs": [
    {
     "data": {
      "text/plain": [
       "{'Logistic Regression': 0.7877094972067039,\n",
       " 'KNN': 0.7821229050279329,\n",
       " 'Random Forest': 0.770949720670391}"
      ]
     },
     "execution_count": 26,
     "metadata": {},
     "output_type": "execute_result"
    }
   ],
   "source": [
    "# fit and scoring our model \n",
    "model_scores = fit_and_score(models=models,\n",
    "                             X_train=X_train,\n",
    "                             X_valid=X_valid,\n",
    "                             y_train=y_train,\n",
    "                             y_valid=y_valid)\n",
    "model_scores"
   ]
  },
  {
   "cell_type": "markdown",
   "id": "7f36f308",
   "metadata": {
    "papermill": {
     "duration": 0.036023,
     "end_time": "2023-08-18T08:51:25.895354",
     "exception": false,
     "start_time": "2023-08-18T08:51:25.859331",
     "status": "completed"
    },
    "tags": []
   },
   "source": [
    "Since our models predictions seem below our expectation, let's try \n",
    "1. Adding Age to the column and see the effect\n",
    "2. "
   ]
  },
  {
   "cell_type": "code",
   "execution_count": 27,
   "id": "a2f3befb",
   "metadata": {
    "execution": {
     "iopub.execute_input": "2023-08-18T08:51:25.979759Z",
     "iopub.status.busy": "2023-08-18T08:51:25.979382Z",
     "iopub.status.idle": "2023-08-18T08:51:26.315756Z",
     "shell.execute_reply": "2023-08-18T08:51:26.314809Z"
    },
    "papermill": {
     "duration": 0.376453,
     "end_time": "2023-08-18T08:51:26.318077",
     "exception": false,
     "start_time": "2023-08-18T08:51:25.941624",
     "status": "completed"
    },
    "tags": []
   },
   "outputs": [
    {
     "data": {
      "text/plain": [
       "<Axes: >"
      ]
     },
     "execution_count": 27,
     "metadata": {},
     "output_type": "execute_result"
    },
    {
     "data": {
      "image/png": "[encoded data removed]",
      "text/plain": [
       "<Figure size 640x480 with 1 Axes>"
      ]
     },
     "metadata": {},
     "output_type": "display_data"
    }
   ],
   "source": [
    "# Compare the difference model\n",
    "model_comparison = pd.DataFrame(model_scores, index=[\"accuracy\"])\n",
    "model_comparison.T.plot.bar()"
   ]
  },
  {
   "cell_type": "markdown",
   "id": "41880922",
   "metadata": {
    "papermill": {
     "duration": 0.034574,
     "end_time": "2023-08-18T08:51:26.388457",
     "exception": false,
     "start_time": "2023-08-18T08:51:26.353883",
     "status": "completed"
    },
    "tags": []
   },
   "source": [
    "### Adding Age to column and check if the model improved\n"
   ]
  },
  {
   "cell_type": "code",
   "execution_count": 28,
   "id": "573c75bf",
   "metadata": {
    "execution": {
     "iopub.execute_input": "2023-08-18T08:51:26.463769Z",
     "iopub.status.busy": "2023-08-18T08:51:26.463407Z",
     "iopub.status.idle": "2023-08-18T08:51:26.471275Z",
     "shell.execute_reply": "2023-08-18T08:51:26.470181Z"
    },
    "papermill": {
     "duration": 0.049693,
     "end_time": "2023-08-18T08:51:26.474244",
     "exception": false,
     "start_time": "2023-08-18T08:51:26.424551",
     "status": "completed"
    },
    "tags": []
   },
   "outputs": [
    {
     "data": {
      "text/plain": [
       "177"
      ]
     },
     "execution_count": 28,
     "metadata": {},
     "output_type": "execute_result"
    }
   ],
   "source": [
    "# check the age column and missing values\n",
    "train_data[\"Age\"].isna().sum()"
   ]
  },
  {
   "cell_type": "code",
   "execution_count": 29,
   "id": "66764b53",
   "metadata": {
    "execution": {
     "iopub.execute_input": "2023-08-18T08:51:26.551159Z",
     "iopub.status.busy": "2023-08-18T08:51:26.550497Z",
     "iopub.status.idle": "2023-08-18T08:51:26.867299Z",
     "shell.execute_reply": "2023-08-18T08:51:26.866397Z"
    },
    "papermill": {
     "duration": 0.356676,
     "end_time": "2023-08-18T08:51:26.869478",
     "exception": false,
     "start_time": "2023-08-18T08:51:26.512802",
     "status": "completed"
    },
    "tags": []
   },
   "outputs": [
    {
     "data": {
      "image/png": "[encoded data removed]",
      "text/plain": [
       "<Figure size 640x480 with 1 Axes>"
      ]
     },
     "metadata": {},
     "output_type": "display_data"
    }
   ],
   "source": [
    "# Visualized \n",
    "train_data[\"Age\"].hist();\n",
    "# Seem that the median will be best option to fill our data.. due to outliers"
   ]
  },
  {
   "cell_type": "code",
   "execution_count": 30,
   "id": "f65043ca",
   "metadata": {
    "execution": {
     "iopub.execute_input": "2023-08-18T08:51:26.942401Z",
     "iopub.status.busy": "2023-08-18T08:51:26.942059Z",
     "iopub.status.idle": "2023-08-18T08:51:26.949030Z",
     "shell.execute_reply": "2023-08-18T08:51:26.948041Z"
    },
    "papermill": {
     "duration": 0.045622,
     "end_time": "2023-08-18T08:51:26.951169",
     "exception": false,
     "start_time": "2023-08-18T08:51:26.905547",
     "status": "completed"
    },
    "tags": []
   },
   "outputs": [],
   "source": [
    "train_data[\"Age\"].fillna(train_data[\"Age\"].median(), inplace=True)"
   ]
  },
  {
   "cell_type": "code",
   "execution_count": 31,
   "id": "e08520f8",
   "metadata": {
    "execution": {
     "iopub.execute_input": "2023-08-18T08:51:27.026810Z",
     "iopub.status.busy": "2023-08-18T08:51:27.026173Z",
     "iopub.status.idle": "2023-08-18T08:51:27.033456Z",
     "shell.execute_reply": "2023-08-18T08:51:27.032546Z"
    },
    "papermill": {
     "duration": 0.047949,
     "end_time": "2023-08-18T08:51:27.035498",
     "exception": false,
     "start_time": "2023-08-18T08:51:26.987549",
     "status": "completed"
    },
    "tags": []
   },
   "outputs": [
    {
     "data": {
      "text/plain": [
       "(0, dtype('float64'))"
      ]
     },
     "execution_count": 31,
     "metadata": {},
     "output_type": "execute_result"
    }
   ],
   "source": [
    "train_data[\"Age\"].isna().sum(), train_data[\"Age\"].dtype"
   ]
  },
  {
   "cell_type": "code",
   "execution_count": 32,
   "id": "17d42656",
   "metadata": {
    "execution": {
     "iopub.execute_input": "2023-08-18T08:51:27.110467Z",
     "iopub.status.busy": "2023-08-18T08:51:27.109635Z",
     "iopub.status.idle": "2023-08-18T08:51:27.122218Z",
     "shell.execute_reply": "2023-08-18T08:51:27.121130Z"
    },
    "papermill": {
     "duration": 0.051851,
     "end_time": "2023-08-18T08:51:27.124431",
     "exception": false,
     "start_time": "2023-08-18T08:51:27.072580",
     "status": "completed"
    },
    "tags": []
   },
   "outputs": [
    {
     "data": {
      "text/html": [
       "<div>\n",
       "<style scoped>\n",
       "    .dataframe tbody tr th:only-of-type {\n",
       "        vertical-align: middle;\n",
       "    }\n",
       "\n",
       "    .dataframe tbody tr th {\n",
       "        vertical-align: top;\n",
       "    }\n",
       "\n",
       "    .dataframe thead th {\n",
       "        text-align: right;\n",
       "    }\n",
       "</style>\n",
       "<table border=\"1\" class=\"dataframe\">\n",
       "  <thead>\n",
       "    <tr style=\"text-align: right;\">\n",
       "      <th></th>\n",
       "      <th>Pclass</th>\n",
       "      <th>SibSp</th>\n",
       "      <th>Parch</th>\n",
       "      <th>Sex_female</th>\n",
       "      <th>Sex_male</th>\n",
       "      <th>Age</th>\n",
       "    </tr>\n",
       "  </thead>\n",
       "  <tbody>\n",
       "    <tr>\n",
       "      <th>0</th>\n",
       "      <td>3</td>\n",
       "      <td>1</td>\n",
       "      <td>0</td>\n",
       "      <td>0</td>\n",
       "      <td>1</td>\n",
       "      <td>22.0</td>\n",
       "    </tr>\n",
       "    <tr>\n",
       "      <th>1</th>\n",
       "      <td>1</td>\n",
       "      <td>1</td>\n",
       "      <td>0</td>\n",
       "      <td>1</td>\n",
       "      <td>0</td>\n",
       "      <td>38.0</td>\n",
       "    </tr>\n",
       "    <tr>\n",
       "      <th>2</th>\n",
       "      <td>3</td>\n",
       "      <td>0</td>\n",
       "      <td>0</td>\n",
       "      <td>1</td>\n",
       "      <td>0</td>\n",
       "      <td>26.0</td>\n",
       "    </tr>\n",
       "    <tr>\n",
       "      <th>3</th>\n",
       "      <td>1</td>\n",
       "      <td>1</td>\n",
       "      <td>0</td>\n",
       "      <td>1</td>\n",
       "      <td>0</td>\n",
       "      <td>35.0</td>\n",
       "    </tr>\n",
       "    <tr>\n",
       "      <th>4</th>\n",
       "      <td>3</td>\n",
       "      <td>0</td>\n",
       "      <td>0</td>\n",
       "      <td>0</td>\n",
       "      <td>1</td>\n",
       "      <td>35.0</td>\n",
       "    </tr>\n",
       "  </tbody>\n",
       "</table>\n",
       "</div>"
      ],
      "text/plain": [
       "   Pclass  SibSp  Parch  Sex_female  Sex_male   Age\n",
       "0       3      1      0           0         1  22.0\n",
       "1       1      1      0           1         0  38.0\n",
       "2       3      0      0           1         0  26.0\n",
       "3       1      1      0           1         0  35.0\n",
       "4       3      0      0           0         1  35.0"
      ]
     },
     "execution_count": 32,
     "metadata": {},
     "output_type": "execute_result"
    }
   ],
   "source": [
    "# Adding X to our data\n",
    "X[\"Age\"] = train_data[\"Age\"]\n",
    "X.head()"
   ]
  },
  {
   "cell_type": "code",
   "execution_count": 33,
   "id": "bfba7e45",
   "metadata": {
    "execution": {
     "iopub.execute_input": "2023-08-18T08:51:27.200456Z",
     "iopub.status.busy": "2023-08-18T08:51:27.200139Z",
     "iopub.status.idle": "2023-08-18T08:51:27.208861Z",
     "shell.execute_reply": "2023-08-18T08:51:27.207799Z"
    },
    "papermill": {
     "duration": 0.048237,
     "end_time": "2023-08-18T08:51:27.210982",
     "exception": false,
     "start_time": "2023-08-18T08:51:27.162745",
     "status": "completed"
    },
    "tags": []
   },
   "outputs": [
    {
     "data": {
      "text/plain": [
       "((712, 6), (179, 6))"
      ]
     },
     "execution_count": 33,
     "metadata": {},
     "output_type": "execute_result"
    }
   ],
   "source": [
    "# Split our data again\n",
    "X_train, X_valid, y_train, y_valid = train_test_split(X, y, test_size=0.2)\n",
    "X_train.shape, X_valid.shape"
   ]
  },
  {
   "cell_type": "code",
   "execution_count": 34,
   "id": "20d4d864",
   "metadata": {
    "execution": {
     "iopub.execute_input": "2023-08-18T08:51:27.286394Z",
     "iopub.status.busy": "2023-08-18T08:51:27.285690Z",
     "iopub.status.idle": "2023-08-18T08:51:27.587294Z",
     "shell.execute_reply": "2023-08-18T08:51:27.586139Z"
    },
    "papermill": {
     "duration": 0.34226,
     "end_time": "2023-08-18T08:51:27.590326",
     "exception": false,
     "start_time": "2023-08-18T08:51:27.248066",
     "status": "completed"
    },
    "tags": []
   },
   "outputs": [
    {
     "data": {
      "text/plain": [
       "{'Logistic Regression': 0.8379888268156425,\n",
       " 'KNN': 0.8212290502793296,\n",
       " 'Random Forest': 0.7877094972067039}"
      ]
     },
     "execution_count": 34,
     "metadata": {},
     "output_type": "execute_result"
    }
   ],
   "source": [
    "model_scores = fit_and_score(models=models,\n",
    "                             X_train=X_train,\n",
    "                             X_valid=X_valid,\n",
    "                             y_train=y_train,\n",
    "                             y_valid=y_valid)\n",
    "model_scores"
   ]
  },
  {
   "cell_type": "markdown",
   "id": "086be707",
   "metadata": {
    "papermill": {
     "duration": 0.036804,
     "end_time": "2023-08-18T08:51:27.663510",
     "exception": false,
     "start_time": "2023-08-18T08:51:27.626706",
     "status": "completed"
    },
    "tags": []
   },
   "source": [
    "😂 we got some Improvement.. That's nice\n",
    "\n",
    "{'Logistic Regression': 0.8379888268156425,\n",
    " 'KNN': 0.8212290502793296,\n",
    " 'Random Forest': 0.7877094972067039}"
   ]
  },
  {
   "cell_type": "markdown",
   "id": "632cdbe6",
   "metadata": {
    "papermill": {
     "duration": 0.035367,
     "end_time": "2023-08-18T08:51:27.734924",
     "exception": false,
     "start_time": "2023-08-18T08:51:27.699557",
     "status": "completed"
    },
    "tags": []
   },
   "source": [
    "🤔, What else could we do to improve this data? mmmm...\n",
    "Some people score 1 perfect?\n",
    "I think i could figure this out too mmm...\n",
    "\n",
    "Looking at our data and try some Basic Feature Engineering principle: example here https://triangleinequality.wordpress.com/2013/09/08/basic-feature-engineering-with-the-titanic-data/\n",
    "\n",
    "Beautiful"
   ]
  },
  {
   "cell_type": "markdown",
   "id": "62cdd45f",
   "metadata": {
    "papermill": {
     "duration": 0.035987,
     "end_time": "2023-08-18T08:51:27.806936",
     "exception": false,
     "start_time": "2023-08-18T08:51:27.770949",
     "status": "completed"
    },
    "tags": []
   },
   "source": [
    "## Feature Engineering "
   ]
  },
  {
   "cell_type": "code",
   "execution_count": 35,
   "id": "0039b18f",
   "metadata": {
    "execution": {
     "iopub.execute_input": "2023-08-18T08:51:27.883413Z",
     "iopub.status.busy": "2023-08-18T08:51:27.883026Z",
     "iopub.status.idle": "2023-08-18T08:51:27.900990Z",
     "shell.execute_reply": "2023-08-18T08:51:27.899905Z"
    },
    "papermill": {
     "duration": 0.058437,
     "end_time": "2023-08-18T08:51:27.903320",
     "exception": false,
     "start_time": "2023-08-18T08:51:27.844883",
     "status": "completed"
    },
    "tags": []
   },
   "outputs": [
    {
     "data": {
      "text/html": [
       "<div>\n",
       "<style scoped>\n",
       "    .dataframe tbody tr th:only-of-type {\n",
       "        vertical-align: middle;\n",
       "    }\n",
       "\n",
       "    .dataframe tbody tr th {\n",
       "        vertical-align: top;\n",
       "    }\n",
       "\n",
       "    .dataframe thead th {\n",
       "        text-align: right;\n",
       "    }\n",
       "</style>\n",
       "<table border=\"1\" class=\"dataframe\">\n",
       "  <thead>\n",
       "    <tr style=\"text-align: right;\">\n",
       "      <th></th>\n",
       "      <th>PassengerId</th>\n",
       "      <th>Survived</th>\n",
       "      <th>Pclass</th>\n",
       "      <th>Name</th>\n",
       "      <th>Sex</th>\n",
       "      <th>Age</th>\n",
       "      <th>SibSp</th>\n",
       "      <th>Parch</th>\n",
       "      <th>Ticket</th>\n",
       "      <th>Fare</th>\n",
       "      <th>Cabin</th>\n",
       "      <th>Embarked</th>\n",
       "    </tr>\n",
       "  </thead>\n",
       "  <tbody>\n",
       "    <tr>\n",
       "      <th>0</th>\n",
       "      <td>1</td>\n",
       "      <td>0</td>\n",
       "      <td>3</td>\n",
       "      <td>Braund, Mr. Owen Harris</td>\n",
       "      <td>male</td>\n",
       "      <td>22.0</td>\n",
       "      <td>1</td>\n",
       "      <td>0</td>\n",
       "      <td>A/5 21171</td>\n",
       "      <td>7.2500</td>\n",
       "      <td>NaN</td>\n",
       "      <td>S</td>\n",
       "    </tr>\n",
       "    <tr>\n",
       "      <th>1</th>\n",
       "      <td>2</td>\n",
       "      <td>1</td>\n",
       "      <td>1</td>\n",
       "      <td>Cumings, Mrs. John Bradley (Florence Briggs Th...</td>\n",
       "      <td>female</td>\n",
       "      <td>38.0</td>\n",
       "      <td>1</td>\n",
       "      <td>0</td>\n",
       "      <td>PC 17599</td>\n",
       "      <td>71.2833</td>\n",
       "      <td>C85</td>\n",
       "      <td>C</td>\n",
       "    </tr>\n",
       "    <tr>\n",
       "      <th>2</th>\n",
       "      <td>3</td>\n",
       "      <td>1</td>\n",
       "      <td>3</td>\n",
       "      <td>Heikkinen, Miss. Laina</td>\n",
       "      <td>female</td>\n",
       "      <td>26.0</td>\n",
       "      <td>0</td>\n",
       "      <td>0</td>\n",
       "      <td>STON/O2. 3101282</td>\n",
       "      <td>7.9250</td>\n",
       "      <td>NaN</td>\n",
       "      <td>S</td>\n",
       "    </tr>\n",
       "    <tr>\n",
       "      <th>3</th>\n",
       "      <td>4</td>\n",
       "      <td>1</td>\n",
       "      <td>1</td>\n",
       "      <td>Futrelle, Mrs. Jacques Heath (Lily May Peel)</td>\n",
       "      <td>female</td>\n",
       "      <td>35.0</td>\n",
       "      <td>1</td>\n",
       "      <td>0</td>\n",
       "      <td>113803</td>\n",
       "      <td>53.1000</td>\n",
       "      <td>C123</td>\n",
       "      <td>S</td>\n",
       "    </tr>\n",
       "    <tr>\n",
       "      <th>4</th>\n",
       "      <td>5</td>\n",
       "      <td>0</td>\n",
       "      <td>3</td>\n",
       "      <td>Allen, Mr. William Henry</td>\n",
       "      <td>male</td>\n",
       "      <td>35.0</td>\n",
       "      <td>0</td>\n",
       "      <td>0</td>\n",
       "      <td>373450</td>\n",
       "      <td>8.0500</td>\n",
       "      <td>NaN</td>\n",
       "      <td>S</td>\n",
       "    </tr>\n",
       "  </tbody>\n",
       "</table>\n",
       "</div>"
      ],
      "text/plain": [
       "   PassengerId  Survived  Pclass  \\\n",
       "0            1         0       3   \n",
       "1            2         1       1   \n",
       "2            3         1       3   \n",
       "3            4         1       1   \n",
       "4            5         0       3   \n",
       "\n",
       "                                                Name     Sex   Age  SibSp  \\\n",
       "0                            Braund, Mr. Owen Harris    male  22.0      1   \n",
       "1  Cumings, Mrs. John Bradley (Florence Briggs Th...  female  38.0      1   \n",
       "2                             Heikkinen, Miss. Laina  female  26.0      0   \n",
       "3       Futrelle, Mrs. Jacques Heath (Lily May Peel)  female  35.0      1   \n",
       "4                           Allen, Mr. William Henry    male  35.0      0   \n",
       "\n",
       "   Parch            Ticket     Fare Cabin Embarked  \n",
       "0      0         A/5 21171   7.2500   NaN        S  \n",
       "1      0          PC 17599  71.2833   C85        C  \n",
       "2      0  STON/O2. 3101282   7.9250   NaN        S  \n",
       "3      0            113803  53.1000  C123        S  \n",
       "4      0            373450   8.0500   NaN        S  "
      ]
     },
     "execution_count": 35,
     "metadata": {},
     "output_type": "execute_result"
    }
   ],
   "source": [
    "train_data.head()"
   ]
  },
  {
   "cell_type": "code",
   "execution_count": 36,
   "id": "10fceea2",
   "metadata": {
    "execution": {
     "iopub.execute_input": "2023-08-18T08:51:27.981894Z",
     "iopub.status.busy": "2023-08-18T08:51:27.981580Z",
     "iopub.status.idle": "2023-08-18T08:51:27.985613Z",
     "shell.execute_reply": "2023-08-18T08:51:27.984585Z"
    },
    "papermill": {
     "duration": 0.043785,
     "end_time": "2023-08-18T08:51:27.987983",
     "exception": false,
     "start_time": "2023-08-18T08:51:27.944198",
     "status": "completed"
    },
    "tags": []
   },
   "outputs": [],
   "source": [
    "# Importing strings\n",
    "# !pip install strings"
   ]
  },
  {
   "cell_type": "code",
   "execution_count": 37,
   "id": "abe8db62",
   "metadata": {
    "execution": {
     "iopub.execute_input": "2023-08-18T08:51:28.063533Z",
     "iopub.status.busy": "2023-08-18T08:51:28.062618Z",
     "iopub.status.idle": "2023-08-18T08:51:28.067129Z",
     "shell.execute_reply": "2023-08-18T08:51:28.066264Z"
    },
    "papermill": {
     "duration": 0.044019,
     "end_time": "2023-08-18T08:51:28.069088",
     "exception": false,
     "start_time": "2023-08-18T08:51:28.025069",
     "status": "completed"
    },
    "tags": []
   },
   "outputs": [],
   "source": [
    "import string"
   ]
  },
  {
   "cell_type": "code",
   "execution_count": 38,
   "id": "16b01951",
   "metadata": {
    "execution": {
     "iopub.execute_input": "2023-08-18T08:51:28.143754Z",
     "iopub.status.busy": "2023-08-18T08:51:28.143188Z",
     "iopub.status.idle": "2023-08-18T08:51:28.148476Z",
     "shell.execute_reply": "2023-08-18T08:51:28.147528Z"
    },
    "papermill": {
     "duration": 0.0463,
     "end_time": "2023-08-18T08:51:28.150498",
     "exception": false,
     "start_time": "2023-08-18T08:51:28.104198",
     "status": "completed"
    },
    "tags": []
   },
   "outputs": [],
   "source": [
    "def substrings_in_string(big_string, substrings):\n",
    "    for substring in substrings:\n",
    "        if substring in big_string:\n",
    "            return substring\n",
    "    print(big_string)\n",
    "    return np.nan"
   ]
  },
  {
   "cell_type": "code",
   "execution_count": 39,
   "id": "0144fd60",
   "metadata": {
    "execution": {
     "iopub.execute_input": "2023-08-18T08:51:28.223194Z",
     "iopub.status.busy": "2023-08-18T08:51:28.222446Z",
     "iopub.status.idle": "2023-08-18T08:51:28.227402Z",
     "shell.execute_reply": "2023-08-18T08:51:28.226582Z"
    },
    "papermill": {
     "duration": 0.042924,
     "end_time": "2023-08-18T08:51:28.229395",
     "exception": false,
     "start_time": "2023-08-18T08:51:28.186471",
     "status": "completed"
    },
    "tags": []
   },
   "outputs": [],
   "source": [
    "title_list=['Mrs', 'Mr', 'Master', 'Miss', 'Major', 'Rev', 'Dr', 'Ms', 'Mile', 'Col', 'Capt', 'Capt', 'Mme', \n",
    "            'Countess', 'Don', 'Jonkheer']"
   ]
  },
  {
   "cell_type": "code",
   "execution_count": 40,
   "id": "728152c5",
   "metadata": {
    "execution": {
     "iopub.execute_input": "2023-08-18T08:51:28.302024Z",
     "iopub.status.busy": "2023-08-18T08:51:28.301360Z",
     "iopub.status.idle": "2023-08-18T08:51:28.308256Z",
     "shell.execute_reply": "2023-08-18T08:51:28.307359Z"
    },
    "papermill": {
     "duration": 0.045135,
     "end_time": "2023-08-18T08:51:28.310246",
     "exception": false,
     "start_time": "2023-08-18T08:51:28.265111",
     "status": "completed"
    },
    "tags": []
   },
   "outputs": [
    {
     "data": {
      "text/plain": [
       "0                              Braund, Mr. Owen Harris\n",
       "1    Cumings, Mrs. John Bradley (Florence Briggs Th...\n",
       "2                               Heikkinen, Miss. Laina\n",
       "3         Futrelle, Mrs. Jacques Heath (Lily May Peel)\n",
       "4                             Allen, Mr. William Henry\n",
       "Name: Name, dtype: object"
      ]
     },
     "execution_count": 40,
     "metadata": {},
     "output_type": "execute_result"
    }
   ],
   "source": [
    "train_data[\"Name\"].head()"
   ]
  },
  {
   "cell_type": "code",
   "execution_count": 41,
   "id": "3f60f652",
   "metadata": {
    "execution": {
     "iopub.execute_input": "2023-08-18T08:51:28.383375Z",
     "iopub.status.busy": "2023-08-18T08:51:28.382618Z",
     "iopub.status.idle": "2023-08-18T08:51:28.389525Z",
     "shell.execute_reply": "2023-08-18T08:51:28.388581Z"
    },
    "papermill": {
     "duration": 0.045256,
     "end_time": "2023-08-18T08:51:28.391508",
     "exception": false,
     "start_time": "2023-08-18T08:51:28.346252",
     "status": "completed"
    },
    "tags": []
   },
   "outputs": [
    {
     "name": "stdout",
     "output_type": "stream",
     "text": [
      "Sagesser, Mlle. Emma\n"
     ]
    }
   ],
   "source": [
    "# Create column for Title and pass substring to it\n",
    "train_data['Title']=train_data['Name'].map(lambda x: substrings_in_string(x, title_list))"
   ]
  },
  {
   "cell_type": "code",
   "execution_count": 42,
   "id": "03eaa02f",
   "metadata": {
    "execution": {
     "iopub.execute_input": "2023-08-18T08:51:28.472459Z",
     "iopub.status.busy": "2023-08-18T08:51:28.470669Z",
     "iopub.status.idle": "2023-08-18T08:51:28.478114Z",
     "shell.execute_reply": "2023-08-18T08:51:28.476882Z"
    },
    "papermill": {
     "duration": 0.05012,
     "end_time": "2023-08-18T08:51:28.480645",
     "exception": false,
     "start_time": "2023-08-18T08:51:28.430525",
     "status": "completed"
    },
    "tags": []
   },
   "outputs": [],
   "source": [
    "# replace all titles with mr, mrs, miss, master\n",
    "def replace_titles(x):\n",
    "    title=x['Title']\n",
    "    if title in ['Don', 'Major', 'Capt', 'Jonkheer', 'Rev', 'Col']:\n",
    "        return 'Mr'\n",
    "    elif title in ['Countess', 'Mme']:\n",
    "        return 'Mrs'\n",
    "    elif title in ['Mile', 'Ms']:\n",
    "        return 'Miss'\n",
    "    elif title =='Dr':\n",
    "        if x['Sex']==\"Male\":\n",
    "            return 'Mr'\n",
    "        else:\n",
    "            return 'Mrs'\n",
    "    else:\n",
    "        return title"
   ]
  },
  {
   "cell_type": "code",
   "execution_count": 43,
   "id": "a64d0784",
   "metadata": {
    "execution": {
     "iopub.execute_input": "2023-08-18T08:51:28.560489Z",
     "iopub.status.busy": "2023-08-18T08:51:28.559831Z",
     "iopub.status.idle": "2023-08-18T08:51:28.589777Z",
     "shell.execute_reply": "2023-08-18T08:51:28.588881Z"
    },
    "papermill": {
     "duration": 0.071388,
     "end_time": "2023-08-18T08:51:28.591994",
     "exception": false,
     "start_time": "2023-08-18T08:51:28.520606",
     "status": "completed"
    },
    "tags": []
   },
   "outputs": [
    {
     "data": {
      "text/html": [
       "<div>\n",
       "<style scoped>\n",
       "    .dataframe tbody tr th:only-of-type {\n",
       "        vertical-align: middle;\n",
       "    }\n",
       "\n",
       "    .dataframe tbody tr th {\n",
       "        vertical-align: top;\n",
       "    }\n",
       "\n",
       "    .dataframe thead th {\n",
       "        text-align: right;\n",
       "    }\n",
       "</style>\n",
       "<table border=\"1\" class=\"dataframe\">\n",
       "  <thead>\n",
       "    <tr style=\"text-align: right;\">\n",
       "      <th></th>\n",
       "      <th>PassengerId</th>\n",
       "      <th>Survived</th>\n",
       "      <th>Pclass</th>\n",
       "      <th>Name</th>\n",
       "      <th>Sex</th>\n",
       "      <th>Age</th>\n",
       "      <th>SibSp</th>\n",
       "      <th>Parch</th>\n",
       "      <th>Ticket</th>\n",
       "      <th>Fare</th>\n",
       "      <th>Cabin</th>\n",
       "      <th>Embarked</th>\n",
       "      <th>Title</th>\n",
       "    </tr>\n",
       "  </thead>\n",
       "  <tbody>\n",
       "    <tr>\n",
       "      <th>0</th>\n",
       "      <td>1</td>\n",
       "      <td>0</td>\n",
       "      <td>3</td>\n",
       "      <td>Braund, Mr. Owen Harris</td>\n",
       "      <td>male</td>\n",
       "      <td>22.0</td>\n",
       "      <td>1</td>\n",
       "      <td>0</td>\n",
       "      <td>A/5 21171</td>\n",
       "      <td>7.2500</td>\n",
       "      <td>NaN</td>\n",
       "      <td>S</td>\n",
       "      <td>Mr</td>\n",
       "    </tr>\n",
       "    <tr>\n",
       "      <th>1</th>\n",
       "      <td>2</td>\n",
       "      <td>1</td>\n",
       "      <td>1</td>\n",
       "      <td>Cumings, Mrs. John Bradley (Florence Briggs Th...</td>\n",
       "      <td>female</td>\n",
       "      <td>38.0</td>\n",
       "      <td>1</td>\n",
       "      <td>0</td>\n",
       "      <td>PC 17599</td>\n",
       "      <td>71.2833</td>\n",
       "      <td>C85</td>\n",
       "      <td>C</td>\n",
       "      <td>Mrs</td>\n",
       "    </tr>\n",
       "    <tr>\n",
       "      <th>2</th>\n",
       "      <td>3</td>\n",
       "      <td>1</td>\n",
       "      <td>3</td>\n",
       "      <td>Heikkinen, Miss. Laina</td>\n",
       "      <td>female</td>\n",
       "      <td>26.0</td>\n",
       "      <td>0</td>\n",
       "      <td>0</td>\n",
       "      <td>STON/O2. 3101282</td>\n",
       "      <td>7.9250</td>\n",
       "      <td>NaN</td>\n",
       "      <td>S</td>\n",
       "      <td>Miss</td>\n",
       "    </tr>\n",
       "    <tr>\n",
       "      <th>3</th>\n",
       "      <td>4</td>\n",
       "      <td>1</td>\n",
       "      <td>1</td>\n",
       "      <td>Futrelle, Mrs. Jacques Heath (Lily May Peel)</td>\n",
       "      <td>female</td>\n",
       "      <td>35.0</td>\n",
       "      <td>1</td>\n",
       "      <td>0</td>\n",
       "      <td>113803</td>\n",
       "      <td>53.1000</td>\n",
       "      <td>C123</td>\n",
       "      <td>S</td>\n",
       "      <td>Mrs</td>\n",
       "    </tr>\n",
       "    <tr>\n",
       "      <th>4</th>\n",
       "      <td>5</td>\n",
       "      <td>0</td>\n",
       "      <td>3</td>\n",
       "      <td>Allen, Mr. William Henry</td>\n",
       "      <td>male</td>\n",
       "      <td>35.0</td>\n",
       "      <td>0</td>\n",
       "      <td>0</td>\n",
       "      <td>373450</td>\n",
       "      <td>8.0500</td>\n",
       "      <td>NaN</td>\n",
       "      <td>S</td>\n",
       "      <td>Mr</td>\n",
       "    </tr>\n",
       "  </tbody>\n",
       "</table>\n",
       "</div>"
      ],
      "text/plain": [
       "   PassengerId  Survived  Pclass  \\\n",
       "0            1         0       3   \n",
       "1            2         1       1   \n",
       "2            3         1       3   \n",
       "3            4         1       1   \n",
       "4            5         0       3   \n",
       "\n",
       "                                                Name     Sex   Age  SibSp  \\\n",
       "0                            Braund, Mr. Owen Harris    male  22.0      1   \n",
       "1  Cumings, Mrs. John Bradley (Florence Briggs Th...  female  38.0      1   \n",
       "2                             Heikkinen, Miss. Laina  female  26.0      0   \n",
       "3       Futrelle, Mrs. Jacques Heath (Lily May Peel)  female  35.0      1   \n",
       "4                           Allen, Mr. William Henry    male  35.0      0   \n",
       "\n",
       "   Parch            Ticket     Fare Cabin Embarked Title  \n",
       "0      0         A/5 21171   7.2500   NaN        S    Mr  \n",
       "1      0          PC 17599  71.2833   C85        C   Mrs  \n",
       "2      0  STON/O2. 3101282   7.9250   NaN        S  Miss  \n",
       "3      0            113803  53.1000  C123        S   Mrs  \n",
       "4      0            373450   8.0500   NaN        S    Mr  "
      ]
     },
     "execution_count": 43,
     "metadata": {},
     "output_type": "execute_result"
    }
   ],
   "source": [
    "train_data['Title']=train_data.apply(replace_titles, axis=1)\n",
    "train_data.head()"
   ]
  },
  {
   "cell_type": "code",
   "execution_count": 44,
   "id": "bbcd5755",
   "metadata": {
    "execution": {
     "iopub.execute_input": "2023-08-18T08:51:28.673300Z",
     "iopub.status.busy": "2023-08-18T08:51:28.672571Z",
     "iopub.status.idle": "2023-08-18T08:51:28.679530Z",
     "shell.execute_reply": "2023-08-18T08:51:28.678611Z"
    },
    "papermill": {
     "duration": 0.049746,
     "end_time": "2023-08-18T08:51:28.681680",
     "exception": false,
     "start_time": "2023-08-18T08:51:28.631934",
     "status": "completed"
    },
    "tags": []
   },
   "outputs": [
    {
     "data": {
      "text/plain": [
       "687"
      ]
     },
     "execution_count": 44,
     "metadata": {},
     "output_type": "execute_result"
    }
   ],
   "source": [
    "train_data.Cabin.isna().sum()"
   ]
  },
  {
   "cell_type": "code",
   "execution_count": 45,
   "id": "885a9532",
   "metadata": {
    "execution": {
     "iopub.execute_input": "2023-08-18T08:51:28.756876Z",
     "iopub.status.busy": "2023-08-18T08:51:28.756044Z",
     "iopub.status.idle": "2023-08-18T08:51:28.764459Z",
     "shell.execute_reply": "2023-08-18T08:51:28.763405Z"
    },
    "papermill": {
     "duration": 0.048583,
     "end_time": "2023-08-18T08:51:28.766560",
     "exception": false,
     "start_time": "2023-08-18T08:51:28.717977",
     "status": "completed"
    },
    "tags": []
   },
   "outputs": [
    {
     "data": {
      "text/plain": [
       "0    1\n",
       "1    1\n",
       "2    0\n",
       "3    1\n",
       "4    0\n",
       "Name: Family_Size, dtype: int64"
      ]
     },
     "execution_count": 45,
     "metadata": {},
     "output_type": "execute_result"
    }
   ],
   "source": [
    "#Creating new family_size column\n",
    "train_data['Family_Size']=train_data['SibSp']+train_data['Parch']\n",
    "train_data['Family_Size'].head()"
   ]
  },
  {
   "cell_type": "code",
   "execution_count": 46,
   "id": "53b209ed",
   "metadata": {
    "execution": {
     "iopub.execute_input": "2023-08-18T08:51:28.850458Z",
     "iopub.status.busy": "2023-08-18T08:51:28.850027Z",
     "iopub.status.idle": "2023-08-18T08:51:28.868929Z",
     "shell.execute_reply": "2023-08-18T08:51:28.867795Z"
    },
    "papermill": {
     "duration": 0.060705,
     "end_time": "2023-08-18T08:51:28.871234",
     "exception": false,
     "start_time": "2023-08-18T08:51:28.810529",
     "status": "completed"
    },
    "tags": []
   },
   "outputs": [
    {
     "data": {
      "text/html": [
       "<div>\n",
       "<style scoped>\n",
       "    .dataframe tbody tr th:only-of-type {\n",
       "        vertical-align: middle;\n",
       "    }\n",
       "\n",
       "    .dataframe tbody tr th {\n",
       "        vertical-align: top;\n",
       "    }\n",
       "\n",
       "    .dataframe thead th {\n",
       "        text-align: right;\n",
       "    }\n",
       "</style>\n",
       "<table border=\"1\" class=\"dataframe\">\n",
       "  <thead>\n",
       "    <tr style=\"text-align: right;\">\n",
       "      <th></th>\n",
       "      <th>PassengerId</th>\n",
       "      <th>Survived</th>\n",
       "      <th>Pclass</th>\n",
       "      <th>Name</th>\n",
       "      <th>Sex</th>\n",
       "      <th>Age</th>\n",
       "      <th>SibSp</th>\n",
       "      <th>Parch</th>\n",
       "      <th>Ticket</th>\n",
       "      <th>Fare</th>\n",
       "      <th>Cabin</th>\n",
       "      <th>Embarked</th>\n",
       "      <th>Title</th>\n",
       "      <th>Family_Size</th>\n",
       "    </tr>\n",
       "  </thead>\n",
       "  <tbody>\n",
       "    <tr>\n",
       "      <th>0</th>\n",
       "      <td>1</td>\n",
       "      <td>0</td>\n",
       "      <td>3</td>\n",
       "      <td>Braund, Mr. Owen Harris</td>\n",
       "      <td>male</td>\n",
       "      <td>22.0</td>\n",
       "      <td>1</td>\n",
       "      <td>0</td>\n",
       "      <td>A/5 21171</td>\n",
       "      <td>7.2500</td>\n",
       "      <td>NaN</td>\n",
       "      <td>S</td>\n",
       "      <td>Mr</td>\n",
       "      <td>1</td>\n",
       "    </tr>\n",
       "    <tr>\n",
       "      <th>1</th>\n",
       "      <td>2</td>\n",
       "      <td>1</td>\n",
       "      <td>1</td>\n",
       "      <td>Cumings, Mrs. John Bradley (Florence Briggs Th...</td>\n",
       "      <td>female</td>\n",
       "      <td>38.0</td>\n",
       "      <td>1</td>\n",
       "      <td>0</td>\n",
       "      <td>PC 17599</td>\n",
       "      <td>71.2833</td>\n",
       "      <td>C85</td>\n",
       "      <td>C</td>\n",
       "      <td>Mrs</td>\n",
       "      <td>1</td>\n",
       "    </tr>\n",
       "    <tr>\n",
       "      <th>2</th>\n",
       "      <td>3</td>\n",
       "      <td>1</td>\n",
       "      <td>3</td>\n",
       "      <td>Heikkinen, Miss. Laina</td>\n",
       "      <td>female</td>\n",
       "      <td>26.0</td>\n",
       "      <td>0</td>\n",
       "      <td>0</td>\n",
       "      <td>STON/O2. 3101282</td>\n",
       "      <td>7.9250</td>\n",
       "      <td>NaN</td>\n",
       "      <td>S</td>\n",
       "      <td>Miss</td>\n",
       "      <td>0</td>\n",
       "    </tr>\n",
       "    <tr>\n",
       "      <th>3</th>\n",
       "      <td>4</td>\n",
       "      <td>1</td>\n",
       "      <td>1</td>\n",
       "      <td>Futrelle, Mrs. Jacques Heath (Lily May Peel)</td>\n",
       "      <td>female</td>\n",
       "      <td>35.0</td>\n",
       "      <td>1</td>\n",
       "      <td>0</td>\n",
       "      <td>113803</td>\n",
       "      <td>53.1000</td>\n",
       "      <td>C123</td>\n",
       "      <td>S</td>\n",
       "      <td>Mrs</td>\n",
       "      <td>1</td>\n",
       "    </tr>\n",
       "    <tr>\n",
       "      <th>4</th>\n",
       "      <td>5</td>\n",
       "      <td>0</td>\n",
       "      <td>3</td>\n",
       "      <td>Allen, Mr. William Henry</td>\n",
       "      <td>male</td>\n",
       "      <td>35.0</td>\n",
       "      <td>0</td>\n",
       "      <td>0</td>\n",
       "      <td>373450</td>\n",
       "      <td>8.0500</td>\n",
       "      <td>NaN</td>\n",
       "      <td>S</td>\n",
       "      <td>Mr</td>\n",
       "      <td>0</td>\n",
       "    </tr>\n",
       "  </tbody>\n",
       "</table>\n",
       "</div>"
      ],
      "text/plain": [
       "   PassengerId  Survived  Pclass  \\\n",
       "0            1         0       3   \n",
       "1            2         1       1   \n",
       "2            3         1       3   \n",
       "3            4         1       1   \n",
       "4            5         0       3   \n",
       "\n",
       "                                                Name     Sex   Age  SibSp  \\\n",
       "0                            Braund, Mr. Owen Harris    male  22.0      1   \n",
       "1  Cumings, Mrs. John Bradley (Florence Briggs Th...  female  38.0      1   \n",
       "2                             Heikkinen, Miss. Laina  female  26.0      0   \n",
       "3       Futrelle, Mrs. Jacques Heath (Lily May Peel)  female  35.0      1   \n",
       "4                           Allen, Mr. William Henry    male  35.0      0   \n",
       "\n",
       "   Parch            Ticket     Fare Cabin Embarked Title  Family_Size  \n",
       "0      0         A/5 21171   7.2500   NaN        S    Mr            1  \n",
       "1      0          PC 17599  71.2833   C85        C   Mrs            1  \n",
       "2      0  STON/O2. 3101282   7.9250   NaN        S  Miss            0  \n",
       "3      0            113803  53.1000  C123        S   Mrs            1  \n",
       "4      0            373450   8.0500   NaN        S    Mr            0  "
      ]
     },
     "execution_count": 46,
     "metadata": {},
     "output_type": "execute_result"
    }
   ],
   "source": [
    "train_data.head()"
   ]
  },
  {
   "cell_type": "code",
   "execution_count": 47,
   "id": "727d4476",
   "metadata": {
    "execution": {
     "iopub.execute_input": "2023-08-18T08:51:28.954193Z",
     "iopub.status.busy": "2023-08-18T08:51:28.953170Z",
     "iopub.status.idle": "2023-08-18T08:51:28.959151Z",
     "shell.execute_reply": "2023-08-18T08:51:28.958187Z"
    },
    "papermill": {
     "duration": 0.048646,
     "end_time": "2023-08-18T08:51:28.961494",
     "exception": false,
     "start_time": "2023-08-18T08:51:28.912848",
     "status": "completed"
    },
    "tags": []
   },
   "outputs": [],
   "source": [
    "# Fill missing value with unknown\n",
    "train_data[\"Cabin\"].replace(np.nan, \"Unknown\", inplace=True)"
   ]
  },
  {
   "cell_type": "code",
   "execution_count": 48,
   "id": "770840f4",
   "metadata": {
    "execution": {
     "iopub.execute_input": "2023-08-18T08:51:29.045537Z",
     "iopub.status.busy": "2023-08-18T08:51:29.044712Z",
     "iopub.status.idle": "2023-08-18T08:51:29.051828Z",
     "shell.execute_reply": "2023-08-18T08:51:29.050953Z"
    },
    "papermill": {
     "duration": 0.050592,
     "end_time": "2023-08-18T08:51:29.053882",
     "exception": false,
     "start_time": "2023-08-18T08:51:29.003290",
     "status": "completed"
    },
    "tags": []
   },
   "outputs": [],
   "source": [
    "# Turning cabin number into Deck\n",
    "cabin_list = ['A', 'B', 'C', 'D', 'E', 'F', 'T', 'G', 'Unknown']\n",
    "train_data['Deck'] = train_data[\"Cabin\"].map(lambda x: substrings_in_string(x, cabin_list))"
   ]
  },
  {
   "cell_type": "code",
   "execution_count": 49,
   "id": "e4a41239",
   "metadata": {
    "execution": {
     "iopub.execute_input": "2023-08-18T08:51:29.131763Z",
     "iopub.status.busy": "2023-08-18T08:51:29.131421Z",
     "iopub.status.idle": "2023-08-18T08:51:29.141895Z",
     "shell.execute_reply": "2023-08-18T08:51:29.140852Z"
    },
    "papermill": {
     "duration": 0.050982,
     "end_time": "2023-08-18T08:51:29.143954",
     "exception": false,
     "start_time": "2023-08-18T08:51:29.092972",
     "status": "completed"
    },
    "tags": []
   },
   "outputs": [
    {
     "data": {
      "text/plain": [
       "0     66.0\n",
       "1     38.0\n",
       "2     78.0\n",
       "3     35.0\n",
       "4    105.0\n",
       "Name: Age*Class, dtype: float64"
      ]
     },
     "execution_count": 49,
     "metadata": {},
     "output_type": "execute_result"
    }
   ],
   "source": [
    "# Age*Class\n",
    "train_data['Age*Class']=train_data['Age']*train_data['Pclass']\n",
    "train_data['Age*Class'].head()"
   ]
  },
  {
   "cell_type": "code",
   "execution_count": 50,
   "id": "29805637",
   "metadata": {
    "execution": {
     "iopub.execute_input": "2023-08-18T08:51:29.263978Z",
     "iopub.status.busy": "2023-08-18T08:51:29.263010Z",
     "iopub.status.idle": "2023-08-18T08:51:29.272941Z",
     "shell.execute_reply": "2023-08-18T08:51:29.271749Z"
    },
    "papermill": {
     "duration": 0.051617,
     "end_time": "2023-08-18T08:51:29.275206",
     "exception": false,
     "start_time": "2023-08-18T08:51:29.223589",
     "status": "completed"
    },
    "tags": []
   },
   "outputs": [
    {
     "data": {
      "text/plain": [
       "0     3.62500\n",
       "1    35.64165\n",
       "2     7.92500\n",
       "3    26.55000\n",
       "4     8.05000\n",
       "Name: Fare_Per_Person, dtype: float64"
      ]
     },
     "execution_count": 50,
     "metadata": {},
     "output_type": "execute_result"
    }
   ],
   "source": [
    "# Fare per person\n",
    "train_data['Fare_Per_Person']=train_data['Fare']/(train_data['Family_Size']+1)\n",
    "train_data['Fare_Per_Person'].head()"
   ]
  },
  {
   "cell_type": "code",
   "execution_count": 51,
   "id": "a72fbd31",
   "metadata": {
    "execution": {
     "iopub.execute_input": "2023-08-18T08:51:29.364083Z",
     "iopub.status.busy": "2023-08-18T08:51:29.363710Z",
     "iopub.status.idle": "2023-08-18T08:51:29.388622Z",
     "shell.execute_reply": "2023-08-18T08:51:29.387418Z"
    },
    "papermill": {
     "duration": 0.074712,
     "end_time": "2023-08-18T08:51:29.391299",
     "exception": false,
     "start_time": "2023-08-18T08:51:29.316587",
     "status": "completed"
    },
    "tags": []
   },
   "outputs": [
    {
     "data": {
      "text/html": [
       "<div>\n",
       "<style scoped>\n",
       "    .dataframe tbody tr th:only-of-type {\n",
       "        vertical-align: middle;\n",
       "    }\n",
       "\n",
       "    .dataframe tbody tr th {\n",
       "        vertical-align: top;\n",
       "    }\n",
       "\n",
       "    .dataframe thead th {\n",
       "        text-align: right;\n",
       "    }\n",
       "</style>\n",
       "<table border=\"1\" class=\"dataframe\">\n",
       "  <thead>\n",
       "    <tr style=\"text-align: right;\">\n",
       "      <th></th>\n",
       "      <th>PassengerId</th>\n",
       "      <th>Survived</th>\n",
       "      <th>Pclass</th>\n",
       "      <th>Name</th>\n",
       "      <th>Sex</th>\n",
       "      <th>Age</th>\n",
       "      <th>SibSp</th>\n",
       "      <th>Parch</th>\n",
       "      <th>Ticket</th>\n",
       "      <th>Fare</th>\n",
       "      <th>Cabin</th>\n",
       "      <th>Embarked</th>\n",
       "      <th>Title</th>\n",
       "      <th>Family_Size</th>\n",
       "      <th>Deck</th>\n",
       "      <th>Age*Class</th>\n",
       "      <th>Fare_Per_Person</th>\n",
       "    </tr>\n",
       "  </thead>\n",
       "  <tbody>\n",
       "    <tr>\n",
       "      <th>0</th>\n",
       "      <td>1</td>\n",
       "      <td>0</td>\n",
       "      <td>3</td>\n",
       "      <td>Braund, Mr. Owen Harris</td>\n",
       "      <td>male</td>\n",
       "      <td>22.0</td>\n",
       "      <td>1</td>\n",
       "      <td>0</td>\n",
       "      <td>A/5 21171</td>\n",
       "      <td>7.2500</td>\n",
       "      <td>Unknown</td>\n",
       "      <td>S</td>\n",
       "      <td>Mr</td>\n",
       "      <td>1</td>\n",
       "      <td>Unknown</td>\n",
       "      <td>66.0</td>\n",
       "      <td>3.62500</td>\n",
       "    </tr>\n",
       "    <tr>\n",
       "      <th>1</th>\n",
       "      <td>2</td>\n",
       "      <td>1</td>\n",
       "      <td>1</td>\n",
       "      <td>Cumings, Mrs. John Bradley (Florence Briggs Th...</td>\n",
       "      <td>female</td>\n",
       "      <td>38.0</td>\n",
       "      <td>1</td>\n",
       "      <td>0</td>\n",
       "      <td>PC 17599</td>\n",
       "      <td>71.2833</td>\n",
       "      <td>C85</td>\n",
       "      <td>C</td>\n",
       "      <td>Mrs</td>\n",
       "      <td>1</td>\n",
       "      <td>C</td>\n",
       "      <td>38.0</td>\n",
       "      <td>35.64165</td>\n",
       "    </tr>\n",
       "    <tr>\n",
       "      <th>2</th>\n",
       "      <td>3</td>\n",
       "      <td>1</td>\n",
       "      <td>3</td>\n",
       "      <td>Heikkinen, Miss. Laina</td>\n",
       "      <td>female</td>\n",
       "      <td>26.0</td>\n",
       "      <td>0</td>\n",
       "      <td>0</td>\n",
       "      <td>STON/O2. 3101282</td>\n",
       "      <td>7.9250</td>\n",
       "      <td>Unknown</td>\n",
       "      <td>S</td>\n",
       "      <td>Miss</td>\n",
       "      <td>0</td>\n",
       "      <td>Unknown</td>\n",
       "      <td>78.0</td>\n",
       "      <td>7.92500</td>\n",
       "    </tr>\n",
       "    <tr>\n",
       "      <th>3</th>\n",
       "      <td>4</td>\n",
       "      <td>1</td>\n",
       "      <td>1</td>\n",
       "      <td>Futrelle, Mrs. Jacques Heath (Lily May Peel)</td>\n",
       "      <td>female</td>\n",
       "      <td>35.0</td>\n",
       "      <td>1</td>\n",
       "      <td>0</td>\n",
       "      <td>113803</td>\n",
       "      <td>53.1000</td>\n",
       "      <td>C123</td>\n",
       "      <td>S</td>\n",
       "      <td>Mrs</td>\n",
       "      <td>1</td>\n",
       "      <td>C</td>\n",
       "      <td>35.0</td>\n",
       "      <td>26.55000</td>\n",
       "    </tr>\n",
       "    <tr>\n",
       "      <th>4</th>\n",
       "      <td>5</td>\n",
       "      <td>0</td>\n",
       "      <td>3</td>\n",
       "      <td>Allen, Mr. William Henry</td>\n",
       "      <td>male</td>\n",
       "      <td>35.0</td>\n",
       "      <td>0</td>\n",
       "      <td>0</td>\n",
       "      <td>373450</td>\n",
       "      <td>8.0500</td>\n",
       "      <td>Unknown</td>\n",
       "      <td>S</td>\n",
       "      <td>Mr</td>\n",
       "      <td>0</td>\n",
       "      <td>Unknown</td>\n",
       "      <td>105.0</td>\n",
       "      <td>8.05000</td>\n",
       "    </tr>\n",
       "  </tbody>\n",
       "</table>\n",
       "</div>"
      ],
      "text/plain": [
       "   PassengerId  Survived  Pclass  \\\n",
       "0            1         0       3   \n",
       "1            2         1       1   \n",
       "2            3         1       3   \n",
       "3            4         1       1   \n",
       "4            5         0       3   \n",
       "\n",
       "                                                Name     Sex   Age  SibSp  \\\n",
       "0                            Braund, Mr. Owen Harris    male  22.0      1   \n",
       "1  Cumings, Mrs. John Bradley (Florence Briggs Th...  female  38.0      1   \n",
       "2                             Heikkinen, Miss. Laina  female  26.0      0   \n",
       "3       Futrelle, Mrs. Jacques Heath (Lily May Peel)  female  35.0      1   \n",
       "4                           Allen, Mr. William Henry    male  35.0      0   \n",
       "\n",
       "   Parch            Ticket     Fare    Cabin Embarked Title  Family_Size  \\\n",
       "0      0         A/5 21171   7.2500  Unknown        S    Mr            1   \n",
       "1      0          PC 17599  71.2833      C85        C   Mrs            1   \n",
       "2      0  STON/O2. 3101282   7.9250  Unknown        S  Miss            0   \n",
       "3      0            113803  53.1000     C123        S   Mrs            1   \n",
       "4      0            373450   8.0500  Unknown        S    Mr            0   \n",
       "\n",
       "      Deck  Age*Class  Fare_Per_Person  \n",
       "0  Unknown       66.0          3.62500  \n",
       "1        C       38.0         35.64165  \n",
       "2  Unknown       78.0          7.92500  \n",
       "3        C       35.0         26.55000  \n",
       "4  Unknown      105.0          8.05000  "
      ]
     },
     "execution_count": 51,
     "metadata": {},
     "output_type": "execute_result"
    }
   ],
   "source": [
    "train_data.head()"
   ]
  },
  {
   "cell_type": "code",
   "execution_count": 52,
   "id": "620effbc",
   "metadata": {
    "execution": {
     "iopub.execute_input": "2023-08-18T08:51:29.482836Z",
     "iopub.status.busy": "2023-08-18T08:51:29.481900Z",
     "iopub.status.idle": "2023-08-18T08:51:29.498122Z",
     "shell.execute_reply": "2023-08-18T08:51:29.496405Z"
    },
    "papermill": {
     "duration": 0.061852,
     "end_time": "2023-08-18T08:51:29.500567",
     "exception": false,
     "start_time": "2023-08-18T08:51:29.438715",
     "status": "completed"
    },
    "tags": []
   },
   "outputs": [
    {
     "name": "stdout",
     "output_type": "stream",
     "text": [
      "<class 'pandas.core.frame.DataFrame'>\n",
      "RangeIndex: 891 entries, 0 to 890\n",
      "Data columns (total 17 columns):\n",
      " #   Column           Non-Null Count  Dtype  \n",
      "---  ------           --------------  -----  \n",
      " 0   PassengerId      891 non-null    int64  \n",
      " 1   Survived         891 non-null    int64  \n",
      " 2   Pclass           891 non-null    int64  \n",
      " 3   Name             891 non-null    object \n",
      " 4   Sex              891 non-null    object \n",
      " 5   Age              891 non-null    float64\n",
      " 6   SibSp            891 non-null    int64  \n",
      " 7   Parch            891 non-null    int64  \n",
      " 8   Ticket           891 non-null    object \n",
      " 9   Fare             891 non-null    float64\n",
      " 10  Cabin            891 non-null    object \n",
      " 11  Embarked         889 non-null    object \n",
      " 12  Title            890 non-null    object \n",
      " 13  Family_Size      891 non-null    int64  \n",
      " 14  Deck             891 non-null    object \n",
      " 15  Age*Class        891 non-null    float64\n",
      " 16  Fare_Per_Person  891 non-null    float64\n",
      "dtypes: float64(4), int64(6), object(7)\n",
      "memory usage: 118.5+ KB\n"
     ]
    }
   ],
   "source": [
    "train_data.info()"
   ]
  },
  {
   "cell_type": "markdown",
   "id": "39c2f621",
   "metadata": {
    "papermill": {
     "duration": 0.0392,
     "end_time": "2023-08-18T08:51:29.581844",
     "exception": false,
     "start_time": "2023-08-18T08:51:29.542644",
     "status": "completed"
    },
    "tags": []
   },
   "source": [
    "### Testing New Features"
   ]
  },
  {
   "cell_type": "code",
   "execution_count": 53,
   "id": "9fe866cd",
   "metadata": {
    "execution": {
     "iopub.execute_input": "2023-08-18T08:51:29.661196Z",
     "iopub.status.busy": "2023-08-18T08:51:29.660246Z",
     "iopub.status.idle": "2023-08-18T08:51:29.666758Z",
     "shell.execute_reply": "2023-08-18T08:51:29.665703Z"
    },
    "papermill": {
     "duration": 0.048358,
     "end_time": "2023-08-18T08:51:29.668945",
     "exception": false,
     "start_time": "2023-08-18T08:51:29.620587",
     "status": "completed"
    },
    "tags": []
   },
   "outputs": [
    {
     "data": {
      "text/plain": [
       "(891, 17)"
      ]
     },
     "execution_count": 53,
     "metadata": {},
     "output_type": "execute_result"
    }
   ],
   "source": [
    "train_data.shape"
   ]
  },
  {
   "cell_type": "code",
   "execution_count": 54,
   "id": "a4ed1fd5",
   "metadata": {
    "execution": {
     "iopub.execute_input": "2023-08-18T08:51:29.746488Z",
     "iopub.status.busy": "2023-08-18T08:51:29.745682Z",
     "iopub.status.idle": "2023-08-18T08:51:29.775708Z",
     "shell.execute_reply": "2023-08-18T08:51:29.774673Z"
    },
    "papermill": {
     "duration": 0.07105,
     "end_time": "2023-08-18T08:51:29.778018",
     "exception": false,
     "start_time": "2023-08-18T08:51:29.706968",
     "status": "completed"
    },
    "tags": []
   },
   "outputs": [
    {
     "data": {
      "text/html": [
       "<div>\n",
       "<style scoped>\n",
       "    .dataframe tbody tr th:only-of-type {\n",
       "        vertical-align: middle;\n",
       "    }\n",
       "\n",
       "    .dataframe tbody tr th {\n",
       "        vertical-align: top;\n",
       "    }\n",
       "\n",
       "    .dataframe thead th {\n",
       "        text-align: right;\n",
       "    }\n",
       "</style>\n",
       "<table border=\"1\" class=\"dataframe\">\n",
       "  <thead>\n",
       "    <tr style=\"text-align: right;\">\n",
       "      <th></th>\n",
       "      <th>Pclass</th>\n",
       "      <th>SibSp</th>\n",
       "      <th>Parch</th>\n",
       "      <th>Sex_female</th>\n",
       "      <th>Sex_male</th>\n",
       "      <th>Title_Master</th>\n",
       "      <th>Title_Miss</th>\n",
       "      <th>Title_Mr</th>\n",
       "      <th>Title_Mrs</th>\n",
       "      <th>Embarked_C</th>\n",
       "      <th>...</th>\n",
       "      <th>Deck_E</th>\n",
       "      <th>Deck_F</th>\n",
       "      <th>Deck_G</th>\n",
       "      <th>Deck_T</th>\n",
       "      <th>Deck_Unknown</th>\n",
       "      <th>Age</th>\n",
       "      <th>Family_Size</th>\n",
       "      <th>Age*Class</th>\n",
       "      <th>Fare_Per_Person</th>\n",
       "      <th>Fare</th>\n",
       "    </tr>\n",
       "  </thead>\n",
       "  <tbody>\n",
       "    <tr>\n",
       "      <th>0</th>\n",
       "      <td>3</td>\n",
       "      <td>1</td>\n",
       "      <td>0</td>\n",
       "      <td>0</td>\n",
       "      <td>1</td>\n",
       "      <td>0</td>\n",
       "      <td>0</td>\n",
       "      <td>1</td>\n",
       "      <td>0</td>\n",
       "      <td>0</td>\n",
       "      <td>...</td>\n",
       "      <td>0</td>\n",
       "      <td>0</td>\n",
       "      <td>0</td>\n",
       "      <td>0</td>\n",
       "      <td>1</td>\n",
       "      <td>22.0</td>\n",
       "      <td>1</td>\n",
       "      <td>66.0</td>\n",
       "      <td>3.62500</td>\n",
       "      <td>7.2500</td>\n",
       "    </tr>\n",
       "    <tr>\n",
       "      <th>1</th>\n",
       "      <td>1</td>\n",
       "      <td>1</td>\n",
       "      <td>0</td>\n",
       "      <td>1</td>\n",
       "      <td>0</td>\n",
       "      <td>0</td>\n",
       "      <td>0</td>\n",
       "      <td>0</td>\n",
       "      <td>1</td>\n",
       "      <td>1</td>\n",
       "      <td>...</td>\n",
       "      <td>0</td>\n",
       "      <td>0</td>\n",
       "      <td>0</td>\n",
       "      <td>0</td>\n",
       "      <td>0</td>\n",
       "      <td>38.0</td>\n",
       "      <td>1</td>\n",
       "      <td>38.0</td>\n",
       "      <td>35.64165</td>\n",
       "      <td>71.2833</td>\n",
       "    </tr>\n",
       "    <tr>\n",
       "      <th>2</th>\n",
       "      <td>3</td>\n",
       "      <td>0</td>\n",
       "      <td>0</td>\n",
       "      <td>1</td>\n",
       "      <td>0</td>\n",
       "      <td>0</td>\n",
       "      <td>1</td>\n",
       "      <td>0</td>\n",
       "      <td>0</td>\n",
       "      <td>0</td>\n",
       "      <td>...</td>\n",
       "      <td>0</td>\n",
       "      <td>0</td>\n",
       "      <td>0</td>\n",
       "      <td>0</td>\n",
       "      <td>1</td>\n",
       "      <td>26.0</td>\n",
       "      <td>0</td>\n",
       "      <td>78.0</td>\n",
       "      <td>7.92500</td>\n",
       "      <td>7.9250</td>\n",
       "    </tr>\n",
       "    <tr>\n",
       "      <th>3</th>\n",
       "      <td>1</td>\n",
       "      <td>1</td>\n",
       "      <td>0</td>\n",
       "      <td>1</td>\n",
       "      <td>0</td>\n",
       "      <td>0</td>\n",
       "      <td>0</td>\n",
       "      <td>0</td>\n",
       "      <td>1</td>\n",
       "      <td>0</td>\n",
       "      <td>...</td>\n",
       "      <td>0</td>\n",
       "      <td>0</td>\n",
       "      <td>0</td>\n",
       "      <td>0</td>\n",
       "      <td>0</td>\n",
       "      <td>35.0</td>\n",
       "      <td>1</td>\n",
       "      <td>35.0</td>\n",
       "      <td>26.55000</td>\n",
       "      <td>53.1000</td>\n",
       "    </tr>\n",
       "    <tr>\n",
       "      <th>4</th>\n",
       "      <td>3</td>\n",
       "      <td>0</td>\n",
       "      <td>0</td>\n",
       "      <td>0</td>\n",
       "      <td>1</td>\n",
       "      <td>0</td>\n",
       "      <td>0</td>\n",
       "      <td>1</td>\n",
       "      <td>0</td>\n",
       "      <td>0</td>\n",
       "      <td>...</td>\n",
       "      <td>0</td>\n",
       "      <td>0</td>\n",
       "      <td>0</td>\n",
       "      <td>0</td>\n",
       "      <td>1</td>\n",
       "      <td>35.0</td>\n",
       "      <td>0</td>\n",
       "      <td>105.0</td>\n",
       "      <td>8.05000</td>\n",
       "      <td>8.0500</td>\n",
       "    </tr>\n",
       "  </tbody>\n",
       "</table>\n",
       "<p>5 rows × 26 columns</p>\n",
       "</div>"
      ],
      "text/plain": [
       "   Pclass  SibSp  Parch  Sex_female  Sex_male  Title_Master  Title_Miss  \\\n",
       "0       3      1      0           0         1             0           0   \n",
       "1       1      1      0           1         0             0           0   \n",
       "2       3      0      0           1         0             0           1   \n",
       "3       1      1      0           1         0             0           0   \n",
       "4       3      0      0           0         1             0           0   \n",
       "\n",
       "   Title_Mr  Title_Mrs  Embarked_C  ...  Deck_E  Deck_F  Deck_G  Deck_T  \\\n",
       "0         1          0           0  ...       0       0       0       0   \n",
       "1         0          1           1  ...       0       0       0       0   \n",
       "2         0          0           0  ...       0       0       0       0   \n",
       "3         0          1           0  ...       0       0       0       0   \n",
       "4         1          0           0  ...       0       0       0       0   \n",
       "\n",
       "   Deck_Unknown   Age  Family_Size  Age*Class  Fare_Per_Person     Fare  \n",
       "0             1  22.0            1       66.0          3.62500   7.2500  \n",
       "1             0  38.0            1       38.0         35.64165  71.2833  \n",
       "2             1  26.0            0       78.0          7.92500   7.9250  \n",
       "3             0  35.0            1       35.0         26.55000  53.1000  \n",
       "4             1  35.0            0      105.0          8.05000   8.0500  \n",
       "\n",
       "[5 rows x 26 columns]"
      ]
     },
     "execution_count": 54,
     "metadata": {},
     "output_type": "execute_result"
    }
   ],
   "source": [
    "# Create X and y\n",
    "features = [\"Pclass\", \"Sex\", \"SibSp\", \"Parch\", \"Title\", \"Embarked\", \"Deck\"]\n",
    "X = pd.get_dummies(train_data[features])\n",
    "X.head()\n",
    "y = train_data[\"Survived\"]\n",
    "\n",
    "# Add other numeric data\n",
    "X[\"Age\"] = train_data[\"Age\"]\n",
    "X[\"Family_Size\"] = train_data[\"Family_Size\"]\n",
    "X[\"Age*Class\"] = train_data[\"Age*Class\"]\n",
    "X[\"Fare_Per_Person\"] = train_data[\"Fare_Per_Person\"]\n",
    "X[\"Fare\"] = train_data[\"Fare\"]\n",
    "X.head()                               "
   ]
  },
  {
   "cell_type": "code",
   "execution_count": 55,
   "id": "65ee1cbb",
   "metadata": {
    "execution": {
     "iopub.execute_input": "2023-08-18T08:51:29.861460Z",
     "iopub.status.busy": "2023-08-18T08:51:29.860682Z",
     "iopub.status.idle": "2023-08-18T08:51:29.867159Z",
     "shell.execute_reply": "2023-08-18T08:51:29.866131Z"
    },
    "papermill": {
     "duration": 0.048454,
     "end_time": "2023-08-18T08:51:29.869153",
     "exception": false,
     "start_time": "2023-08-18T08:51:29.820699",
     "status": "completed"
    },
    "tags": []
   },
   "outputs": [
    {
     "data": {
      "text/plain": [
       "(891, 26)"
      ]
     },
     "execution_count": 55,
     "metadata": {},
     "output_type": "execute_result"
    }
   ],
   "source": [
    "X.shape"
   ]
  },
  {
   "cell_type": "code",
   "execution_count": 56,
   "id": "8a7daeaa",
   "metadata": {
    "execution": {
     "iopub.execute_input": "2023-08-18T08:51:29.949857Z",
     "iopub.status.busy": "2023-08-18T08:51:29.949033Z",
     "iopub.status.idle": "2023-08-18T08:51:29.970601Z",
     "shell.execute_reply": "2023-08-18T08:51:29.969739Z"
    },
    "papermill": {
     "duration": 0.063065,
     "end_time": "2023-08-18T08:51:29.972555",
     "exception": false,
     "start_time": "2023-08-18T08:51:29.909490",
     "status": "completed"
    },
    "tags": []
   },
   "outputs": [],
   "source": [
    "from sklearn.compose import make_column_transformer\n",
    "from sklearn.preprocessing import MinMaxScaler\n",
    "\n",
    "# Create column transformer (this will help us normalize/preprocess our data)\n",
    "ct = make_column_transformer(\n",
    "    (MinMaxScaler(), [\"Pclass\",\"Age\", \"Age*Class\", \"Fare_Per_Person\", \"Fare\"]), # get all values between 0 and 1\n",
    "    remainder=\"passthrough\",\n",
    ")"
   ]
  },
  {
   "cell_type": "code",
   "execution_count": 57,
   "id": "3151226f",
   "metadata": {
    "execution": {
     "iopub.execute_input": "2023-08-18T08:51:30.052279Z",
     "iopub.status.busy": "2023-08-18T08:51:30.051986Z",
     "iopub.status.idle": "2023-08-18T08:51:30.069408Z",
     "shell.execute_reply": "2023-08-18T08:51:30.068413Z"
    },
    "papermill": {
     "duration": 0.06108,
     "end_time": "2023-08-18T08:51:30.071556",
     "exception": false,
     "start_time": "2023-08-18T08:51:30.010476",
     "status": "completed"
    },
    "tags": []
   },
   "outputs": [
    {
     "data": {
      "text/plain": [
       "array([[1.        , 0.27117366, 0.29437308, ..., 0.        , 1.        ,\n",
       "        1.        ],\n",
       "       [0.        , 0.4722292 , 0.16772209, ..., 0.        , 0.        ,\n",
       "        1.        ],\n",
       "       [1.        , 0.32143755, 0.34865207, ..., 0.        , 1.        ,\n",
       "        0.        ],\n",
       "       ...,\n",
       "       [1.        , 0.34656949, 0.37579157, ..., 0.        , 1.        ,\n",
       "        3.        ],\n",
       "       [0.        , 0.32143755, 0.1134431 , ..., 0.        , 0.        ,\n",
       "        0.        ],\n",
       "       [1.        , 0.39683338, 0.43007056, ..., 0.        , 1.        ,\n",
       "        0.        ]])"
      ]
     },
     "execution_count": 57,
     "metadata": {},
     "output_type": "execute_result"
    }
   ],
   "source": [
    "# Fit the transformer\n",
    "ct.fit(X)\n",
    "# Tranformer X with Normaization\n",
    "X_normal = ct.transform(X)\n",
    "X_normal"
   ]
  },
  {
   "cell_type": "code",
   "execution_count": 58,
   "id": "658d0a2c",
   "metadata": {
    "execution": {
     "iopub.execute_input": "2023-08-18T08:51:30.153400Z",
     "iopub.status.busy": "2023-08-18T08:51:30.152642Z",
     "iopub.status.idle": "2023-08-18T08:51:30.159028Z",
     "shell.execute_reply": "2023-08-18T08:51:30.158072Z"
    },
    "papermill": {
     "duration": 0.049064,
     "end_time": "2023-08-18T08:51:30.161118",
     "exception": false,
     "start_time": "2023-08-18T08:51:30.112054",
     "status": "completed"
    },
    "tags": []
   },
   "outputs": [
    {
     "data": {
      "text/plain": [
       "((891, 26), (891, 26))"
      ]
     },
     "execution_count": 58,
     "metadata": {},
     "output_type": "execute_result"
    }
   ],
   "source": [
    "X_normal.shape, X.shape"
   ]
  },
  {
   "cell_type": "code",
   "execution_count": 59,
   "id": "817c3070",
   "metadata": {
    "execution": {
     "iopub.execute_input": "2023-08-18T08:51:30.241231Z",
     "iopub.status.busy": "2023-08-18T08:51:30.240437Z",
     "iopub.status.idle": "2023-08-18T08:51:30.247680Z",
     "shell.execute_reply": "2023-08-18T08:51:30.246692Z"
    },
    "papermill": {
     "duration": 0.05021,
     "end_time": "2023-08-18T08:51:30.249813",
     "exception": false,
     "start_time": "2023-08-18T08:51:30.199603",
     "status": "completed"
    },
    "tags": []
   },
   "outputs": [
    {
     "data": {
      "text/plain": [
       "0    0\n",
       "1    1\n",
       "2    1\n",
       "3    1\n",
       "4    0\n",
       "Name: Survived, dtype: int64"
      ]
     },
     "execution_count": 59,
     "metadata": {},
     "output_type": "execute_result"
    }
   ],
   "source": [
    "y.head()"
   ]
  },
  {
   "cell_type": "code",
   "execution_count": 60,
   "id": "8ffd5d36",
   "metadata": {
    "execution": {
     "iopub.execute_input": "2023-08-18T08:51:30.329657Z",
     "iopub.status.busy": "2023-08-18T08:51:30.328946Z",
     "iopub.status.idle": "2023-08-18T08:51:30.338082Z",
     "shell.execute_reply": "2023-08-18T08:51:30.337000Z"
    },
    "papermill": {
     "duration": 0.051553,
     "end_time": "2023-08-18T08:51:30.340384",
     "exception": false,
     "start_time": "2023-08-18T08:51:30.288831",
     "status": "completed"
    },
    "tags": []
   },
   "outputs": [
    {
     "data": {
      "text/plain": [
       "Pclass             0\n",
       "SibSp              0\n",
       "Parch              0\n",
       "Sex_female         0\n",
       "Sex_male           0\n",
       "Title_Master       0\n",
       "Title_Miss         0\n",
       "Title_Mr           0\n",
       "Title_Mrs          0\n",
       "Embarked_C         0\n",
       "Embarked_Q         0\n",
       "Embarked_S         0\n",
       "Deck_A             0\n",
       "Deck_B             0\n",
       "Deck_C             0\n",
       "Deck_D             0\n",
       "Deck_E             0\n",
       "Deck_F             0\n",
       "Deck_G             0\n",
       "Deck_T             0\n",
       "Deck_Unknown       0\n",
       "Age                0\n",
       "Family_Size        0\n",
       "Age*Class          0\n",
       "Fare_Per_Person    0\n",
       "Fare               0\n",
       "dtype: int64"
      ]
     },
     "execution_count": 60,
     "metadata": {},
     "output_type": "execute_result"
    }
   ],
   "source": [
    "X.isna().sum()"
   ]
  },
  {
   "cell_type": "markdown",
   "id": "f3878b56",
   "metadata": {
    "papermill": {
     "duration": 0.040396,
     "end_time": "2023-08-18T08:51:30.422760",
     "exception": false,
     "start_time": "2023-08-18T08:51:30.382364",
     "status": "completed"
    },
    "tags": []
   },
   "source": [
    "Now our data is ready, what is Next?\n",
    "Split our new data into X_train, X_valid, y_train, y_valid"
   ]
  },
  {
   "cell_type": "code",
   "execution_count": 61,
   "id": "42e9c281",
   "metadata": {
    "execution": {
     "iopub.execute_input": "2023-08-18T08:51:30.508315Z",
     "iopub.status.busy": "2023-08-18T08:51:30.507330Z",
     "iopub.status.idle": "2023-08-18T08:51:30.515987Z",
     "shell.execute_reply": "2023-08-18T08:51:30.514901Z"
    },
    "papermill": {
     "duration": 0.05417,
     "end_time": "2023-08-18T08:51:30.518080",
     "exception": false,
     "start_time": "2023-08-18T08:51:30.463910",
     "status": "completed"
    },
    "tags": []
   },
   "outputs": [
    {
     "data": {
      "text/plain": [
       "((712, 26), (179, 26))"
      ]
     },
     "execution_count": 61,
     "metadata": {},
     "output_type": "execute_result"
    }
   ],
   "source": [
    "# Split data into X_train, X_valid\n",
    "X_train, X_valid, y_train, y_valid = train_test_split(X_normal, y, test_size=0.2,)\n",
    "X_train.shape, X_valid.shape"
   ]
  },
  {
   "cell_type": "code",
   "execution_count": 62,
   "id": "43c81353",
   "metadata": {
    "execution": {
     "iopub.execute_input": "2023-08-18T08:51:30.597641Z",
     "iopub.status.busy": "2023-08-18T08:51:30.596714Z",
     "iopub.status.idle": "2023-08-18T08:51:31.074355Z",
     "shell.execute_reply": "2023-08-18T08:51:31.073392Z"
    },
    "papermill": {
     "duration": 0.519703,
     "end_time": "2023-08-18T08:51:31.076789",
     "exception": false,
     "start_time": "2023-08-18T08:51:30.557086",
     "status": "completed"
    },
    "tags": []
   },
   "outputs": [
    {
     "data": {
      "text/plain": [
       "{'Logistic Regression': 0.8547486033519553,\n",
       " 'KNN': 0.8044692737430168,\n",
       " 'Random Forest': 0.8044692737430168}"
      ]
     },
     "execution_count": 62,
     "metadata": {},
     "output_type": "execute_result"
    }
   ],
   "source": [
    "# Let train our model on our new data...\n",
    "model_scores = fit_and_score(models=models,\n",
    "                             X_train=X_train,\n",
    "                             X_valid=X_valid,\n",
    "                             y_train=y_train,\n",
    "                             y_valid=y_valid)\n",
    "model_scores"
   ]
  },
  {
   "cell_type": "markdown",
   "id": "0f0ea08b",
   "metadata": {
    "papermill": {
     "duration": 0.042848,
     "end_time": "2023-08-18T08:51:31.160731",
     "exception": false,
     "start_time": "2023-08-18T08:51:31.117883",
     "status": "completed"
    },
    "tags": []
   },
   "source": [
    "mmm... interesting..  model seem to improve with `logistic Regression` by more than `9%` more: let compare the different performers in the model. Since our model really improve with logistic regression i can now best for best parameters by fine turning my model. to see it, what's happen"
   ]
  },
  {
   "cell_type": "code",
   "execution_count": 63,
   "id": "1f64447c",
   "metadata": {
    "execution": {
     "iopub.execute_input": "2023-08-18T08:51:31.244026Z",
     "iopub.status.busy": "2023-08-18T08:51:31.243658Z",
     "iopub.status.idle": "2023-08-18T08:51:31.532044Z",
     "shell.execute_reply": "2023-08-18T08:51:31.531062Z"
    },
    "papermill": {
     "duration": 0.332903,
     "end_time": "2023-08-18T08:51:31.534264",
     "exception": false,
     "start_time": "2023-08-18T08:51:31.201361",
     "status": "completed"
    },
    "tags": []
   },
   "outputs": [
    {
     "data": {
      "image/png": "[encoded data removed]",
      "text/plain": [
       "<Figure size 640x480 with 1 Axes>"
      ]
     },
     "metadata": {},
     "output_type": "display_data"
    }
   ],
   "source": [
    "# Compare the difference model\n",
    "model_comparison = pd.DataFrame(model_scores, index=[\"accuracy\"])\n",
    "model_comparison.T.plot.bar();"
   ]
  },
  {
   "cell_type": "markdown",
   "id": "987a748c",
   "metadata": {
    "papermill": {
     "duration": 0.039329,
     "end_time": "2023-08-18T08:51:31.613534",
     "exception": false,
     "start_time": "2023-08-18T08:51:31.574205",
     "status": "completed"
    },
    "tags": []
   },
   "source": [
    "### Hyperparameter tunning with RandomdimedSearchCV and GridSearchCV"
   ]
  },
  {
   "cell_type": "code",
   "execution_count": 64,
   "id": "dc83c6b7",
   "metadata": {
    "execution": {
     "iopub.execute_input": "2023-08-18T08:51:31.695843Z",
     "iopub.status.busy": "2023-08-18T08:51:31.694949Z",
     "iopub.status.idle": "2023-08-18T08:51:31.701845Z",
     "shell.execute_reply": "2023-08-18T08:51:31.700891Z"
    },
    "papermill": {
     "duration": 0.050576,
     "end_time": "2023-08-18T08:51:31.703992",
     "exception": false,
     "start_time": "2023-08-18T08:51:31.653416",
     "status": "completed"
    },
    "tags": []
   },
   "outputs": [],
   "source": [
    "# Create a hyperparameter grid for LogisticRegression\n",
    "log_reg_grid = {\"C\": np.logspace(-4, 4, 20),\n",
    "                \"solver\": [\"liblinear\"]}\n",
    "\n",
    "# Create a hyperparameter grid for RandomForestClassifier\n",
    "rf_grid = {\"n_estimators\": np.arange(10, 1000, 50),\n",
    "           \"max_depth\": [None, 3, 5, 10],\n",
    "           \"min_samples_split\": np.arange(2, 20, 2),\n",
    "           \"min_samples_leaf\": np.arange(1, 20, 2)}"
   ]
  },
  {
   "cell_type": "markdown",
   "id": "2ba95f81",
   "metadata": {
    "papermill": {
     "duration": 0.040148,
     "end_time": "2023-08-18T08:51:31.787241",
     "exception": false,
     "start_time": "2023-08-18T08:51:31.747093",
     "status": "completed"
    },
    "tags": []
   },
   "source": [
    "Now we've got hyperparameter grids setup for each of our models, let's tune them using `RandomizedSearchCV`"
   ]
  },
  {
   "cell_type": "code",
   "execution_count": 65,
   "id": "31617d09",
   "metadata": {
    "execution": {
     "iopub.execute_input": "2023-08-18T08:51:31.872091Z",
     "iopub.status.busy": "2023-08-18T08:51:31.871748Z",
     "iopub.status.idle": "2023-08-18T08:51:32.427714Z",
     "shell.execute_reply": "2023-08-18T08:51:32.426386Z"
    },
    "papermill": {
     "duration": 0.600498,
     "end_time": "2023-08-18T08:51:32.430469",
     "exception": false,
     "start_time": "2023-08-18T08:51:31.829971",
     "status": "completed"
    },
    "tags": []
   },
   "outputs": [
    {
     "name": "stdout",
     "output_type": "stream",
     "text": [
      "Fitting 5 folds for each of 20 candidates, totalling 100 fits\n"
     ]
    },
    {
     "data": {
      "text/html": [
       "<style>#sk-container-id-1 {color: black;background-color: white;}#sk-container-id-1 pre{padding: 0;}#sk-container-id-1 div.sk-toggleable {background-color: white;}#sk-container-id-1 label.sk-toggleable__label {cursor: pointer;display: block;width: 100%;margin-bottom: 0;padding: 0.3em;box-sizing: border-box;text-align: center;}#sk-container-id-1 label.sk-toggleable__label-arrow:before {content: \"▸\";float: left;margin-right: 0.25em;color: #696969;}#sk-container-id-1 label.sk-toggleable__label-arrow:hover:before {color: black;}#sk-container-id-1 div.sk-estimator:hover label.sk-toggleable__label-arrow:before {color: black;}#sk-container-id-1 div.sk-toggleable__content {max-height: 0;max-width: 0;overflow: hidden;text-align: left;background-color: #f0f8ff;}#sk-container-id-1 div.sk-toggleable__content pre {margin: 0.2em;color: black;border-radius: 0.25em;background-color: #f0f8ff;}#sk-container-id-1 input.sk-toggleable__control:checked~div.sk-toggleable__content {max-height: 200px;max-width: 100%;overflow: auto;}#sk-container-id-1 input.sk-toggleable__control:checked~label.sk-toggleable__label-arrow:before {content: \"▾\";}#sk-container-id-1 div.sk-estimator input.sk-toggleable__control:checked~label.sk-toggleable__label {background-color: #d4ebff;}#sk-container-id-1 div.sk-label input.sk-toggleable__control:checked~label.sk-toggleable__label {background-color: #d4ebff;}#sk-container-id-1 input.sk-hidden--visually {border: 0;clip: rect(1px 1px 1px 1px);clip: rect(1px, 1px, 1px, 1px);height: 1px;margin: -1px;overflow: hidden;padding: 0;position: absolute;width: 1px;}#sk-container-id-1 div.sk-estimator {font-family: monospace;background-color: #f0f8ff;border: 1px dotted black;border-radius: 0.25em;box-sizing: border-box;margin-bottom: 0.5em;}#sk-container-id-1 div.sk-estimator:hover {background-color: #d4ebff;}#sk-container-id-1 div.sk-parallel-item::after {content: \"\";width: 100%;border-bottom: 1px solid gray;flex-grow: 1;}#sk-container-id-1 div.sk-label:hover label.sk-toggleable__label {background-color: #d4ebff;}#sk-container-id-1 div.sk-serial::before {content: \"\";position: absolute;border-left: 1px solid gray;box-sizing: border-box;top: 0;bottom: 0;left: 50%;z-index: 0;}#sk-container-id-1 div.sk-serial {display: flex;flex-direction: column;align-items: center;background-color: white;padding-right: 0.2em;padding-left: 0.2em;position: relative;}#sk-container-id-1 div.sk-item {position: relative;z-index: 1;}#sk-container-id-1 div.sk-parallel {display: flex;align-items: stretch;justify-content: center;background-color: white;position: relative;}#sk-container-id-1 div.sk-item::before, #sk-container-id-1 div.sk-parallel-item::before {content: \"\";position: absolute;border-left: 1px solid gray;box-sizing: border-box;top: 0;bottom: 0;left: 50%;z-index: -1;}#sk-container-id-1 div.sk-parallel-item {display: flex;flex-direction: column;z-index: 1;position: relative;background-color: white;}#sk-container-id-1 div.sk-parallel-item:first-child::after {align-self: flex-end;width: 50%;}#sk-container-id-1 div.sk-parallel-item:last-child::after {align-self: flex-start;width: 50%;}#sk-container-id-1 div.sk-parallel-item:only-child::after {width: 0;}#sk-container-id-1 div.sk-dashed-wrapped {border: 1px dashed gray;margin: 0 0.4em 0.5em 0.4em;box-sizing: border-box;padding-bottom: 0.4em;background-color: white;}#sk-container-id-1 div.sk-label label {font-family: monospace;font-weight: bold;display: inline-block;line-height: 1.2em;}#sk-container-id-1 div.sk-label-container {text-align: center;}#sk-container-id-1 div.sk-container {/* jupyter's `normalize.less` sets `[hidden] { display: none; }` but bootstrap.min.css set `[hidden] { display: none !important; }` so we also need the `!important` here to be able to override the default hidden behavior on the sphinx rendered scikit-learn.org. See: https://github.com/scikit-learn/scikit-learn/issues/21755 */display: inline-block !important;position: relative;}#sk-container-id-1 div.sk-text-repr-fallback {display: none;}</style><div id=\"sk-container-id-1\" class=\"sk-top-container\"><div class=\"sk-text-repr-fallback\"><pre>RandomizedSearchCV(cv=5, estimator=LogisticRegression(), n_iter=20,\n",
       "                   param_distributions={&#x27;C&#x27;: array([1.00000000e-04, 2.63665090e-04, 6.95192796e-04, 1.83298071e-03,\n",
       "       4.83293024e-03, 1.27427499e-02, 3.35981829e-02, 8.85866790e-02,\n",
       "       2.33572147e-01, 6.15848211e-01, 1.62377674e+00, 4.28133240e+00,\n",
       "       1.12883789e+01, 2.97635144e+01, 7.84759970e+01, 2.06913808e+02,\n",
       "       5.45559478e+02, 1.43844989e+03, 3.79269019e+03, 1.00000000e+04]),\n",
       "                                        &#x27;solver&#x27;: [&#x27;liblinear&#x27;]},\n",
       "                   verbose=True)</pre><b>In a Jupyter environment, please rerun this cell to show the HTML representation or trust the notebook. <br />On GitHub, the HTML representation is unable to render, please try loading this page with nbviewer.org.</b></div><div class=\"sk-container\" hidden><div class=\"sk-item sk-dashed-wrapped\"><div class=\"sk-label-container\"><div class=\"sk-label sk-toggleable\"><input class=\"sk-toggleable__control sk-hidden--visually\" id=\"sk-estimator-id-1\" type=\"checkbox\" ><label for=\"sk-estimator-id-1\" class=\"sk-toggleable__label sk-toggleable__label-arrow\">RandomizedSearchCV</label><div class=\"sk-toggleable__content\"><pre>RandomizedSearchCV(cv=5, estimator=LogisticRegression(), n_iter=20,\n",
       "                   param_distributions={&#x27;C&#x27;: array([1.00000000e-04, 2.63665090e-04, 6.95192796e-04, 1.83298071e-03,\n",
       "       4.83293024e-03, 1.27427499e-02, 3.35981829e-02, 8.85866790e-02,\n",
       "       2.33572147e-01, 6.15848211e-01, 1.62377674e+00, 4.28133240e+00,\n",
       "       1.12883789e+01, 2.97635144e+01, 7.84759970e+01, 2.06913808e+02,\n",
       "       5.45559478e+02, 1.43844989e+03, 3.79269019e+03, 1.00000000e+04]),\n",
       "                                        &#x27;solver&#x27;: [&#x27;liblinear&#x27;]},\n",
       "                   verbose=True)</pre></div></div></div><div class=\"sk-parallel\"><div class=\"sk-parallel-item\"><div class=\"sk-item\"><div class=\"sk-label-container\"><div class=\"sk-label sk-toggleable\"><input class=\"sk-toggleable__control sk-hidden--visually\" id=\"sk-estimator-id-2\" type=\"checkbox\" ><label for=\"sk-estimator-id-2\" class=\"sk-toggleable__label sk-toggleable__label-arrow\">estimator: LogisticRegression</label><div class=\"sk-toggleable__content\"><pre>LogisticRegression()</pre></div></div></div><div class=\"sk-serial\"><div class=\"sk-item\"><div class=\"sk-estimator sk-toggleable\"><input class=\"sk-toggleable__control sk-hidden--visually\" id=\"sk-estimator-id-3\" type=\"checkbox\" ><label for=\"sk-estimator-id-3\" class=\"sk-toggleable__label sk-toggleable__label-arrow\">LogisticRegression</label><div class=\"sk-toggleable__content\"><pre>LogisticRegression()</pre></div></div></div></div></div></div></div></div></div></div>"
      ],
      "text/plain": [
       "RandomizedSearchCV(cv=5, estimator=LogisticRegression(), n_iter=20,\n",
       "                   param_distributions={'C': array([1.00000000e-04, 2.63665090e-04, 6.95192796e-04, 1.83298071e-03,\n",
       "       4.83293024e-03, 1.27427499e-02, 3.35981829e-02, 8.85866790e-02,\n",
       "       2.33572147e-01, 6.15848211e-01, 1.62377674e+00, 4.28133240e+00,\n",
       "       1.12883789e+01, 2.97635144e+01, 7.84759970e+01, 2.06913808e+02,\n",
       "       5.45559478e+02, 1.43844989e+03, 3.79269019e+03, 1.00000000e+04]),\n",
       "                                        'solver': ['liblinear']},\n",
       "                   verbose=True)"
      ]
     },
     "execution_count": 65,
     "metadata": {},
     "output_type": "execute_result"
    }
   ],
   "source": [
    "# Tune Logistic Regression\n",
    "\n",
    "# Setup random hyperparameter search for LogisticRegression\n",
    "rs_log_reg = RandomizedSearchCV(LogisticRegression(),\n",
    "                                param_distributions=log_reg_grid,\n",
    "                                cv=5,\n",
    "                                n_iter=20,\n",
    "                                verbose=True)\n",
    "\n",
    "# Fit random hyperparameter search model\n",
    "rs_log_reg.fit(X_train, y_train)"
   ]
  },
  {
   "cell_type": "code",
   "execution_count": 66,
   "id": "8676f8e6",
   "metadata": {
    "execution": {
     "iopub.execute_input": "2023-08-18T08:51:32.520226Z",
     "iopub.status.busy": "2023-08-18T08:51:32.519309Z",
     "iopub.status.idle": "2023-08-18T08:51:32.526187Z",
     "shell.execute_reply": "2023-08-18T08:51:32.525158Z"
    },
    "papermill": {
     "duration": 0.051972,
     "end_time": "2023-08-18T08:51:32.528469",
     "exception": false,
     "start_time": "2023-08-18T08:51:32.476497",
     "status": "completed"
    },
    "tags": []
   },
   "outputs": [
    {
     "data": {
      "text/plain": [
       "{'solver': 'liblinear', 'C': 0.615848211066026}"
      ]
     },
     "execution_count": 66,
     "metadata": {},
     "output_type": "execute_result"
    }
   ],
   "source": [
    "rs_log_reg.best_params_"
   ]
  },
  {
   "cell_type": "code",
   "execution_count": 67,
   "id": "0410f1bc",
   "metadata": {
    "execution": {
     "iopub.execute_input": "2023-08-18T08:51:32.611328Z",
     "iopub.status.busy": "2023-08-18T08:51:32.611026Z",
     "iopub.status.idle": "2023-08-18T08:51:32.619319Z",
     "shell.execute_reply": "2023-08-18T08:51:32.618359Z"
    },
    "papermill": {
     "duration": 0.052345,
     "end_time": "2023-08-18T08:51:32.621674",
     "exception": false,
     "start_time": "2023-08-18T08:51:32.569329",
     "status": "completed"
    },
    "tags": []
   },
   "outputs": [
    {
     "data": {
      "text/plain": [
       "0.8547486033519553"
      ]
     },
     "execution_count": 67,
     "metadata": {},
     "output_type": "execute_result"
    }
   ],
   "source": [
    "rs_log_reg.score(X_valid, y_valid)"
   ]
  },
  {
   "cell_type": "markdown",
   "id": "ad24c129",
   "metadata": {
    "papermill": {
     "duration": 0.041483,
     "end_time": "2023-08-18T08:51:32.705741",
     "exception": false,
     "start_time": "2023-08-18T08:51:32.664258",
     "status": "completed"
    },
    "tags": []
   },
   "source": [
    "let's do the same for RandomForestClassifier()..."
   ]
  },
  {
   "cell_type": "code",
   "execution_count": 68,
   "id": "dd789fe1",
   "metadata": {
    "execution": {
     "iopub.execute_input": "2023-08-18T08:51:32.792428Z",
     "iopub.status.busy": "2023-08-18T08:51:32.791563Z",
     "iopub.status.idle": "2023-08-18T08:54:03.173540Z",
     "shell.execute_reply": "2023-08-18T08:54:03.172491Z"
    },
    "papermill": {
     "duration": 150.470753,
     "end_time": "2023-08-18T08:54:03.219282",
     "exception": false,
     "start_time": "2023-08-18T08:51:32.748529",
     "status": "completed"
    },
    "tags": []
   },
   "outputs": [
    {
     "name": "stdout",
     "output_type": "stream",
     "text": [
      "Fitting 5 folds for each of 20 candidates, totalling 100 fits\n"
     ]
    },
    {
     "data": {
      "text/html": [
       "<style>#sk-container-id-2 {color: black;background-color: white;}#sk-container-id-2 pre{padding: 0;}#sk-container-id-2 div.sk-toggleable {background-color: white;}#sk-container-id-2 label.sk-toggleable__label {cursor: pointer;display: block;width: 100%;margin-bottom: 0;padding: 0.3em;box-sizing: border-box;text-align: center;}#sk-container-id-2 label.sk-toggleable__label-arrow:before {content: \"▸\";float: left;margin-right: 0.25em;color: #696969;}#sk-container-id-2 label.sk-toggleable__label-arrow:hover:before {color: black;}#sk-container-id-2 div.sk-estimator:hover label.sk-toggleable__label-arrow:before {color: black;}#sk-container-id-2 div.sk-toggleable__content {max-height: 0;max-width: 0;overflow: hidden;text-align: left;background-color: #f0f8ff;}#sk-container-id-2 div.sk-toggleable__content pre {margin: 0.2em;color: black;border-radius: 0.25em;background-color: #f0f8ff;}#sk-container-id-2 input.sk-toggleable__control:checked~div.sk-toggleable__content {max-height: 200px;max-width: 100%;overflow: auto;}#sk-container-id-2 input.sk-toggleable__control:checked~label.sk-toggleable__label-arrow:before {content: \"▾\";}#sk-container-id-2 div.sk-estimator input.sk-toggleable__control:checked~label.sk-toggleable__label {background-color: #d4ebff;}#sk-container-id-2 div.sk-label input.sk-toggleable__control:checked~label.sk-toggleable__label {background-color: #d4ebff;}#sk-container-id-2 input.sk-hidden--visually {border: 0;clip: rect(1px 1px 1px 1px);clip: rect(1px, 1px, 1px, 1px);height: 1px;margin: -1px;overflow: hidden;padding: 0;position: absolute;width: 1px;}#sk-container-id-2 div.sk-estimator {font-family: monospace;background-color: #f0f8ff;border: 1px dotted black;border-radius: 0.25em;box-sizing: border-box;margin-bottom: 0.5em;}#sk-container-id-2 div.sk-estimator:hover {background-color: #d4ebff;}#sk-container-id-2 div.sk-parallel-item::after {content: \"\";width: 100%;border-bottom: 1px solid gray;flex-grow: 1;}#sk-container-id-2 div.sk-label:hover label.sk-toggleable__label {background-color: #d4ebff;}#sk-container-id-2 div.sk-serial::before {content: \"\";position: absolute;border-left: 1px solid gray;box-sizing: border-box;top: 0;bottom: 0;left: 50%;z-index: 0;}#sk-container-id-2 div.sk-serial {display: flex;flex-direction: column;align-items: center;background-color: white;padding-right: 0.2em;padding-left: 0.2em;position: relative;}#sk-container-id-2 div.sk-item {position: relative;z-index: 1;}#sk-container-id-2 div.sk-parallel {display: flex;align-items: stretch;justify-content: center;background-color: white;position: relative;}#sk-container-id-2 div.sk-item::before, #sk-container-id-2 div.sk-parallel-item::before {content: \"\";position: absolute;border-left: 1px solid gray;box-sizing: border-box;top: 0;bottom: 0;left: 50%;z-index: -1;}#sk-container-id-2 div.sk-parallel-item {display: flex;flex-direction: column;z-index: 1;position: relative;background-color: white;}#sk-container-id-2 div.sk-parallel-item:first-child::after {align-self: flex-end;width: 50%;}#sk-container-id-2 div.sk-parallel-item:last-child::after {align-self: flex-start;width: 50%;}#sk-container-id-2 div.sk-parallel-item:only-child::after {width: 0;}#sk-container-id-2 div.sk-dashed-wrapped {border: 1px dashed gray;margin: 0 0.4em 0.5em 0.4em;box-sizing: border-box;padding-bottom: 0.4em;background-color: white;}#sk-container-id-2 div.sk-label label {font-family: monospace;font-weight: bold;display: inline-block;line-height: 1.2em;}#sk-container-id-2 div.sk-label-container {text-align: center;}#sk-container-id-2 div.sk-container {/* jupyter's `normalize.less` sets `[hidden] { display: none; }` but bootstrap.min.css set `[hidden] { display: none !important; }` so we also need the `!important` here to be able to override the default hidden behavior on the sphinx rendered scikit-learn.org. See: https://github.com/scikit-learn/scikit-learn/issues/21755 */display: inline-block !important;position: relative;}#sk-container-id-2 div.sk-text-repr-fallback {display: none;}</style><div id=\"sk-container-id-2\" class=\"sk-top-container\"><div class=\"sk-text-repr-fallback\"><pre>RandomizedSearchCV(cv=5, estimator=RandomForestClassifier(), n_iter=20,\n",
       "                   param_distributions={&#x27;max_depth&#x27;: [None, 3, 5, 10],\n",
       "                                        &#x27;min_samples_leaf&#x27;: array([ 1,  3,  5,  7,  9, 11, 13, 15, 17, 19]),\n",
       "                                        &#x27;min_samples_split&#x27;: array([ 2,  4,  6,  8, 10, 12, 14, 16, 18]),\n",
       "                                        &#x27;n_estimators&#x27;: array([ 10,  60, 110, 160, 210, 260, 310, 360, 410, 460, 510, 560, 610,\n",
       "       660, 710, 760, 810, 860, 910, 960])},\n",
       "                   verbose=True)</pre><b>In a Jupyter environment, please rerun this cell to show the HTML representation or trust the notebook. <br />On GitHub, the HTML representation is unable to render, please try loading this page with nbviewer.org.</b></div><div class=\"sk-container\" hidden><div class=\"sk-item sk-dashed-wrapped\"><div class=\"sk-label-container\"><div class=\"sk-label sk-toggleable\"><input class=\"sk-toggleable__control sk-hidden--visually\" id=\"sk-estimator-id-4\" type=\"checkbox\" ><label for=\"sk-estimator-id-4\" class=\"sk-toggleable__label sk-toggleable__label-arrow\">RandomizedSearchCV</label><div class=\"sk-toggleable__content\"><pre>RandomizedSearchCV(cv=5, estimator=RandomForestClassifier(), n_iter=20,\n",
       "                   param_distributions={&#x27;max_depth&#x27;: [None, 3, 5, 10],\n",
       "                                        &#x27;min_samples_leaf&#x27;: array([ 1,  3,  5,  7,  9, 11, 13, 15, 17, 19]),\n",
       "                                        &#x27;min_samples_split&#x27;: array([ 2,  4,  6,  8, 10, 12, 14, 16, 18]),\n",
       "                                        &#x27;n_estimators&#x27;: array([ 10,  60, 110, 160, 210, 260, 310, 360, 410, 460, 510, 560, 610,\n",
       "       660, 710, 760, 810, 860, 910, 960])},\n",
       "                   verbose=True)</pre></div></div></div><div class=\"sk-parallel\"><div class=\"sk-parallel-item\"><div class=\"sk-item\"><div class=\"sk-label-container\"><div class=\"sk-label sk-toggleable\"><input class=\"sk-toggleable__control sk-hidden--visually\" id=\"sk-estimator-id-5\" type=\"checkbox\" ><label for=\"sk-estimator-id-5\" class=\"sk-toggleable__label sk-toggleable__label-arrow\">estimator: RandomForestClassifier</label><div class=\"sk-toggleable__content\"><pre>RandomForestClassifier()</pre></div></div></div><div class=\"sk-serial\"><div class=\"sk-item\"><div class=\"sk-estimator sk-toggleable\"><input class=\"sk-toggleable__control sk-hidden--visually\" id=\"sk-estimator-id-6\" type=\"checkbox\" ><label for=\"sk-estimator-id-6\" class=\"sk-toggleable__label sk-toggleable__label-arrow\">RandomForestClassifier</label><div class=\"sk-toggleable__content\"><pre>RandomForestClassifier()</pre></div></div></div></div></div></div></div></div></div></div>"
      ],
      "text/plain": [
       "RandomizedSearchCV(cv=5, estimator=RandomForestClassifier(), n_iter=20,\n",
       "                   param_distributions={'max_depth': [None, 3, 5, 10],\n",
       "                                        'min_samples_leaf': array([ 1,  3,  5,  7,  9, 11, 13, 15, 17, 19]),\n",
       "                                        'min_samples_split': array([ 2,  4,  6,  8, 10, 12, 14, 16, 18]),\n",
       "                                        'n_estimators': array([ 10,  60, 110, 160, 210, 260, 310, 360, 410, 460, 510, 560, 610,\n",
       "       660, 710, 760, 810, 860, 910, 960])},\n",
       "                   verbose=True)"
      ]
     },
     "execution_count": 68,
     "metadata": {},
     "output_type": "execute_result"
    }
   ],
   "source": [
    "rs_rf = RandomizedSearchCV(RandomForestClassifier(),\n",
    "                           param_distributions=rf_grid,\n",
    "                           cv=5,\n",
    "                           n_iter=20,\n",
    "                           verbose=True)\n",
    "\n",
    "\n",
    "# Fit randn hyperparameter search model for RandomForestClassifier()\n",
    "rs_rf.fit(X_train, y_train)"
   ]
  },
  {
   "cell_type": "code",
   "execution_count": 69,
   "id": "075fdd18",
   "metadata": {
    "execution": {
     "iopub.execute_input": "2023-08-18T08:54:03.304469Z",
     "iopub.status.busy": "2023-08-18T08:54:03.302777Z",
     "iopub.status.idle": "2023-08-18T08:54:03.311708Z",
     "shell.execute_reply": "2023-08-18T08:54:03.310773Z"
    },
    "papermill": {
     "duration": 0.053876,
     "end_time": "2023-08-18T08:54:03.313689",
     "exception": false,
     "start_time": "2023-08-18T08:54:03.259813",
     "status": "completed"
    },
    "tags": []
   },
   "outputs": [
    {
     "data": {
      "text/plain": [
       "{'n_estimators': 760,\n",
       " 'min_samples_split': 16,\n",
       " 'min_samples_leaf': 5,\n",
       " 'max_depth': 10}"
      ]
     },
     "execution_count": 69,
     "metadata": {},
     "output_type": "execute_result"
    }
   ],
   "source": [
    "rs_rf.best_params_"
   ]
  },
  {
   "cell_type": "code",
   "execution_count": 70,
   "id": "b5f9434a",
   "metadata": {
    "execution": {
     "iopub.execute_input": "2023-08-18T08:54:03.399912Z",
     "iopub.status.busy": "2023-08-18T08:54:03.398994Z",
     "iopub.status.idle": "2023-08-18T08:54:03.478494Z",
     "shell.execute_reply": "2023-08-18T08:54:03.476764Z"
    },
    "papermill": {
     "duration": 0.124033,
     "end_time": "2023-08-18T08:54:03.480868",
     "exception": false,
     "start_time": "2023-08-18T08:54:03.356835",
     "status": "completed"
    },
    "tags": []
   },
   "outputs": [
    {
     "data": {
      "text/plain": [
       "0.8715083798882681"
      ]
     },
     "execution_count": 70,
     "metadata": {},
     "output_type": "execute_result"
    }
   ],
   "source": [
    "rs_rf.score(X_valid, y_valid)"
   ]
  },
  {
   "cell_type": "markdown",
   "id": "4aa1efa5",
   "metadata": {
    "papermill": {
     "duration": 0.04001,
     "end_time": "2023-08-18T08:54:03.566464",
     "exception": false,
     "start_time": "2023-08-18T08:54:03.526454",
     "status": "completed"
    },
    "tags": []
   },
   "source": [
    "### Hyperparameter Tuning with GridSearchCV\n",
    "Since our LogisticRegression model provides the best score so far, let's try imprpved it GridSearchCV... "
   ]
  },
  {
   "cell_type": "code",
   "execution_count": 71,
   "id": "29d5c994",
   "metadata": {
    "execution": {
     "iopub.execute_input": "2023-08-18T08:54:03.649854Z",
     "iopub.status.busy": "2023-08-18T08:54:03.649540Z",
     "iopub.status.idle": "2023-08-18T08:54:04.484896Z",
     "shell.execute_reply": "2023-08-18T08:54:04.483585Z"
    },
    "papermill": {
     "duration": 0.880905,
     "end_time": "2023-08-18T08:54:04.487969",
     "exception": false,
     "start_time": "2023-08-18T08:54:03.607064",
     "status": "completed"
    },
    "tags": []
   },
   "outputs": [
    {
     "name": "stdout",
     "output_type": "stream",
     "text": [
      "Fitting 5 folds for each of 30 candidates, totalling 150 fits\n"
     ]
    },
    {
     "data": {
      "text/html": [
       "<style>#sk-container-id-3 {color: black;background-color: white;}#sk-container-id-3 pre{padding: 0;}#sk-container-id-3 div.sk-toggleable {background-color: white;}#sk-container-id-3 label.sk-toggleable__label {cursor: pointer;display: block;width: 100%;margin-bottom: 0;padding: 0.3em;box-sizing: border-box;text-align: center;}#sk-container-id-3 label.sk-toggleable__label-arrow:before {content: \"▸\";float: left;margin-right: 0.25em;color: #696969;}#sk-container-id-3 label.sk-toggleable__label-arrow:hover:before {color: black;}#sk-container-id-3 div.sk-estimator:hover label.sk-toggleable__label-arrow:before {color: black;}#sk-container-id-3 div.sk-toggleable__content {max-height: 0;max-width: 0;overflow: hidden;text-align: left;background-color: #f0f8ff;}#sk-container-id-3 div.sk-toggleable__content pre {margin: 0.2em;color: black;border-radius: 0.25em;background-color: #f0f8ff;}#sk-container-id-3 input.sk-toggleable__control:checked~div.sk-toggleable__content {max-height: 200px;max-width: 100%;overflow: auto;}#sk-container-id-3 input.sk-toggleable__control:checked~label.sk-toggleable__label-arrow:before {content: \"▾\";}#sk-container-id-3 div.sk-estimator input.sk-toggleable__control:checked~label.sk-toggleable__label {background-color: #d4ebff;}#sk-container-id-3 div.sk-label input.sk-toggleable__control:checked~label.sk-toggleable__label {background-color: #d4ebff;}#sk-container-id-3 input.sk-hidden--visually {border: 0;clip: rect(1px 1px 1px 1px);clip: rect(1px, 1px, 1px, 1px);height: 1px;margin: -1px;overflow: hidden;padding: 0;position: absolute;width: 1px;}#sk-container-id-3 div.sk-estimator {font-family: monospace;background-color: #f0f8ff;border: 1px dotted black;border-radius: 0.25em;box-sizing: border-box;margin-bottom: 0.5em;}#sk-container-id-3 div.sk-estimator:hover {background-color: #d4ebff;}#sk-container-id-3 div.sk-parallel-item::after {content: \"\";width: 100%;border-bottom: 1px solid gray;flex-grow: 1;}#sk-container-id-3 div.sk-label:hover label.sk-toggleable__label {background-color: #d4ebff;}#sk-container-id-3 div.sk-serial::before {content: \"\";position: absolute;border-left: 1px solid gray;box-sizing: border-box;top: 0;bottom: 0;left: 50%;z-index: 0;}#sk-container-id-3 div.sk-serial {display: flex;flex-direction: column;align-items: center;background-color: white;padding-right: 0.2em;padding-left: 0.2em;position: relative;}#sk-container-id-3 div.sk-item {position: relative;z-index: 1;}#sk-container-id-3 div.sk-parallel {display: flex;align-items: stretch;justify-content: center;background-color: white;position: relative;}#sk-container-id-3 div.sk-item::before, #sk-container-id-3 div.sk-parallel-item::before {content: \"\";position: absolute;border-left: 1px solid gray;box-sizing: border-box;top: 0;bottom: 0;left: 50%;z-index: -1;}#sk-container-id-3 div.sk-parallel-item {display: flex;flex-direction: column;z-index: 1;position: relative;background-color: white;}#sk-container-id-3 div.sk-parallel-item:first-child::after {align-self: flex-end;width: 50%;}#sk-container-id-3 div.sk-parallel-item:last-child::after {align-self: flex-start;width: 50%;}#sk-container-id-3 div.sk-parallel-item:only-child::after {width: 0;}#sk-container-id-3 div.sk-dashed-wrapped {border: 1px dashed gray;margin: 0 0.4em 0.5em 0.4em;box-sizing: border-box;padding-bottom: 0.4em;background-color: white;}#sk-container-id-3 div.sk-label label {font-family: monospace;font-weight: bold;display: inline-block;line-height: 1.2em;}#sk-container-id-3 div.sk-label-container {text-align: center;}#sk-container-id-3 div.sk-container {/* jupyter's `normalize.less` sets `[hidden] { display: none; }` but bootstrap.min.css set `[hidden] { display: none !important; }` so we also need the `!important` here to be able to override the default hidden behavior on the sphinx rendered scikit-learn.org. See: https://github.com/scikit-learn/scikit-learn/issues/21755 */display: inline-block !important;position: relative;}#sk-container-id-3 div.sk-text-repr-fallback {display: none;}</style><div id=\"sk-container-id-3\" class=\"sk-top-container\"><div class=\"sk-text-repr-fallback\"><pre>GridSearchCV(cv=5, estimator=LogisticRegression(),\n",
       "             param_grid={&#x27;C&#x27;: array([1.00000000e-04, 1.88739182e-04, 3.56224789e-04, 6.72335754e-04,\n",
       "       1.26896100e-03, 2.39502662e-03, 4.52035366e-03, 8.53167852e-03,\n",
       "       1.61026203e-02, 3.03919538e-02, 5.73615251e-02, 1.08263673e-01,\n",
       "       2.04335972e-01, 3.85662042e-01, 7.27895384e-01, 1.37382380e+00,\n",
       "       2.59294380e+00, 4.89390092e+00, 9.23670857e+00, 1.74332882e+01,\n",
       "       3.29034456e+01, 6.21016942e+01, 1.17210230e+02, 2.21221629e+02,\n",
       "       4.17531894e+02, 7.88046282e+02, 1.48735211e+03, 2.80721620e+03,\n",
       "       5.29831691e+03, 1.00000000e+04]),\n",
       "                         &#x27;solver&#x27;: [&#x27;liblinear&#x27;]},\n",
       "             verbose=True)</pre><b>In a Jupyter environment, please rerun this cell to show the HTML representation or trust the notebook. <br />On GitHub, the HTML representation is unable to render, please try loading this page with nbviewer.org.</b></div><div class=\"sk-container\" hidden><div class=\"sk-item sk-dashed-wrapped\"><div class=\"sk-label-container\"><div class=\"sk-label sk-toggleable\"><input class=\"sk-toggleable__control sk-hidden--visually\" id=\"sk-estimator-id-7\" type=\"checkbox\" ><label for=\"sk-estimator-id-7\" class=\"sk-toggleable__label sk-toggleable__label-arrow\">GridSearchCV</label><div class=\"sk-toggleable__content\"><pre>GridSearchCV(cv=5, estimator=LogisticRegression(),\n",
       "             param_grid={&#x27;C&#x27;: array([1.00000000e-04, 1.88739182e-04, 3.56224789e-04, 6.72335754e-04,\n",
       "       1.26896100e-03, 2.39502662e-03, 4.52035366e-03, 8.53167852e-03,\n",
       "       1.61026203e-02, 3.03919538e-02, 5.73615251e-02, 1.08263673e-01,\n",
       "       2.04335972e-01, 3.85662042e-01, 7.27895384e-01, 1.37382380e+00,\n",
       "       2.59294380e+00, 4.89390092e+00, 9.23670857e+00, 1.74332882e+01,\n",
       "       3.29034456e+01, 6.21016942e+01, 1.17210230e+02, 2.21221629e+02,\n",
       "       4.17531894e+02, 7.88046282e+02, 1.48735211e+03, 2.80721620e+03,\n",
       "       5.29831691e+03, 1.00000000e+04]),\n",
       "                         &#x27;solver&#x27;: [&#x27;liblinear&#x27;]},\n",
       "             verbose=True)</pre></div></div></div><div class=\"sk-parallel\"><div class=\"sk-parallel-item\"><div class=\"sk-item\"><div class=\"sk-label-container\"><div class=\"sk-label sk-toggleable\"><input class=\"sk-toggleable__control sk-hidden--visually\" id=\"sk-estimator-id-8\" type=\"checkbox\" ><label for=\"sk-estimator-id-8\" class=\"sk-toggleable__label sk-toggleable__label-arrow\">estimator: LogisticRegression</label><div class=\"sk-toggleable__content\"><pre>LogisticRegression()</pre></div></div></div><div class=\"sk-serial\"><div class=\"sk-item\"><div class=\"sk-estimator sk-toggleable\"><input class=\"sk-toggleable__control sk-hidden--visually\" id=\"sk-estimator-id-9\" type=\"checkbox\" ><label for=\"sk-estimator-id-9\" class=\"sk-toggleable__label sk-toggleable__label-arrow\">LogisticRegression</label><div class=\"sk-toggleable__content\"><pre>LogisticRegression()</pre></div></div></div></div></div></div></div></div></div></div>"
      ],
      "text/plain": [
       "GridSearchCV(cv=5, estimator=LogisticRegression(),\n",
       "             param_grid={'C': array([1.00000000e-04, 1.88739182e-04, 3.56224789e-04, 6.72335754e-04,\n",
       "       1.26896100e-03, 2.39502662e-03, 4.52035366e-03, 8.53167852e-03,\n",
       "       1.61026203e-02, 3.03919538e-02, 5.73615251e-02, 1.08263673e-01,\n",
       "       2.04335972e-01, 3.85662042e-01, 7.27895384e-01, 1.37382380e+00,\n",
       "       2.59294380e+00, 4.89390092e+00, 9.23670857e+00, 1.74332882e+01,\n",
       "       3.29034456e+01, 6.21016942e+01, 1.17210230e+02, 2.21221629e+02,\n",
       "       4.17531894e+02, 7.88046282e+02, 1.48735211e+03, 2.80721620e+03,\n",
       "       5.29831691e+03, 1.00000000e+04]),\n",
       "                         'solver': ['liblinear']},\n",
       "             verbose=True)"
      ]
     },
     "execution_count": 71,
     "metadata": {},
     "output_type": "execute_result"
    }
   ],
   "source": [
    "# Different hyperparameters for our LogisticRegression model\n",
    "log_reg_grid = {\"C\": np.logspace(-4, 4, 30),\n",
    "                \"solver\": [\"liblinear\"]}\n",
    "\n",
    "# Setup grid hyperparameter search for LogisticRegression\n",
    "gs_log_reg = GridSearchCV(LogisticRegression(),\n",
    "                          param_grid=log_reg_grid,\n",
    "                          cv=5,\n",
    "                          verbose=True)\n",
    "\n",
    "# Fit grid hyperparameter search model\n",
    "gs_log_reg.fit(X_train, y_train)"
   ]
  },
  {
   "cell_type": "code",
   "execution_count": 72,
   "id": "388237c4",
   "metadata": {
    "execution": {
     "iopub.execute_input": "2023-08-18T08:54:04.578156Z",
     "iopub.status.busy": "2023-08-18T08:54:04.577833Z",
     "iopub.status.idle": "2023-08-18T08:54:04.584040Z",
     "shell.execute_reply": "2023-08-18T08:54:04.583158Z"
    },
    "papermill": {
     "duration": 0.052071,
     "end_time": "2023-08-18T08:54:04.586116",
     "exception": false,
     "start_time": "2023-08-18T08:54:04.534045",
     "status": "completed"
    },
    "tags": []
   },
   "outputs": [
    {
     "data": {
      "text/plain": [
       "{'C': 0.38566204211634725, 'solver': 'liblinear'}"
      ]
     },
     "execution_count": 72,
     "metadata": {},
     "output_type": "execute_result"
    }
   ],
   "source": [
    "# Checking the best hyperparameter\n",
    "gs_log_reg.best_params_"
   ]
  },
  {
   "cell_type": "code",
   "execution_count": 73,
   "id": "b0eb4e61",
   "metadata": {
    "execution": {
     "iopub.execute_input": "2023-08-18T08:54:04.669127Z",
     "iopub.status.busy": "2023-08-18T08:54:04.668838Z",
     "iopub.status.idle": "2023-08-18T08:54:04.677799Z",
     "shell.execute_reply": "2023-08-18T08:54:04.676767Z"
    },
    "papermill": {
     "duration": 0.053481,
     "end_time": "2023-08-18T08:54:04.679958",
     "exception": false,
     "start_time": "2023-08-18T08:54:04.626477",
     "status": "completed"
    },
    "tags": []
   },
   "outputs": [
    {
     "data": {
      "text/plain": [
       "0.8491620111731844"
      ]
     },
     "execution_count": 73,
     "metadata": {},
     "output_type": "execute_result"
    }
   ],
   "source": [
    "gs_log_reg.score(X_valid, y_valid)"
   ]
  },
  {
   "cell_type": "code",
   "execution_count": 74,
   "id": "d58898bd",
   "metadata": {
    "execution": {
     "iopub.execute_input": "2023-08-18T08:54:04.768113Z",
     "iopub.status.busy": "2023-08-18T08:54:04.767801Z",
     "iopub.status.idle": "2023-08-18T08:54:04.816626Z",
     "shell.execute_reply": "2023-08-18T08:54:04.815431Z"
    },
    "papermill": {
     "duration": 0.094478,
     "end_time": "2023-08-18T08:54:04.818797",
     "exception": false,
     "start_time": "2023-08-18T08:54:04.724319",
     "status": "completed"
    },
    "tags": []
   },
   "outputs": [
    {
     "data": {
      "text/html": [
       "<style>#sk-container-id-4 {color: black;background-color: white;}#sk-container-id-4 pre{padding: 0;}#sk-container-id-4 div.sk-toggleable {background-color: white;}#sk-container-id-4 label.sk-toggleable__label {cursor: pointer;display: block;width: 100%;margin-bottom: 0;padding: 0.3em;box-sizing: border-box;text-align: center;}#sk-container-id-4 label.sk-toggleable__label-arrow:before {content: \"▸\";float: left;margin-right: 0.25em;color: #696969;}#sk-container-id-4 label.sk-toggleable__label-arrow:hover:before {color: black;}#sk-container-id-4 div.sk-estimator:hover label.sk-toggleable__label-arrow:before {color: black;}#sk-container-id-4 div.sk-toggleable__content {max-height: 0;max-width: 0;overflow: hidden;text-align: left;background-color: #f0f8ff;}#sk-container-id-4 div.sk-toggleable__content pre {margin: 0.2em;color: black;border-radius: 0.25em;background-color: #f0f8ff;}#sk-container-id-4 input.sk-toggleable__control:checked~div.sk-toggleable__content {max-height: 200px;max-width: 100%;overflow: auto;}#sk-container-id-4 input.sk-toggleable__control:checked~label.sk-toggleable__label-arrow:before {content: \"▾\";}#sk-container-id-4 div.sk-estimator input.sk-toggleable__control:checked~label.sk-toggleable__label {background-color: #d4ebff;}#sk-container-id-4 div.sk-label input.sk-toggleable__control:checked~label.sk-toggleable__label {background-color: #d4ebff;}#sk-container-id-4 input.sk-hidden--visually {border: 0;clip: rect(1px 1px 1px 1px);clip: rect(1px, 1px, 1px, 1px);height: 1px;margin: -1px;overflow: hidden;padding: 0;position: absolute;width: 1px;}#sk-container-id-4 div.sk-estimator {font-family: monospace;background-color: #f0f8ff;border: 1px dotted black;border-radius: 0.25em;box-sizing: border-box;margin-bottom: 0.5em;}#sk-container-id-4 div.sk-estimator:hover {background-color: #d4ebff;}#sk-container-id-4 div.sk-parallel-item::after {content: \"\";width: 100%;border-bottom: 1px solid gray;flex-grow: 1;}#sk-container-id-4 div.sk-label:hover label.sk-toggleable__label {background-color: #d4ebff;}#sk-container-id-4 div.sk-serial::before {content: \"\";position: absolute;border-left: 1px solid gray;box-sizing: border-box;top: 0;bottom: 0;left: 50%;z-index: 0;}#sk-container-id-4 div.sk-serial {display: flex;flex-direction: column;align-items: center;background-color: white;padding-right: 0.2em;padding-left: 0.2em;position: relative;}#sk-container-id-4 div.sk-item {position: relative;z-index: 1;}#sk-container-id-4 div.sk-parallel {display: flex;align-items: stretch;justify-content: center;background-color: white;position: relative;}#sk-container-id-4 div.sk-item::before, #sk-container-id-4 div.sk-parallel-item::before {content: \"\";position: absolute;border-left: 1px solid gray;box-sizing: border-box;top: 0;bottom: 0;left: 50%;z-index: -1;}#sk-container-id-4 div.sk-parallel-item {display: flex;flex-direction: column;z-index: 1;position: relative;background-color: white;}#sk-container-id-4 div.sk-parallel-item:first-child::after {align-self: flex-end;width: 50%;}#sk-container-id-4 div.sk-parallel-item:last-child::after {align-self: flex-start;width: 50%;}#sk-container-id-4 div.sk-parallel-item:only-child::after {width: 0;}#sk-container-id-4 div.sk-dashed-wrapped {border: 1px dashed gray;margin: 0 0.4em 0.5em 0.4em;box-sizing: border-box;padding-bottom: 0.4em;background-color: white;}#sk-container-id-4 div.sk-label label {font-family: monospace;font-weight: bold;display: inline-block;line-height: 1.2em;}#sk-container-id-4 div.sk-label-container {text-align: center;}#sk-container-id-4 div.sk-container {/* jupyter's `normalize.less` sets `[hidden] { display: none; }` but bootstrap.min.css set `[hidden] { display: none !important; }` so we also need the `!important` here to be able to override the default hidden behavior on the sphinx rendered scikit-learn.org. See: https://github.com/scikit-learn/scikit-learn/issues/21755 */display: inline-block !important;position: relative;}#sk-container-id-4 div.sk-text-repr-fallback {display: none;}</style><div id=\"sk-container-id-4\" class=\"sk-top-container\"><div class=\"sk-text-repr-fallback\"><pre>LogisticRegression()</pre><b>In a Jupyter environment, please rerun this cell to show the HTML representation or trust the notebook. <br />On GitHub, the HTML representation is unable to render, please try loading this page with nbviewer.org.</b></div><div class=\"sk-container\" hidden><div class=\"sk-item\"><div class=\"sk-estimator sk-toggleable\"><input class=\"sk-toggleable__control sk-hidden--visually\" id=\"sk-estimator-id-10\" type=\"checkbox\" checked><label for=\"sk-estimator-id-10\" class=\"sk-toggleable__label sk-toggleable__label-arrow\">LogisticRegression</label><div class=\"sk-toggleable__content\"><pre>LogisticRegression()</pre></div></div></div></div></div>"
      ],
      "text/plain": [
       "LogisticRegression()"
      ]
     },
     "execution_count": 74,
     "metadata": {},
     "output_type": "execute_result"
    }
   ],
   "source": [
    "# Let create a Logistic Regression model \n",
    "model_lg = LogisticRegression()\n",
    "\n",
    "# Fit the model\n",
    "model_lg.fit(X_train, y_train)"
   ]
  },
  {
   "cell_type": "code",
   "execution_count": 75,
   "id": "b5a9217b",
   "metadata": {
    "execution": {
     "iopub.execute_input": "2023-08-18T08:54:04.969810Z",
     "iopub.status.busy": "2023-08-18T08:54:04.969474Z",
     "iopub.status.idle": "2023-08-18T08:54:04.977678Z",
     "shell.execute_reply": "2023-08-18T08:54:04.976668Z"
    },
    "papermill": {
     "duration": 0.071542,
     "end_time": "2023-08-18T08:54:04.979689",
     "exception": false,
     "start_time": "2023-08-18T08:54:04.908147",
     "status": "completed"
    },
    "tags": []
   },
   "outputs": [
    {
     "data": {
      "text/plain": [
       "0.8547486033519553"
      ]
     },
     "execution_count": 75,
     "metadata": {},
     "output_type": "execute_result"
    }
   ],
   "source": [
    "# Check the score of our model\n",
    "model_lg.score(X_valid, y_valid)"
   ]
  },
  {
   "cell_type": "code",
   "execution_count": 76,
   "id": "31ed5193",
   "metadata": {
    "execution": {
     "iopub.execute_input": "2023-08-18T08:54:05.066713Z",
     "iopub.status.busy": "2023-08-18T08:54:05.066420Z",
     "iopub.status.idle": "2023-08-18T08:54:05.074758Z",
     "shell.execute_reply": "2023-08-18T08:54:05.073639Z"
    },
    "papermill": {
     "duration": 0.055327,
     "end_time": "2023-08-18T08:54:05.077123",
     "exception": false,
     "start_time": "2023-08-18T08:54:05.021796",
     "status": "completed"
    },
    "tags": []
   },
   "outputs": [
    {
     "data": {
      "text/plain": [
       "array([1, 0, 1, 0, 1, 1, 1, 0, 1, 1, 1, 0, 1, 1, 0, 0, 0, 1, 1, 1, 1, 0,\n",
       "       0, 0, 1, 0, 0, 0, 1, 0, 0, 0, 1, 0, 1, 0, 1, 1, 0, 1, 0, 0, 0, 1,\n",
       "       0, 0, 0, 0, 1, 1, 0, 1, 1, 1, 1, 0, 0, 0, 0, 1, 0, 0, 0, 0, 1, 1,\n",
       "       0, 0, 0, 1, 0, 0, 0, 1, 0, 0, 0, 0, 1, 0, 1, 0, 0, 0, 0, 0, 0, 0,\n",
       "       1, 0, 1, 0, 0, 0, 0, 1, 0, 0, 1, 0, 0, 0, 0, 0, 0, 0, 1, 1, 0, 1,\n",
       "       0, 0, 0, 0, 1, 0, 1, 0, 0, 0, 0, 0, 0, 0, 0, 1, 0, 0, 1, 1, 0, 0,\n",
       "       1, 0, 0, 0, 1, 1, 1, 0, 0, 0, 1, 1, 1, 0, 1, 0, 0, 1, 0, 0, 1, 0,\n",
       "       0, 0, 1, 0, 0, 1, 0, 0, 0, 1, 0, 0, 1, 0, 0, 1, 0, 0, 1, 0, 1, 1,\n",
       "       0, 0, 1])"
      ]
     },
     "execution_count": 76,
     "metadata": {},
     "output_type": "execute_result"
    }
   ],
   "source": [
    "# Evaluate the model\n",
    "y_preds =model_lg.predict(X_valid)\n",
    "y_preds"
   ]
  },
  {
   "cell_type": "code",
   "execution_count": 77,
   "id": "9d052621",
   "metadata": {
    "execution": {
     "iopub.execute_input": "2023-08-18T08:54:05.165545Z",
     "iopub.status.busy": "2023-08-18T08:54:05.164776Z",
     "iopub.status.idle": "2023-08-18T08:54:05.172560Z",
     "shell.execute_reply": "2023-08-18T08:54:05.171579Z"
    },
    "papermill": {
     "duration": 0.051012,
     "end_time": "2023-08-18T08:54:05.174467",
     "exception": false,
     "start_time": "2023-08-18T08:54:05.123455",
     "status": "completed"
    },
    "tags": []
   },
   "outputs": [
    {
     "data": {
      "text/plain": [
       "789    0\n",
       "497    0\n",
       "139    0\n",
       "570    1\n",
       "66     1\n",
       "      ..\n",
       "767    0\n",
       "165    1\n",
       "552    0\n",
       "439    0\n",
       "65     1\n",
       "Name: Survived, Length: 179, dtype: int64"
      ]
     },
     "execution_count": 77,
     "metadata": {},
     "output_type": "execute_result"
    }
   ],
   "source": [
    "y_valid"
   ]
  },
  {
   "cell_type": "code",
   "execution_count": 78,
   "id": "a44793fb",
   "metadata": {
    "execution": {
     "iopub.execute_input": "2023-08-18T08:54:05.259329Z",
     "iopub.status.busy": "2023-08-18T08:54:05.258553Z",
     "iopub.status.idle": "2023-08-18T08:54:05.556800Z",
     "shell.execute_reply": "2023-08-18T08:54:05.555825Z"
    },
    "papermill": {
     "duration": 0.342967,
     "end_time": "2023-08-18T08:54:05.559085",
     "exception": false,
     "start_time": "2023-08-18T08:54:05.216118",
     "status": "completed"
    },
    "tags": []
   },
   "outputs": [
    {
     "data": {
      "image/png": "[encoded data removed]",
      "text/plain": [
       "<Figure size 640x480 with 1 Axes>"
      ]
     },
     "metadata": {},
     "output_type": "display_data"
    }
   ],
   "source": [
    "RocCurveDisplay.from_predictions(y_valid, y_preds);"
   ]
  },
  {
   "cell_type": "code",
   "execution_count": 79,
   "id": "503c04f6",
   "metadata": {
    "execution": {
     "iopub.execute_input": "2023-08-18T08:54:05.649990Z",
     "iopub.status.busy": "2023-08-18T08:54:05.649146Z",
     "iopub.status.idle": "2023-08-18T08:54:05.659171Z",
     "shell.execute_reply": "2023-08-18T08:54:05.657983Z"
    },
    "papermill": {
     "duration": 0.05747,
     "end_time": "2023-08-18T08:54:05.661581",
     "exception": false,
     "start_time": "2023-08-18T08:54:05.604111",
     "status": "completed"
    },
    "tags": []
   },
   "outputs": [
    {
     "name": "stdout",
     "output_type": "stream",
     "text": [
      "[[99 12]\n",
      " [14 54]]\n"
     ]
    }
   ],
   "source": [
    "# Confusion matrix\n",
    "print(confusion_matrix(y_valid, y_preds))"
   ]
  },
  {
   "cell_type": "code",
   "execution_count": 80,
   "id": "46fad01a",
   "metadata": {
    "execution": {
     "iopub.execute_input": "2023-08-18T08:54:05.755794Z",
     "iopub.status.busy": "2023-08-18T08:54:05.755505Z",
     "iopub.status.idle": "2023-08-18T08:54:06.018412Z",
     "shell.execute_reply": "2023-08-18T08:54:06.017418Z"
    },
    "papermill": {
     "duration": 0.310982,
     "end_time": "2023-08-18T08:54:06.020616",
     "exception": false,
     "start_time": "2023-08-18T08:54:05.709634",
     "status": "completed"
    },
    "tags": []
   },
   "outputs": [
    {
     "data": {
      "image/png": "[encoded data removed]",
      "text/plain": [
       "<Figure size 300x300 with 1 Axes>"
      ]
     },
     "metadata": {},
     "output_type": "display_data"
    }
   ],
   "source": [
    "# Font size was changed to font_scale and sns.set was changed to sns.set_theme\n",
    "sns.set_theme(font_scale=1.5)\n",
    "\n",
    "def plot_conf_mat(y_valid, y_preds):\n",
    "    \"\"\"\n",
    "    PLots a nice looking confusion matrix using Seaborns's heatmap()\n",
    "    \"\"\"\n",
    "    fig, ax = plt.subplots(figsize=(3, 3))\n",
    "    ax = sns.heatmap(confusion_matrix(y_valid, y_preds),\n",
    "                     annot=True,\n",
    "                     cbar=False)\n",
    "    plt.xlabel(\"True label\")\n",
    "    plt.ylabel(\"Predicted label\")\n",
    "\n",
    "plot_conf_mat(y_valid, y_preds)"
   ]
  },
  {
   "cell_type": "markdown",
   "id": "08704dd8",
   "metadata": {
    "papermill": {
     "duration": 0.046056,
     "end_time": "2023-08-18T08:54:06.113461",
     "exception": false,
     "start_time": "2023-08-18T08:54:06.067405",
     "status": "completed"
    },
    "tags": []
   },
   "source": [
    "## Performing on Test_data"
   ]
  },
  {
   "cell_type": "code",
   "execution_count": 81,
   "id": "3fb57c3b",
   "metadata": {
    "execution": {
     "iopub.execute_input": "2023-08-18T08:54:06.245737Z",
     "iopub.status.busy": "2023-08-18T08:54:06.245326Z",
     "iopub.status.idle": "2023-08-18T08:54:06.262336Z",
     "shell.execute_reply": "2023-08-18T08:54:06.261328Z"
    },
    "papermill": {
     "duration": 0.074679,
     "end_time": "2023-08-18T08:54:06.264464",
     "exception": false,
     "start_time": "2023-08-18T08:54:06.189785",
     "status": "completed"
    },
    "tags": []
   },
   "outputs": [
    {
     "data": {
      "text/html": [
       "<div>\n",
       "<style scoped>\n",
       "    .dataframe tbody tr th:only-of-type {\n",
       "        vertical-align: middle;\n",
       "    }\n",
       "\n",
       "    .dataframe tbody tr th {\n",
       "        vertical-align: top;\n",
       "    }\n",
       "\n",
       "    .dataframe thead th {\n",
       "        text-align: right;\n",
       "    }\n",
       "</style>\n",
       "<table border=\"1\" class=\"dataframe\">\n",
       "  <thead>\n",
       "    <tr style=\"text-align: right;\">\n",
       "      <th></th>\n",
       "      <th>PassengerId</th>\n",
       "      <th>Pclass</th>\n",
       "      <th>Name</th>\n",
       "      <th>Sex</th>\n",
       "      <th>Age</th>\n",
       "      <th>SibSp</th>\n",
       "      <th>Parch</th>\n",
       "      <th>Ticket</th>\n",
       "      <th>Fare</th>\n",
       "      <th>Cabin</th>\n",
       "      <th>Embarked</th>\n",
       "    </tr>\n",
       "  </thead>\n",
       "  <tbody>\n",
       "    <tr>\n",
       "      <th>0</th>\n",
       "      <td>892</td>\n",
       "      <td>3</td>\n",
       "      <td>Kelly, Mr. James</td>\n",
       "      <td>male</td>\n",
       "      <td>34.5</td>\n",
       "      <td>0</td>\n",
       "      <td>0</td>\n",
       "      <td>330911</td>\n",
       "      <td>7.8292</td>\n",
       "      <td>NaN</td>\n",
       "      <td>Q</td>\n",
       "    </tr>\n",
       "    <tr>\n",
       "      <th>1</th>\n",
       "      <td>893</td>\n",
       "      <td>3</td>\n",
       "      <td>Wilkes, Mrs. James (Ellen Needs)</td>\n",
       "      <td>female</td>\n",
       "      <td>47.0</td>\n",
       "      <td>1</td>\n",
       "      <td>0</td>\n",
       "      <td>363272</td>\n",
       "      <td>7.0000</td>\n",
       "      <td>NaN</td>\n",
       "      <td>S</td>\n",
       "    </tr>\n",
       "    <tr>\n",
       "      <th>2</th>\n",
       "      <td>894</td>\n",
       "      <td>2</td>\n",
       "      <td>Myles, Mr. Thomas Francis</td>\n",
       "      <td>male</td>\n",
       "      <td>62.0</td>\n",
       "      <td>0</td>\n",
       "      <td>0</td>\n",
       "      <td>240276</td>\n",
       "      <td>9.6875</td>\n",
       "      <td>NaN</td>\n",
       "      <td>Q</td>\n",
       "    </tr>\n",
       "    <tr>\n",
       "      <th>3</th>\n",
       "      <td>895</td>\n",
       "      <td>3</td>\n",
       "      <td>Wirz, Mr. Albert</td>\n",
       "      <td>male</td>\n",
       "      <td>27.0</td>\n",
       "      <td>0</td>\n",
       "      <td>0</td>\n",
       "      <td>315154</td>\n",
       "      <td>8.6625</td>\n",
       "      <td>NaN</td>\n",
       "      <td>S</td>\n",
       "    </tr>\n",
       "    <tr>\n",
       "      <th>4</th>\n",
       "      <td>896</td>\n",
       "      <td>3</td>\n",
       "      <td>Hirvonen, Mrs. Alexander (Helga E Lindqvist)</td>\n",
       "      <td>female</td>\n",
       "      <td>22.0</td>\n",
       "      <td>1</td>\n",
       "      <td>1</td>\n",
       "      <td>3101298</td>\n",
       "      <td>12.2875</td>\n",
       "      <td>NaN</td>\n",
       "      <td>S</td>\n",
       "    </tr>\n",
       "  </tbody>\n",
       "</table>\n",
       "</div>"
      ],
      "text/plain": [
       "   PassengerId  Pclass                                          Name     Sex  \\\n",
       "0          892       3                              Kelly, Mr. James    male   \n",
       "1          893       3              Wilkes, Mrs. James (Ellen Needs)  female   \n",
       "2          894       2                     Myles, Mr. Thomas Francis    male   \n",
       "3          895       3                              Wirz, Mr. Albert    male   \n",
       "4          896       3  Hirvonen, Mrs. Alexander (Helga E Lindqvist)  female   \n",
       "\n",
       "    Age  SibSp  Parch   Ticket     Fare Cabin Embarked  \n",
       "0  34.5      0      0   330911   7.8292   NaN        Q  \n",
       "1  47.0      1      0   363272   7.0000   NaN        S  \n",
       "2  62.0      0      0   240276   9.6875   NaN        Q  \n",
       "3  27.0      0      0   315154   8.6625   NaN        S  \n",
       "4  22.0      1      1  3101298  12.2875   NaN        S  "
      ]
     },
     "execution_count": 81,
     "metadata": {},
     "output_type": "execute_result"
    }
   ],
   "source": [
    "# Let perform on our test data\n",
    "test_data.head()"
   ]
  },
  {
   "cell_type": "code",
   "execution_count": 82,
   "id": "c9c629a7",
   "metadata": {
    "execution": {
     "iopub.execute_input": "2023-08-18T08:54:06.355687Z",
     "iopub.status.busy": "2023-08-18T08:54:06.354838Z",
     "iopub.status.idle": "2023-08-18T08:54:06.361209Z",
     "shell.execute_reply": "2023-08-18T08:54:06.360220Z"
    },
    "papermill": {
     "duration": 0.054125,
     "end_time": "2023-08-18T08:54:06.363670",
     "exception": false,
     "start_time": "2023-08-18T08:54:06.309545",
     "status": "completed"
    },
    "tags": []
   },
   "outputs": [],
   "source": [
    "# Fill missing age data with median\n",
    "test_data[\"Age\"].fillna(test_data[\"Age\"].median(), inplace=True)"
   ]
  },
  {
   "cell_type": "code",
   "execution_count": 83,
   "id": "546e13ad",
   "metadata": {
    "execution": {
     "iopub.execute_input": "2023-08-18T08:54:06.460435Z",
     "iopub.status.busy": "2023-08-18T08:54:06.459633Z",
     "iopub.status.idle": "2023-08-18T08:54:06.465805Z",
     "shell.execute_reply": "2023-08-18T08:54:06.464877Z"
    },
    "papermill": {
     "duration": 0.056043,
     "end_time": "2023-08-18T08:54:06.467950",
     "exception": false,
     "start_time": "2023-08-18T08:54:06.411907",
     "status": "completed"
    },
    "tags": []
   },
   "outputs": [],
   "source": [
    "# Split Names into Titles\n",
    "test_data['Title']=test_data['Name'].map(lambda x: substrings_in_string(x, title_list))"
   ]
  },
  {
   "cell_type": "code",
   "execution_count": 84,
   "id": "0203a9c5",
   "metadata": {
    "execution": {
     "iopub.execute_input": "2023-08-18T08:54:06.561840Z",
     "iopub.status.busy": "2023-08-18T08:54:06.561524Z",
     "iopub.status.idle": "2023-08-18T08:54:06.583214Z",
     "shell.execute_reply": "2023-08-18T08:54:06.582049Z"
    },
    "papermill": {
     "duration": 0.070509,
     "end_time": "2023-08-18T08:54:06.585298",
     "exception": false,
     "start_time": "2023-08-18T08:54:06.514789",
     "status": "completed"
    },
    "tags": []
   },
   "outputs": [
    {
     "data": {
      "text/html": [
       "<div>\n",
       "<style scoped>\n",
       "    .dataframe tbody tr th:only-of-type {\n",
       "        vertical-align: middle;\n",
       "    }\n",
       "\n",
       "    .dataframe tbody tr th {\n",
       "        vertical-align: top;\n",
       "    }\n",
       "\n",
       "    .dataframe thead th {\n",
       "        text-align: right;\n",
       "    }\n",
       "</style>\n",
       "<table border=\"1\" class=\"dataframe\">\n",
       "  <thead>\n",
       "    <tr style=\"text-align: right;\">\n",
       "      <th></th>\n",
       "      <th>PassengerId</th>\n",
       "      <th>Pclass</th>\n",
       "      <th>Name</th>\n",
       "      <th>Sex</th>\n",
       "      <th>Age</th>\n",
       "      <th>SibSp</th>\n",
       "      <th>Parch</th>\n",
       "      <th>Ticket</th>\n",
       "      <th>Fare</th>\n",
       "      <th>Cabin</th>\n",
       "      <th>Embarked</th>\n",
       "      <th>Title</th>\n",
       "    </tr>\n",
       "  </thead>\n",
       "  <tbody>\n",
       "    <tr>\n",
       "      <th>0</th>\n",
       "      <td>892</td>\n",
       "      <td>3</td>\n",
       "      <td>Kelly, Mr. James</td>\n",
       "      <td>male</td>\n",
       "      <td>34.5</td>\n",
       "      <td>0</td>\n",
       "      <td>0</td>\n",
       "      <td>330911</td>\n",
       "      <td>7.8292</td>\n",
       "      <td>NaN</td>\n",
       "      <td>Q</td>\n",
       "      <td>Mr</td>\n",
       "    </tr>\n",
       "    <tr>\n",
       "      <th>1</th>\n",
       "      <td>893</td>\n",
       "      <td>3</td>\n",
       "      <td>Wilkes, Mrs. James (Ellen Needs)</td>\n",
       "      <td>female</td>\n",
       "      <td>47.0</td>\n",
       "      <td>1</td>\n",
       "      <td>0</td>\n",
       "      <td>363272</td>\n",
       "      <td>7.0000</td>\n",
       "      <td>NaN</td>\n",
       "      <td>S</td>\n",
       "      <td>Mrs</td>\n",
       "    </tr>\n",
       "    <tr>\n",
       "      <th>2</th>\n",
       "      <td>894</td>\n",
       "      <td>2</td>\n",
       "      <td>Myles, Mr. Thomas Francis</td>\n",
       "      <td>male</td>\n",
       "      <td>62.0</td>\n",
       "      <td>0</td>\n",
       "      <td>0</td>\n",
       "      <td>240276</td>\n",
       "      <td>9.6875</td>\n",
       "      <td>NaN</td>\n",
       "      <td>Q</td>\n",
       "      <td>Mr</td>\n",
       "    </tr>\n",
       "    <tr>\n",
       "      <th>3</th>\n",
       "      <td>895</td>\n",
       "      <td>3</td>\n",
       "      <td>Wirz, Mr. Albert</td>\n",
       "      <td>male</td>\n",
       "      <td>27.0</td>\n",
       "      <td>0</td>\n",
       "      <td>0</td>\n",
       "      <td>315154</td>\n",
       "      <td>8.6625</td>\n",
       "      <td>NaN</td>\n",
       "      <td>S</td>\n",
       "      <td>Mr</td>\n",
       "    </tr>\n",
       "    <tr>\n",
       "      <th>4</th>\n",
       "      <td>896</td>\n",
       "      <td>3</td>\n",
       "      <td>Hirvonen, Mrs. Alexander (Helga E Lindqvist)</td>\n",
       "      <td>female</td>\n",
       "      <td>22.0</td>\n",
       "      <td>1</td>\n",
       "      <td>1</td>\n",
       "      <td>3101298</td>\n",
       "      <td>12.2875</td>\n",
       "      <td>NaN</td>\n",
       "      <td>S</td>\n",
       "      <td>Mrs</td>\n",
       "    </tr>\n",
       "  </tbody>\n",
       "</table>\n",
       "</div>"
      ],
      "text/plain": [
       "   PassengerId  Pclass                                          Name     Sex  \\\n",
       "0          892       3                              Kelly, Mr. James    male   \n",
       "1          893       3              Wilkes, Mrs. James (Ellen Needs)  female   \n",
       "2          894       2                     Myles, Mr. Thomas Francis    male   \n",
       "3          895       3                              Wirz, Mr. Albert    male   \n",
       "4          896       3  Hirvonen, Mrs. Alexander (Helga E Lindqvist)  female   \n",
       "\n",
       "    Age  SibSp  Parch   Ticket     Fare Cabin Embarked Title  \n",
       "0  34.5      0      0   330911   7.8292   NaN        Q    Mr  \n",
       "1  47.0      1      0   363272   7.0000   NaN        S   Mrs  \n",
       "2  62.0      0      0   240276   9.6875   NaN        Q    Mr  \n",
       "3  27.0      0      0   315154   8.6625   NaN        S    Mr  \n",
       "4  22.0      1      1  3101298  12.2875   NaN        S   Mrs  "
      ]
     },
     "execution_count": 84,
     "metadata": {},
     "output_type": "execute_result"
    }
   ],
   "source": [
    "test_data['Title']=test_data.apply(replace_titles, axis=1)\n",
    "test_data.head()"
   ]
  },
  {
   "cell_type": "code",
   "execution_count": 85,
   "id": "4bc62e54",
   "metadata": {
    "execution": {
     "iopub.execute_input": "2023-08-18T08:54:06.682314Z",
     "iopub.status.busy": "2023-08-18T08:54:06.681178Z",
     "iopub.status.idle": "2023-08-18T08:54:06.691553Z",
     "shell.execute_reply": "2023-08-18T08:54:06.690327Z"
    },
    "papermill": {
     "duration": 0.062844,
     "end_time": "2023-08-18T08:54:06.694511",
     "exception": false,
     "start_time": "2023-08-18T08:54:06.631667",
     "status": "completed"
    },
    "tags": []
   },
   "outputs": [
    {
     "data": {
      "text/plain": [
       "0    0\n",
       "1    1\n",
       "2    0\n",
       "3    0\n",
       "4    2\n",
       "Name: Family_Size, dtype: int64"
      ]
     },
     "execution_count": 85,
     "metadata": {},
     "output_type": "execute_result"
    }
   ],
   "source": [
    "#Creating new family_size column\n",
    "test_data['Family_Size']=test_data['SibSp']+test_data['Parch']\n",
    "test_data['Family_Size'].head()"
   ]
  },
  {
   "cell_type": "code",
   "execution_count": 86,
   "id": "390be15a",
   "metadata": {
    "execution": {
     "iopub.execute_input": "2023-08-18T08:54:06.795051Z",
     "iopub.status.busy": "2023-08-18T08:54:06.794721Z",
     "iopub.status.idle": "2023-08-18T08:54:06.804889Z",
     "shell.execute_reply": "2023-08-18T08:54:06.803636Z"
    },
    "papermill": {
     "duration": 0.064118,
     "end_time": "2023-08-18T08:54:06.808654",
     "exception": false,
     "start_time": "2023-08-18T08:54:06.744536",
     "status": "completed"
    },
    "tags": []
   },
   "outputs": [
    {
     "data": {
      "text/plain": [
       "0    103.5\n",
       "1    141.0\n",
       "2    124.0\n",
       "3     81.0\n",
       "4     66.0\n",
       "Name: Age*Class, dtype: float64"
      ]
     },
     "execution_count": 86,
     "metadata": {},
     "output_type": "execute_result"
    }
   ],
   "source": [
    "# Age*Class\n",
    "test_data['Age*Class']=test_data['Age']*test_data['Pclass']\n",
    "test_data['Age*Class'].head()"
   ]
  },
  {
   "cell_type": "code",
   "execution_count": 87,
   "id": "5f80ce22",
   "metadata": {
    "execution": {
     "iopub.execute_input": "2023-08-18T08:54:06.913100Z",
     "iopub.status.busy": "2023-08-18T08:54:06.912236Z",
     "iopub.status.idle": "2023-08-18T08:54:06.922683Z",
     "shell.execute_reply": "2023-08-18T08:54:06.921497Z"
    },
    "papermill": {
     "duration": 0.065447,
     "end_time": "2023-08-18T08:54:06.925971",
     "exception": false,
     "start_time": "2023-08-18T08:54:06.860524",
     "status": "completed"
    },
    "tags": []
   },
   "outputs": [
    {
     "data": {
      "text/plain": [
       "0    7.829200\n",
       "1    3.500000\n",
       "2    9.687500\n",
       "3    8.662500\n",
       "4    4.095833\n",
       "Name: Fare_Per_Person, dtype: float64"
      ]
     },
     "execution_count": 87,
     "metadata": {},
     "output_type": "execute_result"
    }
   ],
   "source": [
    "# Fare per person\n",
    "test_data['Fare_Per_Person']=test_data['Fare']/(test_data['Family_Size']+1)\n",
    "test_data['Fare_Per_Person'].head()"
   ]
  },
  {
   "cell_type": "code",
   "execution_count": 88,
   "id": "e0c64b7a",
   "metadata": {
    "execution": {
     "iopub.execute_input": "2023-08-18T08:54:07.025886Z",
     "iopub.status.busy": "2023-08-18T08:54:07.025198Z",
     "iopub.status.idle": "2023-08-18T08:54:07.031699Z",
     "shell.execute_reply": "2023-08-18T08:54:07.030736Z"
    },
    "papermill": {
     "duration": 0.055622,
     "end_time": "2023-08-18T08:54:07.034045",
     "exception": false,
     "start_time": "2023-08-18T08:54:06.978423",
     "status": "completed"
    },
    "tags": []
   },
   "outputs": [],
   "source": [
    "test_data[\"Fare_Per_Person\"].fillna(test_data[\"Fare_Per_Person\"].median(), inplace=True)"
   ]
  },
  {
   "cell_type": "code",
   "execution_count": 89,
   "id": "2f02deb7",
   "metadata": {
    "execution": {
     "iopub.execute_input": "2023-08-18T08:54:07.135336Z",
     "iopub.status.busy": "2023-08-18T08:54:07.134502Z",
     "iopub.status.idle": "2023-08-18T08:54:07.140329Z",
     "shell.execute_reply": "2023-08-18T08:54:07.139395Z"
    },
    "papermill": {
     "duration": 0.058605,
     "end_time": "2023-08-18T08:54:07.142560",
     "exception": false,
     "start_time": "2023-08-18T08:54:07.083955",
     "status": "completed"
    },
    "tags": []
   },
   "outputs": [],
   "source": [
    "test_data[\"Cabin\"].replace(np.nan, \"Unknown\", inplace=True)"
   ]
  },
  {
   "cell_type": "code",
   "execution_count": 90,
   "id": "665496ea",
   "metadata": {
    "execution": {
     "iopub.execute_input": "2023-08-18T08:54:07.242340Z",
     "iopub.status.busy": "2023-08-18T08:54:07.241483Z",
     "iopub.status.idle": "2023-08-18T08:54:07.248118Z",
     "shell.execute_reply": "2023-08-18T08:54:07.247184Z"
    },
    "papermill": {
     "duration": 0.056877,
     "end_time": "2023-08-18T08:54:07.250281",
     "exception": false,
     "start_time": "2023-08-18T08:54:07.193404",
     "status": "completed"
    },
    "tags": []
   },
   "outputs": [],
   "source": [
    "# Turning cabin number into Deck\n",
    "cabin_list = ['A', 'B', 'C', 'D', 'E', 'F', 'T', 'G', 'Unknown']\n",
    "test_data['Deck'] = test_data[\"Cabin\"].map(lambda x: substrings_in_string(x, cabin_list))"
   ]
  },
  {
   "cell_type": "code",
   "execution_count": 91,
   "id": "049365d6",
   "metadata": {
    "execution": {
     "iopub.execute_input": "2023-08-18T08:54:07.343583Z",
     "iopub.status.busy": "2023-08-18T08:54:07.342784Z",
     "iopub.status.idle": "2023-08-18T08:54:07.361932Z",
     "shell.execute_reply": "2023-08-18T08:54:07.360932Z"
    },
    "papermill": {
     "duration": 0.067908,
     "end_time": "2023-08-18T08:54:07.364148",
     "exception": false,
     "start_time": "2023-08-18T08:54:07.296240",
     "status": "completed"
    },
    "tags": []
   },
   "outputs": [
    {
     "data": {
      "text/html": [
       "<div>\n",
       "<style scoped>\n",
       "    .dataframe tbody tr th:only-of-type {\n",
       "        vertical-align: middle;\n",
       "    }\n",
       "\n",
       "    .dataframe tbody tr th {\n",
       "        vertical-align: top;\n",
       "    }\n",
       "\n",
       "    .dataframe thead th {\n",
       "        text-align: right;\n",
       "    }\n",
       "</style>\n",
       "<table border=\"1\" class=\"dataframe\">\n",
       "  <thead>\n",
       "    <tr style=\"text-align: right;\">\n",
       "      <th></th>\n",
       "      <th>PassengerId</th>\n",
       "      <th>Pclass</th>\n",
       "      <th>Name</th>\n",
       "      <th>Sex</th>\n",
       "      <th>Age</th>\n",
       "      <th>SibSp</th>\n",
       "      <th>Parch</th>\n",
       "      <th>Ticket</th>\n",
       "      <th>Fare</th>\n",
       "      <th>Cabin</th>\n",
       "      <th>Embarked</th>\n",
       "      <th>Title</th>\n",
       "      <th>Family_Size</th>\n",
       "      <th>Age*Class</th>\n",
       "      <th>Fare_Per_Person</th>\n",
       "      <th>Deck</th>\n",
       "    </tr>\n",
       "  </thead>\n",
       "  <tbody>\n",
       "    <tr>\n",
       "      <th>0</th>\n",
       "      <td>892</td>\n",
       "      <td>3</td>\n",
       "      <td>Kelly, Mr. James</td>\n",
       "      <td>male</td>\n",
       "      <td>34.5</td>\n",
       "      <td>0</td>\n",
       "      <td>0</td>\n",
       "      <td>330911</td>\n",
       "      <td>7.8292</td>\n",
       "      <td>Unknown</td>\n",
       "      <td>Q</td>\n",
       "      <td>Mr</td>\n",
       "      <td>0</td>\n",
       "      <td>103.5</td>\n",
       "      <td>7.829200</td>\n",
       "      <td>Unknown</td>\n",
       "    </tr>\n",
       "    <tr>\n",
       "      <th>1</th>\n",
       "      <td>893</td>\n",
       "      <td>3</td>\n",
       "      <td>Wilkes, Mrs. James (Ellen Needs)</td>\n",
       "      <td>female</td>\n",
       "      <td>47.0</td>\n",
       "      <td>1</td>\n",
       "      <td>0</td>\n",
       "      <td>363272</td>\n",
       "      <td>7.0000</td>\n",
       "      <td>Unknown</td>\n",
       "      <td>S</td>\n",
       "      <td>Mrs</td>\n",
       "      <td>1</td>\n",
       "      <td>141.0</td>\n",
       "      <td>3.500000</td>\n",
       "      <td>Unknown</td>\n",
       "    </tr>\n",
       "    <tr>\n",
       "      <th>2</th>\n",
       "      <td>894</td>\n",
       "      <td>2</td>\n",
       "      <td>Myles, Mr. Thomas Francis</td>\n",
       "      <td>male</td>\n",
       "      <td>62.0</td>\n",
       "      <td>0</td>\n",
       "      <td>0</td>\n",
       "      <td>240276</td>\n",
       "      <td>9.6875</td>\n",
       "      <td>Unknown</td>\n",
       "      <td>Q</td>\n",
       "      <td>Mr</td>\n",
       "      <td>0</td>\n",
       "      <td>124.0</td>\n",
       "      <td>9.687500</td>\n",
       "      <td>Unknown</td>\n",
       "    </tr>\n",
       "    <tr>\n",
       "      <th>3</th>\n",
       "      <td>895</td>\n",
       "      <td>3</td>\n",
       "      <td>Wirz, Mr. Albert</td>\n",
       "      <td>male</td>\n",
       "      <td>27.0</td>\n",
       "      <td>0</td>\n",
       "      <td>0</td>\n",
       "      <td>315154</td>\n",
       "      <td>8.6625</td>\n",
       "      <td>Unknown</td>\n",
       "      <td>S</td>\n",
       "      <td>Mr</td>\n",
       "      <td>0</td>\n",
       "      <td>81.0</td>\n",
       "      <td>8.662500</td>\n",
       "      <td>Unknown</td>\n",
       "    </tr>\n",
       "    <tr>\n",
       "      <th>4</th>\n",
       "      <td>896</td>\n",
       "      <td>3</td>\n",
       "      <td>Hirvonen, Mrs. Alexander (Helga E Lindqvist)</td>\n",
       "      <td>female</td>\n",
       "      <td>22.0</td>\n",
       "      <td>1</td>\n",
       "      <td>1</td>\n",
       "      <td>3101298</td>\n",
       "      <td>12.2875</td>\n",
       "      <td>Unknown</td>\n",
       "      <td>S</td>\n",
       "      <td>Mrs</td>\n",
       "      <td>2</td>\n",
       "      <td>66.0</td>\n",
       "      <td>4.095833</td>\n",
       "      <td>Unknown</td>\n",
       "    </tr>\n",
       "  </tbody>\n",
       "</table>\n",
       "</div>"
      ],
      "text/plain": [
       "   PassengerId  Pclass                                          Name     Sex  \\\n",
       "0          892       3                              Kelly, Mr. James    male   \n",
       "1          893       3              Wilkes, Mrs. James (Ellen Needs)  female   \n",
       "2          894       2                     Myles, Mr. Thomas Francis    male   \n",
       "3          895       3                              Wirz, Mr. Albert    male   \n",
       "4          896       3  Hirvonen, Mrs. Alexander (Helga E Lindqvist)  female   \n",
       "\n",
       "    Age  SibSp  Parch   Ticket     Fare    Cabin Embarked Title  Family_Size  \\\n",
       "0  34.5      0      0   330911   7.8292  Unknown        Q    Mr            0   \n",
       "1  47.0      1      0   363272   7.0000  Unknown        S   Mrs            1   \n",
       "2  62.0      0      0   240276   9.6875  Unknown        Q    Mr            0   \n",
       "3  27.0      0      0   315154   8.6625  Unknown        S    Mr            0   \n",
       "4  22.0      1      1  3101298  12.2875  Unknown        S   Mrs            2   \n",
       "\n",
       "   Age*Class  Fare_Per_Person     Deck  \n",
       "0      103.5         7.829200  Unknown  \n",
       "1      141.0         3.500000  Unknown  \n",
       "2      124.0         9.687500  Unknown  \n",
       "3       81.0         8.662500  Unknown  \n",
       "4       66.0         4.095833  Unknown  "
      ]
     },
     "execution_count": 91,
     "metadata": {},
     "output_type": "execute_result"
    }
   ],
   "source": [
    "test_data.head()"
   ]
  },
  {
   "cell_type": "code",
   "execution_count": 92,
   "id": "c45076ed",
   "metadata": {
    "execution": {
     "iopub.execute_input": "2023-08-18T08:54:07.463545Z",
     "iopub.status.busy": "2023-08-18T08:54:07.462695Z",
     "iopub.status.idle": "2023-08-18T08:54:07.493921Z",
     "shell.execute_reply": "2023-08-18T08:54:07.492867Z"
    },
    "papermill": {
     "duration": 0.084068,
     "end_time": "2023-08-18T08:54:07.496271",
     "exception": false,
     "start_time": "2023-08-18T08:54:07.412203",
     "status": "completed"
    },
    "tags": []
   },
   "outputs": [
    {
     "data": {
      "text/html": [
       "<div>\n",
       "<style scoped>\n",
       "    .dataframe tbody tr th:only-of-type {\n",
       "        vertical-align: middle;\n",
       "    }\n",
       "\n",
       "    .dataframe tbody tr th {\n",
       "        vertical-align: top;\n",
       "    }\n",
       "\n",
       "    .dataframe thead th {\n",
       "        text-align: right;\n",
       "    }\n",
       "</style>\n",
       "<table border=\"1\" class=\"dataframe\">\n",
       "  <thead>\n",
       "    <tr style=\"text-align: right;\">\n",
       "      <th></th>\n",
       "      <th>Pclass</th>\n",
       "      <th>SibSp</th>\n",
       "      <th>Parch</th>\n",
       "      <th>Sex_female</th>\n",
       "      <th>Sex_male</th>\n",
       "      <th>Title_Master</th>\n",
       "      <th>Title_Miss</th>\n",
       "      <th>Title_Mr</th>\n",
       "      <th>Title_Mrs</th>\n",
       "      <th>Embarked_C</th>\n",
       "      <th>...</th>\n",
       "      <th>Deck_D</th>\n",
       "      <th>Deck_E</th>\n",
       "      <th>Deck_F</th>\n",
       "      <th>Deck_G</th>\n",
       "      <th>Deck_Unknown</th>\n",
       "      <th>Age</th>\n",
       "      <th>Family_Size</th>\n",
       "      <th>Age*Class</th>\n",
       "      <th>Fare_Per_Person</th>\n",
       "      <th>Fare</th>\n",
       "    </tr>\n",
       "  </thead>\n",
       "  <tbody>\n",
       "    <tr>\n",
       "      <th>0</th>\n",
       "      <td>3</td>\n",
       "      <td>0</td>\n",
       "      <td>0</td>\n",
       "      <td>0</td>\n",
       "      <td>1</td>\n",
       "      <td>0</td>\n",
       "      <td>0</td>\n",
       "      <td>1</td>\n",
       "      <td>0</td>\n",
       "      <td>0</td>\n",
       "      <td>...</td>\n",
       "      <td>0</td>\n",
       "      <td>0</td>\n",
       "      <td>0</td>\n",
       "      <td>0</td>\n",
       "      <td>1</td>\n",
       "      <td>34.5</td>\n",
       "      <td>0</td>\n",
       "      <td>103.5</td>\n",
       "      <td>7.829200</td>\n",
       "      <td>7.8292</td>\n",
       "    </tr>\n",
       "    <tr>\n",
       "      <th>1</th>\n",
       "      <td>3</td>\n",
       "      <td>1</td>\n",
       "      <td>0</td>\n",
       "      <td>1</td>\n",
       "      <td>0</td>\n",
       "      <td>0</td>\n",
       "      <td>0</td>\n",
       "      <td>0</td>\n",
       "      <td>1</td>\n",
       "      <td>0</td>\n",
       "      <td>...</td>\n",
       "      <td>0</td>\n",
       "      <td>0</td>\n",
       "      <td>0</td>\n",
       "      <td>0</td>\n",
       "      <td>1</td>\n",
       "      <td>47.0</td>\n",
       "      <td>1</td>\n",
       "      <td>141.0</td>\n",
       "      <td>3.500000</td>\n",
       "      <td>7.0000</td>\n",
       "    </tr>\n",
       "    <tr>\n",
       "      <th>2</th>\n",
       "      <td>2</td>\n",
       "      <td>0</td>\n",
       "      <td>0</td>\n",
       "      <td>0</td>\n",
       "      <td>1</td>\n",
       "      <td>0</td>\n",
       "      <td>0</td>\n",
       "      <td>1</td>\n",
       "      <td>0</td>\n",
       "      <td>0</td>\n",
       "      <td>...</td>\n",
       "      <td>0</td>\n",
       "      <td>0</td>\n",
       "      <td>0</td>\n",
       "      <td>0</td>\n",
       "      <td>1</td>\n",
       "      <td>62.0</td>\n",
       "      <td>0</td>\n",
       "      <td>124.0</td>\n",
       "      <td>9.687500</td>\n",
       "      <td>9.6875</td>\n",
       "    </tr>\n",
       "    <tr>\n",
       "      <th>3</th>\n",
       "      <td>3</td>\n",
       "      <td>0</td>\n",
       "      <td>0</td>\n",
       "      <td>0</td>\n",
       "      <td>1</td>\n",
       "      <td>0</td>\n",
       "      <td>0</td>\n",
       "      <td>1</td>\n",
       "      <td>0</td>\n",
       "      <td>0</td>\n",
       "      <td>...</td>\n",
       "      <td>0</td>\n",
       "      <td>0</td>\n",
       "      <td>0</td>\n",
       "      <td>0</td>\n",
       "      <td>1</td>\n",
       "      <td>27.0</td>\n",
       "      <td>0</td>\n",
       "      <td>81.0</td>\n",
       "      <td>8.662500</td>\n",
       "      <td>8.6625</td>\n",
       "    </tr>\n",
       "    <tr>\n",
       "      <th>4</th>\n",
       "      <td>3</td>\n",
       "      <td>1</td>\n",
       "      <td>1</td>\n",
       "      <td>1</td>\n",
       "      <td>0</td>\n",
       "      <td>0</td>\n",
       "      <td>0</td>\n",
       "      <td>0</td>\n",
       "      <td>1</td>\n",
       "      <td>0</td>\n",
       "      <td>...</td>\n",
       "      <td>0</td>\n",
       "      <td>0</td>\n",
       "      <td>0</td>\n",
       "      <td>0</td>\n",
       "      <td>1</td>\n",
       "      <td>22.0</td>\n",
       "      <td>2</td>\n",
       "      <td>66.0</td>\n",
       "      <td>4.095833</td>\n",
       "      <td>12.2875</td>\n",
       "    </tr>\n",
       "  </tbody>\n",
       "</table>\n",
       "<p>5 rows × 25 columns</p>\n",
       "</div>"
      ],
      "text/plain": [
       "   Pclass  SibSp  Parch  Sex_female  Sex_male  Title_Master  Title_Miss  \\\n",
       "0       3      0      0           0         1             0           0   \n",
       "1       3      1      0           1         0             0           0   \n",
       "2       2      0      0           0         1             0           0   \n",
       "3       3      0      0           0         1             0           0   \n",
       "4       3      1      1           1         0             0           0   \n",
       "\n",
       "   Title_Mr  Title_Mrs  Embarked_C  ...  Deck_D  Deck_E  Deck_F  Deck_G  \\\n",
       "0         1          0           0  ...       0       0       0       0   \n",
       "1         0          1           0  ...       0       0       0       0   \n",
       "2         1          0           0  ...       0       0       0       0   \n",
       "3         1          0           0  ...       0       0       0       0   \n",
       "4         0          1           0  ...       0       0       0       0   \n",
       "\n",
       "   Deck_Unknown   Age  Family_Size  Age*Class  Fare_Per_Person     Fare  \n",
       "0             1  34.5            0      103.5         7.829200   7.8292  \n",
       "1             1  47.0            1      141.0         3.500000   7.0000  \n",
       "2             1  62.0            0      124.0         9.687500   9.6875  \n",
       "3             1  27.0            0       81.0         8.662500   8.6625  \n",
       "4             1  22.0            2       66.0         4.095833  12.2875  \n",
       "\n",
       "[5 rows x 25 columns]"
      ]
     },
     "execution_count": 92,
     "metadata": {},
     "output_type": "execute_result"
    }
   ],
   "source": [
    "features = [\"Pclass\", \"Sex\", \"SibSp\", \"Parch\", \"Title\", \"Embarked\", \"Deck\"]\n",
    "X_test = pd.get_dummies(test_data[features])\n",
    "X_test.head()\n",
    "\n",
    "# Add other numeric data\n",
    "X_test[\"Age\"] = test_data[\"Age\"]\n",
    "X_test[\"Family_Size\"] = test_data[\"Family_Size\"]\n",
    "X_test[\"Age*Class\"] = test_data[\"Age*Class\"]\n",
    "X_test[\"Fare_Per_Person\"] = test_data[\"Fare_Per_Person\"]\n",
    "X_test[\"Fare\"] = test_data[\"Fare\"]\n",
    "X_test.head()"
   ]
  },
  {
   "cell_type": "code",
   "execution_count": 93,
   "id": "8ac511f5",
   "metadata": {
    "execution": {
     "iopub.execute_input": "2023-08-18T08:54:07.598993Z",
     "iopub.status.busy": "2023-08-18T08:54:07.598052Z",
     "iopub.status.idle": "2023-08-18T08:54:07.619101Z",
     "shell.execute_reply": "2023-08-18T08:54:07.616167Z"
    },
    "papermill": {
     "duration": 0.07109,
     "end_time": "2023-08-18T08:54:07.621329",
     "exception": false,
     "start_time": "2023-08-18T08:54:07.550239",
     "status": "completed"
    },
    "tags": []
   },
   "outputs": [
    {
     "name": "stdout",
     "output_type": "stream",
     "text": [
      "<class 'pandas.core.frame.DataFrame'>\n",
      "RangeIndex: 418 entries, 0 to 417\n",
      "Data columns (total 25 columns):\n",
      " #   Column           Non-Null Count  Dtype  \n",
      "---  ------           --------------  -----  \n",
      " 0   Pclass           418 non-null    int64  \n",
      " 1   SibSp            418 non-null    int64  \n",
      " 2   Parch            418 non-null    int64  \n",
      " 3   Sex_female       418 non-null    uint8  \n",
      " 4   Sex_male         418 non-null    uint8  \n",
      " 5   Title_Master     418 non-null    uint8  \n",
      " 6   Title_Miss       418 non-null    uint8  \n",
      " 7   Title_Mr         418 non-null    uint8  \n",
      " 8   Title_Mrs        418 non-null    uint8  \n",
      " 9   Embarked_C       418 non-null    uint8  \n",
      " 10  Embarked_Q       418 non-null    uint8  \n",
      " 11  Embarked_S       418 non-null    uint8  \n",
      " 12  Deck_A           418 non-null    uint8  \n",
      " 13  Deck_B           418 non-null    uint8  \n",
      " 14  Deck_C           418 non-null    uint8  \n",
      " 15  Deck_D           418 non-null    uint8  \n",
      " 16  Deck_E           418 non-null    uint8  \n",
      " 17  Deck_F           418 non-null    uint8  \n",
      " 18  Deck_G           418 non-null    uint8  \n",
      " 19  Deck_Unknown     418 non-null    uint8  \n",
      " 20  Age              418 non-null    float64\n",
      " 21  Family_Size      418 non-null    int64  \n",
      " 22  Age*Class        418 non-null    float64\n",
      " 23  Fare_Per_Person  418 non-null    float64\n",
      " 24  Fare             417 non-null    float64\n",
      "dtypes: float64(4), int64(4), uint8(17)\n",
      "memory usage: 33.2 KB\n",
      "None\n",
      "<class 'pandas.core.frame.DataFrame'>\n",
      "RangeIndex: 891 entries, 0 to 890\n",
      "Data columns (total 26 columns):\n",
      " #   Column           Non-Null Count  Dtype  \n",
      "---  ------           --------------  -----  \n",
      " 0   Pclass           891 non-null    int64  \n",
      " 1   SibSp            891 non-null    int64  \n",
      " 2   Parch            891 non-null    int64  \n",
      " 3   Sex_female       891 non-null    uint8  \n",
      " 4   Sex_male         891 non-null    uint8  \n",
      " 5   Title_Master     891 non-null    uint8  \n",
      " 6   Title_Miss       891 non-null    uint8  \n",
      " 7   Title_Mr         891 non-null    uint8  \n",
      " 8   Title_Mrs        891 non-null    uint8  \n",
      " 9   Embarked_C       891 non-null    uint8  \n",
      " 10  Embarked_Q       891 non-null    uint8  \n",
      " 11  Embarked_S       891 non-null    uint8  \n",
      " 12  Deck_A           891 non-null    uint8  \n",
      " 13  Deck_B           891 non-null    uint8  \n",
      " 14  Deck_C           891 non-null    uint8  \n",
      " 15  Deck_D           891 non-null    uint8  \n",
      " 16  Deck_E           891 non-null    uint8  \n",
      " 17  Deck_F           891 non-null    uint8  \n",
      " 18  Deck_G           891 non-null    uint8  \n",
      " 19  Deck_T           891 non-null    uint8  \n",
      " 20  Deck_Unknown     891 non-null    uint8  \n",
      " 21  Age              891 non-null    float64\n",
      " 22  Family_Size      891 non-null    int64  \n",
      " 23  Age*Class        891 non-null    float64\n",
      " 24  Fare_Per_Person  891 non-null    float64\n",
      " 25  Fare             891 non-null    float64\n",
      "dtypes: float64(4), int64(4), uint8(18)\n",
      "memory usage: 71.5 KB\n",
      "None\n"
     ]
    }
   ],
   "source": [
    "print(X_test.info())\n",
    "print(X.info())"
   ]
  },
  {
   "cell_type": "markdown",
   "id": "70354ae4",
   "metadata": {
    "papermill": {
     "duration": 0.047562,
     "end_time": "2023-08-18T08:54:07.717547",
     "exception": false,
     "start_time": "2023-08-18T08:54:07.669985",
     "status": "completed"
    },
    "tags": []
   },
   "source": [
    "**Note** Since Deck_T is missing in out data column. Let's Add it."
   ]
  },
  {
   "cell_type": "code",
   "execution_count": 94,
   "id": "90d9348e",
   "metadata": {
    "execution": {
     "iopub.execute_input": "2023-08-18T08:54:07.811964Z",
     "iopub.status.busy": "2023-08-18T08:54:07.810962Z",
     "iopub.status.idle": "2023-08-18T08:54:07.819221Z",
     "shell.execute_reply": "2023-08-18T08:54:07.818215Z"
    },
    "papermill": {
     "duration": 0.057537,
     "end_time": "2023-08-18T08:54:07.821278",
     "exception": false,
     "start_time": "2023-08-18T08:54:07.763741",
     "status": "completed"
    },
    "tags": []
   },
   "outputs": [
    {
     "data": {
      "text/plain": [
       "0    0\n",
       "1    0\n",
       "2    0\n",
       "3    0\n",
       "4    0\n",
       "Name: Deck_T, dtype: int64"
      ]
     },
     "execution_count": 94,
     "metadata": {},
     "output_type": "execute_result"
    }
   ],
   "source": [
    "# Create Deck_T with all values set to Zero\n",
    "\n",
    "X_test['Deck_T'] = 0\n",
    "X_test['Deck_T'].head()"
   ]
  },
  {
   "cell_type": "code",
   "execution_count": 95,
   "id": "62d5d97d",
   "metadata": {
    "execution": {
     "iopub.execute_input": "2023-08-18T08:54:07.919117Z",
     "iopub.status.busy": "2023-08-18T08:54:07.918809Z",
     "iopub.status.idle": "2023-08-18T08:54:07.925091Z",
     "shell.execute_reply": "2023-08-18T08:54:07.924179Z"
    },
    "papermill": {
     "duration": 0.059642,
     "end_time": "2023-08-18T08:54:07.927095",
     "exception": false,
     "start_time": "2023-08-18T08:54:07.867453",
     "status": "completed"
    },
    "tags": []
   },
   "outputs": [
    {
     "data": {
      "text/plain": [
       "(418, 26)"
      ]
     },
     "execution_count": 95,
     "metadata": {},
     "output_type": "execute_result"
    }
   ],
   "source": [
    "X_test.shape"
   ]
  },
  {
   "cell_type": "code",
   "execution_count": 96,
   "id": "8e498b14",
   "metadata": {
    "execution": {
     "iopub.execute_input": "2023-08-18T08:54:08.025491Z",
     "iopub.status.busy": "2023-08-18T08:54:08.024641Z",
     "iopub.status.idle": "2023-08-18T08:54:08.034731Z",
     "shell.execute_reply": "2023-08-18T08:54:08.033579Z"
    },
    "papermill": {
     "duration": 0.061249,
     "end_time": "2023-08-18T08:54:08.036987",
     "exception": false,
     "start_time": "2023-08-18T08:54:07.975738",
     "status": "completed"
    },
    "tags": []
   },
   "outputs": [
    {
     "data": {
      "text/plain": [
       "Pclass             0\n",
       "SibSp              0\n",
       "Parch              0\n",
       "Sex_female         0\n",
       "Sex_male           0\n",
       "Title_Master       0\n",
       "Title_Miss         0\n",
       "Title_Mr           0\n",
       "Title_Mrs          0\n",
       "Embarked_C         0\n",
       "Embarked_Q         0\n",
       "Embarked_S         0\n",
       "Deck_A             0\n",
       "Deck_B             0\n",
       "Deck_C             0\n",
       "Deck_D             0\n",
       "Deck_E             0\n",
       "Deck_F             0\n",
       "Deck_G             0\n",
       "Deck_Unknown       0\n",
       "Age                0\n",
       "Family_Size        0\n",
       "Age*Class          0\n",
       "Fare_Per_Person    0\n",
       "Fare               1\n",
       "Deck_T             0\n",
       "dtype: int64"
      ]
     },
     "execution_count": 96,
     "metadata": {},
     "output_type": "execute_result"
    }
   ],
   "source": [
    "X_test.isna().sum()"
   ]
  },
  {
   "cell_type": "markdown",
   "id": "0af88281",
   "metadata": {
    "papermill": {
     "duration": 0.046475,
     "end_time": "2023-08-18T08:54:08.131059",
     "exception": false,
     "start_time": "2023-08-18T08:54:08.084584",
     "status": "completed"
    },
    "tags": []
   },
   "source": [
    "Since we have on missing data in fare, let's fill with median."
   ]
  },
  {
   "cell_type": "code",
   "execution_count": 97,
   "id": "92958d50",
   "metadata": {
    "execution": {
     "iopub.execute_input": "2023-08-18T08:54:08.225799Z",
     "iopub.status.busy": "2023-08-18T08:54:08.224873Z",
     "iopub.status.idle": "2023-08-18T08:54:08.232358Z",
     "shell.execute_reply": "2023-08-18T08:54:08.231069Z"
    },
    "papermill": {
     "duration": 0.057862,
     "end_time": "2023-08-18T08:54:08.234861",
     "exception": false,
     "start_time": "2023-08-18T08:54:08.176999",
     "status": "completed"
    },
    "tags": []
   },
   "outputs": [],
   "source": [
    "X_test[\"Fare\"].fillna(X_test[\"Fare\"].median(), inplace=True)"
   ]
  },
  {
   "cell_type": "code",
   "execution_count": 98,
   "id": "2874709a",
   "metadata": {
    "execution": {
     "iopub.execute_input": "2023-08-18T08:54:08.349635Z",
     "iopub.status.busy": "2023-08-18T08:54:08.348163Z",
     "iopub.status.idle": "2023-08-18T08:54:08.365677Z",
     "shell.execute_reply": "2023-08-18T08:54:08.364589Z"
    },
    "papermill": {
     "duration": 0.075727,
     "end_time": "2023-08-18T08:54:08.369353",
     "exception": false,
     "start_time": "2023-08-18T08:54:08.293626",
     "status": "completed"
    },
    "tags": []
   },
   "outputs": [
    {
     "name": "stderr",
     "output_type": "stream",
     "text": [
      "/opt/conda/lib/python3.10/site-packages/sklearn/base.py:432: UserWarning: X has feature names, but LogisticRegression was fitted without feature names\n",
      "  warnings.warn(\n"
     ]
    },
    {
     "data": {
      "text/plain": [
       "array([0, 0, 0, 0, 0, 0, 0, 0, 0, 0, 0, 1, 0, 0, 0, 0, 0, 0, 0, 0, 0, 0,\n",
       "       0, 0, 0, 0, 0, 0, 0, 0, 0, 0, 0, 0, 0, 0, 0, 0, 0, 0, 0, 0, 0, 0,\n",
       "       0, 0, 0, 0, 0, 0, 0, 0, 0, 0, 0, 0, 0, 0, 0, 0, 0, 0, 0, 0, 0, 0,\n",
       "       0, 0, 0, 0, 0, 0, 0, 0, 0, 0, 0, 1, 0, 0, 0, 0, 1, 0, 0, 0, 0, 0,\n",
       "       0, 0, 0, 0, 0, 0, 0, 0, 0, 0, 0, 0, 0, 0, 0, 0, 0, 0, 0, 0, 0, 0,\n",
       "       0, 0, 0, 0, 0, 0, 0, 0, 0, 0, 0, 0, 0, 0, 0, 0, 0, 0, 0, 0, 0, 1,\n",
       "       0, 0, 0, 0, 0, 0, 0, 0, 0, 0, 0, 0, 0, 0, 0, 0, 0, 0, 0, 0, 0, 0,\n",
       "       0, 0, 0, 0, 0, 0, 0, 0, 0, 0, 0, 0, 0, 0, 0, 0, 0, 0, 0, 0, 0, 0,\n",
       "       0, 0, 0, 0, 0, 0, 0, 0, 0, 0, 0, 0, 0, 0, 0, 0, 0, 0, 0, 0, 0, 0,\n",
       "       0, 0, 0, 0, 0, 0, 0, 0, 0, 0, 0, 0, 0, 0, 0, 0, 0, 0, 0, 0, 0, 0,\n",
       "       0, 0, 0, 0, 1, 0, 0, 0, 0, 0, 0, 0, 0, 0, 0, 0, 0, 0, 0, 0, 1, 0,\n",
       "       0, 0, 0, 0, 0, 0, 0, 0, 0, 0, 0, 0, 0, 0, 0, 0, 0, 0, 0, 0, 0, 0,\n",
       "       0, 0, 1, 0, 0, 0, 0, 0, 0, 0, 0, 0, 0, 0, 0, 0, 0, 0, 0, 0, 0, 0,\n",
       "       0, 0, 0, 0, 0, 0, 0, 0, 0, 0, 0, 0, 0, 0, 0, 0, 0, 0, 0, 1, 0, 0,\n",
       "       0, 0, 0, 0, 0, 0, 0, 0, 0, 0, 0, 0, 0, 0, 0, 0, 0, 0, 0, 0, 0, 0,\n",
       "       0, 0, 0, 0, 0, 0, 0, 0, 0, 0, 0, 0, 0, 0, 0, 0, 0, 0, 0, 0, 0, 0,\n",
       "       0, 0, 0, 1, 0, 0, 0, 0, 0, 0, 0, 0, 0, 0, 0, 0, 0, 0, 0, 0, 1, 0,\n",
       "       0, 0, 0, 0, 0, 0, 0, 0, 0, 0, 0, 0, 0, 0, 0, 0, 0, 0, 0, 0, 0, 0,\n",
       "       0, 0, 0, 0, 0, 0, 0, 0, 1, 0, 0, 0, 0, 0, 0, 0, 0, 0, 0, 0, 0, 0])"
      ]
     },
     "execution_count": 98,
     "metadata": {},
     "output_type": "execute_result"
    }
   ],
   "source": [
    "# Make Predictions\n",
    "predictions = model_lg.predict(X_test)\n",
    "predictions"
   ]
  },
  {
   "cell_type": "markdown",
   "id": "ec864ffe",
   "metadata": {
    "papermill": {
     "duration": 0.059091,
     "end_time": "2023-08-18T08:54:08.541866",
     "exception": false,
     "start_time": "2023-08-18T08:54:08.482775",
     "status": "completed"
    },
    "tags": []
   },
   "source": [
    "## Exporting our data\n"
   ]
  },
  {
   "cell_type": "code",
   "execution_count": 99,
   "id": "fa1bfa3f",
   "metadata": {
    "execution": {
     "iopub.execute_input": "2023-08-18T08:54:08.636732Z",
     "iopub.status.busy": "2023-08-18T08:54:08.636344Z",
     "iopub.status.idle": "2023-08-18T08:54:08.646611Z",
     "shell.execute_reply": "2023-08-18T08:54:08.645474Z"
    },
    "papermill": {
     "duration": 0.059964,
     "end_time": "2023-08-18T08:54:08.648715",
     "exception": false,
     "start_time": "2023-08-18T08:54:08.588751",
     "status": "completed"
    },
    "tags": []
   },
   "outputs": [
    {
     "name": "stdout",
     "output_type": "stream",
     "text": [
      "Your submission was successfully saved\n"
     ]
    }
   ],
   "source": [
    "output = pd.DataFrame({'PassengerId': test_data.PassengerId, 'Survived': predictions})\n",
    "output.to_csv('submission.csv', index=False)\n",
    "print(\"Your submission was successfully saved\")"
   ]
  },
  {
   "cell_type": "code",
   "execution_count": null,
   "id": "19eb95dc",
   "metadata": {
    "papermill": {
     "duration": 0.046597,
     "end_time": "2023-08-18T08:54:08.742186",
     "exception": false,
     "start_time": "2023-08-18T08:54:08.695589",
     "status": "completed"
    },
    "tags": []
   },
   "outputs": [],
   "source": []
  }
 ],
 "metadata": {
  "kernelspec": {
   "display_name": "Python 3",
   "language": "python",
   "name": "python3"
  },
  "language_info": {
   "codemirror_mode": {
    "name": "ipython",
    "version": 3
   },
   "file_extension": ".py",
   "mimetype": "text/x-python",
   "name": "python",
   "nbconvert_exporter": "python",
   "pygments_lexer": "ipython3",
   "version": "3.10.12"
  },
  "papermill": {
   "default_parameters": {},
   "duration": 180.565725,
   "end_time": "2023-08-18T08:54:09.510904",
   "environment_variables": {},
   "exception": null,
   "input_path": "__notebook__.ipynb",
   "output_path": "__notebook__.ipynb",
   "parameters": {},
   "start_time": "2023-08-18T08:51:08.945179",
   "version": "2.4.0"
  }
 },
 "nbformat": 4,
 "nbformat_minor": 5
}
